{
 "cells": [
  {
   "cell_type": "markdown",
   "id": "18f09927",
   "metadata": {},
   "source": [
    "### Table of Contents\n",
    "- [Introduction](#Introduction)\n",
    "- [Part 1 - Imports](#Imports)\n",
    "- [Part 2 - Helper Functions](#Helper-Functions)\n",
    "- [Part 3 - Load Data](#Load-data)\n",
    "- [Part 4 - Data Preprocessing](#Data-Preprocessing)\n",
    "- [Part 5 - Exploartory Data Analysis](#EDA)\n",
    "- [Part 6 - Topic Modeling ](#Topic-Modeling)\n",
    "- [Part 7 - Conclusion](#Conclusion)"
   ]
  },
  {
   "cell_type": "markdown",
   "id": "bde57982",
   "metadata": {},
   "source": [
    "# Introduction\n",
    "\n",
    "In this notebook we're going to get the topics for the articles in our dataset  "
   ]
  },
  {
   "cell_type": "markdown",
   "id": "a3ab1996",
   "metadata": {},
   "source": [
    "# Imports "
   ]
  },
  {
   "cell_type": "code",
   "execution_count": 424,
   "id": "1666dca0",
   "metadata": {},
   "outputs": [],
   "source": [
    "import pandas as pd\n",
    "import numpy as np\n",
    "import pickle\n",
    "\n",
    "\n",
    "from sklearn.preprocessing import PolynomialFeatures\n",
    "from datetime import date\n",
    "import re, nltk, gensim,spacy,string\n",
    "from nltk.corpus import stopwords\n",
    "from sklearn import preprocessing\n",
    "from nltk.corpus import wordnet\n",
    "from nltk.tokenize import word_tokenize\n",
    "from nltk.tokenize import sent_tokenize\n",
    "from nltk.sentiment import SentimentIntensityAnalyzer\n",
    "\n",
    "from nltk.stem import WordNetLemmatizer\n",
    "from sklearn.feature_extraction.text import CountVectorizer\n",
    "from sklearn.feature_extraction.text import TfidfVectorizer\n",
    "\n",
    "from nltk.tag import pos_tag\n",
    "from sklearn.decomposition import NMF\n",
    "from sklearn.decomposition import LatentDirichletAllocation, TruncatedSVD\n",
    "from sklearn.model_selection import GridSearchCV,RandomizedSearchCV\n",
    "\n",
    "import matplotlib as mpl\n",
    "import matplotlib.pyplot as plt\n",
    "%matplotlib inline\n",
    "\n",
    "from plotly.offline import plot\n",
    "import plotly.graph_objects as go\n",
    "import plotly.express as px\n",
    "\n",
    "from subprocess import check_output\n",
    "from wordcloud import WordCloud, STOPWORDS\n",
    "from langdetect import detect\n",
    "\n",
    "\n",
    "\n",
    "from corextopic import corextopic as ct\n",
    "from corextopic import vis_topic as vt\n",
    "\n",
    "\n",
    "\n",
    "import seaborn as sns\n",
    "\n",
    "\n",
    "\n",
    "from sklearn.metrics import mean_squared_error, r2_score\n",
    "from sklearn.linear_model import LinearRegression  \n",
    "from sklearn.model_selection import train_test_split\n",
    "from sklearn.linear_model import LinearRegression, Lasso, LassoCV, Ridge, RidgeCV"
   ]
  },
  {
   "cell_type": "markdown",
   "id": "73c0095a",
   "metadata": {},
   "source": [
    "#  Helper Functions"
   ]
  },
  {
   "cell_type": "code",
   "execution_count": 425,
   "id": "cb6bd1f8",
   "metadata": {},
   "outputs": [],
   "source": [
    "def preprocess(abstract):\n",
    "    abstract = abstract.lower() #lowercase text\n",
    "    abstract=abstract.strip()  #get rid of leading/trailing whitespace \n",
    "    abstract=re.compile('<.*?>').sub('', abstract) #Remove HTML tags/markups\n",
    "    abstract = re.compile('[%s]' % re.escape(string.punctuation)).sub(' ', abstract)  #Replace punctuation with space. Careful since punctuation can sometime be useful\n",
    "    abstract = re.sub('\\s+', ' ', abstract)  #Remove extra space and tabs\n",
    "    abstract = re.sub(r'\\[[0-9]*\\]',' ',abstract) #[0-9] matches any digit (0 to 10000...)\n",
    "    abstract=re.sub(r'[^\\w\\s]', '', str(abstract).lower().strip())\n",
    "    abstract = re.sub(r'\\d',' ',abstract) #matches any digit from 0 to 100000..., \\D matches non-digits\n",
    "    abstract = re.sub(r'\\s+',' ',abstract) #\\s matches any whitespace, \\s+ matches multiple whitespace, \\S matches non-whitespace \n",
    "    \n",
    "    return abstract\n",
    "\n",
    "\n",
    "stopwords = nltk.corpus.stopwords.words('english')\n",
    "newStopWords = ['research','article','review','paper','chapter','literature'\n",
    "                ,'social','survey','use','data','dy','also','objective','two','used'\n",
    "               ,'one','analysis','using',]\n",
    "\n",
    "def stopword(string):\n",
    "\n",
    "    stopwords.extend(newStopWords)\n",
    "    string=pos(string)\n",
    "    a= [i for i in string if i not in stopwords]\n",
    "    print (a)\n",
    "    return ' '.join(a)\n",
    "\n",
    " \n",
    "\n",
    "lemmer = WordNetLemmatizer()\n",
    "def lemme(string):\n",
    "    a=[lemmer.lemmatize(i) for i in word_tokenize(string) ]\n",
    "    return \" \".join(a)\n",
    "\n",
    "\n",
    "\n",
    "\n",
    "\n",
    "\n",
    "def pos(string):\n",
    "    tokens = pos_tag(word_tokenize(string))\n",
    "    #return  [ x for (x,y) in tokens if y in (['NN','NNP'])]\n",
    "    return  [ x for (x,y) in tokens if y not in ('jj')]\n",
    "\n",
    "\n",
    "\n",
    "tfidf = TfidfVectorizer()\n",
    "def TfidfVect(abstract):   \n",
    "    # new TF-IDF Vectorizer\n",
    "    X_tfidf = tfidf.fit_transform(abstract).toarray()\n",
    "    df_tf=pd.DataFrame(X_tfidf,index= df['abstract'],columns=tfidf.get_feature_names())\n",
    "    return df_tf\n",
    "\n",
    "cv = CountVectorizer()\n",
    "def CountVect(abstract):   \n",
    "    # Count Vectorizer\n",
    "    X_cv = cv.fit_transform(abstract).toarray()\n",
    "    df_cv=pd.DataFrame(X_cv,index= df['abstract'],columns=cv.get_feature_names())\n",
    "    return df_cv\n",
    "\n",
    "\n",
    "\n",
    "def display_topics(model, feature_names, no_top_words, topic_names=None):\n",
    "    for ix, topic in enumerate(model.components_):\n",
    "        if not topic_names or not topic_names[ix]:\n",
    "            print(\"\\nTopic \", ix)\n",
    "        else:\n",
    "            print(\"\\nTopic: '\",topic_names[ix],\"'\")\n",
    "        print(\", \".join([feature_names[i]\n",
    "                        for i in topic.argsort()[:-no_top_words - 1:-1]]))\n",
    "        \n",
    "        \n",
    "\n",
    "\n",
    "\n",
    "#def get_length()"
   ]
  },
  {
   "cell_type": "code",
   "execution_count": 426,
   "id": "98ced66d",
   "metadata": {},
   "outputs": [],
   "source": [
    "def get_top_n_grams(corpus,r ,n=None):\n",
    "    vec = CountVectorizer(ngram_range=r, stop_words=stopwords).fit(corpus)\n",
    "    bag_of_words = vec.transform(corpus)\n",
    "    sum_words = bag_of_words.sum(axis=0) \n",
    "    words_freq = [(word, sum_words[0, idx]) for word, idx in vec.vocabulary_.items()]\n",
    "    words_freq =sorted(words_freq, key = lambda x: x[1], reverse=True)\n",
    "    return words_freq[:n]"
   ]
  },
  {
   "cell_type": "markdown",
   "id": "d2270641",
   "metadata": {},
   "source": [
    "# Load Data"
   ]
  },
  {
   "cell_type": "code",
   "execution_count": 4,
   "id": "2a532cdb",
   "metadata": {},
   "outputs": [],
   "source": [
    "df=pd.read_csv(\"data/data2.csv\")"
   ]
  },
  {
   "cell_type": "code",
   "execution_count": 5,
   "id": "256f41a0",
   "metadata": {},
   "outputs": [],
   "source": [
    "df_or=df.copy(deep=True)"
   ]
  },
  {
   "cell_type": "code",
   "execution_count": 6,
   "id": "5e4f1d4d",
   "metadata": {},
   "outputs": [
    {
     "data": {
      "text/html": [
       "<div>\n",
       "<style scoped>\n",
       "    .dataframe tbody tr th:only-of-type {\n",
       "        vertical-align: middle;\n",
       "    }\n",
       "\n",
       "    .dataframe tbody tr th {\n",
       "        vertical-align: top;\n",
       "    }\n",
       "\n",
       "    .dataframe thead th {\n",
       "        text-align: right;\n",
       "    }\n",
       "</style>\n",
       "<table border=\"1\" class=\"dataframe\">\n",
       "  <thead>\n",
       "    <tr style=\"text-align: right;\">\n",
       "      <th></th>\n",
       "      <th>title</th>\n",
       "      <th>authers</th>\n",
       "      <th>abstract</th>\n",
       "      <th>type</th>\n",
       "      <th>date_pub</th>\n",
       "      <th>journal</th>\n",
       "      <th>date_added</th>\n",
       "      <th>figuers</th>\n",
       "      <th>full_text</th>\n",
       "      <th>citation</th>\n",
       "      <th>interest</th>\n",
       "      <th>reads</th>\n",
       "    </tr>\n",
       "  </thead>\n",
       "  <tbody>\n",
       "    <tr>\n",
       "      <th>0</th>\n",
       "      <td>Media and time</td>\n",
       "      <td>['Emily Keightley', 'Sabina Mihelj', 'Aswin Pu...</td>\n",
       "      <td>NaN</td>\n",
       "      <td>Article</td>\n",
       "      <td>2021.0</td>\n",
       "      <td>Media Culture &amp; Society</td>\n",
       "      <td>13h ago</td>\n",
       "      <td>0</td>\n",
       "      <td>\\nRequest full-text</td>\n",
       "      <td>0</td>\n",
       "      <td>NaN</td>\n",
       "      <td>17</td>\n",
       "    </tr>\n",
       "    <tr>\n",
       "      <th>1</th>\n",
       "      <td>Myths about Myths? A Commentary on Thomas (202...</td>\n",
       "      <td>['Ellen Daly', 'Olivia Smith', 'Hannah Bows[.....</td>\n",
       "      <td>This commentary responds to claims that resear...</td>\n",
       "      <td>Article</td>\n",
       "      <td>2021.0</td>\n",
       "      <td>Journal of Gender-Based Violence</td>\n",
       "      <td>6d ago</td>\n",
       "      <td>1</td>\n",
       "      <td>\\nDownload</td>\n",
       "      <td>0</td>\n",
       "      <td>1.0</td>\n",
       "      <td>32</td>\n",
       "    </tr>\n",
       "    <tr>\n",
       "      <th>2</th>\n",
       "      <td>Creative Memory</td>\n",
       "      <td>['Jasmine Hornabrook', 'Clelia Clini', 'Emily ...</td>\n",
       "      <td>NaN</td>\n",
       "      <td>Chapter</td>\n",
       "      <td>2021.0</td>\n",
       "      <td>NaN</td>\n",
       "      <td>Nov 18</td>\n",
       "      <td>0</td>\n",
       "      <td>\\nRequest full-text</td>\n",
       "      <td>0</td>\n",
       "      <td>0.0</td>\n",
       "      <td>7</td>\n",
       "    </tr>\n",
       "    <tr>\n",
       "      <th>3</th>\n",
       "      <td>The United Kingdom Independence Party (UKIP) a...</td>\n",
       "      <td>['David Deacon', 'Dominic Wring']</td>\n",
       "      <td>NaN</td>\n",
       "      <td>Chapter</td>\n",
       "      <td>2015.0</td>\n",
       "      <td>NaN</td>\n",
       "      <td>Oct 30</td>\n",
       "      <td>0</td>\n",
       "      <td>\\nRequest full-text</td>\n",
       "      <td>0</td>\n",
       "      <td>NaN</td>\n",
       "      <td>2</td>\n",
       "    </tr>\n",
       "    <tr>\n",
       "      <th>4</th>\n",
       "      <td>A direct observation of pain scale use in five...</td>\n",
       "      <td>['Laura Jenkins', 'Ruth H Parry', 'Christina F...</td>\n",
       "      <td>Objective Assessing pain intensity is an impor...</td>\n",
       "      <td>Article</td>\n",
       "      <td>2021.0</td>\n",
       "      <td>Patient Education and Counseling</td>\n",
       "      <td>Oct 28</td>\n",
       "      <td>0</td>\n",
       "      <td>\\nRequest full-text</td>\n",
       "      <td>0</td>\n",
       "      <td>0.0</td>\n",
       "      <td>9</td>\n",
       "    </tr>\n",
       "  </tbody>\n",
       "</table>\n",
       "</div>"
      ],
      "text/plain": [
       "                                               title  \\\n",
       "0                                     Media and time   \n",
       "1  Myths about Myths? A Commentary on Thomas (202...   \n",
       "2                                    Creative Memory   \n",
       "3  The United Kingdom Independence Party (UKIP) a...   \n",
       "4  A direct observation of pain scale use in five...   \n",
       "\n",
       "                                             authers  \\\n",
       "0  ['Emily Keightley', 'Sabina Mihelj', 'Aswin Pu...   \n",
       "1  ['Ellen Daly', 'Olivia Smith', 'Hannah Bows[.....   \n",
       "2  ['Jasmine Hornabrook', 'Clelia Clini', 'Emily ...   \n",
       "3                  ['David Deacon', 'Dominic Wring']   \n",
       "4  ['Laura Jenkins', 'Ruth H Parry', 'Christina F...   \n",
       "\n",
       "                                            abstract     type  date_pub  \\\n",
       "0                                                NaN  Article    2021.0   \n",
       "1  This commentary responds to claims that resear...  Article    2021.0   \n",
       "2                                                NaN  Chapter    2021.0   \n",
       "3                                                NaN  Chapter    2015.0   \n",
       "4  Objective Assessing pain intensity is an impor...  Article    2021.0   \n",
       "\n",
       "                             journal date_added  figuers            full_text  \\\n",
       "0            Media Culture & Society    13h ago        0  \\nRequest full-text   \n",
       "1   Journal of Gender-Based Violence     6d ago        1           \\nDownload   \n",
       "2                                NaN     Nov 18        0  \\nRequest full-text   \n",
       "3                                NaN     Oct 30        0  \\nRequest full-text   \n",
       "4   Patient Education and Counseling     Oct 28        0  \\nRequest full-text   \n",
       "\n",
       "   citation  interest  reads  \n",
       "0         0       NaN     17  \n",
       "1         0       1.0     32  \n",
       "2         0       0.0      7  \n",
       "3         0       NaN      2  \n",
       "4         0       0.0      9  "
      ]
     },
     "execution_count": 6,
     "metadata": {},
     "output_type": "execute_result"
    }
   ],
   "source": [
    "df.head()"
   ]
  },
  {
   "cell_type": "code",
   "execution_count": 7,
   "id": "2726cea4",
   "metadata": {},
   "outputs": [
    {
     "data": {
      "text/plain": [
       "(1899, 12)"
      ]
     },
     "execution_count": 7,
     "metadata": {},
     "output_type": "execute_result"
    }
   ],
   "source": [
    "df.shape"
   ]
  },
  {
   "cell_type": "code",
   "execution_count": 8,
   "id": "8e70509e",
   "metadata": {},
   "outputs": [
    {
     "name": "stdout",
     "output_type": "stream",
     "text": [
      "<class 'pandas.core.frame.DataFrame'>\n",
      "RangeIndex: 1899 entries, 0 to 1898\n",
      "Data columns (total 12 columns):\n",
      " #   Column      Non-Null Count  Dtype  \n",
      "---  ------      --------------  -----  \n",
      " 0   title       1899 non-null   object \n",
      " 1   authers     1899 non-null   object \n",
      " 2   abstract    1283 non-null   object \n",
      " 3   type        1899 non-null   object \n",
      " 4   date_pub    1083 non-null   float64\n",
      " 5   journal     1018 non-null   object \n",
      " 6   date_added  1043 non-null   object \n",
      " 7   figuers     1899 non-null   int64  \n",
      " 8   full_text   1899 non-null   object \n",
      " 9   citation    1899 non-null   int64  \n",
      " 10  interest    1620 non-null   float64\n",
      " 11  reads       1899 non-null   int64  \n",
      "dtypes: float64(2), int64(3), object(7)\n",
      "memory usage: 178.2+ KB\n"
     ]
    }
   ],
   "source": [
    "df.info()"
   ]
  },
  {
   "cell_type": "code",
   "execution_count": 9,
   "id": "8e258373",
   "metadata": {},
   "outputs": [],
   "source": [
    "df['detect'] = df['title'].apply(detect)\n"
   ]
  },
  {
   "cell_type": "code",
   "execution_count": null,
   "id": "01ec706e",
   "metadata": {},
   "outputs": [],
   "source": []
  },
  {
   "cell_type": "code",
   "execution_count": 10,
   "id": "8c248ec7",
   "metadata": {},
   "outputs": [
    {
     "data": {
      "text/html": [
       "<div>\n",
       "<style scoped>\n",
       "    .dataframe tbody tr th:only-of-type {\n",
       "        vertical-align: middle;\n",
       "    }\n",
       "\n",
       "    .dataframe tbody tr th {\n",
       "        vertical-align: top;\n",
       "    }\n",
       "\n",
       "    .dataframe thead th {\n",
       "        text-align: right;\n",
       "    }\n",
       "</style>\n",
       "<table border=\"1\" class=\"dataframe\">\n",
       "  <thead>\n",
       "    <tr style=\"text-align: right;\">\n",
       "      <th></th>\n",
       "      <th>title</th>\n",
       "      <th>authers</th>\n",
       "      <th>abstract</th>\n",
       "      <th>type</th>\n",
       "      <th>date_pub</th>\n",
       "      <th>journal</th>\n",
       "      <th>date_added</th>\n",
       "      <th>figuers</th>\n",
       "      <th>full_text</th>\n",
       "      <th>citation</th>\n",
       "      <th>interest</th>\n",
       "      <th>reads</th>\n",
       "      <th>detect</th>\n",
       "    </tr>\n",
       "  </thead>\n",
       "  <tbody>\n",
       "    <tr>\n",
       "      <th>0</th>\n",
       "      <td>Media and time</td>\n",
       "      <td>['Emily Keightley', 'Sabina Mihelj', 'Aswin Pu...</td>\n",
       "      <td>NaN</td>\n",
       "      <td>Article</td>\n",
       "      <td>2021.0</td>\n",
       "      <td>Media Culture &amp; Society</td>\n",
       "      <td>13h ago</td>\n",
       "      <td>0</td>\n",
       "      <td>\\nRequest full-text</td>\n",
       "      <td>0</td>\n",
       "      <td>NaN</td>\n",
       "      <td>17</td>\n",
       "      <td>en</td>\n",
       "    </tr>\n",
       "    <tr>\n",
       "      <th>1</th>\n",
       "      <td>Myths about Myths? A Commentary on Thomas (202...</td>\n",
       "      <td>['Ellen Daly', 'Olivia Smith', 'Hannah Bows[.....</td>\n",
       "      <td>This commentary responds to claims that resear...</td>\n",
       "      <td>Article</td>\n",
       "      <td>2021.0</td>\n",
       "      <td>Journal of Gender-Based Violence</td>\n",
       "      <td>6d ago</td>\n",
       "      <td>1</td>\n",
       "      <td>\\nDownload</td>\n",
       "      <td>0</td>\n",
       "      <td>1.0</td>\n",
       "      <td>32</td>\n",
       "      <td>en</td>\n",
       "    </tr>\n",
       "    <tr>\n",
       "      <th>2</th>\n",
       "      <td>Creative Memory</td>\n",
       "      <td>['Jasmine Hornabrook', 'Clelia Clini', 'Emily ...</td>\n",
       "      <td>NaN</td>\n",
       "      <td>Chapter</td>\n",
       "      <td>2021.0</td>\n",
       "      <td>NaN</td>\n",
       "      <td>Nov 18</td>\n",
       "      <td>0</td>\n",
       "      <td>\\nRequest full-text</td>\n",
       "      <td>0</td>\n",
       "      <td>0.0</td>\n",
       "      <td>7</td>\n",
       "      <td>en</td>\n",
       "    </tr>\n",
       "    <tr>\n",
       "      <th>3</th>\n",
       "      <td>The United Kingdom Independence Party (UKIP) a...</td>\n",
       "      <td>['David Deacon', 'Dominic Wring']</td>\n",
       "      <td>NaN</td>\n",
       "      <td>Chapter</td>\n",
       "      <td>2015.0</td>\n",
       "      <td>NaN</td>\n",
       "      <td>Oct 30</td>\n",
       "      <td>0</td>\n",
       "      <td>\\nRequest full-text</td>\n",
       "      <td>0</td>\n",
       "      <td>NaN</td>\n",
       "      <td>2</td>\n",
       "      <td>en</td>\n",
       "    </tr>\n",
       "    <tr>\n",
       "      <th>4</th>\n",
       "      <td>A direct observation of pain scale use in five...</td>\n",
       "      <td>['Laura Jenkins', 'Ruth H Parry', 'Christina F...</td>\n",
       "      <td>Objective Assessing pain intensity is an impor...</td>\n",
       "      <td>Article</td>\n",
       "      <td>2021.0</td>\n",
       "      <td>Patient Education and Counseling</td>\n",
       "      <td>Oct 28</td>\n",
       "      <td>0</td>\n",
       "      <td>\\nRequest full-text</td>\n",
       "      <td>0</td>\n",
       "      <td>0.0</td>\n",
       "      <td>9</td>\n",
       "      <td>en</td>\n",
       "    </tr>\n",
       "  </tbody>\n",
       "</table>\n",
       "</div>"
      ],
      "text/plain": [
       "                                               title  \\\n",
       "0                                     Media and time   \n",
       "1  Myths about Myths? A Commentary on Thomas (202...   \n",
       "2                                    Creative Memory   \n",
       "3  The United Kingdom Independence Party (UKIP) a...   \n",
       "4  A direct observation of pain scale use in five...   \n",
       "\n",
       "                                             authers  \\\n",
       "0  ['Emily Keightley', 'Sabina Mihelj', 'Aswin Pu...   \n",
       "1  ['Ellen Daly', 'Olivia Smith', 'Hannah Bows[.....   \n",
       "2  ['Jasmine Hornabrook', 'Clelia Clini', 'Emily ...   \n",
       "3                  ['David Deacon', 'Dominic Wring']   \n",
       "4  ['Laura Jenkins', 'Ruth H Parry', 'Christina F...   \n",
       "\n",
       "                                            abstract     type  date_pub  \\\n",
       "0                                                NaN  Article    2021.0   \n",
       "1  This commentary responds to claims that resear...  Article    2021.0   \n",
       "2                                                NaN  Chapter    2021.0   \n",
       "3                                                NaN  Chapter    2015.0   \n",
       "4  Objective Assessing pain intensity is an impor...  Article    2021.0   \n",
       "\n",
       "                             journal date_added  figuers            full_text  \\\n",
       "0            Media Culture & Society    13h ago        0  \\nRequest full-text   \n",
       "1   Journal of Gender-Based Violence     6d ago        1           \\nDownload   \n",
       "2                                NaN     Nov 18        0  \\nRequest full-text   \n",
       "3                                NaN     Oct 30        0  \\nRequest full-text   \n",
       "4   Patient Education and Counseling     Oct 28        0  \\nRequest full-text   \n",
       "\n",
       "   citation  interest  reads detect  \n",
       "0         0       NaN     17     en  \n",
       "1         0       1.0     32     en  \n",
       "2         0       0.0      7     en  \n",
       "3         0       NaN      2     en  \n",
       "4         0       0.0      9     en  "
      ]
     },
     "execution_count": 10,
     "metadata": {},
     "output_type": "execute_result"
    }
   ],
   "source": [
    "df.head()"
   ]
  },
  {
   "cell_type": "code",
   "execution_count": 11,
   "id": "b5d54347",
   "metadata": {},
   "outputs": [],
   "source": [
    "df= df[df['detect']=='en']"
   ]
  },
  {
   "cell_type": "code",
   "execution_count": 12,
   "id": "0cb11c55",
   "metadata": {},
   "outputs": [],
   "source": [
    "df=df.drop(columns='detect',axis=1)"
   ]
  },
  {
   "cell_type": "code",
   "execution_count": 13,
   "id": "0c00f3ed",
   "metadata": {},
   "outputs": [
    {
     "data": {
      "text/plain": [
       "(1723, 12)"
      ]
     },
     "execution_count": 13,
     "metadata": {},
     "output_type": "execute_result"
    }
   ],
   "source": [
    "df.shape"
   ]
  },
  {
   "cell_type": "code",
   "execution_count": 14,
   "id": "f1e42c1d",
   "metadata": {},
   "outputs": [],
   "source": [
    "df=df.dropna(subset = ['abstract'])"
   ]
  },
  {
   "cell_type": "code",
   "execution_count": 15,
   "id": "60844bbc",
   "metadata": {},
   "outputs": [
    {
     "data": {
      "text/plain": [
       "(1185, 12)"
      ]
     },
     "execution_count": 15,
     "metadata": {},
     "output_type": "execute_result"
    }
   ],
   "source": [
    "df.shape"
   ]
  },
  {
   "cell_type": "code",
   "execution_count": 16,
   "id": "015c4193",
   "metadata": {},
   "outputs": [
    {
     "name": "stdout",
     "output_type": "stream",
     "text": [
      "This commentary responds to claims that research by Cheryl Thomas 'shows' no problem with rape myths in English and Welsh juries. We critique the claim on the basis of ambiguous survey design, a false distinction between 'real' jurors and other research participants, the conflation of attitudes in relation to abstract versus applied rape myths, and misleading interpretation of the data. Ultimately, we call for a balanced appraisal of individual studies by contextualising them against the wider literature.\n",
      "\n"
     ]
    }
   ],
   "source": [
    "a = 1\n",
    "for i in range(a,a+1):\n",
    "    print(df.abstract[i])\n",
    "    print()"
   ]
  },
  {
   "cell_type": "code",
   "execution_count": 17,
   "id": "2f0410bb",
   "metadata": {},
   "outputs": [],
   "source": [
    "df['or_abt'] = df['abstract']"
   ]
  },
  {
   "cell_type": "markdown",
   "id": "eb73716f",
   "metadata": {},
   "source": [
    "# Data Preprocessing"
   ]
  },
  {
   "cell_type": "code",
   "execution_count": null,
   "id": "24b0083e",
   "metadata": {},
   "outputs": [],
   "source": [
    "df['abstract']= df[\"abstract\"].apply(preprocess)\n",
    "df['abstract']= df[\"abstract\"].apply(stopword)\n",
    "df['abstract']= df[\"abstract\"].apply(lemme)"
   ]
  },
  {
   "cell_type": "code",
   "execution_count": 28,
   "id": "a044438c",
   "metadata": {},
   "outputs": [
    {
     "data": {
      "text/plain": [
       "1     commentary responds claim cheryl thomas show p...\n",
       "4     assessing pain intensity important palliative ...\n",
       "5     describes art curating sexually exploited youn...\n",
       "7     objective many study document high prevalence ...\n",
       "10    background communication skill training profes...\n",
       "Name: abstract, dtype: object"
      ]
     },
     "execution_count": 28,
     "metadata": {},
     "output_type": "execute_result"
    }
   ],
   "source": [
    "df['abstract'].head()"
   ]
  },
  {
   "cell_type": "markdown",
   "id": "f237d3a1",
   "metadata": {},
   "source": [
    "## EDA"
   ]
  },
  {
   "cell_type": "markdown",
   "id": "0d974a51",
   "metadata": {},
   "source": [
    "### most frequent words"
   ]
  },
  {
   "cell_type": "code",
   "execution_count": 29,
   "id": "f5a567a9",
   "metadata": {},
   "outputs": [
    {
     "name": "stdout",
     "output_type": "stream",
     "text": [
      "<wordcloud.wordcloud.WordCloud object at 0x7fe7ff348760>\n"
     ]
    },
    {
     "data": {
      "image/png": "[encoded data removed]",
      "text/plain": [
       "<Figure size 864x864 with 1 Axes>"
      ]
     },
     "metadata": {
      "needs_background": "light"
     },
     "output_type": "display_data"
    }
   ],
   "source": [
    "mpl.rcParams['figure.figsize']=(12.0,12.0)  \n",
    "mpl.rcParams['font.size']=12            \n",
    "mpl.rcParams['savefig.dpi']=100             \n",
    "mpl.rcParams['figure.subplot.bottom']=.1 \n",
    "\n",
    "wordcloud = WordCloud(\n",
    "                          background_color='white',\n",
    "                          stopwords=stopwords,\n",
    "                          max_words=500,\n",
    "                          max_font_size=40, \n",
    "                          random_state=42\n",
    "                         ).generate(str(df['abstract']))\n",
    "\n",
    "print(wordcloud)\n",
    "fig = plt.figure(1)\n",
    "plt.imshow(wordcloud)\n",
    "plt.axis('off')\n",
    "plt.show();"
   ]
  },
  {
   "cell_type": "code",
   "execution_count": 427,
   "id": "c14a146a",
   "metadata": {},
   "outputs": [
    {
     "data": {
      "application/vnd.plotly.v1+json": {
       "config": {
        "plotlyServerURL": "https://plot.ly"
       },
       "data": [
        {
         "type": "bar",
         "x": [
          "study",
          "health",
          "people",
          "policy",
          "result",
          "method",
          "woman",
          "year",
          "practice",
          "level",
          "country",
          "based",
          "community",
          "approach",
          "new",
          "covid",
          "child",
          "group",
          "using",
          "well",
          "political",
          "experience",
          "finding",
          "work",
          "model",
          "change",
          "support",
          "time",
          "participant",
          "development"
         ],
         "y": [
          862,
          507,
          390,
          356,
          348,
          332,
          323,
          319,
          318,
          308,
          308,
          306,
          301,
          299,
          288,
          286,
          285,
          282,
          278,
          275,
          273,
          263,
          261,
          258,
          253,
          249,
          246,
          245,
          241,
          239
         ]
        }
       ],
       "layout": {
        "template": {
         "data": {
          "bar": [
           {
            "error_x": {
             "color": "#2a3f5f"
            },
            "error_y": {
             "color": "#2a3f5f"
            },
            "marker": {
             "line": {
              "color": "#E5ECF6",
              "width": 0.5
             },
             "pattern": {
              "fillmode": "overlay",
              "size": 10,
              "solidity": 0.2
             }
            },
            "type": "bar"
           }
          ],
          "barpolar": [
           {
            "marker": {
             "line": {
              "color": "#E5ECF6",
              "width": 0.5
             },
             "pattern": {
              "fillmode": "overlay",
              "size": 10,
              "solidity": 0.2
             }
            },
            "type": "barpolar"
           }
          ],
          "carpet": [
           {
            "aaxis": {
             "endlinecolor": "#2a3f5f",
             "gridcolor": "white",
             "linecolor": "white",
             "minorgridcolor": "white",
             "startlinecolor": "#2a3f5f"
            },
            "baxis": {
             "endlinecolor": "#2a3f5f",
             "gridcolor": "white",
             "linecolor": "white",
             "minorgridcolor": "white",
             "startlinecolor": "#2a3f5f"
            },
            "type": "carpet"
           }
          ],
          "choropleth": [
           {
            "colorbar": {
             "outlinewidth": 0,
             "ticks": ""
            },
            "type": "choropleth"
           }
          ],
          "contour": [
           {
            "colorbar": {
             "outlinewidth": 0,
             "ticks": ""
            },
            "colorscale": [
             [
              0,
              "#0d0887"
             ],
             [
              0.1111111111111111,
              "#46039f"
             ],
             [
              0.2222222222222222,
              "#7201a8"
             ],
             [
              0.3333333333333333,
              "#9c179e"
             ],
             [
              0.4444444444444444,
              "#bd3786"
             ],
             [
              0.5555555555555556,
              "#d8576b"
             ],
             [
              0.6666666666666666,
              "#ed7953"
             ],
             [
              0.7777777777777778,
              "#fb9f3a"
             ],
             [
              0.8888888888888888,
              "#fdca26"
             ],
             [
              1,
              "#f0f921"
             ]
            ],
            "type": "contour"
           }
          ],
          "contourcarpet": [
           {
            "colorbar": {
             "outlinewidth": 0,
             "ticks": ""
            },
            "type": "contourcarpet"
           }
          ],
          "heatmap": [
           {
            "colorbar": {
             "outlinewidth": 0,
             "ticks": ""
            },
            "colorscale": [
             [
              0,
              "#0d0887"
             ],
             [
              0.1111111111111111,
              "#46039f"
             ],
             [
              0.2222222222222222,
              "#7201a8"
             ],
             [
              0.3333333333333333,
              "#9c179e"
             ],
             [
              0.4444444444444444,
              "#bd3786"
             ],
             [
              0.5555555555555556,
              "#d8576b"
             ],
             [
              0.6666666666666666,
              "#ed7953"
             ],
             [
              0.7777777777777778,
              "#fb9f3a"
             ],
             [
              0.8888888888888888,
              "#fdca26"
             ],
             [
              1,
              "#f0f921"
             ]
            ],
            "type": "heatmap"
           }
          ],
          "heatmapgl": [
           {
            "colorbar": {
             "outlinewidth": 0,
             "ticks": ""
            },
            "colorscale": [
             [
              0,
              "#0d0887"
             ],
             [
              0.1111111111111111,
              "#46039f"
             ],
             [
              0.2222222222222222,
              "#7201a8"
             ],
             [
              0.3333333333333333,
              "#9c179e"
             ],
             [
              0.4444444444444444,
              "#bd3786"
             ],
             [
              0.5555555555555556,
              "#d8576b"
             ],
             [
              0.6666666666666666,
              "#ed7953"
             ],
             [
              0.7777777777777778,
              "#fb9f3a"
             ],
             [
              0.8888888888888888,
              "#fdca26"
             ],
             [
              1,
              "#f0f921"
             ]
            ],
            "type": "heatmapgl"
           }
          ],
          "histogram": [
           {
            "marker": {
             "pattern": {
              "fillmode": "overlay",
              "size": 10,
              "solidity": 0.2
             }
            },
            "type": "histogram"
           }
          ],
          "histogram2d": [
           {
            "colorbar": {
             "outlinewidth": 0,
             "ticks": ""
            },
            "colorscale": [
             [
              0,
              "#0d0887"
             ],
             [
              0.1111111111111111,
              "#46039f"
             ],
             [
              0.2222222222222222,
              "#7201a8"
             ],
             [
              0.3333333333333333,
              "#9c179e"
             ],
             [
              0.4444444444444444,
              "#bd3786"
             ],
             [
              0.5555555555555556,
              "#d8576b"
             ],
             [
              0.6666666666666666,
              "#ed7953"
             ],
             [
              0.7777777777777778,
              "#fb9f3a"
             ],
             [
              0.8888888888888888,
              "#fdca26"
             ],
             [
              1,
              "#f0f921"
             ]
            ],
            "type": "histogram2d"
           }
          ],
          "histogram2dcontour": [
           {
            "colorbar": {
             "outlinewidth": 0,
             "ticks": ""
            },
            "colorscale": [
             [
              0,
              "#0d0887"
             ],
             [
              0.1111111111111111,
              "#46039f"
             ],
             [
              0.2222222222222222,
              "#7201a8"
             ],
             [
              0.3333333333333333,
              "#9c179e"
             ],
             [
              0.4444444444444444,
              "#bd3786"
             ],
             [
              0.5555555555555556,
              "#d8576b"
             ],
             [
              0.6666666666666666,
              "#ed7953"
             ],
             [
              0.7777777777777778,
              "#fb9f3a"
             ],
             [
              0.8888888888888888,
              "#fdca26"
             ],
             [
              1,
              "#f0f921"
             ]
            ],
            "type": "histogram2dcontour"
           }
          ],
          "mesh3d": [
           {
            "colorbar": {
             "outlinewidth": 0,
             "ticks": ""
            },
            "type": "mesh3d"
           }
          ],
          "parcoords": [
           {
            "line": {
             "colorbar": {
              "outlinewidth": 0,
              "ticks": ""
             }
            },
            "type": "parcoords"
           }
          ],
          "pie": [
           {
            "automargin": true,
            "type": "pie"
           }
          ],
          "scatter": [
           {
            "marker": {
             "colorbar": {
              "outlinewidth": 0,
              "ticks": ""
             }
            },
            "type": "scatter"
           }
          ],
          "scatter3d": [
           {
            "line": {
             "colorbar": {
              "outlinewidth": 0,
              "ticks": ""
             }
            },
            "marker": {
             "colorbar": {
              "outlinewidth": 0,
              "ticks": ""
             }
            },
            "type": "scatter3d"
           }
          ],
          "scattercarpet": [
           {
            "marker": {
             "colorbar": {
              "outlinewidth": 0,
              "ticks": ""
             }
            },
            "type": "scattercarpet"
           }
          ],
          "scattergeo": [
           {
            "marker": {
             "colorbar": {
              "outlinewidth": 0,
              "ticks": ""
             }
            },
            "type": "scattergeo"
           }
          ],
          "scattergl": [
           {
            "marker": {
             "colorbar": {
              "outlinewidth": 0,
              "ticks": ""
             }
            },
            "type": "scattergl"
           }
          ],
          "scattermapbox": [
           {
            "marker": {
             "colorbar": {
              "outlinewidth": 0,
              "ticks": ""
             }
            },
            "type": "scattermapbox"
           }
          ],
          "scatterpolar": [
           {
            "marker": {
             "colorbar": {
              "outlinewidth": 0,
              "ticks": ""
             }
            },
            "type": "scatterpolar"
           }
          ],
          "scatterpolargl": [
           {
            "marker": {
             "colorbar": {
              "outlinewidth": 0,
              "ticks": ""
             }
            },
            "type": "scatterpolargl"
           }
          ],
          "scatterternary": [
           {
            "marker": {
             "colorbar": {
              "outlinewidth": 0,
              "ticks": ""
             }
            },
            "type": "scatterternary"
           }
          ],
          "surface": [
           {
            "colorbar": {
             "outlinewidth": 0,
             "ticks": ""
            },
            "colorscale": [
             [
              0,
              "#0d0887"
             ],
             [
              0.1111111111111111,
              "#46039f"
             ],
             [
              0.2222222222222222,
              "#7201a8"
             ],
             [
              0.3333333333333333,
              "#9c179e"
             ],
             [
              0.4444444444444444,
              "#bd3786"
             ],
             [
              0.5555555555555556,
              "#d8576b"
             ],
             [
              0.6666666666666666,
              "#ed7953"
             ],
             [
              0.7777777777777778,
              "#fb9f3a"
             ],
             [
              0.8888888888888888,
              "#fdca26"
             ],
             [
              1,
              "#f0f921"
             ]
            ],
            "type": "surface"
           }
          ],
          "table": [
           {
            "cells": {
             "fill": {
              "color": "#EBF0F8"
             },
             "line": {
              "color": "white"
             }
            },
            "header": {
             "fill": {
              "color": "#C8D4E3"
             },
             "line": {
              "color": "white"
             }
            },
            "type": "table"
           }
          ]
         },
         "layout": {
          "annotationdefaults": {
           "arrowcolor": "#2a3f5f",
           "arrowhead": 0,
           "arrowwidth": 1
          },
          "autotypenumbers": "strict",
          "coloraxis": {
           "colorbar": {
            "outlinewidth": 0,
            "ticks": ""
           }
          },
          "colorscale": {
           "diverging": [
            [
             0,
             "#8e0152"
            ],
            [
             0.1,
             "#c51b7d"
            ],
            [
             0.2,
             "#de77ae"
            ],
            [
             0.3,
             "#f1b6da"
            ],
            [
             0.4,
             "#fde0ef"
            ],
            [
             0.5,
             "#f7f7f7"
            ],
            [
             0.6,
             "#e6f5d0"
            ],
            [
             0.7,
             "#b8e186"
            ],
            [
             0.8,
             "#7fbc41"
            ],
            [
             0.9,
             "#4d9221"
            ],
            [
             1,
             "#276419"
            ]
           ],
           "sequential": [
            [
             0,
             "#0d0887"
            ],
            [
             0.1111111111111111,
             "#46039f"
            ],
            [
             0.2222222222222222,
             "#7201a8"
            ],
            [
             0.3333333333333333,
             "#9c179e"
            ],
            [
             0.4444444444444444,
             "#bd3786"
            ],
            [
             0.5555555555555556,
             "#d8576b"
            ],
            [
             0.6666666666666666,
             "#ed7953"
            ],
            [
             0.7777777777777778,
             "#fb9f3a"
            ],
            [
             0.8888888888888888,
             "#fdca26"
            ],
            [
             1,
             "#f0f921"
            ]
           ],
           "sequentialminus": [
            [
             0,
             "#0d0887"
            ],
            [
             0.1111111111111111,
             "#46039f"
            ],
            [
             0.2222222222222222,
             "#7201a8"
            ],
            [
             0.3333333333333333,
             "#9c179e"
            ],
            [
             0.4444444444444444,
             "#bd3786"
            ],
            [
             0.5555555555555556,
             "#d8576b"
            ],
            [
             0.6666666666666666,
             "#ed7953"
            ],
            [
             0.7777777777777778,
             "#fb9f3a"
            ],
            [
             0.8888888888888888,
             "#fdca26"
            ],
            [
             1,
             "#f0f921"
            ]
           ]
          },
          "colorway": [
           "#636efa",
           "#EF553B",
           "#00cc96",
           "#ab63fa",
           "#FFA15A",
           "#19d3f3",
           "#FF6692",
           "#B6E880",
           "#FF97FF",
           "#FECB52"
          ],
          "font": {
           "color": "#2a3f5f"
          },
          "geo": {
           "bgcolor": "white",
           "lakecolor": "white",
           "landcolor": "#E5ECF6",
           "showlakes": true,
           "showland": true,
           "subunitcolor": "white"
          },
          "hoverlabel": {
           "align": "left"
          },
          "hovermode": "closest",
          "mapbox": {
           "style": "light"
          },
          "paper_bgcolor": "white",
          "plot_bgcolor": "#E5ECF6",
          "polar": {
           "angularaxis": {
            "gridcolor": "white",
            "linecolor": "white",
            "ticks": ""
           },
           "bgcolor": "#E5ECF6",
           "radialaxis": {
            "gridcolor": "white",
            "linecolor": "white",
            "ticks": ""
           }
          },
          "scene": {
           "xaxis": {
            "backgroundcolor": "#E5ECF6",
            "gridcolor": "white",
            "gridwidth": 2,
            "linecolor": "white",
            "showbackground": true,
            "ticks": "",
            "zerolinecolor": "white"
           },
           "yaxis": {
            "backgroundcolor": "#E5ECF6",
            "gridcolor": "white",
            "gridwidth": 2,
            "linecolor": "white",
            "showbackground": true,
            "ticks": "",
            "zerolinecolor": "white"
           },
           "zaxis": {
            "backgroundcolor": "#E5ECF6",
            "gridcolor": "white",
            "gridwidth": 2,
            "linecolor": "white",
            "showbackground": true,
            "ticks": "",
            "zerolinecolor": "white"
           }
          },
          "shapedefaults": {
           "line": {
            "color": "#2a3f5f"
           }
          },
          "ternary": {
           "aaxis": {
            "gridcolor": "white",
            "linecolor": "white",
            "ticks": ""
           },
           "baxis": {
            "gridcolor": "white",
            "linecolor": "white",
            "ticks": ""
           },
           "bgcolor": "#E5ECF6",
           "caxis": {
            "gridcolor": "white",
            "linecolor": "white",
            "ticks": ""
           }
          },
          "title": {
           "x": 0.05
          },
          "xaxis": {
           "automargin": true,
           "gridcolor": "white",
           "linecolor": "white",
           "ticks": "",
           "title": {
            "standoff": 15
           },
           "zerolinecolor": "white",
           "zerolinewidth": 2
          },
          "yaxis": {
           "automargin": true,
           "gridcolor": "white",
           "linecolor": "white",
           "ticks": "",
           "title": {
            "standoff": 15
           },
           "zerolinecolor": "white",
           "zerolinewidth": 2
          }
         }
        },
        "title": {
         "text": "Top 30 unigrams in the abstract after removing stop words and lemmatization"
        }
       }
      },
      "text/html": [
       "<div>                            <div id=\"7c7ab417-be78-45c0-a1bd-f443e324960f\" class=\"plotly-graph-div\" style=\"height:525px; width:100%;\"></div>            <script type=\"text/javascript\">                require([\"plotly\"], function(Plotly) {                    window.PLOTLYENV=window.PLOTLYENV || {};                                    if (document.getElementById(\"7c7ab417-be78-45c0-a1bd-f443e324960f\")) {                    Plotly.newPlot(                        \"7c7ab417-be78-45c0-a1bd-f443e324960f\",                        [{\"x\":[\"study\",\"health\",\"people\",\"policy\",\"result\",\"method\",\"woman\",\"year\",\"practice\",\"level\",\"country\",\"based\",\"community\",\"approach\",\"new\",\"covid\",\"child\",\"group\",\"using\",\"well\",\"political\",\"experience\",\"finding\",\"work\",\"model\",\"change\",\"support\",\"time\",\"participant\",\"development\"],\"y\":[862,507,390,356,348,332,323,319,318,308,308,306,301,299,288,286,285,282,278,275,273,263,261,258,253,249,246,245,241,239],\"type\":\"bar\"}],                        {\"template\":{\"data\":{\"bar\":[{\"error_x\":{\"color\":\"#2a3f5f\"},\"error_y\":{\"color\":\"#2a3f5f\"},\"marker\":{\"line\":{\"color\":\"#E5ECF6\",\"width\":0.5},\"pattern\":{\"fillmode\":\"overlay\",\"size\":10,\"solidity\":0.2}},\"type\":\"bar\"}],\"barpolar\":[{\"marker\":{\"line\":{\"color\":\"#E5ECF6\",\"width\":0.5},\"pattern\":{\"fillmode\":\"overlay\",\"size\":10,\"solidity\":0.2}},\"type\":\"barpolar\"}],\"carpet\":[{\"aaxis\":{\"endlinecolor\":\"#2a3f5f\",\"gridcolor\":\"white\",\"linecolor\":\"white\",\"minorgridcolor\":\"white\",\"startlinecolor\":\"#2a3f5f\"},\"baxis\":{\"endlinecolor\":\"#2a3f5f\",\"gridcolor\":\"white\",\"linecolor\":\"white\",\"minorgridcolor\":\"white\",\"startlinecolor\":\"#2a3f5f\"},\"type\":\"carpet\"}],\"choropleth\":[{\"colorbar\":{\"outlinewidth\":0,\"ticks\":\"\"},\"type\":\"choropleth\"}],\"contour\":[{\"colorbar\":{\"outlinewidth\":0,\"ticks\":\"\"},\"colorscale\":[[0.0,\"#0d0887\"],[0.1111111111111111,\"#46039f\"],[0.2222222222222222,\"#7201a8\"],[0.3333333333333333,\"#9c179e\"],[0.4444444444444444,\"#bd3786\"],[0.5555555555555556,\"#d8576b\"],[0.6666666666666666,\"#ed7953\"],[0.7777777777777778,\"#fb9f3a\"],[0.8888888888888888,\"#fdca26\"],[1.0,\"#f0f921\"]],\"type\":\"contour\"}],\"contourcarpet\":[{\"colorbar\":{\"outlinewidth\":0,\"ticks\":\"\"},\"type\":\"contourcarpet\"}],\"heatmap\":[{\"colorbar\":{\"outlinewidth\":0,\"ticks\":\"\"},\"colorscale\":[[0.0,\"#0d0887\"],[0.1111111111111111,\"#46039f\"],[0.2222222222222222,\"#7201a8\"],[0.3333333333333333,\"#9c179e\"],[0.4444444444444444,\"#bd3786\"],[0.5555555555555556,\"#d8576b\"],[0.6666666666666666,\"#ed7953\"],[0.7777777777777778,\"#fb9f3a\"],[0.8888888888888888,\"#fdca26\"],[1.0,\"#f0f921\"]],\"type\":\"heatmap\"}],\"heatmapgl\":[{\"colorbar\":{\"outlinewidth\":0,\"ticks\":\"\"},\"colorscale\":[[0.0,\"#0d0887\"],[0.1111111111111111,\"#46039f\"],[0.2222222222222222,\"#7201a8\"],[0.3333333333333333,\"#9c179e\"],[0.4444444444444444,\"#bd3786\"],[0.5555555555555556,\"#d8576b\"],[0.6666666666666666,\"#ed7953\"],[0.7777777777777778,\"#fb9f3a\"],[0.8888888888888888,\"#fdca26\"],[1.0,\"#f0f921\"]],\"type\":\"heatmapgl\"}],\"histogram\":[{\"marker\":{\"pattern\":{\"fillmode\":\"overlay\",\"size\":10,\"solidity\":0.2}},\"type\":\"histogram\"}],\"histogram2d\":[{\"colorbar\":{\"outlinewidth\":0,\"ticks\":\"\"},\"colorscale\":[[0.0,\"#0d0887\"],[0.1111111111111111,\"#46039f\"],[0.2222222222222222,\"#7201a8\"],[0.3333333333333333,\"#9c179e\"],[0.4444444444444444,\"#bd3786\"],[0.5555555555555556,\"#d8576b\"],[0.6666666666666666,\"#ed7953\"],[0.7777777777777778,\"#fb9f3a\"],[0.8888888888888888,\"#fdca26\"],[1.0,\"#f0f921\"]],\"type\":\"histogram2d\"}],\"histogram2dcontour\":[{\"colorbar\":{\"outlinewidth\":0,\"ticks\":\"\"},\"colorscale\":[[0.0,\"#0d0887\"],[0.1111111111111111,\"#46039f\"],[0.2222222222222222,\"#7201a8\"],[0.3333333333333333,\"#9c179e\"],[0.4444444444444444,\"#bd3786\"],[0.5555555555555556,\"#d8576b\"],[0.6666666666666666,\"#ed7953\"],[0.7777777777777778,\"#fb9f3a\"],[0.8888888888888888,\"#fdca26\"],[1.0,\"#f0f921\"]],\"type\":\"histogram2dcontour\"}],\"mesh3d\":[{\"colorbar\":{\"outlinewidth\":0,\"ticks\":\"\"},\"type\":\"mesh3d\"}],\"parcoords\":[{\"line\":{\"colorbar\":{\"outlinewidth\":0,\"ticks\":\"\"}},\"type\":\"parcoords\"}],\"pie\":[{\"automargin\":true,\"type\":\"pie\"}],\"scatter\":[{\"marker\":{\"colorbar\":{\"outlinewidth\":0,\"ticks\":\"\"}},\"type\":\"scatter\"}],\"scatter3d\":[{\"line\":{\"colorbar\":{\"outlinewidth\":0,\"ticks\":\"\"}},\"marker\":{\"colorbar\":{\"outlinewidth\":0,\"ticks\":\"\"}},\"type\":\"scatter3d\"}],\"scattercarpet\":[{\"marker\":{\"colorbar\":{\"outlinewidth\":0,\"ticks\":\"\"}},\"type\":\"scattercarpet\"}],\"scattergeo\":[{\"marker\":{\"colorbar\":{\"outlinewidth\":0,\"ticks\":\"\"}},\"type\":\"scattergeo\"}],\"scattergl\":[{\"marker\":{\"colorbar\":{\"outlinewidth\":0,\"ticks\":\"\"}},\"type\":\"scattergl\"}],\"scattermapbox\":[{\"marker\":{\"colorbar\":{\"outlinewidth\":0,\"ticks\":\"\"}},\"type\":\"scattermapbox\"}],\"scatterpolar\":[{\"marker\":{\"colorbar\":{\"outlinewidth\":0,\"ticks\":\"\"}},\"type\":\"scatterpolar\"}],\"scatterpolargl\":[{\"marker\":{\"colorbar\":{\"outlinewidth\":0,\"ticks\":\"\"}},\"type\":\"scatterpolargl\"}],\"scatterternary\":[{\"marker\":{\"colorbar\":{\"outlinewidth\":0,\"ticks\":\"\"}},\"type\":\"scatterternary\"}],\"surface\":[{\"colorbar\":{\"outlinewidth\":0,\"ticks\":\"\"},\"colorscale\":[[0.0,\"#0d0887\"],[0.1111111111111111,\"#46039f\"],[0.2222222222222222,\"#7201a8\"],[0.3333333333333333,\"#9c179e\"],[0.4444444444444444,\"#bd3786\"],[0.5555555555555556,\"#d8576b\"],[0.6666666666666666,\"#ed7953\"],[0.7777777777777778,\"#fb9f3a\"],[0.8888888888888888,\"#fdca26\"],[1.0,\"#f0f921\"]],\"type\":\"surface\"}],\"table\":[{\"cells\":{\"fill\":{\"color\":\"#EBF0F8\"},\"line\":{\"color\":\"white\"}},\"header\":{\"fill\":{\"color\":\"#C8D4E3\"},\"line\":{\"color\":\"white\"}},\"type\":\"table\"}]},\"layout\":{\"annotationdefaults\":{\"arrowcolor\":\"#2a3f5f\",\"arrowhead\":0,\"arrowwidth\":1},\"autotypenumbers\":\"strict\",\"coloraxis\":{\"colorbar\":{\"outlinewidth\":0,\"ticks\":\"\"}},\"colorscale\":{\"diverging\":[[0,\"#8e0152\"],[0.1,\"#c51b7d\"],[0.2,\"#de77ae\"],[0.3,\"#f1b6da\"],[0.4,\"#fde0ef\"],[0.5,\"#f7f7f7\"],[0.6,\"#e6f5d0\"],[0.7,\"#b8e186\"],[0.8,\"#7fbc41\"],[0.9,\"#4d9221\"],[1,\"#276419\"]],\"sequential\":[[0.0,\"#0d0887\"],[0.1111111111111111,\"#46039f\"],[0.2222222222222222,\"#7201a8\"],[0.3333333333333333,\"#9c179e\"],[0.4444444444444444,\"#bd3786\"],[0.5555555555555556,\"#d8576b\"],[0.6666666666666666,\"#ed7953\"],[0.7777777777777778,\"#fb9f3a\"],[0.8888888888888888,\"#fdca26\"],[1.0,\"#f0f921\"]],\"sequentialminus\":[[0.0,\"#0d0887\"],[0.1111111111111111,\"#46039f\"],[0.2222222222222222,\"#7201a8\"],[0.3333333333333333,\"#9c179e\"],[0.4444444444444444,\"#bd3786\"],[0.5555555555555556,\"#d8576b\"],[0.6666666666666666,\"#ed7953\"],[0.7777777777777778,\"#fb9f3a\"],[0.8888888888888888,\"#fdca26\"],[1.0,\"#f0f921\"]]},\"colorway\":[\"#636efa\",\"#EF553B\",\"#00cc96\",\"#ab63fa\",\"#FFA15A\",\"#19d3f3\",\"#FF6692\",\"#B6E880\",\"#FF97FF\",\"#FECB52\"],\"font\":{\"color\":\"#2a3f5f\"},\"geo\":{\"bgcolor\":\"white\",\"lakecolor\":\"white\",\"landcolor\":\"#E5ECF6\",\"showlakes\":true,\"showland\":true,\"subunitcolor\":\"white\"},\"hoverlabel\":{\"align\":\"left\"},\"hovermode\":\"closest\",\"mapbox\":{\"style\":\"light\"},\"paper_bgcolor\":\"white\",\"plot_bgcolor\":\"#E5ECF6\",\"polar\":{\"angularaxis\":{\"gridcolor\":\"white\",\"linecolor\":\"white\",\"ticks\":\"\"},\"bgcolor\":\"#E5ECF6\",\"radialaxis\":{\"gridcolor\":\"white\",\"linecolor\":\"white\",\"ticks\":\"\"}},\"scene\":{\"xaxis\":{\"backgroundcolor\":\"#E5ECF6\",\"gridcolor\":\"white\",\"gridwidth\":2,\"linecolor\":\"white\",\"showbackground\":true,\"ticks\":\"\",\"zerolinecolor\":\"white\"},\"yaxis\":{\"backgroundcolor\":\"#E5ECF6\",\"gridcolor\":\"white\",\"gridwidth\":2,\"linecolor\":\"white\",\"showbackground\":true,\"ticks\":\"\",\"zerolinecolor\":\"white\"},\"zaxis\":{\"backgroundcolor\":\"#E5ECF6\",\"gridcolor\":\"white\",\"gridwidth\":2,\"linecolor\":\"white\",\"showbackground\":true,\"ticks\":\"\",\"zerolinecolor\":\"white\"}},\"shapedefaults\":{\"line\":{\"color\":\"#2a3f5f\"}},\"ternary\":{\"aaxis\":{\"gridcolor\":\"white\",\"linecolor\":\"white\",\"ticks\":\"\"},\"baxis\":{\"gridcolor\":\"white\",\"linecolor\":\"white\",\"ticks\":\"\"},\"bgcolor\":\"#E5ECF6\",\"caxis\":{\"gridcolor\":\"white\",\"linecolor\":\"white\",\"ticks\":\"\"}},\"title\":{\"x\":0.05},\"xaxis\":{\"automargin\":true,\"gridcolor\":\"white\",\"linecolor\":\"white\",\"ticks\":\"\",\"title\":{\"standoff\":15},\"zerolinecolor\":\"white\",\"zerolinewidth\":2},\"yaxis\":{\"automargin\":true,\"gridcolor\":\"white\",\"linecolor\":\"white\",\"ticks\":\"\",\"title\":{\"standoff\":15},\"zerolinecolor\":\"white\",\"zerolinewidth\":2}}},\"title\":{\"text\":\"Top 30 unigrams in the abstract after removing stop words and lemmatization\"}},                        {\"responsive\": true}                    ).then(function(){\n",
       "                            \n",
       "var gd = document.getElementById('7c7ab417-be78-45c0-a1bd-f443e324960f');\n",
       "var x = new MutationObserver(function (mutations, observer) {{\n",
       "        var display = window.getComputedStyle(gd).display;\n",
       "        if (!display || display === 'none') {{\n",
       "            console.log([gd, 'removed!']);\n",
       "            Plotly.purge(gd);\n",
       "            observer.disconnect();\n",
       "        }}\n",
       "}});\n",
       "\n",
       "// Listen for the removal of the full notebook cells\n",
       "var notebookContainer = gd.closest('#notebook-container');\n",
       "if (notebookContainer) {{\n",
       "    x.observe(notebookContainer, {childList: true});\n",
       "}}\n",
       "\n",
       "// Listen for the clearing of the current output cell\n",
       "var outputEl = gd.closest('.output');\n",
       "if (outputEl) {{\n",
       "    x.observe(outputEl, {childList: true});\n",
       "}}\n",
       "\n",
       "                        })                };                });            </script>        </div>"
      ]
     },
     "metadata": {},
     "output_type": "display_data"
    }
   ],
   "source": [
    "common_words = get_top_n_grams(df['abstract'],(1,1), 30)\n",
    "df2 = pd.DataFrame(common_words, columns = ['unigram' , 'count'])\n",
    "\n",
    "fig = go.Figure([go.Bar(x=df2['unigram'], y=df2['count'])])\n",
    "fig.update_layout(title=go.layout.Title(text=\"Top 30 unigrams in the abstract after removing stop words and lemmatization\"))\n",
    "fig.show()"
   ]
  },
  {
   "cell_type": "markdown",
   "id": "43153ac5",
   "metadata": {},
   "source": [
    "### most frequent words as 2words"
   ]
  },
  {
   "cell_type": "code",
   "execution_count": 31,
   "id": "8dfa6af9",
   "metadata": {},
   "outputs": [
    {
     "data": {
      "application/vnd.plotly.v1+json": {
       "config": {
        "plotlyServerURL": "https://plot.ly"
       },
       "data": [
        {
         "type": "bar",
         "x": [
          "mental health",
          "covid pandemic",
          "case study",
          "public health",
          "young people",
          "physical activity",
          "long term",
          "human right",
          "et al",
          "climate change",
          "aged year",
          "risk factor",
          "decision making",
          "quality life",
          "high level",
          "indigenous people",
          "digital platform",
          "age year",
          "result show",
          "year old"
         ],
         "y": [
          108,
          79,
          63,
          57,
          53,
          51,
          42,
          42,
          39,
          35,
          32,
          30,
          29,
          29,
          27,
          27,
          27,
          26,
          24,
          24
         ]
        }
       ],
       "layout": {
        "template": {
         "data": {
          "bar": [
           {
            "error_x": {
             "color": "#2a3f5f"
            },
            "error_y": {
             "color": "#2a3f5f"
            },
            "marker": {
             "line": {
              "color": "#E5ECF6",
              "width": 0.5
             },
             "pattern": {
              "fillmode": "overlay",
              "size": 10,
              "solidity": 0.2
             }
            },
            "type": "bar"
           }
          ],
          "barpolar": [
           {
            "marker": {
             "line": {
              "color": "#E5ECF6",
              "width": 0.5
             },
             "pattern": {
              "fillmode": "overlay",
              "size": 10,
              "solidity": 0.2
             }
            },
            "type": "barpolar"
           }
          ],
          "carpet": [
           {
            "aaxis": {
             "endlinecolor": "#2a3f5f",
             "gridcolor": "white",
             "linecolor": "white",
             "minorgridcolor": "white",
             "startlinecolor": "#2a3f5f"
            },
            "baxis": {
             "endlinecolor": "#2a3f5f",
             "gridcolor": "white",
             "linecolor": "white",
             "minorgridcolor": "white",
             "startlinecolor": "#2a3f5f"
            },
            "type": "carpet"
           }
          ],
          "choropleth": [
           {
            "colorbar": {
             "outlinewidth": 0,
             "ticks": ""
            },
            "type": "choropleth"
           }
          ],
          "contour": [
           {
            "colorbar": {
             "outlinewidth": 0,
             "ticks": ""
            },
            "colorscale": [
             [
              0,
              "#0d0887"
             ],
             [
              0.1111111111111111,
              "#46039f"
             ],
             [
              0.2222222222222222,
              "#7201a8"
             ],
             [
              0.3333333333333333,
              "#9c179e"
             ],
             [
              0.4444444444444444,
              "#bd3786"
             ],
             [
              0.5555555555555556,
              "#d8576b"
             ],
             [
              0.6666666666666666,
              "#ed7953"
             ],
             [
              0.7777777777777778,
              "#fb9f3a"
             ],
             [
              0.8888888888888888,
              "#fdca26"
             ],
             [
              1,
              "#f0f921"
             ]
            ],
            "type": "contour"
           }
          ],
          "contourcarpet": [
           {
            "colorbar": {
             "outlinewidth": 0,
             "ticks": ""
            },
            "type": "contourcarpet"
           }
          ],
          "heatmap": [
           {
            "colorbar": {
             "outlinewidth": 0,
             "ticks": ""
            },
            "colorscale": [
             [
              0,
              "#0d0887"
             ],
             [
              0.1111111111111111,
              "#46039f"
             ],
             [
              0.2222222222222222,
              "#7201a8"
             ],
             [
              0.3333333333333333,
              "#9c179e"
             ],
             [
              0.4444444444444444,
              "#bd3786"
             ],
             [
              0.5555555555555556,
              "#d8576b"
             ],
             [
              0.6666666666666666,
              "#ed7953"
             ],
             [
              0.7777777777777778,
              "#fb9f3a"
             ],
             [
              0.8888888888888888,
              "#fdca26"
             ],
             [
              1,
              "#f0f921"
             ]
            ],
            "type": "heatmap"
           }
          ],
          "heatmapgl": [
           {
            "colorbar": {
             "outlinewidth": 0,
             "ticks": ""
            },
            "colorscale": [
             [
              0,
              "#0d0887"
             ],
             [
              0.1111111111111111,
              "#46039f"
             ],
             [
              0.2222222222222222,
              "#7201a8"
             ],
             [
              0.3333333333333333,
              "#9c179e"
             ],
             [
              0.4444444444444444,
              "#bd3786"
             ],
             [
              0.5555555555555556,
              "#d8576b"
             ],
             [
              0.6666666666666666,
              "#ed7953"
             ],
             [
              0.7777777777777778,
              "#fb9f3a"
             ],
             [
              0.8888888888888888,
              "#fdca26"
             ],
             [
              1,
              "#f0f921"
             ]
            ],
            "type": "heatmapgl"
           }
          ],
          "histogram": [
           {
            "marker": {
             "pattern": {
              "fillmode": "overlay",
              "size": 10,
              "solidity": 0.2
             }
            },
            "type": "histogram"
           }
          ],
          "histogram2d": [
           {
            "colorbar": {
             "outlinewidth": 0,
             "ticks": ""
            },
            "colorscale": [
             [
              0,
              "#0d0887"
             ],
             [
              0.1111111111111111,
              "#46039f"
             ],
             [
              0.2222222222222222,
              "#7201a8"
             ],
             [
              0.3333333333333333,
              "#9c179e"
             ],
             [
              0.4444444444444444,
              "#bd3786"
             ],
             [
              0.5555555555555556,
              "#d8576b"
             ],
             [
              0.6666666666666666,
              "#ed7953"
             ],
             [
              0.7777777777777778,
              "#fb9f3a"
             ],
             [
              0.8888888888888888,
              "#fdca26"
             ],
             [
              1,
              "#f0f921"
             ]
            ],
            "type": "histogram2d"
           }
          ],
          "histogram2dcontour": [
           {
            "colorbar": {
             "outlinewidth": 0,
             "ticks": ""
            },
            "colorscale": [
             [
              0,
              "#0d0887"
             ],
             [
              0.1111111111111111,
              "#46039f"
             ],
             [
              0.2222222222222222,
              "#7201a8"
             ],
             [
              0.3333333333333333,
              "#9c179e"
             ],
             [
              0.4444444444444444,
              "#bd3786"
             ],
             [
              0.5555555555555556,
              "#d8576b"
             ],
             [
              0.6666666666666666,
              "#ed7953"
             ],
             [
              0.7777777777777778,
              "#fb9f3a"
             ],
             [
              0.8888888888888888,
              "#fdca26"
             ],
             [
              1,
              "#f0f921"
             ]
            ],
            "type": "histogram2dcontour"
           }
          ],
          "mesh3d": [
           {
            "colorbar": {
             "outlinewidth": 0,
             "ticks": ""
            },
            "type": "mesh3d"
           }
          ],
          "parcoords": [
           {
            "line": {
             "colorbar": {
              "outlinewidth": 0,
              "ticks": ""
             }
            },
            "type": "parcoords"
           }
          ],
          "pie": [
           {
            "automargin": true,
            "type": "pie"
           }
          ],
          "scatter": [
           {
            "marker": {
             "colorbar": {
              "outlinewidth": 0,
              "ticks": ""
             }
            },
            "type": "scatter"
           }
          ],
          "scatter3d": [
           {
            "line": {
             "colorbar": {
              "outlinewidth": 0,
              "ticks": ""
             }
            },
            "marker": {
             "colorbar": {
              "outlinewidth": 0,
              "ticks": ""
             }
            },
            "type": "scatter3d"
           }
          ],
          "scattercarpet": [
           {
            "marker": {
             "colorbar": {
              "outlinewidth": 0,
              "ticks": ""
             }
            },
            "type": "scattercarpet"
           }
          ],
          "scattergeo": [
           {
            "marker": {
             "colorbar": {
              "outlinewidth": 0,
              "ticks": ""
             }
            },
            "type": "scattergeo"
           }
          ],
          "scattergl": [
           {
            "marker": {
             "colorbar": {
              "outlinewidth": 0,
              "ticks": ""
             }
            },
            "type": "scattergl"
           }
          ],
          "scattermapbox": [
           {
            "marker": {
             "colorbar": {
              "outlinewidth": 0,
              "ticks": ""
             }
            },
            "type": "scattermapbox"
           }
          ],
          "scatterpolar": [
           {
            "marker": {
             "colorbar": {
              "outlinewidth": 0,
              "ticks": ""
             }
            },
            "type": "scatterpolar"
           }
          ],
          "scatterpolargl": [
           {
            "marker": {
             "colorbar": {
              "outlinewidth": 0,
              "ticks": ""
             }
            },
            "type": "scatterpolargl"
           }
          ],
          "scatterternary": [
           {
            "marker": {
             "colorbar": {
              "outlinewidth": 0,
              "ticks": ""
             }
            },
            "type": "scatterternary"
           }
          ],
          "surface": [
           {
            "colorbar": {
             "outlinewidth": 0,
             "ticks": ""
            },
            "colorscale": [
             [
              0,
              "#0d0887"
             ],
             [
              0.1111111111111111,
              "#46039f"
             ],
             [
              0.2222222222222222,
              "#7201a8"
             ],
             [
              0.3333333333333333,
              "#9c179e"
             ],
             [
              0.4444444444444444,
              "#bd3786"
             ],
             [
              0.5555555555555556,
              "#d8576b"
             ],
             [
              0.6666666666666666,
              "#ed7953"
             ],
             [
              0.7777777777777778,
              "#fb9f3a"
             ],
             [
              0.8888888888888888,
              "#fdca26"
             ],
             [
              1,
              "#f0f921"
             ]
            ],
            "type": "surface"
           }
          ],
          "table": [
           {
            "cells": {
             "fill": {
              "color": "#EBF0F8"
             },
             "line": {
              "color": "white"
             }
            },
            "header": {
             "fill": {
              "color": "#C8D4E3"
             },
             "line": {
              "color": "white"
             }
            },
            "type": "table"
           }
          ]
         },
         "layout": {
          "annotationdefaults": {
           "arrowcolor": "#2a3f5f",
           "arrowhead": 0,
           "arrowwidth": 1
          },
          "autotypenumbers": "strict",
          "coloraxis": {
           "colorbar": {
            "outlinewidth": 0,
            "ticks": ""
           }
          },
          "colorscale": {
           "diverging": [
            [
             0,
             "#8e0152"
            ],
            [
             0.1,
             "#c51b7d"
            ],
            [
             0.2,
             "#de77ae"
            ],
            [
             0.3,
             "#f1b6da"
            ],
            [
             0.4,
             "#fde0ef"
            ],
            [
             0.5,
             "#f7f7f7"
            ],
            [
             0.6,
             "#e6f5d0"
            ],
            [
             0.7,
             "#b8e186"
            ],
            [
             0.8,
             "#7fbc41"
            ],
            [
             0.9,
             "#4d9221"
            ],
            [
             1,
             "#276419"
            ]
           ],
           "sequential": [
            [
             0,
             "#0d0887"
            ],
            [
             0.1111111111111111,
             "#46039f"
            ],
            [
             0.2222222222222222,
             "#7201a8"
            ],
            [
             0.3333333333333333,
             "#9c179e"
            ],
            [
             0.4444444444444444,
             "#bd3786"
            ],
            [
             0.5555555555555556,
             "#d8576b"
            ],
            [
             0.6666666666666666,
             "#ed7953"
            ],
            [
             0.7777777777777778,
             "#fb9f3a"
            ],
            [
             0.8888888888888888,
             "#fdca26"
            ],
            [
             1,
             "#f0f921"
            ]
           ],
           "sequentialminus": [
            [
             0,
             "#0d0887"
            ],
            [
             0.1111111111111111,
             "#46039f"
            ],
            [
             0.2222222222222222,
             "#7201a8"
            ],
            [
             0.3333333333333333,
             "#9c179e"
            ],
            [
             0.4444444444444444,
             "#bd3786"
            ],
            [
             0.5555555555555556,
             "#d8576b"
            ],
            [
             0.6666666666666666,
             "#ed7953"
            ],
            [
             0.7777777777777778,
             "#fb9f3a"
            ],
            [
             0.8888888888888888,
             "#fdca26"
            ],
            [
             1,
             "#f0f921"
            ]
           ]
          },
          "colorway": [
           "#636efa",
           "#EF553B",
           "#00cc96",
           "#ab63fa",
           "#FFA15A",
           "#19d3f3",
           "#FF6692",
           "#B6E880",
           "#FF97FF",
           "#FECB52"
          ],
          "font": {
           "color": "#2a3f5f"
          },
          "geo": {
           "bgcolor": "white",
           "lakecolor": "white",
           "landcolor": "#E5ECF6",
           "showlakes": true,
           "showland": true,
           "subunitcolor": "white"
          },
          "hoverlabel": {
           "align": "left"
          },
          "hovermode": "closest",
          "mapbox": {
           "style": "light"
          },
          "paper_bgcolor": "white",
          "plot_bgcolor": "#E5ECF6",
          "polar": {
           "angularaxis": {
            "gridcolor": "white",
            "linecolor": "white",
            "ticks": ""
           },
           "bgcolor": "#E5ECF6",
           "radialaxis": {
            "gridcolor": "white",
            "linecolor": "white",
            "ticks": ""
           }
          },
          "scene": {
           "xaxis": {
            "backgroundcolor": "#E5ECF6",
            "gridcolor": "white",
            "gridwidth": 2,
            "linecolor": "white",
            "showbackground": true,
            "ticks": "",
            "zerolinecolor": "white"
           },
           "yaxis": {
            "backgroundcolor": "#E5ECF6",
            "gridcolor": "white",
            "gridwidth": 2,
            "linecolor": "white",
            "showbackground": true,
            "ticks": "",
            "zerolinecolor": "white"
           },
           "zaxis": {
            "backgroundcolor": "#E5ECF6",
            "gridcolor": "white",
            "gridwidth": 2,
            "linecolor": "white",
            "showbackground": true,
            "ticks": "",
            "zerolinecolor": "white"
           }
          },
          "shapedefaults": {
           "line": {
            "color": "#2a3f5f"
           }
          },
          "ternary": {
           "aaxis": {
            "gridcolor": "white",
            "linecolor": "white",
            "ticks": ""
           },
           "baxis": {
            "gridcolor": "white",
            "linecolor": "white",
            "ticks": ""
           },
           "bgcolor": "#E5ECF6",
           "caxis": {
            "gridcolor": "white",
            "linecolor": "white",
            "ticks": ""
           }
          },
          "title": {
           "x": 0.05
          },
          "xaxis": {
           "automargin": true,
           "gridcolor": "white",
           "linecolor": "white",
           "ticks": "",
           "title": {
            "standoff": 15
           },
           "zerolinecolor": "white",
           "zerolinewidth": 2
          },
          "yaxis": {
           "automargin": true,
           "gridcolor": "white",
           "linecolor": "white",
           "ticks": "",
           "title": {
            "standoff": 15
           },
           "zerolinecolor": "white",
           "zerolinewidth": 2
          }
         }
        },
        "title": {
         "text": "Top 20 bigrams in the abstract after removing stop words and lemmatization"
        }
       }
      },
      "text/html": [
       "<div>                            <div id=\"bc424c04-a0be-4a02-b2df-28d7926e0225\" class=\"plotly-graph-div\" style=\"height:525px; width:100%;\"></div>            <script type=\"text/javascript\">                require([\"plotly\"], function(Plotly) {                    window.PLOTLYENV=window.PLOTLYENV || {};                                    if (document.getElementById(\"bc424c04-a0be-4a02-b2df-28d7926e0225\")) {                    Plotly.newPlot(                        \"bc424c04-a0be-4a02-b2df-28d7926e0225\",                        [{\"x\":[\"mental health\",\"covid pandemic\",\"case study\",\"public health\",\"young people\",\"physical activity\",\"long term\",\"human right\",\"et al\",\"climate change\",\"aged year\",\"risk factor\",\"decision making\",\"quality life\",\"high level\",\"indigenous people\",\"digital platform\",\"age year\",\"result show\",\"year old\"],\"y\":[108,79,63,57,53,51,42,42,39,35,32,30,29,29,27,27,27,26,24,24],\"type\":\"bar\"}],                        {\"template\":{\"data\":{\"bar\":[{\"error_x\":{\"color\":\"#2a3f5f\"},\"error_y\":{\"color\":\"#2a3f5f\"},\"marker\":{\"line\":{\"color\":\"#E5ECF6\",\"width\":0.5},\"pattern\":{\"fillmode\":\"overlay\",\"size\":10,\"solidity\":0.2}},\"type\":\"bar\"}],\"barpolar\":[{\"marker\":{\"line\":{\"color\":\"#E5ECF6\",\"width\":0.5},\"pattern\":{\"fillmode\":\"overlay\",\"size\":10,\"solidity\":0.2}},\"type\":\"barpolar\"}],\"carpet\":[{\"aaxis\":{\"endlinecolor\":\"#2a3f5f\",\"gridcolor\":\"white\",\"linecolor\":\"white\",\"minorgridcolor\":\"white\",\"startlinecolor\":\"#2a3f5f\"},\"baxis\":{\"endlinecolor\":\"#2a3f5f\",\"gridcolor\":\"white\",\"linecolor\":\"white\",\"minorgridcolor\":\"white\",\"startlinecolor\":\"#2a3f5f\"},\"type\":\"carpet\"}],\"choropleth\":[{\"colorbar\":{\"outlinewidth\":0,\"ticks\":\"\"},\"type\":\"choropleth\"}],\"contour\":[{\"colorbar\":{\"outlinewidth\":0,\"ticks\":\"\"},\"colorscale\":[[0.0,\"#0d0887\"],[0.1111111111111111,\"#46039f\"],[0.2222222222222222,\"#7201a8\"],[0.3333333333333333,\"#9c179e\"],[0.4444444444444444,\"#bd3786\"],[0.5555555555555556,\"#d8576b\"],[0.6666666666666666,\"#ed7953\"],[0.7777777777777778,\"#fb9f3a\"],[0.8888888888888888,\"#fdca26\"],[1.0,\"#f0f921\"]],\"type\":\"contour\"}],\"contourcarpet\":[{\"colorbar\":{\"outlinewidth\":0,\"ticks\":\"\"},\"type\":\"contourcarpet\"}],\"heatmap\":[{\"colorbar\":{\"outlinewidth\":0,\"ticks\":\"\"},\"colorscale\":[[0.0,\"#0d0887\"],[0.1111111111111111,\"#46039f\"],[0.2222222222222222,\"#7201a8\"],[0.3333333333333333,\"#9c179e\"],[0.4444444444444444,\"#bd3786\"],[0.5555555555555556,\"#d8576b\"],[0.6666666666666666,\"#ed7953\"],[0.7777777777777778,\"#fb9f3a\"],[0.8888888888888888,\"#fdca26\"],[1.0,\"#f0f921\"]],\"type\":\"heatmap\"}],\"heatmapgl\":[{\"colorbar\":{\"outlinewidth\":0,\"ticks\":\"\"},\"colorscale\":[[0.0,\"#0d0887\"],[0.1111111111111111,\"#46039f\"],[0.2222222222222222,\"#7201a8\"],[0.3333333333333333,\"#9c179e\"],[0.4444444444444444,\"#bd3786\"],[0.5555555555555556,\"#d8576b\"],[0.6666666666666666,\"#ed7953\"],[0.7777777777777778,\"#fb9f3a\"],[0.8888888888888888,\"#fdca26\"],[1.0,\"#f0f921\"]],\"type\":\"heatmapgl\"}],\"histogram\":[{\"marker\":{\"pattern\":{\"fillmode\":\"overlay\",\"size\":10,\"solidity\":0.2}},\"type\":\"histogram\"}],\"histogram2d\":[{\"colorbar\":{\"outlinewidth\":0,\"ticks\":\"\"},\"colorscale\":[[0.0,\"#0d0887\"],[0.1111111111111111,\"#46039f\"],[0.2222222222222222,\"#7201a8\"],[0.3333333333333333,\"#9c179e\"],[0.4444444444444444,\"#bd3786\"],[0.5555555555555556,\"#d8576b\"],[0.6666666666666666,\"#ed7953\"],[0.7777777777777778,\"#fb9f3a\"],[0.8888888888888888,\"#fdca26\"],[1.0,\"#f0f921\"]],\"type\":\"histogram2d\"}],\"histogram2dcontour\":[{\"colorbar\":{\"outlinewidth\":0,\"ticks\":\"\"},\"colorscale\":[[0.0,\"#0d0887\"],[0.1111111111111111,\"#46039f\"],[0.2222222222222222,\"#7201a8\"],[0.3333333333333333,\"#9c179e\"],[0.4444444444444444,\"#bd3786\"],[0.5555555555555556,\"#d8576b\"],[0.6666666666666666,\"#ed7953\"],[0.7777777777777778,\"#fb9f3a\"],[0.8888888888888888,\"#fdca26\"],[1.0,\"#f0f921\"]],\"type\":\"histogram2dcontour\"}],\"mesh3d\":[{\"colorbar\":{\"outlinewidth\":0,\"ticks\":\"\"},\"type\":\"mesh3d\"}],\"parcoords\":[{\"line\":{\"colorbar\":{\"outlinewidth\":0,\"ticks\":\"\"}},\"type\":\"parcoords\"}],\"pie\":[{\"automargin\":true,\"type\":\"pie\"}],\"scatter\":[{\"marker\":{\"colorbar\":{\"outlinewidth\":0,\"ticks\":\"\"}},\"type\":\"scatter\"}],\"scatter3d\":[{\"line\":{\"colorbar\":{\"outlinewidth\":0,\"ticks\":\"\"}},\"marker\":{\"colorbar\":{\"outlinewidth\":0,\"ticks\":\"\"}},\"type\":\"scatter3d\"}],\"scattercarpet\":[{\"marker\":{\"colorbar\":{\"outlinewidth\":0,\"ticks\":\"\"}},\"type\":\"scattercarpet\"}],\"scattergeo\":[{\"marker\":{\"colorbar\":{\"outlinewidth\":0,\"ticks\":\"\"}},\"type\":\"scattergeo\"}],\"scattergl\":[{\"marker\":{\"colorbar\":{\"outlinewidth\":0,\"ticks\":\"\"}},\"type\":\"scattergl\"}],\"scattermapbox\":[{\"marker\":{\"colorbar\":{\"outlinewidth\":0,\"ticks\":\"\"}},\"type\":\"scattermapbox\"}],\"scatterpolar\":[{\"marker\":{\"colorbar\":{\"outlinewidth\":0,\"ticks\":\"\"}},\"type\":\"scatterpolar\"}],\"scatterpolargl\":[{\"marker\":{\"colorbar\":{\"outlinewidth\":0,\"ticks\":\"\"}},\"type\":\"scatterpolargl\"}],\"scatterternary\":[{\"marker\":{\"colorbar\":{\"outlinewidth\":0,\"ticks\":\"\"}},\"type\":\"scatterternary\"}],\"surface\":[{\"colorbar\":{\"outlinewidth\":0,\"ticks\":\"\"},\"colorscale\":[[0.0,\"#0d0887\"],[0.1111111111111111,\"#46039f\"],[0.2222222222222222,\"#7201a8\"],[0.3333333333333333,\"#9c179e\"],[0.4444444444444444,\"#bd3786\"],[0.5555555555555556,\"#d8576b\"],[0.6666666666666666,\"#ed7953\"],[0.7777777777777778,\"#fb9f3a\"],[0.8888888888888888,\"#fdca26\"],[1.0,\"#f0f921\"]],\"type\":\"surface\"}],\"table\":[{\"cells\":{\"fill\":{\"color\":\"#EBF0F8\"},\"line\":{\"color\":\"white\"}},\"header\":{\"fill\":{\"color\":\"#C8D4E3\"},\"line\":{\"color\":\"white\"}},\"type\":\"table\"}]},\"layout\":{\"annotationdefaults\":{\"arrowcolor\":\"#2a3f5f\",\"arrowhead\":0,\"arrowwidth\":1},\"autotypenumbers\":\"strict\",\"coloraxis\":{\"colorbar\":{\"outlinewidth\":0,\"ticks\":\"\"}},\"colorscale\":{\"diverging\":[[0,\"#8e0152\"],[0.1,\"#c51b7d\"],[0.2,\"#de77ae\"],[0.3,\"#f1b6da\"],[0.4,\"#fde0ef\"],[0.5,\"#f7f7f7\"],[0.6,\"#e6f5d0\"],[0.7,\"#b8e186\"],[0.8,\"#7fbc41\"],[0.9,\"#4d9221\"],[1,\"#276419\"]],\"sequential\":[[0.0,\"#0d0887\"],[0.1111111111111111,\"#46039f\"],[0.2222222222222222,\"#7201a8\"],[0.3333333333333333,\"#9c179e\"],[0.4444444444444444,\"#bd3786\"],[0.5555555555555556,\"#d8576b\"],[0.6666666666666666,\"#ed7953\"],[0.7777777777777778,\"#fb9f3a\"],[0.8888888888888888,\"#fdca26\"],[1.0,\"#f0f921\"]],\"sequentialminus\":[[0.0,\"#0d0887\"],[0.1111111111111111,\"#46039f\"],[0.2222222222222222,\"#7201a8\"],[0.3333333333333333,\"#9c179e\"],[0.4444444444444444,\"#bd3786\"],[0.5555555555555556,\"#d8576b\"],[0.6666666666666666,\"#ed7953\"],[0.7777777777777778,\"#fb9f3a\"],[0.8888888888888888,\"#fdca26\"],[1.0,\"#f0f921\"]]},\"colorway\":[\"#636efa\",\"#EF553B\",\"#00cc96\",\"#ab63fa\",\"#FFA15A\",\"#19d3f3\",\"#FF6692\",\"#B6E880\",\"#FF97FF\",\"#FECB52\"],\"font\":{\"color\":\"#2a3f5f\"},\"geo\":{\"bgcolor\":\"white\",\"lakecolor\":\"white\",\"landcolor\":\"#E5ECF6\",\"showlakes\":true,\"showland\":true,\"subunitcolor\":\"white\"},\"hoverlabel\":{\"align\":\"left\"},\"hovermode\":\"closest\",\"mapbox\":{\"style\":\"light\"},\"paper_bgcolor\":\"white\",\"plot_bgcolor\":\"#E5ECF6\",\"polar\":{\"angularaxis\":{\"gridcolor\":\"white\",\"linecolor\":\"white\",\"ticks\":\"\"},\"bgcolor\":\"#E5ECF6\",\"radialaxis\":{\"gridcolor\":\"white\",\"linecolor\":\"white\",\"ticks\":\"\"}},\"scene\":{\"xaxis\":{\"backgroundcolor\":\"#E5ECF6\",\"gridcolor\":\"white\",\"gridwidth\":2,\"linecolor\":\"white\",\"showbackground\":true,\"ticks\":\"\",\"zerolinecolor\":\"white\"},\"yaxis\":{\"backgroundcolor\":\"#E5ECF6\",\"gridcolor\":\"white\",\"gridwidth\":2,\"linecolor\":\"white\",\"showbackground\":true,\"ticks\":\"\",\"zerolinecolor\":\"white\"},\"zaxis\":{\"backgroundcolor\":\"#E5ECF6\",\"gridcolor\":\"white\",\"gridwidth\":2,\"linecolor\":\"white\",\"showbackground\":true,\"ticks\":\"\",\"zerolinecolor\":\"white\"}},\"shapedefaults\":{\"line\":{\"color\":\"#2a3f5f\"}},\"ternary\":{\"aaxis\":{\"gridcolor\":\"white\",\"linecolor\":\"white\",\"ticks\":\"\"},\"baxis\":{\"gridcolor\":\"white\",\"linecolor\":\"white\",\"ticks\":\"\"},\"bgcolor\":\"#E5ECF6\",\"caxis\":{\"gridcolor\":\"white\",\"linecolor\":\"white\",\"ticks\":\"\"}},\"title\":{\"x\":0.05},\"xaxis\":{\"automargin\":true,\"gridcolor\":\"white\",\"linecolor\":\"white\",\"ticks\":\"\",\"title\":{\"standoff\":15},\"zerolinecolor\":\"white\",\"zerolinewidth\":2},\"yaxis\":{\"automargin\":true,\"gridcolor\":\"white\",\"linecolor\":\"white\",\"ticks\":\"\",\"title\":{\"standoff\":15},\"zerolinecolor\":\"white\",\"zerolinewidth\":2}}},\"title\":{\"text\":\"Top 20 bigrams in the abstract after removing stop words and lemmatization\"}},                        {\"responsive\": true}                    ).then(function(){\n",
       "                            \n",
       "var gd = document.getElementById('bc424c04-a0be-4a02-b2df-28d7926e0225');\n",
       "var x = new MutationObserver(function (mutations, observer) {{\n",
       "        var display = window.getComputedStyle(gd).display;\n",
       "        if (!display || display === 'none') {{\n",
       "            console.log([gd, 'removed!']);\n",
       "            Plotly.purge(gd);\n",
       "            observer.disconnect();\n",
       "        }}\n",
       "}});\n",
       "\n",
       "// Listen for the removal of the full notebook cells\n",
       "var notebookContainer = gd.closest('#notebook-container');\n",
       "if (notebookContainer) {{\n",
       "    x.observe(notebookContainer, {childList: true});\n",
       "}}\n",
       "\n",
       "// Listen for the clearing of the current output cell\n",
       "var outputEl = gd.closest('.output');\n",
       "if (outputEl) {{\n",
       "    x.observe(outputEl, {childList: true});\n",
       "}}\n",
       "\n",
       "                        })                };                });            </script>        </div>"
      ]
     },
     "metadata": {},
     "output_type": "display_data"
    }
   ],
   "source": [
    "\n",
    "common_words = get_top_n_grams(df['abstract'],(2,2), 20)\n",
    "df3 = pd.DataFrame(common_words, columns = ['bigram' , 'count'])\n",
    "\n",
    "fig = go.Figure([go.Bar(x=df3['bigram'], y=df3['count'])])\n",
    "fig.update_layout(title=go.layout.Title(text=\"Top 20 bigrams in the abstract after removing stop words and lemmatization\"))\n",
    "fig.show()"
   ]
  },
  {
   "cell_type": "markdown",
   "id": "f2f52320",
   "metadata": {},
   "source": [
    "### most frequent words as 3words"
   ]
  },
  {
   "cell_type": "code",
   "execution_count": 32,
   "id": "727f328a",
   "metadata": {},
   "outputs": [
    {
     "data": {
      "application/vnd.plotly.v1+json": {
       "config": {
        "plotlyServerURL": "https://plot.ly"
       },
       "data": [
        {
         "type": "bar",
         "x": [
          "new south wale",
          "semi structured interview",
          "dy dy dy",
          "mean age year",
          "physical activity level",
          "sustainable development goal",
          "sub saharan africa",
          "design methodology approach",
          "long term condition",
          "multiple long term",
          "cross sectional study",
          "technology facilitated abuse",
          "hour per day",
          "perceived threat covid",
          "age year sd",
          "criminal justice system",
          "development goal sdgs",
          "stay home restriction",
          "child sexual abuse",
          "body mass index"
         ],
         "y": [
          22,
          19,
          18,
          15,
          15,
          13,
          11,
          11,
          10,
          9,
          9,
          9,
          9,
          9,
          8,
          8,
          8,
          8,
          8,
          8
         ]
        }
       ],
       "layout": {
        "template": {
         "data": {
          "bar": [
           {
            "error_x": {
             "color": "#2a3f5f"
            },
            "error_y": {
             "color": "#2a3f5f"
            },
            "marker": {
             "line": {
              "color": "#E5ECF6",
              "width": 0.5
             },
             "pattern": {
              "fillmode": "overlay",
              "size": 10,
              "solidity": 0.2
             }
            },
            "type": "bar"
           }
          ],
          "barpolar": [
           {
            "marker": {
             "line": {
              "color": "#E5ECF6",
              "width": 0.5
             },
             "pattern": {
              "fillmode": "overlay",
              "size": 10,
              "solidity": 0.2
             }
            },
            "type": "barpolar"
           }
          ],
          "carpet": [
           {
            "aaxis": {
             "endlinecolor": "#2a3f5f",
             "gridcolor": "white",
             "linecolor": "white",
             "minorgridcolor": "white",
             "startlinecolor": "#2a3f5f"
            },
            "baxis": {
             "endlinecolor": "#2a3f5f",
             "gridcolor": "white",
             "linecolor": "white",
             "minorgridcolor": "white",
             "startlinecolor": "#2a3f5f"
            },
            "type": "carpet"
           }
          ],
          "choropleth": [
           {
            "colorbar": {
             "outlinewidth": 0,
             "ticks": ""
            },
            "type": "choropleth"
           }
          ],
          "contour": [
           {
            "colorbar": {
             "outlinewidth": 0,
             "ticks": ""
            },
            "colorscale": [
             [
              0,
              "#0d0887"
             ],
             [
              0.1111111111111111,
              "#46039f"
             ],
             [
              0.2222222222222222,
              "#7201a8"
             ],
             [
              0.3333333333333333,
              "#9c179e"
             ],
             [
              0.4444444444444444,
              "#bd3786"
             ],
             [
              0.5555555555555556,
              "#d8576b"
             ],
             [
              0.6666666666666666,
              "#ed7953"
             ],
             [
              0.7777777777777778,
              "#fb9f3a"
             ],
             [
              0.8888888888888888,
              "#fdca26"
             ],
             [
              1,
              "#f0f921"
             ]
            ],
            "type": "contour"
           }
          ],
          "contourcarpet": [
           {
            "colorbar": {
             "outlinewidth": 0,
             "ticks": ""
            },
            "type": "contourcarpet"
           }
          ],
          "heatmap": [
           {
            "colorbar": {
             "outlinewidth": 0,
             "ticks": ""
            },
            "colorscale": [
             [
              0,
              "#0d0887"
             ],
             [
              0.1111111111111111,
              "#46039f"
             ],
             [
              0.2222222222222222,
              "#7201a8"
             ],
             [
              0.3333333333333333,
              "#9c179e"
             ],
             [
              0.4444444444444444,
              "#bd3786"
             ],
             [
              0.5555555555555556,
              "#d8576b"
             ],
             [
              0.6666666666666666,
              "#ed7953"
             ],
             [
              0.7777777777777778,
              "#fb9f3a"
             ],
             [
              0.8888888888888888,
              "#fdca26"
             ],
             [
              1,
              "#f0f921"
             ]
            ],
            "type": "heatmap"
           }
          ],
          "heatmapgl": [
           {
            "colorbar": {
             "outlinewidth": 0,
             "ticks": ""
            },
            "colorscale": [
             [
              0,
              "#0d0887"
             ],
             [
              0.1111111111111111,
              "#46039f"
             ],
             [
              0.2222222222222222,
              "#7201a8"
             ],
             [
              0.3333333333333333,
              "#9c179e"
             ],
             [
              0.4444444444444444,
              "#bd3786"
             ],
             [
              0.5555555555555556,
              "#d8576b"
             ],
             [
              0.6666666666666666,
              "#ed7953"
             ],
             [
              0.7777777777777778,
              "#fb9f3a"
             ],
             [
              0.8888888888888888,
              "#fdca26"
             ],
             [
              1,
              "#f0f921"
             ]
            ],
            "type": "heatmapgl"
           }
          ],
          "histogram": [
           {
            "marker": {
             "pattern": {
              "fillmode": "overlay",
              "size": 10,
              "solidity": 0.2
             }
            },
            "type": "histogram"
           }
          ],
          "histogram2d": [
           {
            "colorbar": {
             "outlinewidth": 0,
             "ticks": ""
            },
            "colorscale": [
             [
              0,
              "#0d0887"
             ],
             [
              0.1111111111111111,
              "#46039f"
             ],
             [
              0.2222222222222222,
              "#7201a8"
             ],
             [
              0.3333333333333333,
              "#9c179e"
             ],
             [
              0.4444444444444444,
              "#bd3786"
             ],
             [
              0.5555555555555556,
              "#d8576b"
             ],
             [
              0.6666666666666666,
              "#ed7953"
             ],
             [
              0.7777777777777778,
              "#fb9f3a"
             ],
             [
              0.8888888888888888,
              "#fdca26"
             ],
             [
              1,
              "#f0f921"
             ]
            ],
            "type": "histogram2d"
           }
          ],
          "histogram2dcontour": [
           {
            "colorbar": {
             "outlinewidth": 0,
             "ticks": ""
            },
            "colorscale": [
             [
              0,
              "#0d0887"
             ],
             [
              0.1111111111111111,
              "#46039f"
             ],
             [
              0.2222222222222222,
              "#7201a8"
             ],
             [
              0.3333333333333333,
              "#9c179e"
             ],
             [
              0.4444444444444444,
              "#bd3786"
             ],
             [
              0.5555555555555556,
              "#d8576b"
             ],
             [
              0.6666666666666666,
              "#ed7953"
             ],
             [
              0.7777777777777778,
              "#fb9f3a"
             ],
             [
              0.8888888888888888,
              "#fdca26"
             ],
             [
              1,
              "#f0f921"
             ]
            ],
            "type": "histogram2dcontour"
           }
          ],
          "mesh3d": [
           {
            "colorbar": {
             "outlinewidth": 0,
             "ticks": ""
            },
            "type": "mesh3d"
           }
          ],
          "parcoords": [
           {
            "line": {
             "colorbar": {
              "outlinewidth": 0,
              "ticks": ""
             }
            },
            "type": "parcoords"
           }
          ],
          "pie": [
           {
            "automargin": true,
            "type": "pie"
           }
          ],
          "scatter": [
           {
            "marker": {
             "colorbar": {
              "outlinewidth": 0,
              "ticks": ""
             }
            },
            "type": "scatter"
           }
          ],
          "scatter3d": [
           {
            "line": {
             "colorbar": {
              "outlinewidth": 0,
              "ticks": ""
             }
            },
            "marker": {
             "colorbar": {
              "outlinewidth": 0,
              "ticks": ""
             }
            },
            "type": "scatter3d"
           }
          ],
          "scattercarpet": [
           {
            "marker": {
             "colorbar": {
              "outlinewidth": 0,
              "ticks": ""
             }
            },
            "type": "scattercarpet"
           }
          ],
          "scattergeo": [
           {
            "marker": {
             "colorbar": {
              "outlinewidth": 0,
              "ticks": ""
             }
            },
            "type": "scattergeo"
           }
          ],
          "scattergl": [
           {
            "marker": {
             "colorbar": {
              "outlinewidth": 0,
              "ticks": ""
             }
            },
            "type": "scattergl"
           }
          ],
          "scattermapbox": [
           {
            "marker": {
             "colorbar": {
              "outlinewidth": 0,
              "ticks": ""
             }
            },
            "type": "scattermapbox"
           }
          ],
          "scatterpolar": [
           {
            "marker": {
             "colorbar": {
              "outlinewidth": 0,
              "ticks": ""
             }
            },
            "type": "scatterpolar"
           }
          ],
          "scatterpolargl": [
           {
            "marker": {
             "colorbar": {
              "outlinewidth": 0,
              "ticks": ""
             }
            },
            "type": "scatterpolargl"
           }
          ],
          "scatterternary": [
           {
            "marker": {
             "colorbar": {
              "outlinewidth": 0,
              "ticks": ""
             }
            },
            "type": "scatterternary"
           }
          ],
          "surface": [
           {
            "colorbar": {
             "outlinewidth": 0,
             "ticks": ""
            },
            "colorscale": [
             [
              0,
              "#0d0887"
             ],
             [
              0.1111111111111111,
              "#46039f"
             ],
             [
              0.2222222222222222,
              "#7201a8"
             ],
             [
              0.3333333333333333,
              "#9c179e"
             ],
             [
              0.4444444444444444,
              "#bd3786"
             ],
             [
              0.5555555555555556,
              "#d8576b"
             ],
             [
              0.6666666666666666,
              "#ed7953"
             ],
             [
              0.7777777777777778,
              "#fb9f3a"
             ],
             [
              0.8888888888888888,
              "#fdca26"
             ],
             [
              1,
              "#f0f921"
             ]
            ],
            "type": "surface"
           }
          ],
          "table": [
           {
            "cells": {
             "fill": {
              "color": "#EBF0F8"
             },
             "line": {
              "color": "white"
             }
            },
            "header": {
             "fill": {
              "color": "#C8D4E3"
             },
             "line": {
              "color": "white"
             }
            },
            "type": "table"
           }
          ]
         },
         "layout": {
          "annotationdefaults": {
           "arrowcolor": "#2a3f5f",
           "arrowhead": 0,
           "arrowwidth": 1
          },
          "autotypenumbers": "strict",
          "coloraxis": {
           "colorbar": {
            "outlinewidth": 0,
            "ticks": ""
           }
          },
          "colorscale": {
           "diverging": [
            [
             0,
             "#8e0152"
            ],
            [
             0.1,
             "#c51b7d"
            ],
            [
             0.2,
             "#de77ae"
            ],
            [
             0.3,
             "#f1b6da"
            ],
            [
             0.4,
             "#fde0ef"
            ],
            [
             0.5,
             "#f7f7f7"
            ],
            [
             0.6,
             "#e6f5d0"
            ],
            [
             0.7,
             "#b8e186"
            ],
            [
             0.8,
             "#7fbc41"
            ],
            [
             0.9,
             "#4d9221"
            ],
            [
             1,
             "#276419"
            ]
           ],
           "sequential": [
            [
             0,
             "#0d0887"
            ],
            [
             0.1111111111111111,
             "#46039f"
            ],
            [
             0.2222222222222222,
             "#7201a8"
            ],
            [
             0.3333333333333333,
             "#9c179e"
            ],
            [
             0.4444444444444444,
             "#bd3786"
            ],
            [
             0.5555555555555556,
             "#d8576b"
            ],
            [
             0.6666666666666666,
             "#ed7953"
            ],
            [
             0.7777777777777778,
             "#fb9f3a"
            ],
            [
             0.8888888888888888,
             "#fdca26"
            ],
            [
             1,
             "#f0f921"
            ]
           ],
           "sequentialminus": [
            [
             0,
             "#0d0887"
            ],
            [
             0.1111111111111111,
             "#46039f"
            ],
            [
             0.2222222222222222,
             "#7201a8"
            ],
            [
             0.3333333333333333,
             "#9c179e"
            ],
            [
             0.4444444444444444,
             "#bd3786"
            ],
            [
             0.5555555555555556,
             "#d8576b"
            ],
            [
             0.6666666666666666,
             "#ed7953"
            ],
            [
             0.7777777777777778,
             "#fb9f3a"
            ],
            [
             0.8888888888888888,
             "#fdca26"
            ],
            [
             1,
             "#f0f921"
            ]
           ]
          },
          "colorway": [
           "#636efa",
           "#EF553B",
           "#00cc96",
           "#ab63fa",
           "#FFA15A",
           "#19d3f3",
           "#FF6692",
           "#B6E880",
           "#FF97FF",
           "#FECB52"
          ],
          "font": {
           "color": "#2a3f5f"
          },
          "geo": {
           "bgcolor": "white",
           "lakecolor": "white",
           "landcolor": "#E5ECF6",
           "showlakes": true,
           "showland": true,
           "subunitcolor": "white"
          },
          "hoverlabel": {
           "align": "left"
          },
          "hovermode": "closest",
          "mapbox": {
           "style": "light"
          },
          "paper_bgcolor": "white",
          "plot_bgcolor": "#E5ECF6",
          "polar": {
           "angularaxis": {
            "gridcolor": "white",
            "linecolor": "white",
            "ticks": ""
           },
           "bgcolor": "#E5ECF6",
           "radialaxis": {
            "gridcolor": "white",
            "linecolor": "white",
            "ticks": ""
           }
          },
          "scene": {
           "xaxis": {
            "backgroundcolor": "#E5ECF6",
            "gridcolor": "white",
            "gridwidth": 2,
            "linecolor": "white",
            "showbackground": true,
            "ticks": "",
            "zerolinecolor": "white"
           },
           "yaxis": {
            "backgroundcolor": "#E5ECF6",
            "gridcolor": "white",
            "gridwidth": 2,
            "linecolor": "white",
            "showbackground": true,
            "ticks": "",
            "zerolinecolor": "white"
           },
           "zaxis": {
            "backgroundcolor": "#E5ECF6",
            "gridcolor": "white",
            "gridwidth": 2,
            "linecolor": "white",
            "showbackground": true,
            "ticks": "",
            "zerolinecolor": "white"
           }
          },
          "shapedefaults": {
           "line": {
            "color": "#2a3f5f"
           }
          },
          "ternary": {
           "aaxis": {
            "gridcolor": "white",
            "linecolor": "white",
            "ticks": ""
           },
           "baxis": {
            "gridcolor": "white",
            "linecolor": "white",
            "ticks": ""
           },
           "bgcolor": "#E5ECF6",
           "caxis": {
            "gridcolor": "white",
            "linecolor": "white",
            "ticks": ""
           }
          },
          "title": {
           "x": 0.05
          },
          "xaxis": {
           "automargin": true,
           "gridcolor": "white",
           "linecolor": "white",
           "ticks": "",
           "title": {
            "standoff": 15
           },
           "zerolinecolor": "white",
           "zerolinewidth": 2
          },
          "yaxis": {
           "automargin": true,
           "gridcolor": "white",
           "linecolor": "white",
           "ticks": "",
           "title": {
            "standoff": 15
           },
           "zerolinecolor": "white",
           "zerolinewidth": 2
          }
         }
        },
        "title": {
         "text": "Top 20 trigrams in the abstract"
        }
       }
      },
      "text/html": [
       "<div>                            <div id=\"100969fe-7984-4840-9d48-c4a0bd072b57\" class=\"plotly-graph-div\" style=\"height:525px; width:100%;\"></div>            <script type=\"text/javascript\">                require([\"plotly\"], function(Plotly) {                    window.PLOTLYENV=window.PLOTLYENV || {};                                    if (document.getElementById(\"100969fe-7984-4840-9d48-c4a0bd072b57\")) {                    Plotly.newPlot(                        \"100969fe-7984-4840-9d48-c4a0bd072b57\",                        [{\"x\":[\"new south wale\",\"semi structured interview\",\"dy dy dy\",\"mean age year\",\"physical activity level\",\"sustainable development goal\",\"sub saharan africa\",\"design methodology approach\",\"long term condition\",\"multiple long term\",\"cross sectional study\",\"technology facilitated abuse\",\"hour per day\",\"perceived threat covid\",\"age year sd\",\"criminal justice system\",\"development goal sdgs\",\"stay home restriction\",\"child sexual abuse\",\"body mass index\"],\"y\":[22,19,18,15,15,13,11,11,10,9,9,9,9,9,8,8,8,8,8,8],\"type\":\"bar\"}],                        {\"template\":{\"data\":{\"bar\":[{\"error_x\":{\"color\":\"#2a3f5f\"},\"error_y\":{\"color\":\"#2a3f5f\"},\"marker\":{\"line\":{\"color\":\"#E5ECF6\",\"width\":0.5},\"pattern\":{\"fillmode\":\"overlay\",\"size\":10,\"solidity\":0.2}},\"type\":\"bar\"}],\"barpolar\":[{\"marker\":{\"line\":{\"color\":\"#E5ECF6\",\"width\":0.5},\"pattern\":{\"fillmode\":\"overlay\",\"size\":10,\"solidity\":0.2}},\"type\":\"barpolar\"}],\"carpet\":[{\"aaxis\":{\"endlinecolor\":\"#2a3f5f\",\"gridcolor\":\"white\",\"linecolor\":\"white\",\"minorgridcolor\":\"white\",\"startlinecolor\":\"#2a3f5f\"},\"baxis\":{\"endlinecolor\":\"#2a3f5f\",\"gridcolor\":\"white\",\"linecolor\":\"white\",\"minorgridcolor\":\"white\",\"startlinecolor\":\"#2a3f5f\"},\"type\":\"carpet\"}],\"choropleth\":[{\"colorbar\":{\"outlinewidth\":0,\"ticks\":\"\"},\"type\":\"choropleth\"}],\"contour\":[{\"colorbar\":{\"outlinewidth\":0,\"ticks\":\"\"},\"colorscale\":[[0.0,\"#0d0887\"],[0.1111111111111111,\"#46039f\"],[0.2222222222222222,\"#7201a8\"],[0.3333333333333333,\"#9c179e\"],[0.4444444444444444,\"#bd3786\"],[0.5555555555555556,\"#d8576b\"],[0.6666666666666666,\"#ed7953\"],[0.7777777777777778,\"#fb9f3a\"],[0.8888888888888888,\"#fdca26\"],[1.0,\"#f0f921\"]],\"type\":\"contour\"}],\"contourcarpet\":[{\"colorbar\":{\"outlinewidth\":0,\"ticks\":\"\"},\"type\":\"contourcarpet\"}],\"heatmap\":[{\"colorbar\":{\"outlinewidth\":0,\"ticks\":\"\"},\"colorscale\":[[0.0,\"#0d0887\"],[0.1111111111111111,\"#46039f\"],[0.2222222222222222,\"#7201a8\"],[0.3333333333333333,\"#9c179e\"],[0.4444444444444444,\"#bd3786\"],[0.5555555555555556,\"#d8576b\"],[0.6666666666666666,\"#ed7953\"],[0.7777777777777778,\"#fb9f3a\"],[0.8888888888888888,\"#fdca26\"],[1.0,\"#f0f921\"]],\"type\":\"heatmap\"}],\"heatmapgl\":[{\"colorbar\":{\"outlinewidth\":0,\"ticks\":\"\"},\"colorscale\":[[0.0,\"#0d0887\"],[0.1111111111111111,\"#46039f\"],[0.2222222222222222,\"#7201a8\"],[0.3333333333333333,\"#9c179e\"],[0.4444444444444444,\"#bd3786\"],[0.5555555555555556,\"#d8576b\"],[0.6666666666666666,\"#ed7953\"],[0.7777777777777778,\"#fb9f3a\"],[0.8888888888888888,\"#fdca26\"],[1.0,\"#f0f921\"]],\"type\":\"heatmapgl\"}],\"histogram\":[{\"marker\":{\"pattern\":{\"fillmode\":\"overlay\",\"size\":10,\"solidity\":0.2}},\"type\":\"histogram\"}],\"histogram2d\":[{\"colorbar\":{\"outlinewidth\":0,\"ticks\":\"\"},\"colorscale\":[[0.0,\"#0d0887\"],[0.1111111111111111,\"#46039f\"],[0.2222222222222222,\"#7201a8\"],[0.3333333333333333,\"#9c179e\"],[0.4444444444444444,\"#bd3786\"],[0.5555555555555556,\"#d8576b\"],[0.6666666666666666,\"#ed7953\"],[0.7777777777777778,\"#fb9f3a\"],[0.8888888888888888,\"#fdca26\"],[1.0,\"#f0f921\"]],\"type\":\"histogram2d\"}],\"histogram2dcontour\":[{\"colorbar\":{\"outlinewidth\":0,\"ticks\":\"\"},\"colorscale\":[[0.0,\"#0d0887\"],[0.1111111111111111,\"#46039f\"],[0.2222222222222222,\"#7201a8\"],[0.3333333333333333,\"#9c179e\"],[0.4444444444444444,\"#bd3786\"],[0.5555555555555556,\"#d8576b\"],[0.6666666666666666,\"#ed7953\"],[0.7777777777777778,\"#fb9f3a\"],[0.8888888888888888,\"#fdca26\"],[1.0,\"#f0f921\"]],\"type\":\"histogram2dcontour\"}],\"mesh3d\":[{\"colorbar\":{\"outlinewidth\":0,\"ticks\":\"\"},\"type\":\"mesh3d\"}],\"parcoords\":[{\"line\":{\"colorbar\":{\"outlinewidth\":0,\"ticks\":\"\"}},\"type\":\"parcoords\"}],\"pie\":[{\"automargin\":true,\"type\":\"pie\"}],\"scatter\":[{\"marker\":{\"colorbar\":{\"outlinewidth\":0,\"ticks\":\"\"}},\"type\":\"scatter\"}],\"scatter3d\":[{\"line\":{\"colorbar\":{\"outlinewidth\":0,\"ticks\":\"\"}},\"marker\":{\"colorbar\":{\"outlinewidth\":0,\"ticks\":\"\"}},\"type\":\"scatter3d\"}],\"scattercarpet\":[{\"marker\":{\"colorbar\":{\"outlinewidth\":0,\"ticks\":\"\"}},\"type\":\"scattercarpet\"}],\"scattergeo\":[{\"marker\":{\"colorbar\":{\"outlinewidth\":0,\"ticks\":\"\"}},\"type\":\"scattergeo\"}],\"scattergl\":[{\"marker\":{\"colorbar\":{\"outlinewidth\":0,\"ticks\":\"\"}},\"type\":\"scattergl\"}],\"scattermapbox\":[{\"marker\":{\"colorbar\":{\"outlinewidth\":0,\"ticks\":\"\"}},\"type\":\"scattermapbox\"}],\"scatterpolar\":[{\"marker\":{\"colorbar\":{\"outlinewidth\":0,\"ticks\":\"\"}},\"type\":\"scatterpolar\"}],\"scatterpolargl\":[{\"marker\":{\"colorbar\":{\"outlinewidth\":0,\"ticks\":\"\"}},\"type\":\"scatterpolargl\"}],\"scatterternary\":[{\"marker\":{\"colorbar\":{\"outlinewidth\":0,\"ticks\":\"\"}},\"type\":\"scatterternary\"}],\"surface\":[{\"colorbar\":{\"outlinewidth\":0,\"ticks\":\"\"},\"colorscale\":[[0.0,\"#0d0887\"],[0.1111111111111111,\"#46039f\"],[0.2222222222222222,\"#7201a8\"],[0.3333333333333333,\"#9c179e\"],[0.4444444444444444,\"#bd3786\"],[0.5555555555555556,\"#d8576b\"],[0.6666666666666666,\"#ed7953\"],[0.7777777777777778,\"#fb9f3a\"],[0.8888888888888888,\"#fdca26\"],[1.0,\"#f0f921\"]],\"type\":\"surface\"}],\"table\":[{\"cells\":{\"fill\":{\"color\":\"#EBF0F8\"},\"line\":{\"color\":\"white\"}},\"header\":{\"fill\":{\"color\":\"#C8D4E3\"},\"line\":{\"color\":\"white\"}},\"type\":\"table\"}]},\"layout\":{\"annotationdefaults\":{\"arrowcolor\":\"#2a3f5f\",\"arrowhead\":0,\"arrowwidth\":1},\"autotypenumbers\":\"strict\",\"coloraxis\":{\"colorbar\":{\"outlinewidth\":0,\"ticks\":\"\"}},\"colorscale\":{\"diverging\":[[0,\"#8e0152\"],[0.1,\"#c51b7d\"],[0.2,\"#de77ae\"],[0.3,\"#f1b6da\"],[0.4,\"#fde0ef\"],[0.5,\"#f7f7f7\"],[0.6,\"#e6f5d0\"],[0.7,\"#b8e186\"],[0.8,\"#7fbc41\"],[0.9,\"#4d9221\"],[1,\"#276419\"]],\"sequential\":[[0.0,\"#0d0887\"],[0.1111111111111111,\"#46039f\"],[0.2222222222222222,\"#7201a8\"],[0.3333333333333333,\"#9c179e\"],[0.4444444444444444,\"#bd3786\"],[0.5555555555555556,\"#d8576b\"],[0.6666666666666666,\"#ed7953\"],[0.7777777777777778,\"#fb9f3a\"],[0.8888888888888888,\"#fdca26\"],[1.0,\"#f0f921\"]],\"sequentialminus\":[[0.0,\"#0d0887\"],[0.1111111111111111,\"#46039f\"],[0.2222222222222222,\"#7201a8\"],[0.3333333333333333,\"#9c179e\"],[0.4444444444444444,\"#bd3786\"],[0.5555555555555556,\"#d8576b\"],[0.6666666666666666,\"#ed7953\"],[0.7777777777777778,\"#fb9f3a\"],[0.8888888888888888,\"#fdca26\"],[1.0,\"#f0f921\"]]},\"colorway\":[\"#636efa\",\"#EF553B\",\"#00cc96\",\"#ab63fa\",\"#FFA15A\",\"#19d3f3\",\"#FF6692\",\"#B6E880\",\"#FF97FF\",\"#FECB52\"],\"font\":{\"color\":\"#2a3f5f\"},\"geo\":{\"bgcolor\":\"white\",\"lakecolor\":\"white\",\"landcolor\":\"#E5ECF6\",\"showlakes\":true,\"showland\":true,\"subunitcolor\":\"white\"},\"hoverlabel\":{\"align\":\"left\"},\"hovermode\":\"closest\",\"mapbox\":{\"style\":\"light\"},\"paper_bgcolor\":\"white\",\"plot_bgcolor\":\"#E5ECF6\",\"polar\":{\"angularaxis\":{\"gridcolor\":\"white\",\"linecolor\":\"white\",\"ticks\":\"\"},\"bgcolor\":\"#E5ECF6\",\"radialaxis\":{\"gridcolor\":\"white\",\"linecolor\":\"white\",\"ticks\":\"\"}},\"scene\":{\"xaxis\":{\"backgroundcolor\":\"#E5ECF6\",\"gridcolor\":\"white\",\"gridwidth\":2,\"linecolor\":\"white\",\"showbackground\":true,\"ticks\":\"\",\"zerolinecolor\":\"white\"},\"yaxis\":{\"backgroundcolor\":\"#E5ECF6\",\"gridcolor\":\"white\",\"gridwidth\":2,\"linecolor\":\"white\",\"showbackground\":true,\"ticks\":\"\",\"zerolinecolor\":\"white\"},\"zaxis\":{\"backgroundcolor\":\"#E5ECF6\",\"gridcolor\":\"white\",\"gridwidth\":2,\"linecolor\":\"white\",\"showbackground\":true,\"ticks\":\"\",\"zerolinecolor\":\"white\"}},\"shapedefaults\":{\"line\":{\"color\":\"#2a3f5f\"}},\"ternary\":{\"aaxis\":{\"gridcolor\":\"white\",\"linecolor\":\"white\",\"ticks\":\"\"},\"baxis\":{\"gridcolor\":\"white\",\"linecolor\":\"white\",\"ticks\":\"\"},\"bgcolor\":\"#E5ECF6\",\"caxis\":{\"gridcolor\":\"white\",\"linecolor\":\"white\",\"ticks\":\"\"}},\"title\":{\"x\":0.05},\"xaxis\":{\"automargin\":true,\"gridcolor\":\"white\",\"linecolor\":\"white\",\"ticks\":\"\",\"title\":{\"standoff\":15},\"zerolinecolor\":\"white\",\"zerolinewidth\":2},\"yaxis\":{\"automargin\":true,\"gridcolor\":\"white\",\"linecolor\":\"white\",\"ticks\":\"\",\"title\":{\"standoff\":15},\"zerolinecolor\":\"white\",\"zerolinewidth\":2}}},\"title\":{\"text\":\"Top 20 trigrams in the abstract\"}},                        {\"responsive\": true}                    ).then(function(){\n",
       "                            \n",
       "var gd = document.getElementById('100969fe-7984-4840-9d48-c4a0bd072b57');\n",
       "var x = new MutationObserver(function (mutations, observer) {{\n",
       "        var display = window.getComputedStyle(gd).display;\n",
       "        if (!display || display === 'none') {{\n",
       "            console.log([gd, 'removed!']);\n",
       "            Plotly.purge(gd);\n",
       "            observer.disconnect();\n",
       "        }}\n",
       "}});\n",
       "\n",
       "// Listen for the removal of the full notebook cells\n",
       "var notebookContainer = gd.closest('#notebook-container');\n",
       "if (notebookContainer) {{\n",
       "    x.observe(notebookContainer, {childList: true});\n",
       "}}\n",
       "\n",
       "// Listen for the clearing of the current output cell\n",
       "var outputEl = gd.closest('.output');\n",
       "if (outputEl) {{\n",
       "    x.observe(outputEl, {childList: true});\n",
       "}}\n",
       "\n",
       "                        })                };                });            </script>        </div>"
      ]
     },
     "metadata": {},
     "output_type": "display_data"
    }
   ],
   "source": [
    "\n",
    "\n",
    "common_words = get_top_n_grams(df['abstract'],(3,3), 20 )\n",
    "df4 = pd.DataFrame(common_words, columns = ['trigram' , 'count'])\n",
    "\n",
    "fig = go.Figure([go.Bar(x=df4['trigram'], y=df4['count'])])\n",
    "fig.update_layout(title=go.layout.Title(text=\"Top 20 trigrams in the abstract\"))\n",
    "fig.show()"
   ]
  },
  {
   "cell_type": "markdown",
   "id": "fa5a56dc",
   "metadata": {},
   "source": [
    "###  Vectorize the text data using the TfidfVectorizer."
   ]
  },
  {
   "cell_type": "code",
   "execution_count": 256,
   "id": "1bcfeeea",
   "metadata": {},
   "outputs": [],
   "source": [
    "df_tfidf=TfidfVect(df.abstract)"
   ]
  },
  {
   "cell_type": "markdown",
   "id": "2c4ab065",
   "metadata": {},
   "source": [
    "###  Vectorize the text data using CountVectorizer."
   ]
  },
  {
   "cell_type": "code",
   "execution_count": 46,
   "id": "8cc9012c",
   "metadata": {},
   "outputs": [],
   "source": [
    "df_cv=CountVect(df.abstract)"
   ]
  },
  {
   "cell_type": "markdown",
   "id": "878dce81",
   "metadata": {},
   "source": [
    "# Topic Modeling"
   ]
  },
  {
   "cell_type": "markdown",
   "id": "811e73a7",
   "metadata": {},
   "source": [
    "### NMF Topic Modeling "
   ]
  },
  {
   "cell_type": "code",
   "execution_count": 704,
   "id": "dc152057",
   "metadata": {},
   "outputs": [
    {
     "name": "stderr",
     "output_type": "stream",
     "text": [
      "/Users/workplace/opt/anaconda3/lib/python3.8/site-packages/sklearn/decomposition/_nmf.py:312: FutureWarning:\n",
      "\n",
      "The 'init' value, when 'init=None' and n_components is less than n_samples and n_features, will be changed from 'nndsvd' to 'nndsvda' in 1.1 (renaming of 0.26).\n",
      "\n",
      "/Users/workplace/opt/anaconda3/lib/python3.8/site-packages/sklearn/decomposition/_nmf.py:1090: ConvergenceWarning:\n",
      "\n",
      "Maximum number of iterations 200 reached. Increase it to improve convergence.\n",
      "\n"
     ]
    }
   ],
   "source": [
    "nmf_model = NMF(16,random_state=11)\n",
    "doc_topic1 = nmf_model.fit_transform(df_tfidf)"
   ]
  },
  {
   "cell_type": "code",
   "execution_count": 705,
   "id": "341701ed",
   "metadata": {},
   "outputs": [
    {
     "name": "stdout",
     "output_type": "stream",
     "text": [
      "\n",
      "Topic  0\n",
      "political, state, power, new, politics, process\n",
      "\n",
      "Topic  1\n",
      "health, mental, intervention, policy, public, service\n",
      "\n",
      "Topic  2\n",
      "covid, pandemic, lockdown, country, response, impact\n",
      "\n",
      "Topic  3\n",
      "woman, party, gender, labour, policy, men\n",
      "\n",
      "Topic  4\n",
      "police, crime, knife, policing, armed, officer\n",
      "\n",
      "Topic  5\n",
      "student, school, education, university, learning, teaching\n",
      "\n",
      "Topic  6\n",
      "patient, cancer, cell, treatment, disease, drug\n",
      "\n",
      "Topic  7\n",
      "child, parent, family, childrens, abuse, parental\n",
      "\n",
      "Topic  8\n",
      "food, safety, insecurity, income, security, country\n",
      "\n",
      "Topic  9\n",
      "age, factor, study, association, associated, level\n",
      "\n",
      "Topic  10\n",
      "care, people, service, work, community, disability\n",
      "\n",
      "Topic  11\n",
      "financial, sib, program, investment, well, economy\n",
      "\n",
      "Topic  12\n",
      "digital, activity, physical, platform, ci, online\n",
      "\n",
      "Topic  13\n",
      "migrant, surveillance, border, biopolitical, eu, right\n",
      "\n",
      "Topic  14\n",
      "sexual, drug, violence, gender, minority, sexuality\n",
      "\n",
      "Topic  15\n",
      "justice, climate, geographical, nepal, change, indigenous\n"
     ]
    }
   ],
   "source": [
    "display_topics(nmf_model, tfidf.get_feature_names(),6)"
   ]
  },
  {
   "cell_type": "code",
   "execution_count": 48,
   "id": "cb7a77b0",
   "metadata": {},
   "outputs": [
    {
     "name": "stderr",
     "output_type": "stream",
     "text": [
      "/Users/workplace/opt/anaconda3/lib/python3.8/site-packages/sklearn/decomposition/_nmf.py:312: FutureWarning:\n",
      "\n",
      "The 'init' value, when 'init=None' and n_components is less than n_samples and n_features, will be changed from 'nndsvd' to 'nndsvda' in 1.1 (renaming of 0.26).\n",
      "\n"
     ]
    }
   ],
   "source": [
    "nmf_model2 = NMF(12 ,random_state=11)\n",
    "doc_topic2 = nmf_model2.fit_transform(df_tfidf)"
   ]
  },
  {
   "cell_type": "code",
   "execution_count": 49,
   "id": "41daf07b",
   "metadata": {},
   "outputs": [
    {
     "name": "stdout",
     "output_type": "stream",
     "text": [
      "\n",
      "Topic  0\n",
      "political, state, new, power, policy, politics\n",
      "\n",
      "Topic  1\n",
      "sexual, drug, violence, gender, minority, health\n",
      "\n",
      "Topic  2\n",
      "covid, health, pandemic, mental, lockdown, country\n",
      "\n",
      "Topic  3\n",
      "woman, party, gender, labour, policy, men\n",
      "\n",
      "Topic  4\n",
      "justice, climate, geographical, nepal, indigenous, change\n",
      "\n",
      "Topic  5\n",
      "student, school, education, university, learning, digital\n",
      "\n",
      "Topic  6\n",
      "patient, age, study, factor, disease, ci\n",
      "\n",
      "Topic  7\n",
      "child, parent, family, childrens, abuse, parental\n",
      "\n",
      "Topic  8\n",
      "food, income, country, insecurity, safety, security\n",
      "\n",
      "Topic  9\n",
      "police, crime, knife, policing, armed, officer\n",
      "\n",
      "Topic  10\n",
      "care, people, service, community, disability, health\n",
      "\n",
      "Topic  11\n",
      "migrant, surveillance, border, biopolitical, right, eu\n"
     ]
    }
   ],
   "source": [
    "display_topics(nmf_model2, tfidf.get_feature_names(), 6)"
   ]
  },
  {
   "cell_type": "code",
   "execution_count": 261,
   "id": "ed4f965e",
   "metadata": {},
   "outputs": [],
   "source": [
    "nmf_model3 = NMF(10,random_state=11,solver='mu',shuffle =True)\n",
    "doc_topic3 = nmf_model3.fit_transform(df_tfidf)"
   ]
  },
  {
   "cell_type": "code",
   "execution_count": 264,
   "id": "d2b823f2",
   "metadata": {
    "scrolled": true
   },
   "outputs": [
    {
     "name": "stdout",
     "output_type": "stream",
     "text": [
      "\n",
      "Topic  0\n",
      "policy, political, community, practice, work, approach, new, process, people, state, study, local, context, development, care, economic, power, within, way, based\n",
      "\n",
      "Topic  1\n",
      "health, mental, intervention, psychological, study, covid, lockdown, distress, people, impact, service, outcome, care, sexual, participant, depression, symptom, family, physical, stress\n",
      "\n",
      "Topic  2\n",
      "covid, pandemic, financial, country, crisis, medium, response, news, lockdown, coronavirus, state, economy, inclusion, well, impact, china, global, public, system, political\n",
      "\n",
      "Topic  3\n",
      "woman, sexual, gender, party, violence, men, feminist, labour, experience, drug, likely, sexuality, strategy, gendered, partner, policy, voter, refugee, sex, older\n",
      "\n",
      "Topic  4\n",
      "police, justice, crime, knife, policing, climate, violence, criminal, law, armed, officer, medium, victim, nepal, community, routinely, procedural, offending, evidence, geographical\n",
      "\n",
      "Topic  5\n",
      "student, education, school, university, learning, online, disability, teaching, digital, experience, divide, girl, access, study, teacher, sex, information, work, class, project\n",
      "\n",
      "Topic  6\n",
      "age, patient, disease, rate, cell, study, ci, cancer, risk, year, result, prevalence, drug, factor, group, association, ui, driving, associated, low\n",
      "\n",
      "Topic  7\n",
      "child, parent, childrens, family, abuse, school, parental, design, mar, life, csam, home, childhood, disadvantaged, participation, material, conceived, disabled, outcome, poverty\n",
      "\n",
      "Topic  8\n",
      "food, income, safety, insecurity, poverty, country, security, rural, solidarity, low, nutritional, access, system, study, portugal, water, participant, hunger, well, information\n",
      "\n",
      "Topic  9\n",
      "migrant, surveillance, border, digital, biopolitical, activity, right, eu, physical, platform, technology, event, humanitarian, human, hotspot, labour, regime, medium, waiting, demonstrates\n"
     ]
    }
   ],
   "source": [
    "display_topics(nmf_model3, tfidf.get_feature_names(),20)"
   ]
  },
  {
   "cell_type": "code",
   "execution_count": 265,
   "id": "39ab8ff7",
   "metadata": {},
   "outputs": [],
   "source": [
    "nmf_model4 = NMF(9,random_state=11)\n",
    "doc_topic4 = nmf_model4.fit_transform(df_tfidf)"
   ]
  },
  {
   "cell_type": "code",
   "execution_count": 266,
   "id": "bf3221e5",
   "metadata": {},
   "outputs": [
    {
     "name": "stdout",
     "output_type": "stream",
     "text": [
      "\n",
      "Topic  0\n",
      "political, policy, state, new, economic, power, right, politics, local, process, practice, human, environmental, role, approach, national, climate, development, change, issue\n",
      "\n",
      "Topic  1\n",
      "sexual, drug, violence, gender, minority, health, sex, sexuality, identity, lgbtq, consumption, festival, experience, men, harm, people, orientation, practice, queer, older\n",
      "\n",
      "Topic  2\n",
      "covid, health, pandemic, mental, lockdown, country, financial, psychological, impact, distress, symptom, medium, stress, response, public, gi, crisis, level, online, population\n",
      "\n",
      "Topic  3\n",
      "woman, party, gender, labour, policy, migrant, feminist, men, strategy, voter, politics, birth, new, female, condom, gendered, refugee, experience, life, likely\n",
      "\n",
      "Topic  4\n",
      "police, crime, justice, knife, policing, criminal, violence, armed, officer, law, sib, medium, routinely, offending, safety, jurisdiction, victim, program, procedural, csam\n",
      "\n",
      "Topic  5\n",
      "student, school, education, university, learning, digital, online, teaching, divide, access, girl, experience, study, teacher, work, class, adolescent, information, disability, sex\n",
      "\n",
      "Topic  6\n",
      "patient, age, study, factor, disease, ci, risk, cancer, result, year, association, participant, rate, associated, low, using, method, level, population, cell\n",
      "\n",
      "Topic  7\n",
      "child, parent, family, food, childrens, abuse, parental, design, poverty, school, life, outcome, home, study, mar, childhood, disadvantaged, income, material, conceived\n",
      "\n",
      "Topic  8\n",
      "care, people, service, community, disability, health, work, aboriginal, support, family, young, professional, based, need, experience, practice, project, older, intervention, study\n"
     ]
    }
   ],
   "source": [
    "display_topics(nmf_model4, tfidf.get_feature_names(),20)"
   ]
  },
  {
   "cell_type": "markdown",
   "id": "97a59c71",
   "metadata": {},
   "source": [
    "## Save Best Result "
   ]
  },
  {
   "cell_type": "code",
   "execution_count": 267,
   "id": "54f23f3c",
   "metadata": {},
   "outputs": [],
   "source": [
    "pickle.dump(doc_topic4, open('doc_topic4.pkl', 'wb'))\n"
   ]
  },
  {
   "cell_type": "code",
   "execution_count": 33,
   "id": "bf016647",
   "metadata": {},
   "outputs": [],
   "source": [
    "file = open(\"doc_topic2.pkl\",'rb')\n",
    "doc_topic2= pickle.load(file)\n",
    "file.close()"
   ]
  },
  {
   "cell_type": "markdown",
   "id": "4ec582df",
   "metadata": {},
   "source": [
    "### LDA Topic Modeling "
   ]
  },
  {
   "cell_type": "markdown",
   "id": "aa2429ba",
   "metadata": {},
   "source": [
    "#### LDA Topic Modeling  CountVectorizer"
   ]
  },
  {
   "cell_type": "code",
   "execution_count": 281,
   "id": "c708ef32",
   "metadata": {},
   "outputs": [
    {
     "name": "stdout",
     "output_type": "stream",
     "text": [
      "\n",
      "Topic  0\n",
      "study, safety, child, outcome, age, result, year, approach, ci, based, factor, day, childhood, people, finding, development, model, mar, using, associated\n",
      "\n",
      "Topic  1\n",
      "age, study, group, may, activity, disease, crime, year, rate, different, covid, cell, prevalence, digital, change, result, platform, per, physical, risk\n",
      "\n",
      "Topic  2\n",
      "country, labour, worker, migrant, patient, stenosis, uk, result, party, mine, medium, study, egjoo, twin, practice, le, pair, age, europe, associated\n",
      "\n",
      "Topic  3\n",
      "health, study, covid, level, pandemic, country, method, mental, intervention, care, result, people, impact, well, using, student, factor, public, patient, read\n",
      "\n",
      "Topic  4\n",
      "political, state, new, woman, study, politics, approach, policy, national, law, development, police, violence, justice, international, within, conflict, issue, discourse, party\n",
      "\n",
      "Topic  5\n",
      "child, study, gender, relationship, family, practice, work, right, justice, human, people, climate, experience, care, participant, well, environmental, context, political, life\n",
      "\n",
      "Topic  6\n",
      "model, process, practice, study, new, method, risk, policy, border, experience, design, within, innovation, approach, first, people, power, reintegration, year, based\n",
      "\n",
      "Topic  7\n",
      "policy, australia, new, human, australian, community, year, based, de, system, level, practice, support, economic, model, participant, study, rate, sex, different\n",
      "\n",
      "Topic  8\n",
      "interest, police, role, process, community, ban, study, justice, crime, approach, sustainability, problem, finding, patient, theory, ffr, royalty, abstract, effective, whether\n",
      "\n",
      "Topic  9\n",
      "woman, sexual, people, disability, study, de, community, service, drug, method, finding, group, using, experience, dy, sexuality, la, technology, population, men\n"
     ]
    }
   ],
   "source": [
    "lda = LatentDirichletAllocation(n_components=10)\n",
    "lda.fit(df_cv)\n",
    "display_topics(lda, cv.get_feature_names(),20)"
   ]
  },
  {
   "cell_type": "markdown",
   "id": "1351b2b1",
   "metadata": {},
   "source": [
    "#### LDA Topic Modeling  TFIDF"
   ]
  },
  {
   "cell_type": "code",
   "execution_count": 258,
   "id": "b59562af",
   "metadata": {},
   "outputs": [
    {
     "name": "stdout",
     "output_type": "stream",
     "text": [
      "\n",
      "Topic  0\n",
      "cyber, mine, criminal, la, de, fraud, cluster, hypothesis, flint, compassion\n",
      "\n",
      "Topic  1\n",
      "feminist, inside, athlete, street, pt, presentation, humanitarian, gambling, football, ui\n",
      "\n",
      "Topic  2\n",
      "italian, bone, cybercrime, gdm, lma, municipality, epds, edge, university, cybersecurity\n",
      "\n",
      "Topic  3\n",
      "music, surveillance, ice, conceived, eating, advocacy, disabled, misoprostol, gang, hcws\n",
      "\n",
      "Topic  4\n",
      "biopolitical, diaspora, illness, indonesia, mass, sep, egjoo, fat, ethic, prep\n",
      "\n",
      "Topic  5\n",
      "university, platelet, bibliographical, peg, thesis, rhumgdf, xf, toronto, includes, placebo\n",
      "\n",
      "Topic  6\n",
      "justice, nepal, criminal, peacebuilding, slavery, hand, university, judicial, ignition, gbv\n",
      "\n",
      "Topic  7\n",
      "aboriginal, commerce, centrality, vaccination, sign, internet, football, ffr, homosexual, nrf\n",
      "\n",
      "Topic  8\n",
      "knife, csam, vehicle, stenosis, prisoner, og, ce³, planner, aristotle, craftsmanship\n",
      "\n",
      "Topic  9\n",
      "study, health, policy, people, woman, community, practice, covid, child, country\n",
      "\n",
      "Topic  10\n",
      "university, behavior, news, condom, water, diary, coercive, particle, internet, lgbtiq\n",
      "\n",
      "Topic  11\n",
      "energy, book, csr, industry, illness, renewable, justice, paper, complaint, asia\n",
      "\n",
      "Topic  12\n",
      "sib, dy, vaccination, genetic, indonesia, birth, tbx, mining, royalty, intensive\n"
     ]
    }
   ],
   "source": [
    "lda = LatentDirichletAllocation(n_components=13)\n",
    "lda.fit(df_tfidf)\n",
    "display_topics(lda, tfidf.get_feature_names(),10)"
   ]
  },
  {
   "cell_type": "markdown",
   "id": "345af17b",
   "metadata": {},
   "source": [
    "by reading the topics we got using both models, we can see that NMF performs better than LDA, the words in each topic are clearly related to each other and distuingshable from words in other topics."
   ]
  },
  {
   "cell_type": "code",
   "execution_count": 910,
   "id": "89dd5c82",
   "metadata": {},
   "outputs": [
    {
     "name": "stdout",
     "output_type": "stream",
     "text": [
      "<class 'pandas.core.frame.DataFrame'>\n",
      "Int64Index: 781 entries, 1 to 1220\n",
      "Data columns (total 15 columns):\n",
      " #   Column      Non-Null Count  Dtype  \n",
      "---  ------      --------------  -----  \n",
      " 0   title       781 non-null    object \n",
      " 1   authers     781 non-null    object \n",
      " 2   abstract    781 non-null    object \n",
      " 3   type        781 non-null    object \n",
      " 4   date_pub    560 non-null    float64\n",
      " 5   journal     545 non-null    object \n",
      " 6   date_added  498 non-null    object \n",
      " 7   figuers     781 non-null    int64  \n",
      " 8   full_text   781 non-null    object \n",
      " 9   citation    781 non-null    int64  \n",
      " 10  interest    724 non-null    float64\n",
      " 11  reads       781 non-null    int64  \n",
      " 12  detect      781 non-null    object \n",
      " 13  topic_dist  781 non-null    object \n",
      " 14  main_topic  781 non-null    int64  \n",
      "dtypes: float64(2), int64(4), object(9)\n",
      "memory usage: 113.8+ KB\n"
     ]
    }
   ],
   "source": [
    "df.info()"
   ]
  },
  {
   "cell_type": "code",
   "execution_count": 421,
   "id": "1ca62685",
   "metadata": {},
   "outputs": [],
   "source": [
    "def display_wordcloud(df, title, n_components):\n",
    "    plt.figure()\n",
    "    j = np.ceil(n_components/4)\n",
    "    for i in range(n_components):\n",
    "        plt.subplot(j, 4, i+1).set_title(\"Topic #\" + str(i))\n",
    "        plt.plot()\n",
    "        plt.imshow(WordCloud(\n",
    "                          background_color='white',\n",
    "                          stopwords=stopwords,\n",
    "                          max_words=9,\n",
    "                          max_font_size=40, \n",
    "                          random_state=42\n",
    "                         ).generate(str(df.iloc[i])))\n",
    "        i=i+1\n",
    "        plt.axis(\"off\")\n",
    "        \n",
    "    fig.suptitle(title)\n",
    "    plt.show()"
   ]
  },
  {
   "cell_type": "code",
   "execution_count": null,
   "id": "5ecdd666",
   "metadata": {},
   "outputs": [],
   "source": [
    "display_wordcloud(df_cx,'Topics Word Cloud', 12)\n",
    "\n"
   ]
  },
  {
   "cell_type": "markdown",
   "id": "330553d2",
   "metadata": {},
   "source": [
    "# CorEx Topic Modeling"
   ]
  },
  {
   "cell_type": "code",
   "execution_count": 35,
   "id": "816b6da4",
   "metadata": {},
   "outputs": [],
   "source": [
    "vectorizer2 = CountVectorizer(max_features=20000,binary=True) \n",
    "doc_word = vectorizer2.fit_transform(df.abstract)\n",
    "words = list(np.asarray(vectorizer2.get_feature_names()))\n"
   ]
  },
  {
   "cell_type": "code",
   "execution_count": 36,
   "id": "851461cf",
   "metadata": {},
   "outputs": [],
   "source": [
    "topic_model = ct.Corex(n_hidden=12, words=words, seed=1)\n",
    "doc_topic5 = topic_model.fit_transform(doc_word,anchors=[['political','politics','state','surveillance','biopolitical','migrant','indigenous']\n",
    "                                  , ['covid','pandemic','coronavirus','lockdown']\n",
    "                                  ,['student','academic','school', 'education', 'university', 'learning']\n",
    "                                 ,['care', 'people', 'service', 'community','training']\n",
    "                                 ,['mental','psychological','depression','stress','burnout','emotion']                       \n",
    "                                 ,['crime','police','rape','exploited','knife','armed', 'officer', 'violence']\n",
    "                                 ,['child','sexually', 'abuse', 'family', 'childrens' ]\n",
    "                                 ,['sexual','sex', 'sexuality']\n",
    "                                 ,['financial','security', 'income', 'country','poverty','economy','investment']\n",
    "                                 ,['climate','environment','sustainability']\n",
    "                                 ,['woman', 'gender','feminist']\n",
    "                                 ,['patient','medicine','chronic','health','pain', 'age','disease','cancer','physical','treat','drug']],anchor_strength=7, words=words, docs=df.abstract)"
   ]
  },
  {
   "cell_type": "code",
   "execution_count": 37,
   "id": "b5425e53",
   "metadata": {},
   "outputs": [
    {
     "data": {
      "text/plain": [
       "array([1.00000000e-06, 1.00000000e-06, 1.55170516e-05, 9.99999000e-01,\n",
       "       9.99999000e-01, 4.05705183e-06, 1.00000000e-06, 1.00000000e-06,\n",
       "       1.00000000e-06, 1.00000000e-06, 1.00000000e-06, 9.99999000e-01])"
      ]
     },
     "execution_count": 37,
     "metadata": {},
     "output_type": "execute_result"
    }
   ],
   "source": [
    "topic_model.p_y_given_x[1]"
   ]
  },
  {
   "cell_type": "code",
   "execution_count": 373,
   "id": "02b55b5e",
   "metadata": {},
   "outputs": [
    {
     "name": "stdout",
     "output_type": "stream",
     "text": [
      "0: political,state,politics,migrant,surveillance,power,regime,biopolitical,right,united\n",
      "1: covid,pandemic,lockdown,coronavirus,online,virus,syndrome,protective,cov,sars\n",
      "2: education,student,university,school,learning,academic,educational,teaching,undergraduate,formal\n",
      "3: people,community,service,care,training,support,young,professional,access,qualitative\n",
      "4: mental,psychological,stress,depression,emotion,burnout,distress,sd,recruited,anxiety\n",
      "5: violence,crime,police,officer,armed,rape,knife,criminal,policing,exploited\n",
      "6: child,family,abuse,childrens,parent,sexually,childhood,birth,friend,parental\n",
      "7: sexual,sex,sexuality,queer,survivor,marriage,lgbtq,festival,removal,al\n",
      "8: country,income,security,economy,financial,poverty,investment,market,economic,decade\n",
      "9: environment,climate,sustainability,environmental,ecological,critique,city,field,issue,sustainable\n",
      "10: woman,gender,feminist,men,gendered,bisexual,identify,percent,experience,transgender\n",
      "11: health,patient,disease,age,drug,cancer,chronic,physical,pain,result\n"
     ]
    }
   ],
   "source": [
    "topics = topic_model.get_topics()\n",
    "df_cx=pd.DataFrame()\n",
    "\n",
    "for n,topic in enumerate(topics):\n",
    "    topic_words,_,_ = zip(*topic)\n",
    "    print('{}: '.format(n) + ','.join(topic_words))\n",
    "    temp=pd.DataFrame({topic_words})\n",
    "    df_cx=df_cx.append(temp)"
   ]
  },
  {
   "cell_type": "code",
   "execution_count": 374,
   "id": "3b4a25d0",
   "metadata": {},
   "outputs": [],
   "source": [
    "df_cx.reset_index(inplace=True)\n",
    "\n",
    "df_cx.drop('index',axis=1,inplace=True)"
   ]
  },
  {
   "cell_type": "code",
   "execution_count": 382,
   "id": "6fd939ac",
   "metadata": {},
   "outputs": [
    {
     "data": {
      "text/html": [
       "<div>\n",
       "<style scoped>\n",
       "    .dataframe tbody tr th:only-of-type {\n",
       "        vertical-align: middle;\n",
       "    }\n",
       "\n",
       "    .dataframe tbody tr th {\n",
       "        vertical-align: top;\n",
       "    }\n",
       "\n",
       "    .dataframe thead th {\n",
       "        text-align: right;\n",
       "    }\n",
       "</style>\n",
       "<table border=\"1\" class=\"dataframe\">\n",
       "  <thead>\n",
       "    <tr style=\"text-align: right;\">\n",
       "      <th></th>\n",
       "      <th>0</th>\n",
       "      <th>1</th>\n",
       "      <th>2</th>\n",
       "      <th>3</th>\n",
       "      <th>4</th>\n",
       "      <th>5</th>\n",
       "      <th>6</th>\n",
       "      <th>7</th>\n",
       "      <th>8</th>\n",
       "      <th>9</th>\n",
       "    </tr>\n",
       "  </thead>\n",
       "  <tbody>\n",
       "    <tr>\n",
       "      <th>0</th>\n",
       "      <td>political</td>\n",
       "      <td>state</td>\n",
       "      <td>politics</td>\n",
       "      <td>migrant</td>\n",
       "      <td>surveillance</td>\n",
       "      <td>power</td>\n",
       "      <td>regime</td>\n",
       "      <td>biopolitical</td>\n",
       "      <td>right</td>\n",
       "      <td>united</td>\n",
       "    </tr>\n",
       "    <tr>\n",
       "      <th>1</th>\n",
       "      <td>covid</td>\n",
       "      <td>pandemic</td>\n",
       "      <td>lockdown</td>\n",
       "      <td>coronavirus</td>\n",
       "      <td>online</td>\n",
       "      <td>virus</td>\n",
       "      <td>syndrome</td>\n",
       "      <td>protective</td>\n",
       "      <td>cov</td>\n",
       "      <td>sars</td>\n",
       "    </tr>\n",
       "    <tr>\n",
       "      <th>2</th>\n",
       "      <td>education</td>\n",
       "      <td>student</td>\n",
       "      <td>university</td>\n",
       "      <td>school</td>\n",
       "      <td>learning</td>\n",
       "      <td>academic</td>\n",
       "      <td>educational</td>\n",
       "      <td>teaching</td>\n",
       "      <td>undergraduate</td>\n",
       "      <td>formal</td>\n",
       "    </tr>\n",
       "    <tr>\n",
       "      <th>3</th>\n",
       "      <td>people</td>\n",
       "      <td>community</td>\n",
       "      <td>service</td>\n",
       "      <td>care</td>\n",
       "      <td>training</td>\n",
       "      <td>support</td>\n",
       "      <td>young</td>\n",
       "      <td>professional</td>\n",
       "      <td>access</td>\n",
       "      <td>qualitative</td>\n",
       "    </tr>\n",
       "    <tr>\n",
       "      <th>4</th>\n",
       "      <td>mental</td>\n",
       "      <td>psychological</td>\n",
       "      <td>stress</td>\n",
       "      <td>depression</td>\n",
       "      <td>emotion</td>\n",
       "      <td>burnout</td>\n",
       "      <td>distress</td>\n",
       "      <td>sd</td>\n",
       "      <td>recruited</td>\n",
       "      <td>anxiety</td>\n",
       "    </tr>\n",
       "    <tr>\n",
       "      <th>5</th>\n",
       "      <td>violence</td>\n",
       "      <td>crime</td>\n",
       "      <td>police</td>\n",
       "      <td>officer</td>\n",
       "      <td>armed</td>\n",
       "      <td>rape</td>\n",
       "      <td>knife</td>\n",
       "      <td>criminal</td>\n",
       "      <td>policing</td>\n",
       "      <td>exploited</td>\n",
       "    </tr>\n",
       "    <tr>\n",
       "      <th>6</th>\n",
       "      <td>child</td>\n",
       "      <td>family</td>\n",
       "      <td>abuse</td>\n",
       "      <td>childrens</td>\n",
       "      <td>parent</td>\n",
       "      <td>sexually</td>\n",
       "      <td>childhood</td>\n",
       "      <td>birth</td>\n",
       "      <td>friend</td>\n",
       "      <td>parental</td>\n",
       "    </tr>\n",
       "    <tr>\n",
       "      <th>7</th>\n",
       "      <td>sexual</td>\n",
       "      <td>sex</td>\n",
       "      <td>sexuality</td>\n",
       "      <td>queer</td>\n",
       "      <td>survivor</td>\n",
       "      <td>marriage</td>\n",
       "      <td>lgbtq</td>\n",
       "      <td>festival</td>\n",
       "      <td>removal</td>\n",
       "      <td>al</td>\n",
       "    </tr>\n",
       "    <tr>\n",
       "      <th>8</th>\n",
       "      <td>country</td>\n",
       "      <td>income</td>\n",
       "      <td>security</td>\n",
       "      <td>economy</td>\n",
       "      <td>financial</td>\n",
       "      <td>poverty</td>\n",
       "      <td>investment</td>\n",
       "      <td>market</td>\n",
       "      <td>economic</td>\n",
       "      <td>decade</td>\n",
       "    </tr>\n",
       "    <tr>\n",
       "      <th>9</th>\n",
       "      <td>environment</td>\n",
       "      <td>climate</td>\n",
       "      <td>sustainability</td>\n",
       "      <td>environmental</td>\n",
       "      <td>ecological</td>\n",
       "      <td>critique</td>\n",
       "      <td>city</td>\n",
       "      <td>field</td>\n",
       "      <td>issue</td>\n",
       "      <td>sustainable</td>\n",
       "    </tr>\n",
       "    <tr>\n",
       "      <th>10</th>\n",
       "      <td>woman</td>\n",
       "      <td>gender</td>\n",
       "      <td>feminist</td>\n",
       "      <td>men</td>\n",
       "      <td>gendered</td>\n",
       "      <td>bisexual</td>\n",
       "      <td>identify</td>\n",
       "      <td>percent</td>\n",
       "      <td>experience</td>\n",
       "      <td>transgender</td>\n",
       "    </tr>\n",
       "    <tr>\n",
       "      <th>11</th>\n",
       "      <td>health</td>\n",
       "      <td>patient</td>\n",
       "      <td>disease</td>\n",
       "      <td>age</td>\n",
       "      <td>drug</td>\n",
       "      <td>cancer</td>\n",
       "      <td>chronic</td>\n",
       "      <td>physical</td>\n",
       "      <td>pain</td>\n",
       "      <td>result</td>\n",
       "    </tr>\n",
       "  </tbody>\n",
       "</table>\n",
       "</div>"
      ],
      "text/plain": [
       "              0              1               2              3             4  \\\n",
       "0     political          state        politics        migrant  surveillance   \n",
       "1         covid       pandemic        lockdown    coronavirus        online   \n",
       "2     education        student      university         school      learning   \n",
       "3        people      community         service           care      training   \n",
       "4        mental  psychological          stress     depression       emotion   \n",
       "5      violence          crime          police        officer         armed   \n",
       "6         child         family           abuse      childrens        parent   \n",
       "7        sexual            sex       sexuality          queer      survivor   \n",
       "8       country         income        security        economy     financial   \n",
       "9   environment        climate  sustainability  environmental    ecological   \n",
       "10        woman         gender        feminist            men      gendered   \n",
       "11       health        patient         disease            age          drug   \n",
       "\n",
       "           5            6             7              8            9  \n",
       "0      power       regime  biopolitical          right       united  \n",
       "1      virus     syndrome    protective            cov         sars  \n",
       "2   academic  educational      teaching  undergraduate       formal  \n",
       "3    support        young  professional         access  qualitative  \n",
       "4    burnout     distress            sd      recruited      anxiety  \n",
       "5       rape        knife      criminal       policing    exploited  \n",
       "6   sexually    childhood         birth         friend     parental  \n",
       "7   marriage        lgbtq      festival        removal           al  \n",
       "8    poverty   investment        market       economic       decade  \n",
       "9   critique         city         field          issue  sustainable  \n",
       "10  bisexual     identify       percent     experience  transgender  \n",
       "11    cancer      chronic      physical           pain       result  "
      ]
     },
     "execution_count": 382,
     "metadata": {},
     "output_type": "execute_result"
    }
   ],
   "source": [
    "df_cx"
   ]
  },
  {
   "cell_type": "code",
   "execution_count": 420,
   "id": "0413ef2a",
   "metadata": {},
   "outputs": [
    {
     "data": {
      "image/png": "[encoded data removed]",
      "text/plain": [
       "<Figure size 864x864 with 12 Axes>"
      ]
     },
     "metadata": {
      "needs_background": "light"
     },
     "output_type": "display_data"
    }
   ],
   "source": [
    "display_wordcloud(df_cx,'Topics Word Cloud', 12)\n"
   ]
  },
  {
   "cell_type": "markdown",
   "id": "5ca86ee2",
   "metadata": {},
   "source": [
    "# Assign  topics to rows"
   ]
  },
  {
   "cell_type": "code",
   "execution_count": 42,
   "id": "0b458398",
   "metadata": {},
   "outputs": [
    {
     "data": {
      "text/plain": [
       "(1185, 13)"
      ]
     },
     "execution_count": 42,
     "metadata": {},
     "output_type": "execute_result"
    }
   ],
   "source": [
    "df.shape"
   ]
  },
  {
   "cell_type": "code",
   "execution_count": 51,
   "id": "f5c4b76c",
   "metadata": {},
   "outputs": [],
   "source": [
    "df['topic_dist'] = [i for i in doc_topic2]\n",
    "df['main_topic'] = df.apply(lambda row: row['topic_dist'].tolist().index(max(row['topic_dist'])), axis=1)"
   ]
  },
  {
   "cell_type": "code",
   "execution_count": 268,
   "id": "fbe08bf8",
   "metadata": {},
   "outputs": [],
   "source": [
    "df['topic_dist2'] = [i for i in doc_topic4]\n",
    "df['main_topic2'] = df.apply(lambda row: row['topic_dist2'].tolist().index(max(row['topic_dist2'])), axis=1)"
   ]
  },
  {
   "cell_type": "code",
   "execution_count": 62,
   "id": "47ad6e07",
   "metadata": {},
   "outputs": [],
   "source": [
    "df['topic_dist_cx'] = [i for i in topic_model.p_y_given_x]\n",
    "df['main_topic_cx'] = df.apply(lambda row: row['topic_dist_cx'].tolist().index(max(row['topic_dist_cx'])), axis=1)"
   ]
  },
  {
   "cell_type": "code",
   "execution_count": 269,
   "id": "4aa8e594",
   "metadata": {},
   "outputs": [
    {
     "data": {
      "text/html": [
       "<div>\n",
       "<style scoped>\n",
       "    .dataframe tbody tr th:only-of-type {\n",
       "        vertical-align: middle;\n",
       "    }\n",
       "\n",
       "    .dataframe tbody tr th {\n",
       "        vertical-align: top;\n",
       "    }\n",
       "\n",
       "    .dataframe thead th {\n",
       "        text-align: right;\n",
       "    }\n",
       "</style>\n",
       "<table border=\"1\" class=\"dataframe\">\n",
       "  <thead>\n",
       "    <tr style=\"text-align: right;\">\n",
       "      <th></th>\n",
       "      <th>title</th>\n",
       "      <th>authers</th>\n",
       "      <th>abstract</th>\n",
       "      <th>type</th>\n",
       "      <th>date_pub</th>\n",
       "      <th>journal</th>\n",
       "      <th>date_added</th>\n",
       "      <th>figuers</th>\n",
       "      <th>full_text</th>\n",
       "      <th>citation</th>\n",
       "      <th>interest</th>\n",
       "      <th>reads</th>\n",
       "      <th>or_abt</th>\n",
       "      <th>topic_dist</th>\n",
       "      <th>main_topic</th>\n",
       "      <th>topic_dist_cx</th>\n",
       "      <th>main_topic_cx</th>\n",
       "      <th>topic_dist2</th>\n",
       "      <th>main_topic2</th>\n",
       "    </tr>\n",
       "  </thead>\n",
       "  <tbody>\n",
       "    <tr>\n",
       "      <th>1</th>\n",
       "      <td>Myths about Myths? A Commentary on Thomas (202...</td>\n",
       "      <td>['Ellen Daly', 'Olivia Smith', 'Hannah Bows[.....</td>\n",
       "      <td>commentary responds claim cheryl thomas show p...</td>\n",
       "      <td>Article</td>\n",
       "      <td>2021.0</td>\n",
       "      <td>Journal of Gender-Based Violence</td>\n",
       "      <td>6d ago</td>\n",
       "      <td>1</td>\n",
       "      <td>\\nDownload</td>\n",
       "      <td>0</td>\n",
       "      <td>1.0</td>\n",
       "      <td>32</td>\n",
       "      <td>This commentary responds to claims that resear...</td>\n",
       "      <td>[0.01677185821655876, 0.010384473306029299, 1....</td>\n",
       "      <td>politics</td>\n",
       "      <td>[1e-06, 1e-06, 1e-06, 1e-06, 1e-06, 0.999999, ...</td>\n",
       "      <td>criminology</td>\n",
       "      <td>[0.018421718658978733, 0.011069431738077928, 0...</td>\n",
       "      <td>0</td>\n",
       "    </tr>\n",
       "    <tr>\n",
       "      <th>4</th>\n",
       "      <td>A direct observation of pain scale use in five...</td>\n",
       "      <td>['Laura Jenkins', 'Ruth H Parry', 'Christina F...</td>\n",
       "      <td>assessing pain intensity important palliative ...</td>\n",
       "      <td>Article</td>\n",
       "      <td>2021.0</td>\n",
       "      <td>Patient Education and Counseling</td>\n",
       "      <td>Oct 28</td>\n",
       "      <td>0</td>\n",
       "      <td>\\nRequest full-text</td>\n",
       "      <td>0</td>\n",
       "      <td>0.0</td>\n",
       "      <td>9</td>\n",
       "      <td>Objective Assessing pain intensity is an impor...</td>\n",
       "      <td>[0.0, 0.0, 0.0, 0.0, 0.020710575971157386, 0.0...</td>\n",
       "      <td>community_service</td>\n",
       "      <td>[1e-06, 1e-06, 1.5517051613327514e-05, 0.99999...</td>\n",
       "      <td>community_service</td>\n",
       "      <td>[0.0, 0.0, 0.0, 0.0, 0.0, 0.0, 0.0767757957118...</td>\n",
       "      <td>8</td>\n",
       "    </tr>\n",
       "    <tr>\n",
       "      <th>5</th>\n",
       "      <td>The Cold Truth: Art as Fulcrum for Recovery in...</td>\n",
       "      <td>['Eloise Malone']</td>\n",
       "      <td>describes art curating sexually exploited youn...</td>\n",
       "      <td>Article</td>\n",
       "      <td>2017.0</td>\n",
       "      <td>Journal of Social Work Practice</td>\n",
       "      <td>Oct 25</td>\n",
       "      <td>0</td>\n",
       "      <td>\\nDownload</td>\n",
       "      <td>1</td>\n",
       "      <td>0.0</td>\n",
       "      <td>22</td>\n",
       "      <td>This article describes art curating with sexua...</td>\n",
       "      <td>[0.010833006934524003, 0.0, 0.0, 0.0, 0.002248...</td>\n",
       "      <td>community_service</td>\n",
       "      <td>[1e-06, 1e-06, 1e-06, 0.999999, 1e-06, 0.99999...</td>\n",
       "      <td>community_service</td>\n",
       "      <td>[0.00831823344595343, 0.0, 0.0, 0.0, 0.0027316...</td>\n",
       "      <td>8</td>\n",
       "    </tr>\n",
       "    <tr>\n",
       "      <th>7</th>\n",
       "      <td>Dispositional Mindfulness Reduces Burnout and ...</td>\n",
       "      <td>['Denisse Zúñiga', 'Manuel Torres-Sahli', 'Att...</td>\n",
       "      <td>objective many study document high prevalence ...</td>\n",
       "      <td>Article</td>\n",
       "      <td>2021.0</td>\n",
       "      <td>Mindfulness</td>\n",
       "      <td>Oct 21</td>\n",
       "      <td>1</td>\n",
       "      <td>\\nDownload</td>\n",
       "      <td>0</td>\n",
       "      <td>2.0</td>\n",
       "      <td>40</td>\n",
       "      <td>Objectives Many studies document the high prev...</td>\n",
       "      <td>[0.0, 0.0, 0.051700673281299715, 0.0, 0.0, 0.1...</td>\n",
       "      <td>education</td>\n",
       "      <td>[0.999999, 0.999999, 0.999999, 0.999999, 0.999...</td>\n",
       "      <td>politics</td>\n",
       "      <td>[0.0, 0.0, 0.05381117162792575, 0.0, 0.0011979...</td>\n",
       "      <td>5</td>\n",
       "    </tr>\n",
       "    <tr>\n",
       "      <th>10</th>\n",
       "      <td>Realtalk Evidence-Based Communication Training...</td>\n",
       "      <td>['Ruth H Parry', 'Becky Whittaker', 'Marco Pin...</td>\n",
       "      <td>background communication skill training profes...</td>\n",
       "      <td>Preprint</td>\n",
       "      <td>2021.0</td>\n",
       "      <td>NaN</td>\n",
       "      <td>Oct 14</td>\n",
       "      <td>1</td>\n",
       "      <td>\\nDownload</td>\n",
       "      <td>0</td>\n",
       "      <td>2.0</td>\n",
       "      <td>43</td>\n",
       "      <td>BACKGROUND Communication skills training for p...</td>\n",
       "      <td>[0.0, 0.0, 0.0, 0.0, 0.0018867439134512228, 0....</td>\n",
       "      <td>community_service</td>\n",
       "      <td>[1e-06, 1e-06, 0.999999, 0.999999, 1e-06, 1e-0...</td>\n",
       "      <td>education</td>\n",
       "      <td>[0.0, 0.0, 0.0, 0.0, 0.022442236610402157, 0.0...</td>\n",
       "      <td>8</td>\n",
       "    </tr>\n",
       "  </tbody>\n",
       "</table>\n",
       "</div>"
      ],
      "text/plain": [
       "                                                title  \\\n",
       "1   Myths about Myths? A Commentary on Thomas (202...   \n",
       "4   A direct observation of pain scale use in five...   \n",
       "5   The Cold Truth: Art as Fulcrum for Recovery in...   \n",
       "7   Dispositional Mindfulness Reduces Burnout and ...   \n",
       "10  Realtalk Evidence-Based Communication Training...   \n",
       "\n",
       "                                              authers  \\\n",
       "1   ['Ellen Daly', 'Olivia Smith', 'Hannah Bows[.....   \n",
       "4   ['Laura Jenkins', 'Ruth H Parry', 'Christina F...   \n",
       "5                                   ['Eloise Malone']   \n",
       "7   ['Denisse Zúñiga', 'Manuel Torres-Sahli', 'Att...   \n",
       "10  ['Ruth H Parry', 'Becky Whittaker', 'Marco Pin...   \n",
       "\n",
       "                                             abstract      type  date_pub  \\\n",
       "1   commentary responds claim cheryl thomas show p...   Article    2021.0   \n",
       "4   assessing pain intensity important palliative ...   Article    2021.0   \n",
       "5   describes art curating sexually exploited youn...   Article    2017.0   \n",
       "7   objective many study document high prevalence ...   Article    2021.0   \n",
       "10  background communication skill training profes...  Preprint    2021.0   \n",
       "\n",
       "                              journal date_added  figuers  \\\n",
       "1    Journal of Gender-Based Violence     6d ago        1   \n",
       "4    Patient Education and Counseling     Oct 28        0   \n",
       "5     Journal of Social Work Practice     Oct 25        0   \n",
       "7                         Mindfulness     Oct 21        1   \n",
       "10                                NaN     Oct 14        1   \n",
       "\n",
       "              full_text  citation  interest  reads  \\\n",
       "1            \\nDownload         0       1.0     32   \n",
       "4   \\nRequest full-text         0       0.0      9   \n",
       "5            \\nDownload         1       0.0     22   \n",
       "7            \\nDownload         0       2.0     40   \n",
       "10           \\nDownload         0       2.0     43   \n",
       "\n",
       "                                               or_abt  \\\n",
       "1   This commentary responds to claims that resear...   \n",
       "4   Objective Assessing pain intensity is an impor...   \n",
       "5   This article describes art curating with sexua...   \n",
       "7   Objectives Many studies document the high prev...   \n",
       "10  BACKGROUND Communication skills training for p...   \n",
       "\n",
       "                                           topic_dist         main_topic  \\\n",
       "1   [0.01677185821655876, 0.010384473306029299, 1....           politics   \n",
       "4   [0.0, 0.0, 0.0, 0.0, 0.020710575971157386, 0.0...  community_service   \n",
       "5   [0.010833006934524003, 0.0, 0.0, 0.0, 0.002248...  community_service   \n",
       "7   [0.0, 0.0, 0.051700673281299715, 0.0, 0.0, 0.1...          education   \n",
       "10  [0.0, 0.0, 0.0, 0.0, 0.0018867439134512228, 0....  community_service   \n",
       "\n",
       "                                        topic_dist_cx      main_topic_cx  \\\n",
       "1   [1e-06, 1e-06, 1e-06, 1e-06, 1e-06, 0.999999, ...        criminology   \n",
       "4   [1e-06, 1e-06, 1.5517051613327514e-05, 0.99999...  community_service   \n",
       "5   [1e-06, 1e-06, 1e-06, 0.999999, 1e-06, 0.99999...  community_service   \n",
       "7   [0.999999, 0.999999, 0.999999, 0.999999, 0.999...           politics   \n",
       "10  [1e-06, 1e-06, 0.999999, 0.999999, 1e-06, 1e-0...          education   \n",
       "\n",
       "                                          topic_dist2  main_topic2  \n",
       "1   [0.018421718658978733, 0.011069431738077928, 0...            0  \n",
       "4   [0.0, 0.0, 0.0, 0.0, 0.0, 0.0, 0.0767757957118...            8  \n",
       "5   [0.00831823344595343, 0.0, 0.0, 0.0, 0.0027316...            8  \n",
       "7   [0.0, 0.0, 0.05381117162792575, 0.0, 0.0011979...            5  \n",
       "10  [0.0, 0.0, 0.0, 0.0, 0.022442236610402157, 0.0...            8  "
      ]
     },
     "execution_count": 269,
     "metadata": {},
     "output_type": "execute_result"
    }
   ],
   "source": [
    "df.head(5)"
   ]
  },
  {
   "cell_type": "code",
   "execution_count": 271,
   "id": "7793da99",
   "metadata": {},
   "outputs": [],
   "source": [
    "df['main_topic'].replace({0:'politics',1:'sexuality',2:'covid',3:'women',4:'politics',5:'education',6:'health_medicine',7:'child_family',8:'economy',9:'criminology',10:'community_service',11:'politics'}, inplace=True)\n",
    "df['main_topic_cx'].replace({0:'politics',1:'covid',2:'education',3:'community_service',4:'mental_health',5:'criminology',6:'child_family',7:'sexuality',8:'economy',9:'environment',10:'women',11:'health_medicine'}, inplace=True)\n",
    "df['main_topic2'].replace({0:'politics_and_economics',1:'sexuality',2:'covid',3:'women',4:'criminology',5:'education',6:'health_medicine',7:'child_family',8:'community_service'}, inplace=True)\n",
    "\n"
   ]
  },
  {
   "cell_type": "code",
   "execution_count": 272,
   "id": "a62d54dc",
   "metadata": {},
   "outputs": [
    {
     "data": {
      "text/html": [
       "<div>\n",
       "<style scoped>\n",
       "    .dataframe tbody tr th:only-of-type {\n",
       "        vertical-align: middle;\n",
       "    }\n",
       "\n",
       "    .dataframe tbody tr th {\n",
       "        vertical-align: top;\n",
       "    }\n",
       "\n",
       "    .dataframe thead th {\n",
       "        text-align: right;\n",
       "    }\n",
       "</style>\n",
       "<table border=\"1\" class=\"dataframe\">\n",
       "  <thead>\n",
       "    <tr style=\"text-align: right;\">\n",
       "      <th></th>\n",
       "      <th>title</th>\n",
       "      <th>authers</th>\n",
       "      <th>abstract</th>\n",
       "      <th>type</th>\n",
       "      <th>date_pub</th>\n",
       "      <th>journal</th>\n",
       "      <th>date_added</th>\n",
       "      <th>figuers</th>\n",
       "      <th>full_text</th>\n",
       "      <th>citation</th>\n",
       "      <th>interest</th>\n",
       "      <th>reads</th>\n",
       "      <th>or_abt</th>\n",
       "      <th>topic_dist</th>\n",
       "      <th>main_topic</th>\n",
       "      <th>topic_dist_cx</th>\n",
       "      <th>main_topic_cx</th>\n",
       "      <th>topic_dist2</th>\n",
       "      <th>main_topic2</th>\n",
       "    </tr>\n",
       "  </thead>\n",
       "  <tbody>\n",
       "    <tr>\n",
       "      <th>855</th>\n",
       "      <td>A scoping review of Chinese families caring fo...</td>\n",
       "      <td>['Abner Weng Cheong Poon', 'Alyssa Cassidy']</td>\n",
       "      <td>family may experience negative impact caring r...</td>\n",
       "      <td>Article</td>\n",
       "      <td>1.0</td>\n",
       "      <td>Journal of Ethnic &amp; Cultural Diversity in Soc...</td>\n",
       "      <td>NaN</td>\n",
       "      <td>0</td>\n",
       "      <td>\\nRequest full-text</td>\n",
       "      <td>1</td>\n",
       "      <td>0.0</td>\n",
       "      <td>7</td>\n",
       "      <td>Families may experience the negative impact of...</td>\n",
       "      <td>[0.0, 0.0, 0.022769506599983006, 0.00529821316...</td>\n",
       "      <td>community_service</td>\n",
       "      <td>[1e-06, 1e-06, 1e-06, 0.999999, 0.999999, 1e-0...</td>\n",
       "      <td>community_service</td>\n",
       "      <td>[0.0, 0.0, 0.024911090178535083, 0.00711931075...</td>\n",
       "      <td>community_service</td>\n",
       "    </tr>\n",
       "    <tr>\n",
       "      <th>1223</th>\n",
       "      <td>COVID-19 Scientific Facts vs. Conspiracy Theor...</td>\n",
       "      <td>['Marios Constantinou', 'Antonios Kagialis', '...</td>\n",
       "      <td>science may failing convince significant numbe...</td>\n",
       "      <td>Article</td>\n",
       "      <td>1.0</td>\n",
       "      <td>International Journal of Environmental Resear...</td>\n",
       "      <td>Jun 14</td>\n",
       "      <td>1</td>\n",
       "      <td>\\nDownload</td>\n",
       "      <td>2</td>\n",
       "      <td>4.9</td>\n",
       "      <td>70</td>\n",
       "      <td>Science may be failing to convince a significa...</td>\n",
       "      <td>[0.005811074337215026, 0.0011535444888299644, ...</td>\n",
       "      <td>covid</td>\n",
       "      <td>[0.999999, 0.999999, 0.999999, 0.999999, 0.999...</td>\n",
       "      <td>politics</td>\n",
       "      <td>[0.0029070544841611813, 0.002081198244175046, ...</td>\n",
       "      <td>covid</td>\n",
       "    </tr>\n",
       "    <tr>\n",
       "      <th>1281</th>\n",
       "      <td>Is driver education contributing towards road ...</td>\n",
       "      <td>['Maryam Akbari', 'Kamran B Lankarani', 'Seyed...</td>\n",
       "      <td>background vast amount effect driver education...</td>\n",
       "      <td>Literature Review</td>\n",
       "      <td>1.0</td>\n",
       "      <td>Journal of Injury &amp; Violence Research</td>\n",
       "      <td>Jan 28</td>\n",
       "      <td>1</td>\n",
       "      <td>\\nDownload</td>\n",
       "      <td>1</td>\n",
       "      <td>2.9</td>\n",
       "      <td>93</td>\n",
       "      <td>Background: There is a vast amount of literatu...</td>\n",
       "      <td>[0.0, 0.0, 0.0, 0.0, 0.0016610785929793389, 0....</td>\n",
       "      <td>health_medicine</td>\n",
       "      <td>[1e-06, 1e-06, 0.999999, 0.999999, 1e-06, 2.76...</td>\n",
       "      <td>education</td>\n",
       "      <td>[0.0, 0.0, 0.0, 0.0, 0.013997796505731549, 0.0...</td>\n",
       "      <td>health_medicine</td>\n",
       "    </tr>\n",
       "    <tr>\n",
       "      <th>719</th>\n",
       "      <td>Can “the oven bird” Migrate North of the border?</td>\n",
       "      <td>['Annie Bunting']</td>\n",
       "      <td>david engels elegant piece oven bird song insi...</td>\n",
       "      <td>Chapter</td>\n",
       "      <td>NaN</td>\n",
       "      <td>NaN</td>\n",
       "      <td>NaN</td>\n",
       "      <td>0</td>\n",
       "      <td>\\nRequest full-text</td>\n",
       "      <td>0</td>\n",
       "      <td>0.0</td>\n",
       "      <td>3</td>\n",
       "      <td>In David Engel’s elegant 1984 piece “The Oven ...</td>\n",
       "      <td>[0.015212617870269021, 0.0, 0.0, 0.0, 0.063622...</td>\n",
       "      <td>community_service</td>\n",
       "      <td>[1e-06, 1e-06, 1e-06, 0.999999, 1e-06, 0.99999...</td>\n",
       "      <td>community_service</td>\n",
       "      <td>[0.027980661853934018, 0.0, 0.0, 0.0, 0.024812...</td>\n",
       "      <td>community_service</td>\n",
       "    </tr>\n",
       "    <tr>\n",
       "      <th>1760</th>\n",
       "      <td>Peter Olen: Wilfrid Sellars and the Foundation...</td>\n",
       "      <td>['Catherine Legg']</td>\n",
       "      <td>contribution included present issue originally...</td>\n",
       "      <td>Article</td>\n",
       "      <td>9.0</td>\n",
       "      <td>Journal for the History of Analytical Philosophy</td>\n",
       "      <td>NaN</td>\n",
       "      <td>0</td>\n",
       "      <td>\\nDownload</td>\n",
       "      <td>0</td>\n",
       "      <td>0.1</td>\n",
       "      <td>25</td>\n",
       "      <td>All contributions included in the present issu...</td>\n",
       "      <td>[0.015008293364546866, 0.0, 0.0, 0.0, 0.002209...</td>\n",
       "      <td>health_medicine</td>\n",
       "      <td>[1e-06, 1e-06, 1e-06, 1e-06, 1e-06, 1e-06, 1e-...</td>\n",
       "      <td>politics</td>\n",
       "      <td>[0.01588625498187335, 0.0, 0.0, 0.0, 0.0, 0.00...</td>\n",
       "      <td>health_medicine</td>\n",
       "    </tr>\n",
       "    <tr>\n",
       "      <th>795</th>\n",
       "      <td>Explaining divergent National Responses to Cov...</td>\n",
       "      <td>['Linda Weiss', 'Elizabeth Thurbon']</td>\n",
       "      <td>develop state capacity framework account diffe...</td>\n",
       "      <td>Article</td>\n",
       "      <td>1.0</td>\n",
       "      <td>New Political Economy</td>\n",
       "      <td>NaN</td>\n",
       "      <td>1</td>\n",
       "      <td>\\nDownload</td>\n",
       "      <td>0</td>\n",
       "      <td>2.0</td>\n",
       "      <td>38</td>\n",
       "      <td>We develop a state capacity framework to accou...</td>\n",
       "      <td>[0.07786153232036157, 0.0, 0.07966525589428984...</td>\n",
       "      <td>covid</td>\n",
       "      <td>[0.999999, 0.999999, 1e-06, 1e-06, 1e-06, 0.99...</td>\n",
       "      <td>politics</td>\n",
       "      <td>[0.07911231805061936, 0.0, 0.0810838544694334,...</td>\n",
       "      <td>covid</td>\n",
       "    </tr>\n",
       "    <tr>\n",
       "      <th>1657</th>\n",
       "      <td>Primary Crime Prevention Apps: A Typology and ...</td>\n",
       "      <td>['Mark A. Wood', 'Stuart Ross', 'Diana Johns']</td>\n",
       "      <td>last decade array smartphone apps designed pre...</td>\n",
       "      <td>Article</td>\n",
       "      <td>1.0</td>\n",
       "      <td>Trauma Violence &amp; Abuse</td>\n",
       "      <td>Mar 24</td>\n",
       "      <td>0</td>\n",
       "      <td>\\nRequest full-text</td>\n",
       "      <td>2</td>\n",
       "      <td>1.8</td>\n",
       "      <td>66</td>\n",
       "      <td>In the last decade, an array of smartphone app...</td>\n",
       "      <td>[0.0, 0.0, 0.0, 0.0, 0.0, 0.0, 0.0210051020610...</td>\n",
       "      <td>criminology</td>\n",
       "      <td>[1e-06, 1e-06, 0.00012216510372806182, 1e-06, ...</td>\n",
       "      <td>criminology</td>\n",
       "      <td>[0.0, 0.0, 0.0, 0.0, 0.17257450289507104, 0.0,...</td>\n",
       "      <td>criminology</td>\n",
       "    </tr>\n",
       "    <tr>\n",
       "      <th>1883</th>\n",
       "      <td>Terror threats and civil liberties: when do ci...</td>\n",
       "      <td>['Walter L. Brent van der Hell', 'Hjalti Björn...</td>\n",
       "      <td>threat subversive threatening enemy sometimes ...</td>\n",
       "      <td>Article</td>\n",
       "      <td>1.0</td>\n",
       "      <td>Icelandic Review of Politics &amp; Administration</td>\n",
       "      <td>Jun 30</td>\n",
       "      <td>1</td>\n",
       "      <td>\\nDownload</td>\n",
       "      <td>0</td>\n",
       "      <td>1.3</td>\n",
       "      <td>40</td>\n",
       "      <td>Threats from subversive or threatening enemies...</td>\n",
       "      <td>[0.029929917713374294, 5.014258775951719e-05, ...</td>\n",
       "      <td>politics</td>\n",
       "      <td>[0.999999, 1e-06, 1e-06, 1e-06, 1e-06, 4.60581...</td>\n",
       "      <td>politics</td>\n",
       "      <td>[0.03204710739783168, 0.0008939188618378922, 0...</td>\n",
       "      <td>politics_and_economics</td>\n",
       "    </tr>\n",
       "    <tr>\n",
       "      <th>521</th>\n",
       "      <td>The effectiveness and suitability of intervent...</td>\n",
       "      <td>['Brenda Adongo Hayanga']</td>\n",
       "      <td>study aimed ass effectiveness suitability isol...</td>\n",
       "      <td>Conference Paper</td>\n",
       "      <td>NaN</td>\n",
       "      <td>NaN</td>\n",
       "      <td>Aug 16</td>\n",
       "      <td>0</td>\n",
       "      <td>\\nRequest full-text</td>\n",
       "      <td>0</td>\n",
       "      <td>0.0</td>\n",
       "      <td>1</td>\n",
       "      <td>This study aimed to assess the effectiveness a...</td>\n",
       "      <td>[0.0, 0.019107171515981045, 0.0, 0.0, 0.0, 0.0...</td>\n",
       "      <td>community_service</td>\n",
       "      <td>[1e-06, 1e-06, 1e-06, 0.999999, 1e-06, 1e-06, ...</td>\n",
       "      <td>community_service</td>\n",
       "      <td>[0.0, 0.020228402770951483, 0.0, 0.0, 0.005217...</td>\n",
       "      <td>community_service</td>\n",
       "    </tr>\n",
       "    <tr>\n",
       "      <th>238</th>\n",
       "      <td>Seed: Gendered Vernaculars and Relational Poss...</td>\n",
       "      <td>['Susannah Chapman', 'Xan Sarah Chacko']</td>\n",
       "      <td>contribution feminist vocabulary provides gene...</td>\n",
       "      <td>Article</td>\n",
       "      <td>1.0</td>\n",
       "      <td>Feminist Anthropology</td>\n",
       "      <td>Nov 14</td>\n",
       "      <td>0</td>\n",
       "      <td>\\nRequest full-text</td>\n",
       "      <td>0</td>\n",
       "      <td>0.0</td>\n",
       "      <td>8</td>\n",
       "      <td>This contribution to feminist vocabulary provi...</td>\n",
       "      <td>[0.028192919866168488, 0.00679390180830058, 0....</td>\n",
       "      <td>politics</td>\n",
       "      <td>[1e-06, 0.999999, 1e-06, 0.999999, 1e-06, 1e-0...</td>\n",
       "      <td>covid</td>\n",
       "      <td>[0.028486783010966122, 0.007926133660033152, 0...</td>\n",
       "      <td>politics_and_economics</td>\n",
       "    </tr>\n",
       "  </tbody>\n",
       "</table>\n",
       "</div>"
      ],
      "text/plain": [
       "                                                  title  \\\n",
       "855   A scoping review of Chinese families caring fo...   \n",
       "1223  COVID-19 Scientific Facts vs. Conspiracy Theor...   \n",
       "1281  Is driver education contributing towards road ...   \n",
       "719    Can “the oven bird” Migrate North of the border?   \n",
       "1760  Peter Olen: Wilfrid Sellars and the Foundation...   \n",
       "795   Explaining divergent National Responses to Cov...   \n",
       "1657  Primary Crime Prevention Apps: A Typology and ...   \n",
       "1883  Terror threats and civil liberties: when do ci...   \n",
       "521   The effectiveness and suitability of intervent...   \n",
       "238   Seed: Gendered Vernaculars and Relational Poss...   \n",
       "\n",
       "                                                authers  \\\n",
       "855        ['Abner Weng Cheong Poon', 'Alyssa Cassidy']   \n",
       "1223  ['Marios Constantinou', 'Antonios Kagialis', '...   \n",
       "1281  ['Maryam Akbari', 'Kamran B Lankarani', 'Seyed...   \n",
       "719                                   ['Annie Bunting']   \n",
       "1760                                 ['Catherine Legg']   \n",
       "795                ['Linda Weiss', 'Elizabeth Thurbon']   \n",
       "1657     ['Mark A. Wood', 'Stuart Ross', 'Diana Johns']   \n",
       "1883  ['Walter L. Brent van der Hell', 'Hjalti Björn...   \n",
       "521                           ['Brenda Adongo Hayanga']   \n",
       "238            ['Susannah Chapman', 'Xan Sarah Chacko']   \n",
       "\n",
       "                                               abstract               type  \\\n",
       "855   family may experience negative impact caring r...            Article   \n",
       "1223  science may failing convince significant numbe...            Article   \n",
       "1281  background vast amount effect driver education...  Literature Review   \n",
       "719   david engels elegant piece oven bird song insi...            Chapter   \n",
       "1760  contribution included present issue originally...            Article   \n",
       "795   develop state capacity framework account diffe...            Article   \n",
       "1657  last decade array smartphone apps designed pre...            Article   \n",
       "1883  threat subversive threatening enemy sometimes ...            Article   \n",
       "521   study aimed ass effectiveness suitability isol...   Conference Paper   \n",
       "238   contribution feminist vocabulary provides gene...            Article   \n",
       "\n",
       "      date_pub                                            journal date_added  \\\n",
       "855        1.0   Journal of Ethnic & Cultural Diversity in Soc...        NaN   \n",
       "1223       1.0   International Journal of Environmental Resear...     Jun 14   \n",
       "1281       1.0              Journal of Injury & Violence Research     Jan 28   \n",
       "719        NaN                                                NaN        NaN   \n",
       "1760       9.0   Journal for the History of Analytical Philosophy        NaN   \n",
       "795        1.0                              New Political Economy        NaN   \n",
       "1657       1.0                            Trauma Violence & Abuse     Mar 24   \n",
       "1883       1.0      Icelandic Review of Politics & Administration     Jun 30   \n",
       "521        NaN                                                NaN     Aug 16   \n",
       "238        1.0                              Feminist Anthropology     Nov 14   \n",
       "\n",
       "      figuers            full_text  citation  interest  reads  \\\n",
       "855         0  \\nRequest full-text         1       0.0      7   \n",
       "1223        1           \\nDownload         2       4.9     70   \n",
       "1281        1           \\nDownload         1       2.9     93   \n",
       "719         0  \\nRequest full-text         0       0.0      3   \n",
       "1760        0           \\nDownload         0       0.1     25   \n",
       "795         1           \\nDownload         0       2.0     38   \n",
       "1657        0  \\nRequest full-text         2       1.8     66   \n",
       "1883        1           \\nDownload         0       1.3     40   \n",
       "521         0  \\nRequest full-text         0       0.0      1   \n",
       "238         0  \\nRequest full-text         0       0.0      8   \n",
       "\n",
       "                                                 or_abt  \\\n",
       "855   Families may experience the negative impact of...   \n",
       "1223  Science may be failing to convince a significa...   \n",
       "1281  Background: There is a vast amount of literatu...   \n",
       "719   In David Engel’s elegant 1984 piece “The Oven ...   \n",
       "1760  All contributions included in the present issu...   \n",
       "795   We develop a state capacity framework to accou...   \n",
       "1657  In the last decade, an array of smartphone app...   \n",
       "1883  Threats from subversive or threatening enemies...   \n",
       "521   This study aimed to assess the effectiveness a...   \n",
       "238   This contribution to feminist vocabulary provi...   \n",
       "\n",
       "                                             topic_dist         main_topic  \\\n",
       "855   [0.0, 0.0, 0.022769506599983006, 0.00529821316...  community_service   \n",
       "1223  [0.005811074337215026, 0.0011535444888299644, ...              covid   \n",
       "1281  [0.0, 0.0, 0.0, 0.0, 0.0016610785929793389, 0....    health_medicine   \n",
       "719   [0.015212617870269021, 0.0, 0.0, 0.0, 0.063622...  community_service   \n",
       "1760  [0.015008293364546866, 0.0, 0.0, 0.0, 0.002209...    health_medicine   \n",
       "795   [0.07786153232036157, 0.0, 0.07966525589428984...              covid   \n",
       "1657  [0.0, 0.0, 0.0, 0.0, 0.0, 0.0, 0.0210051020610...        criminology   \n",
       "1883  [0.029929917713374294, 5.014258775951719e-05, ...           politics   \n",
       "521   [0.0, 0.019107171515981045, 0.0, 0.0, 0.0, 0.0...  community_service   \n",
       "238   [0.028192919866168488, 0.00679390180830058, 0....           politics   \n",
       "\n",
       "                                          topic_dist_cx      main_topic_cx  \\\n",
       "855   [1e-06, 1e-06, 1e-06, 0.999999, 0.999999, 1e-0...  community_service   \n",
       "1223  [0.999999, 0.999999, 0.999999, 0.999999, 0.999...           politics   \n",
       "1281  [1e-06, 1e-06, 0.999999, 0.999999, 1e-06, 2.76...          education   \n",
       "719   [1e-06, 1e-06, 1e-06, 0.999999, 1e-06, 0.99999...  community_service   \n",
       "1760  [1e-06, 1e-06, 1e-06, 1e-06, 1e-06, 1e-06, 1e-...           politics   \n",
       "795   [0.999999, 0.999999, 1e-06, 1e-06, 1e-06, 0.99...           politics   \n",
       "1657  [1e-06, 1e-06, 0.00012216510372806182, 1e-06, ...        criminology   \n",
       "1883  [0.999999, 1e-06, 1e-06, 1e-06, 1e-06, 4.60581...           politics   \n",
       "521   [1e-06, 1e-06, 1e-06, 0.999999, 1e-06, 1e-06, ...  community_service   \n",
       "238   [1e-06, 0.999999, 1e-06, 0.999999, 1e-06, 1e-0...              covid   \n",
       "\n",
       "                                            topic_dist2  \\\n",
       "855   [0.0, 0.0, 0.024911090178535083, 0.00711931075...   \n",
       "1223  [0.0029070544841611813, 0.002081198244175046, ...   \n",
       "1281  [0.0, 0.0, 0.0, 0.0, 0.013997796505731549, 0.0...   \n",
       "719   [0.027980661853934018, 0.0, 0.0, 0.0, 0.024812...   \n",
       "1760  [0.01588625498187335, 0.0, 0.0, 0.0, 0.0, 0.00...   \n",
       "795   [0.07911231805061936, 0.0, 0.0810838544694334,...   \n",
       "1657  [0.0, 0.0, 0.0, 0.0, 0.17257450289507104, 0.0,...   \n",
       "1883  [0.03204710739783168, 0.0008939188618378922, 0...   \n",
       "521   [0.0, 0.020228402770951483, 0.0, 0.0, 0.005217...   \n",
       "238   [0.028486783010966122, 0.007926133660033152, 0...   \n",
       "\n",
       "                 main_topic2  \n",
       "855        community_service  \n",
       "1223                   covid  \n",
       "1281         health_medicine  \n",
       "719        community_service  \n",
       "1760         health_medicine  \n",
       "795                    covid  \n",
       "1657             criminology  \n",
       "1883  politics_and_economics  \n",
       "521        community_service  \n",
       "238   politics_and_economics  "
      ]
     },
     "execution_count": 272,
     "metadata": {},
     "output_type": "execute_result"
    }
   ],
   "source": [
    "df.sample(10)"
   ]
  },
  {
   "cell_type": "markdown",
   "id": "2734576c",
   "metadata": {},
   "source": [
    "## Improving Topics"
   ]
  },
  {
   "cell_type": "markdown",
   "id": "016b3d03",
   "metadata": {},
   "source": [
    "To better understand the mistakes our NMF model makes, we're analysing the topics in bigrams to see if the terms acctually belong to the topic or not "
   ]
  },
  {
   "cell_type": "code",
   "execution_count": 273,
   "id": "d5774c73",
   "metadata": {},
   "outputs": [],
   "source": [
    "df3 = pd.DataFrame()\n",
    "topics=['politics_and_economics','sexuality','covid','women','criminology','education','health_medicine','child_family','community_service']\n",
    "for t in topics:\n",
    "    common_words_topic = get_top_n_grams(df[df['main_topic2']==t]['abstract'],(2,2), 7)\n",
    "    dft = pd.DataFrame(common_words_topic)\n",
    "    dft[\"topic\"]=t\n",
    "    df3=df3.append(dft)\n"
   ]
  },
  {
   "cell_type": "code",
   "execution_count": 274,
   "id": "c33fd8ba",
   "metadata": {},
   "outputs": [
    {
     "data": {
      "text/plain": [
       "(63, 3)"
      ]
     },
     "execution_count": 274,
     "metadata": {},
     "output_type": "execute_result"
    }
   ],
   "source": [
    "df3.shape"
   ]
  },
  {
   "cell_type": "code",
   "execution_count": 275,
   "id": "18008e14",
   "metadata": {},
   "outputs": [
    {
     "data": {
      "text/html": [
       "<div>\n",
       "<style scoped>\n",
       "    .dataframe tbody tr th:only-of-type {\n",
       "        vertical-align: middle;\n",
       "    }\n",
       "\n",
       "    .dataframe tbody tr th {\n",
       "        vertical-align: top;\n",
       "    }\n",
       "\n",
       "    .dataframe thead th {\n",
       "        text-align: right;\n",
       "    }\n",
       "</style>\n",
       "<table border=\"1\" class=\"dataframe\">\n",
       "  <thead>\n",
       "    <tr style=\"text-align: right;\">\n",
       "      <th></th>\n",
       "      <th>0</th>\n",
       "      <th>1</th>\n",
       "      <th>topic</th>\n",
       "    </tr>\n",
       "  </thead>\n",
       "  <tbody>\n",
       "    <tr>\n",
       "      <th>3</th>\n",
       "      <td>migrant woman</td>\n",
       "      <td>8</td>\n",
       "      <td>women</td>\n",
       "    </tr>\n",
       "    <tr>\n",
       "      <th>1</th>\n",
       "      <td>mental health</td>\n",
       "      <td>12</td>\n",
       "      <td>child_family</td>\n",
       "    </tr>\n",
       "    <tr>\n",
       "      <th>5</th>\n",
       "      <td>child young</td>\n",
       "      <td>8</td>\n",
       "      <td>child_family</td>\n",
       "    </tr>\n",
       "    <tr>\n",
       "      <th>1</th>\n",
       "      <td>digital platform</td>\n",
       "      <td>27</td>\n",
       "      <td>health_medicine</td>\n",
       "    </tr>\n",
       "  </tbody>\n",
       "</table>\n",
       "</div>"
      ],
      "text/plain": [
       "                  0   1            topic\n",
       "3     migrant woman   8            women\n",
       "1     mental health  12     child_family\n",
       "5       child young   8     child_family\n",
       "1  digital platform  27  health_medicine"
      ]
     },
     "execution_count": 275,
     "metadata": {},
     "output_type": "execute_result"
    }
   ],
   "source": [
    "df3.sample(4)"
   ]
  },
  {
   "cell_type": "code",
   "execution_count": 276,
   "id": "bdf9da2a",
   "metadata": {},
   "outputs": [
    {
     "data": {
      "application/vnd.plotly.v1+json": {
       "config": {
        "plotlyServerURL": "https://plot.ly"
       },
       "data": [
        {
         "alignmentgroup": "True",
         "hovertemplate": "0=climate change<br>1=%{x}<br>topic=%{y}<extra></extra>",
         "legendgroup": "climate change",
         "marker": {
          "color": "#FECB52",
          "pattern": {
           "shape": ""
          }
         },
         "name": "climate change",
         "offsetgroup": "climate change",
         "orientation": "h",
         "showlegend": true,
         "textposition": "auto",
         "type": "bar",
         "x": [
          23
         ],
         "xaxis": "x",
         "y": [
          "politics_and_economics"
         ],
         "yaxis": "y"
        },
        {
         "alignmentgroup": "True",
         "hovertemplate": "0=human right<br>1=%{x}<br>topic=%{y}<extra></extra>",
         "legendgroup": "human right",
         "marker": {
          "color": "#FF97FF",
          "pattern": {
           "shape": ""
          }
         },
         "name": "human right",
         "offsetgroup": "human right",
         "orientation": "h",
         "showlegend": true,
         "textposition": "auto",
         "type": "bar",
         "x": [
          23
         ],
         "xaxis": "x",
         "y": [
          "politics_and_economics"
         ],
         "yaxis": "y"
        },
        {
         "alignmentgroup": "True",
         "hovertemplate": "0=et al<br>1=%{x}<br>topic=%{y}<extra></extra>",
         "legendgroup": "et al",
         "marker": {
          "color": "#B6E880",
          "pattern": {
           "shape": ""
          }
         },
         "name": "et al",
         "offsetgroup": "et al",
         "orientation": "h",
         "showlegend": true,
         "textposition": "auto",
         "type": "bar",
         "x": [
          18
         ],
         "xaxis": "x",
         "y": [
          "politics_and_economics"
         ],
         "yaxis": "y"
        },
        {
         "alignmentgroup": "True",
         "hovertemplate": "0=case study<br>1=%{x}<br>topic=%{y}<extra></extra>",
         "legendgroup": "case study",
         "marker": {
          "color": "#FF6692",
          "pattern": {
           "shape": ""
          }
         },
         "name": "case study",
         "offsetgroup": "case study",
         "orientation": "h",
         "showlegend": true,
         "textposition": "auto",
         "type": "bar",
         "x": [
          15,
          18
         ],
         "xaxis": "x",
         "y": [
          "politics_and_economics",
          "community_service"
         ],
         "yaxis": "y"
        },
        {
         "alignmentgroup": "True",
         "hovertemplate": "0=national narrative<br>1=%{x}<br>topic=%{y}<extra></extra>",
         "legendgroup": "national narrative",
         "marker": {
          "color": "#19D3F3",
          "pattern": {
           "shape": ""
          }
         },
         "name": "national narrative",
         "offsetgroup": "national narrative",
         "orientation": "h",
         "showlegend": true,
         "textposition": "auto",
         "type": "bar",
         "x": [
          14
         ],
         "xaxis": "x",
         "y": [
          "politics_and_economics"
         ],
         "yaxis": "y"
        },
        {
         "alignmentgroup": "True",
         "hovertemplate": "0=civil society<br>1=%{x}<br>topic=%{y}<extra></extra>",
         "legendgroup": "civil society",
         "marker": {
          "color": "#FFA15A",
          "pattern": {
           "shape": ""
          }
         },
         "name": "civil society",
         "offsetgroup": "civil society",
         "orientation": "h",
         "showlegend": true,
         "textposition": "auto",
         "type": "bar",
         "x": [
          10
         ],
         "xaxis": "x",
         "y": [
          "politics_and_economics"
         ],
         "yaxis": "y"
        },
        {
         "alignmentgroup": "True",
         "hovertemplate": "0=boko haram<br>1=%{x}<br>topic=%{y}<extra></extra>",
         "legendgroup": "boko haram",
         "marker": {
          "color": "#AB63FA",
          "pattern": {
           "shape": ""
          }
         },
         "name": "boko haram",
         "offsetgroup": "boko haram",
         "orientation": "h",
         "showlegend": true,
         "textposition": "auto",
         "type": "bar",
         "x": [
          10
         ],
         "xaxis": "x",
         "y": [
          "politics_and_economics"
         ],
         "yaxis": "y"
        },
        {
         "alignmentgroup": "True",
         "hovertemplate": "0=sexual violence<br>1=%{x}<br>topic=%{y}<extra></extra>",
         "legendgroup": "sexual violence",
         "marker": {
          "color": "#00CC96",
          "pattern": {
           "shape": ""
          }
         },
         "name": "sexual violence",
         "offsetgroup": "sexual violence",
         "orientation": "h",
         "showlegend": true,
         "textposition": "auto",
         "type": "bar",
         "x": [
          22
         ],
         "xaxis": "x",
         "y": [
          "sexuality"
         ],
         "yaxis": "y"
        },
        {
         "alignmentgroup": "True",
         "hovertemplate": "0=sexual minority<br>1=%{x}<br>topic=%{y}<extra></extra>",
         "legendgroup": "sexual minority",
         "marker": {
          "color": "#EF553B",
          "pattern": {
           "shape": ""
          }
         },
         "name": "sexual minority",
         "offsetgroup": "sexual minority",
         "orientation": "h",
         "showlegend": true,
         "textposition": "auto",
         "type": "bar",
         "x": [
          14
         ],
         "xaxis": "x",
         "y": [
          "sexuality"
         ],
         "yaxis": "y"
        },
        {
         "alignmentgroup": "True",
         "hovertemplate": "0=suicidal ideation<br>1=%{x}<br>topic=%{y}<extra></extra>",
         "legendgroup": "suicidal ideation",
         "marker": {
          "color": "#636EFA",
          "pattern": {
           "shape": ""
          }
         },
         "name": "suicidal ideation",
         "offsetgroup": "suicidal ideation",
         "orientation": "h",
         "showlegend": true,
         "textposition": "auto",
         "type": "bar",
         "x": [
          13
         ],
         "xaxis": "x",
         "y": [
          "sexuality"
         ],
         "yaxis": "y"
        },
        {
         "alignmentgroup": "True",
         "hovertemplate": "0=sexual health<br>1=%{x}<br>topic=%{y}<extra></extra>",
         "legendgroup": "sexual health",
         "marker": {
          "color": "#FECB52",
          "pattern": {
           "shape": ""
          }
         },
         "name": "sexual health",
         "offsetgroup": "sexual health",
         "orientation": "h",
         "showlegend": true,
         "textposition": "auto",
         "type": "bar",
         "x": [
          11
         ],
         "xaxis": "x",
         "y": [
          "sexuality"
         ],
         "yaxis": "y"
        },
        {
         "alignmentgroup": "True",
         "hovertemplate": "0=sexual orientation<br>1=%{x}<br>topic=%{y}<extra></extra>",
         "legendgroup": "sexual orientation",
         "marker": {
          "color": "#FF97FF",
          "pattern": {
           "shape": ""
          }
         },
         "name": "sexual orientation",
         "offsetgroup": "sexual orientation",
         "orientation": "h",
         "showlegend": true,
         "textposition": "auto",
         "type": "bar",
         "x": [
          10
         ],
         "xaxis": "x",
         "y": [
          "sexuality"
         ],
         "yaxis": "y"
        },
        {
         "alignmentgroup": "True",
         "hovertemplate": "0=homophobic violence<br>1=%{x}<br>topic=%{y}<extra></extra>",
         "legendgroup": "homophobic violence",
         "marker": {
          "color": "#B6E880",
          "pattern": {
           "shape": ""
          }
         },
         "name": "homophobic violence",
         "offsetgroup": "homophobic violence",
         "orientation": "h",
         "showlegend": true,
         "textposition": "auto",
         "type": "bar",
         "x": [
          8
         ],
         "xaxis": "x",
         "y": [
          "sexuality"
         ],
         "yaxis": "y"
        },
        {
         "alignmentgroup": "True",
         "hovertemplate": "0=sexual practice<br>1=%{x}<br>topic=%{y}<extra></extra>",
         "legendgroup": "sexual practice",
         "marker": {
          "color": "#FF6692",
          "pattern": {
           "shape": ""
          }
         },
         "name": "sexual practice",
         "offsetgroup": "sexual practice",
         "orientation": "h",
         "showlegend": true,
         "textposition": "auto",
         "type": "bar",
         "x": [
          7
         ],
         "xaxis": "x",
         "y": [
          "sexuality"
         ],
         "yaxis": "y"
        },
        {
         "alignmentgroup": "True",
         "hovertemplate": "0=mental health<br>1=%{x}<br>topic=%{y}<extra></extra>",
         "legendgroup": "mental health",
         "marker": {
          "color": "#19D3F3",
          "pattern": {
           "shape": ""
          }
         },
         "name": "mental health",
         "offsetgroup": "mental health",
         "orientation": "h",
         "showlegend": true,
         "textposition": "auto",
         "type": "bar",
         "x": [
          65,
          12
         ],
         "xaxis": "x",
         "y": [
          "covid",
          "child_family"
         ],
         "yaxis": "y"
        },
        {
         "alignmentgroup": "True",
         "hovertemplate": "0=covid pandemic<br>1=%{x}<br>topic=%{y}<extra></extra>",
         "legendgroup": "covid pandemic",
         "marker": {
          "color": "#FFA15A",
          "pattern": {
           "shape": ""
          }
         },
         "name": "covid pandemic",
         "offsetgroup": "covid pandemic",
         "orientation": "h",
         "showlegend": true,
         "textposition": "auto",
         "type": "bar",
         "x": [
          52,
          13
         ],
         "xaxis": "x",
         "y": [
          "covid",
          "education"
         ],
         "yaxis": "y"
        },
        {
         "alignmentgroup": "True",
         "hovertemplate": "0=public health<br>1=%{x}<br>topic=%{y}<extra></extra>",
         "legendgroup": "public health",
         "marker": {
          "color": "#AB63FA",
          "pattern": {
           "shape": ""
          }
         },
         "name": "public health",
         "offsetgroup": "public health",
         "orientation": "h",
         "showlegend": true,
         "textposition": "auto",
         "type": "bar",
         "x": [
          25
         ],
         "xaxis": "x",
         "y": [
          "covid"
         ],
         "yaxis": "y"
        },
        {
         "alignmentgroup": "True",
         "hovertemplate": "0=financial well<br>1=%{x}<br>topic=%{y}<extra></extra>",
         "legendgroup": "financial well",
         "marker": {
          "color": "#00CC96",
          "pattern": {
           "shape": ""
          }
         },
         "name": "financial well",
         "offsetgroup": "financial well",
         "orientation": "h",
         "showlegend": true,
         "textposition": "auto",
         "type": "bar",
         "x": [
          22
         ],
         "xaxis": "x",
         "y": [
          "covid"
         ],
         "yaxis": "y"
        },
        {
         "alignmentgroup": "True",
         "hovertemplate": "0=impact covid<br>1=%{x}<br>topic=%{y}<extra></extra>",
         "legendgroup": "impact covid",
         "marker": {
          "color": "#EF553B",
          "pattern": {
           "shape": ""
          }
         },
         "name": "impact covid",
         "offsetgroup": "impact covid",
         "orientation": "h",
         "showlegend": true,
         "textposition": "auto",
         "type": "bar",
         "x": [
          17
         ],
         "xaxis": "x",
         "y": [
          "covid"
         ],
         "yaxis": "y"
        },
        {
         "alignmentgroup": "True",
         "hovertemplate": "0=sars cov<br>1=%{x}<br>topic=%{y}<extra></extra>",
         "legendgroup": "sars cov",
         "marker": {
          "color": "#636EFA",
          "pattern": {
           "shape": ""
          }
         },
         "name": "sars cov",
         "offsetgroup": "sars cov",
         "orientation": "h",
         "showlegend": true,
         "textposition": "auto",
         "type": "bar",
         "x": [
          16
         ],
         "xaxis": "x",
         "y": [
          "covid"
         ],
         "yaxis": "y"
        },
        {
         "alignmentgroup": "True",
         "hovertemplate": "0=conspiracy theory<br>1=%{x}<br>topic=%{y}<extra></extra>",
         "legendgroup": "conspiracy theory",
         "marker": {
          "color": "#FECB52",
          "pattern": {
           "shape": ""
          }
         },
         "name": "conspiracy theory",
         "offsetgroup": "conspiracy theory",
         "orientation": "h",
         "showlegend": true,
         "textposition": "auto",
         "type": "bar",
         "x": [
          12
         ],
         "xaxis": "x",
         "y": [
          "covid"
         ],
         "yaxis": "y"
        },
        {
         "alignmentgroup": "True",
         "hovertemplate": "0=female condom<br>1=%{x}<br>topic=%{y}<extra></extra>",
         "legendgroup": "female condom",
         "marker": {
          "color": "#FF97FF",
          "pattern": {
           "shape": ""
          }
         },
         "name": "female condom",
         "offsetgroup": "female condom",
         "orientation": "h",
         "showlegend": true,
         "textposition": "auto",
         "type": "bar",
         "x": [
          17
         ],
         "xaxis": "x",
         "y": [
          "women"
         ],
         "yaxis": "y"
        },
        {
         "alignmentgroup": "True",
         "hovertemplate": "0=labour market<br>1=%{x}<br>topic=%{y}<extra></extra>",
         "legendgroup": "labour market",
         "marker": {
          "color": "#B6E880",
          "pattern": {
           "shape": ""
          }
         },
         "name": "labour market",
         "offsetgroup": "labour market",
         "orientation": "h",
         "showlegend": true,
         "textposition": "auto",
         "type": "bar",
         "x": [
          15
         ],
         "xaxis": "x",
         "y": [
          "women"
         ],
         "yaxis": "y"
        },
        {
         "alignmentgroup": "True",
         "hovertemplate": "0=new labour<br>1=%{x}<br>topic=%{y}<extra></extra>",
         "legendgroup": "new labour",
         "marker": {
          "color": "#FF6692",
          "pattern": {
           "shape": ""
          }
         },
         "name": "new labour",
         "offsetgroup": "new labour",
         "orientation": "h",
         "showlegend": true,
         "textposition": "auto",
         "type": "bar",
         "x": [
          10
         ],
         "xaxis": "x",
         "y": [
          "women"
         ],
         "yaxis": "y"
        },
        {
         "alignmentgroup": "True",
         "hovertemplate": "0=migrant woman<br>1=%{x}<br>topic=%{y}<extra></extra>",
         "legendgroup": "migrant woman",
         "marker": {
          "color": "#19D3F3",
          "pattern": {
           "shape": ""
          }
         },
         "name": "migrant woman",
         "offsetgroup": "migrant woman",
         "orientation": "h",
         "showlegend": true,
         "textposition": "auto",
         "type": "bar",
         "x": [
          8
         ],
         "xaxis": "x",
         "y": [
          "women"
         ],
         "yaxis": "y"
        },
        {
         "alignmentgroup": "True",
         "hovertemplate": "0=short term<br>1=%{x}<br>topic=%{y}<extra></extra>",
         "legendgroup": "short term",
         "marker": {
          "color": "#FFA15A",
          "pattern": {
           "shape": ""
          }
         },
         "name": "short term",
         "offsetgroup": "short term",
         "orientation": "h",
         "showlegend": true,
         "textposition": "auto",
         "type": "bar",
         "x": [
          7
         ],
         "xaxis": "x",
         "y": [
          "women"
         ],
         "yaxis": "y"
        },
        {
         "alignmentgroup": "True",
         "hovertemplate": "0=sub saharan<br>1=%{x}<br>topic=%{y}<extra></extra>",
         "legendgroup": "sub saharan",
         "marker": {
          "color": "#AB63FA",
          "pattern": {
           "shape": ""
          }
         },
         "name": "sub saharan",
         "offsetgroup": "sub saharan",
         "orientation": "h",
         "showlegend": true,
         "textposition": "auto",
         "type": "bar",
         "x": [
          7
         ],
         "xaxis": "x",
         "y": [
          "women"
         ],
         "yaxis": "y"
        },
        {
         "alignmentgroup": "True",
         "hovertemplate": "0=long term<br>1=%{x}<br>topic=%{y}<extra></extra>",
         "legendgroup": "long term",
         "marker": {
          "color": "#00CC96",
          "pattern": {
           "shape": ""
          }
         },
         "name": "long term",
         "offsetgroup": "long term",
         "orientation": "h",
         "showlegend": true,
         "textposition": "auto",
         "type": "bar",
         "x": [
          7
         ],
         "xaxis": "x",
         "y": [
          "women"
         ],
         "yaxis": "y"
        },
        {
         "alignmentgroup": "True",
         "hovertemplate": "0=knife crime<br>1=%{x}<br>topic=%{y}<extra></extra>",
         "legendgroup": "knife crime",
         "marker": {
          "color": "#EF553B",
          "pattern": {
           "shape": ""
          }
         },
         "name": "knife crime",
         "offsetgroup": "knife crime",
         "orientation": "h",
         "showlegend": true,
         "textposition": "auto",
         "type": "bar",
         "x": [
          22
         ],
         "xaxis": "x",
         "y": [
          "criminology"
         ],
         "yaxis": "y"
        },
        {
         "alignmentgroup": "True",
         "hovertemplate": "0=criminal justice<br>1=%{x}<br>topic=%{y}<extra></extra>",
         "legendgroup": "criminal justice",
         "marker": {
          "color": "#636EFA",
          "pattern": {
           "shape": ""
          }
         },
         "name": "criminal justice",
         "offsetgroup": "criminal justice",
         "orientation": "h",
         "showlegend": true,
         "textposition": "auto",
         "type": "bar",
         "x": [
          18
         ],
         "xaxis": "x",
         "y": [
          "criminology"
         ],
         "yaxis": "y"
        },
        {
         "alignmentgroup": "True",
         "hovertemplate": "0=climate justice<br>1=%{x}<br>topic=%{y}<extra></extra>",
         "legendgroup": "climate justice",
         "marker": {
          "color": "#FECB52",
          "pattern": {
           "shape": ""
          }
         },
         "name": "climate justice",
         "offsetgroup": "climate justice",
         "orientation": "h",
         "showlegend": true,
         "textposition": "auto",
         "type": "bar",
         "x": [
          18
         ],
         "xaxis": "x",
         "y": [
          "criminology"
         ],
         "yaxis": "y"
        },
        {
         "alignmentgroup": "True",
         "hovertemplate": "0=police officer<br>1=%{x}<br>topic=%{y}<extra></extra>",
         "legendgroup": "police officer",
         "marker": {
          "color": "#FF97FF",
          "pattern": {
           "shape": ""
          }
         },
         "name": "police officer",
         "offsetgroup": "police officer",
         "orientation": "h",
         "showlegend": true,
         "textposition": "auto",
         "type": "bar",
         "x": [
          12
         ],
         "xaxis": "x",
         "y": [
          "criminology"
         ],
         "yaxis": "y"
        },
        {
         "alignmentgroup": "True",
         "hovertemplate": "0=international criminal<br>1=%{x}<br>topic=%{y}<extra></extra>",
         "legendgroup": "international criminal",
         "marker": {
          "color": "#B6E880",
          "pattern": {
           "shape": ""
          }
         },
         "name": "international criminal",
         "offsetgroup": "international criminal",
         "orientation": "h",
         "showlegend": true,
         "textposition": "auto",
         "type": "bar",
         "x": [
          12
         ],
         "xaxis": "x",
         "y": [
          "criminology"
         ],
         "yaxis": "y"
        },
        {
         "alignmentgroup": "True",
         "hovertemplate": "0=victim survivor<br>1=%{x}<br>topic=%{y}<extra></extra>",
         "legendgroup": "victim survivor",
         "marker": {
          "color": "#FF6692",
          "pattern": {
           "shape": ""
          }
         },
         "name": "victim survivor",
         "offsetgroup": "victim survivor",
         "orientation": "h",
         "showlegend": true,
         "textposition": "auto",
         "type": "bar",
         "x": [
          11
         ],
         "xaxis": "x",
         "y": [
          "criminology"
         ],
         "yaxis": "y"
        },
        {
         "alignmentgroup": "True",
         "hovertemplate": "0=crime prevention<br>1=%{x}<br>topic=%{y}<extra></extra>",
         "legendgroup": "crime prevention",
         "marker": {
          "color": "#19D3F3",
          "pattern": {
           "shape": ""
          }
         },
         "name": "crime prevention",
         "offsetgroup": "crime prevention",
         "orientation": "h",
         "showlegend": true,
         "textposition": "auto",
         "type": "bar",
         "x": [
          11
         ],
         "xaxis": "x",
         "y": [
          "criminology"
         ],
         "yaxis": "y"
        },
        {
         "alignmentgroup": "True",
         "hovertemplate": "0=digital divide<br>1=%{x}<br>topic=%{y}<extra></extra>",
         "legendgroup": "digital divide",
         "marker": {
          "color": "#FFA15A",
          "pattern": {
           "shape": ""
          }
         },
         "name": "digital divide",
         "offsetgroup": "digital divide",
         "orientation": "h",
         "showlegend": true,
         "textposition": "auto",
         "type": "bar",
         "x": [
          15
         ],
         "xaxis": "x",
         "y": [
          "education"
         ],
         "yaxis": "y"
        },
        {
         "alignmentgroup": "True",
         "hovertemplate": "0=sex education<br>1=%{x}<br>topic=%{y}<extra></extra>",
         "legendgroup": "sex education",
         "marker": {
          "color": "#AB63FA",
          "pattern": {
           "shape": ""
          }
         },
         "name": "sex education",
         "offsetgroup": "sex education",
         "orientation": "h",
         "showlegend": true,
         "textposition": "auto",
         "type": "bar",
         "x": [
          14
         ],
         "xaxis": "x",
         "y": [
          "education"
         ],
         "yaxis": "y"
        },
        {
         "alignmentgroup": "True",
         "hovertemplate": "0=performance anxiety<br>1=%{x}<br>topic=%{y}<extra></extra>",
         "legendgroup": "performance anxiety",
         "marker": {
          "color": "#00CC96",
          "pattern": {
           "shape": ""
          }
         },
         "name": "performance anxiety",
         "offsetgroup": "performance anxiety",
         "orientation": "h",
         "showlegend": true,
         "textposition": "auto",
         "type": "bar",
         "x": [
          14
         ],
         "xaxis": "x",
         "y": [
          "education"
         ],
         "yaxis": "y"
        },
        {
         "alignmentgroup": "True",
         "hovertemplate": "0=online learning<br>1=%{x}<br>topic=%{y}<extra></extra>",
         "legendgroup": "online learning",
         "marker": {
          "color": "#EF553B",
          "pattern": {
           "shape": ""
          }
         },
         "name": "online learning",
         "offsetgroup": "online learning",
         "orientation": "h",
         "showlegend": true,
         "textposition": "auto",
         "type": "bar",
         "x": [
          13
         ],
         "xaxis": "x",
         "y": [
          "education"
         ],
         "yaxis": "y"
        },
        {
         "alignmentgroup": "True",
         "hovertemplate": "0=young people<br>1=%{x}<br>topic=%{y}<extra></extra>",
         "legendgroup": "young people",
         "marker": {
          "color": "#636EFA",
          "pattern": {
           "shape": ""
          }
         },
         "name": "young people",
         "offsetgroup": "young people",
         "orientation": "h",
         "showlegend": true,
         "textposition": "auto",
         "type": "bar",
         "x": [
          9,
          25
         ],
         "xaxis": "x",
         "y": [
          "education",
          "community_service"
         ],
         "yaxis": "y"
        },
        {
         "alignmentgroup": "True",
         "hovertemplate": "0=http www<br>1=%{x}<br>topic=%{y}<extra></extra>",
         "legendgroup": "http www",
         "marker": {
          "color": "#FECB52",
          "pattern": {
           "shape": ""
          }
         },
         "name": "http www",
         "offsetgroup": "http www",
         "orientation": "h",
         "showlegend": true,
         "textposition": "auto",
         "type": "bar",
         "x": [
          8
         ],
         "xaxis": "x",
         "y": [
          "education"
         ],
         "yaxis": "y"
        },
        {
         "alignmentgroup": "True",
         "hovertemplate": "0=physical activity<br>1=%{x}<br>topic=%{y}<extra></extra>",
         "legendgroup": "physical activity",
         "marker": {
          "color": "#FF97FF",
          "pattern": {
           "shape": ""
          }
         },
         "name": "physical activity",
         "offsetgroup": "physical activity",
         "orientation": "h",
         "showlegend": true,
         "textposition": "auto",
         "type": "bar",
         "x": [
          48
         ],
         "xaxis": "x",
         "y": [
          "health_medicine"
         ],
         "yaxis": "y"
        },
        {
         "alignmentgroup": "True",
         "hovertemplate": "0=digital platform<br>1=%{x}<br>topic=%{y}<extra></extra>",
         "legendgroup": "digital platform",
         "marker": {
          "color": "#B6E880",
          "pattern": {
           "shape": ""
          }
         },
         "name": "digital platform",
         "offsetgroup": "digital platform",
         "orientation": "h",
         "showlegend": true,
         "textposition": "auto",
         "type": "bar",
         "x": [
          27
         ],
         "xaxis": "x",
         "y": [
          "health_medicine"
         ],
         "yaxis": "y"
        },
        {
         "alignmentgroup": "True",
         "hovertemplate": "0=dy dy<br>1=%{x}<br>topic=%{y}<extra></extra>",
         "legendgroup": "dy dy",
         "marker": {
          "color": "#FF6692",
          "pattern": {
           "shape": ""
          }
         },
         "name": "dy dy",
         "offsetgroup": "dy dy",
         "orientation": "h",
         "showlegend": true,
         "textposition": "auto",
         "type": "bar",
         "x": [
          24
         ],
         "xaxis": "x",
         "y": [
          "health_medicine"
         ],
         "yaxis": "y"
        },
        {
         "alignmentgroup": "True",
         "hovertemplate": "0=mobile phone<br>1=%{x}<br>topic=%{y}<extra></extra>",
         "legendgroup": "mobile phone",
         "marker": {
          "color": "#19D3F3",
          "pattern": {
           "shape": ""
          }
         },
         "name": "mobile phone",
         "offsetgroup": "mobile phone",
         "orientation": "h",
         "showlegend": true,
         "textposition": "auto",
         "type": "bar",
         "x": [
          21
         ],
         "xaxis": "x",
         "y": [
          "health_medicine"
         ],
         "yaxis": "y"
        },
        {
         "alignmentgroup": "True",
         "hovertemplate": "0=risk factor<br>1=%{x}<br>topic=%{y}<extra></extra>",
         "legendgroup": "risk factor",
         "marker": {
          "color": "#FFA15A",
          "pattern": {
           "shape": ""
          }
         },
         "name": "risk factor",
         "offsetgroup": "risk factor",
         "orientation": "h",
         "showlegend": true,
         "textposition": "auto",
         "type": "bar",
         "x": [
          19
         ],
         "xaxis": "x",
         "y": [
          "health_medicine"
         ],
         "yaxis": "y"
        },
        {
         "alignmentgroup": "True",
         "hovertemplate": "0=quality life<br>1=%{x}<br>topic=%{y}<extra></extra>",
         "legendgroup": "quality life",
         "marker": {
          "color": "#AB63FA",
          "pattern": {
           "shape": ""
          }
         },
         "name": "quality life",
         "offsetgroup": "quality life",
         "orientation": "h",
         "showlegend": true,
         "textposition": "auto",
         "type": "bar",
         "x": [
          19
         ],
         "xaxis": "x",
         "y": [
          "health_medicine"
         ],
         "yaxis": "y"
        },
        {
         "alignmentgroup": "True",
         "hovertemplate": "0=safety voice<br>1=%{x}<br>topic=%{y}<extra></extra>",
         "legendgroup": "safety voice",
         "marker": {
          "color": "#00CC96",
          "pattern": {
           "shape": ""
          }
         },
         "name": "safety voice",
         "offsetgroup": "safety voice",
         "orientation": "h",
         "showlegend": true,
         "textposition": "auto",
         "type": "bar",
         "x": [
          18
         ],
         "xaxis": "x",
         "y": [
          "health_medicine"
         ],
         "yaxis": "y"
        },
        {
         "alignmentgroup": "True",
         "hovertemplate": "0=abuse material<br>1=%{x}<br>topic=%{y}<extra></extra>",
         "legendgroup": "abuse material",
         "marker": {
          "color": "#EF553B",
          "pattern": {
           "shape": ""
          }
         },
         "name": "abuse material",
         "offsetgroup": "abuse material",
         "orientation": "h",
         "showlegend": true,
         "textposition": "auto",
         "type": "bar",
         "x": [
          15
         ],
         "xaxis": "x",
         "y": [
          "child_family"
         ],
         "yaxis": "y"
        },
        {
         "alignmentgroup": "True",
         "hovertemplate": "0=mar conceived<br>1=%{x}<br>topic=%{y}<extra></extra>",
         "legendgroup": "mar conceived",
         "marker": {
          "color": "#636EFA",
          "pattern": {
           "shape": ""
          }
         },
         "name": "mar conceived",
         "offsetgroup": "mar conceived",
         "orientation": "h",
         "showlegend": true,
         "textposition": "auto",
         "type": "bar",
         "x": [
          9
         ],
         "xaxis": "x",
         "y": [
          "child_family"
         ],
         "yaxis": "y"
        },
        {
         "alignmentgroup": "True",
         "hovertemplate": "0=food insecurity<br>1=%{x}<br>topic=%{y}<extra></extra>",
         "legendgroup": "food insecurity",
         "marker": {
          "color": "#FECB52",
          "pattern": {
           "shape": ""
          }
         },
         "name": "food insecurity",
         "offsetgroup": "food insecurity",
         "orientation": "h",
         "showlegend": true,
         "textposition": "auto",
         "type": "bar",
         "x": [
          8
         ],
         "xaxis": "x",
         "y": [
          "child_family"
         ],
         "yaxis": "y"
        },
        {
         "alignmentgroup": "True",
         "hovertemplate": "0=conceived child<br>1=%{x}<br>topic=%{y}<extra></extra>",
         "legendgroup": "conceived child",
         "marker": {
          "color": "#FF97FF",
          "pattern": {
           "shape": ""
          }
         },
         "name": "conceived child",
         "offsetgroup": "conceived child",
         "orientation": "h",
         "showlegend": true,
         "textposition": "auto",
         "type": "bar",
         "x": [
          8
         ],
         "xaxis": "x",
         "y": [
          "child_family"
         ],
         "yaxis": "y"
        },
        {
         "alignmentgroup": "True",
         "hovertemplate": "0=child young<br>1=%{x}<br>topic=%{y}<extra></extra>",
         "legendgroup": "child young",
         "marker": {
          "color": "#B6E880",
          "pattern": {
           "shape": ""
          }
         },
         "name": "child young",
         "offsetgroup": "child young",
         "orientation": "h",
         "showlegend": true,
         "textposition": "auto",
         "type": "bar",
         "x": [
          8
         ],
         "xaxis": "x",
         "y": [
          "child_family"
         ],
         "yaxis": "y"
        },
        {
         "alignmentgroup": "True",
         "hovertemplate": "0=child centred<br>1=%{x}<br>topic=%{y}<extra></extra>",
         "legendgroup": "child centred",
         "marker": {
          "color": "#FF6692",
          "pattern": {
           "shape": ""
          }
         },
         "name": "child centred",
         "offsetgroup": "child centred",
         "orientation": "h",
         "showlegend": true,
         "textposition": "auto",
         "type": "bar",
         "x": [
          8
         ],
         "xaxis": "x",
         "y": [
          "child_family"
         ],
         "yaxis": "y"
        },
        {
         "alignmentgroup": "True",
         "hovertemplate": "0=indigenous people<br>1=%{x}<br>topic=%{y}<extra></extra>",
         "legendgroup": "indigenous people",
         "marker": {
          "color": "#19D3F3",
          "pattern": {
           "shape": ""
          }
         },
         "name": "indigenous people",
         "offsetgroup": "indigenous people",
         "orientation": "h",
         "showlegend": true,
         "textposition": "auto",
         "type": "bar",
         "x": [
          16
         ],
         "xaxis": "x",
         "y": [
          "community_service"
         ],
         "yaxis": "y"
        },
        {
         "alignmentgroup": "True",
         "hovertemplate": "0=palliative care<br>1=%{x}<br>topic=%{y}<extra></extra>",
         "legendgroup": "palliative care",
         "marker": {
          "color": "#FFA15A",
          "pattern": {
           "shape": ""
          }
         },
         "name": "palliative care",
         "offsetgroup": "palliative care",
         "orientation": "h",
         "showlegend": true,
         "textposition": "auto",
         "type": "bar",
         "x": [
          13
         ],
         "xaxis": "x",
         "y": [
          "community_service"
         ],
         "yaxis": "y"
        },
        {
         "alignmentgroup": "True",
         "hovertemplate": "0=community based<br>1=%{x}<br>topic=%{y}<extra></extra>",
         "legendgroup": "community based",
         "marker": {
          "color": "#AB63FA",
          "pattern": {
           "shape": ""
          }
         },
         "name": "community based",
         "offsetgroup": "community based",
         "orientation": "h",
         "showlegend": true,
         "textposition": "auto",
         "type": "bar",
         "x": [
          13
         ],
         "xaxis": "x",
         "y": [
          "community_service"
         ],
         "yaxis": "y"
        },
        {
         "alignmentgroup": "True",
         "hovertemplate": "0=older people<br>1=%{x}<br>topic=%{y}<extra></extra>",
         "legendgroup": "older people",
         "marker": {
          "color": "#00CC96",
          "pattern": {
           "shape": ""
          }
         },
         "name": "older people",
         "offsetgroup": "older people",
         "orientation": "h",
         "showlegend": true,
         "textposition": "auto",
         "type": "bar",
         "x": [
          13
         ],
         "xaxis": "x",
         "y": [
          "community_service"
         ],
         "yaxis": "y"
        },
        {
         "alignmentgroup": "True",
         "hovertemplate": "0=people living<br>1=%{x}<br>topic=%{y}<extra></extra>",
         "legendgroup": "people living",
         "marker": {
          "color": "#EF553B",
          "pattern": {
           "shape": ""
          }
         },
         "name": "people living",
         "offsetgroup": "people living",
         "orientation": "h",
         "showlegend": true,
         "textposition": "auto",
         "type": "bar",
         "x": [
          12
         ],
         "xaxis": "x",
         "y": [
          "community_service"
         ],
         "yaxis": "y"
        }
       ],
       "layout": {
        "barmode": "relative",
        "font": {
         "color": "DarkSlateGray",
         "size": 10
        },
        "height": 500,
        "legend": {
         "title": {
          "text": "0"
         },
         "tracegroupgap": 0
        },
        "margin": {
         "t": 60
        },
        "template": {
         "data": {
          "bar": [
           {
            "error_x": {
             "color": "#2a3f5f"
            },
            "error_y": {
             "color": "#2a3f5f"
            },
            "marker": {
             "line": {
              "color": "white",
              "width": 0.5
             },
             "pattern": {
              "fillmode": "overlay",
              "size": 10,
              "solidity": 0.2
             }
            },
            "type": "bar"
           }
          ],
          "barpolar": [
           {
            "marker": {
             "line": {
              "color": "white",
              "width": 0.5
             },
             "pattern": {
              "fillmode": "overlay",
              "size": 10,
              "solidity": 0.2
             }
            },
            "type": "barpolar"
           }
          ],
          "carpet": [
           {
            "aaxis": {
             "endlinecolor": "#2a3f5f",
             "gridcolor": "#C8D4E3",
             "linecolor": "#C8D4E3",
             "minorgridcolor": "#C8D4E3",
             "startlinecolor": "#2a3f5f"
            },
            "baxis": {
             "endlinecolor": "#2a3f5f",
             "gridcolor": "#C8D4E3",
             "linecolor": "#C8D4E3",
             "minorgridcolor": "#C8D4E3",
             "startlinecolor": "#2a3f5f"
            },
            "type": "carpet"
           }
          ],
          "choropleth": [
           {
            "colorbar": {
             "outlinewidth": 0,
             "ticks": ""
            },
            "type": "choropleth"
           }
          ],
          "contour": [
           {
            "colorbar": {
             "outlinewidth": 0,
             "ticks": ""
            },
            "colorscale": [
             [
              0,
              "#0d0887"
             ],
             [
              0.1111111111111111,
              "#46039f"
             ],
             [
              0.2222222222222222,
              "#7201a8"
             ],
             [
              0.3333333333333333,
              "#9c179e"
             ],
             [
              0.4444444444444444,
              "#bd3786"
             ],
             [
              0.5555555555555556,
              "#d8576b"
             ],
             [
              0.6666666666666666,
              "#ed7953"
             ],
             [
              0.7777777777777778,
              "#fb9f3a"
             ],
             [
              0.8888888888888888,
              "#fdca26"
             ],
             [
              1,
              "#f0f921"
             ]
            ],
            "type": "contour"
           }
          ],
          "contourcarpet": [
           {
            "colorbar": {
             "outlinewidth": 0,
             "ticks": ""
            },
            "type": "contourcarpet"
           }
          ],
          "heatmap": [
           {
            "colorbar": {
             "outlinewidth": 0,
             "ticks": ""
            },
            "colorscale": [
             [
              0,
              "#0d0887"
             ],
             [
              0.1111111111111111,
              "#46039f"
             ],
             [
              0.2222222222222222,
              "#7201a8"
             ],
             [
              0.3333333333333333,
              "#9c179e"
             ],
             [
              0.4444444444444444,
              "#bd3786"
             ],
             [
              0.5555555555555556,
              "#d8576b"
             ],
             [
              0.6666666666666666,
              "#ed7953"
             ],
             [
              0.7777777777777778,
              "#fb9f3a"
             ],
             [
              0.8888888888888888,
              "#fdca26"
             ],
             [
              1,
              "#f0f921"
             ]
            ],
            "type": "heatmap"
           }
          ],
          "heatmapgl": [
           {
            "colorbar": {
             "outlinewidth": 0,
             "ticks": ""
            },
            "colorscale": [
             [
              0,
              "#0d0887"
             ],
             [
              0.1111111111111111,
              "#46039f"
             ],
             [
              0.2222222222222222,
              "#7201a8"
             ],
             [
              0.3333333333333333,
              "#9c179e"
             ],
             [
              0.4444444444444444,
              "#bd3786"
             ],
             [
              0.5555555555555556,
              "#d8576b"
             ],
             [
              0.6666666666666666,
              "#ed7953"
             ],
             [
              0.7777777777777778,
              "#fb9f3a"
             ],
             [
              0.8888888888888888,
              "#fdca26"
             ],
             [
              1,
              "#f0f921"
             ]
            ],
            "type": "heatmapgl"
           }
          ],
          "histogram": [
           {
            "marker": {
             "pattern": {
              "fillmode": "overlay",
              "size": 10,
              "solidity": 0.2
             }
            },
            "type": "histogram"
           }
          ],
          "histogram2d": [
           {
            "colorbar": {
             "outlinewidth": 0,
             "ticks": ""
            },
            "colorscale": [
             [
              0,
              "#0d0887"
             ],
             [
              0.1111111111111111,
              "#46039f"
             ],
             [
              0.2222222222222222,
              "#7201a8"
             ],
             [
              0.3333333333333333,
              "#9c179e"
             ],
             [
              0.4444444444444444,
              "#bd3786"
             ],
             [
              0.5555555555555556,
              "#d8576b"
             ],
             [
              0.6666666666666666,
              "#ed7953"
             ],
             [
              0.7777777777777778,
              "#fb9f3a"
             ],
             [
              0.8888888888888888,
              "#fdca26"
             ],
             [
              1,
              "#f0f921"
             ]
            ],
            "type": "histogram2d"
           }
          ],
          "histogram2dcontour": [
           {
            "colorbar": {
             "outlinewidth": 0,
             "ticks": ""
            },
            "colorscale": [
             [
              0,
              "#0d0887"
             ],
             [
              0.1111111111111111,
              "#46039f"
             ],
             [
              0.2222222222222222,
              "#7201a8"
             ],
             [
              0.3333333333333333,
              "#9c179e"
             ],
             [
              0.4444444444444444,
              "#bd3786"
             ],
             [
              0.5555555555555556,
              "#d8576b"
             ],
             [
              0.6666666666666666,
              "#ed7953"
             ],
             [
              0.7777777777777778,
              "#fb9f3a"
             ],
             [
              0.8888888888888888,
              "#fdca26"
             ],
             [
              1,
              "#f0f921"
             ]
            ],
            "type": "histogram2dcontour"
           }
          ],
          "mesh3d": [
           {
            "colorbar": {
             "outlinewidth": 0,
             "ticks": ""
            },
            "type": "mesh3d"
           }
          ],
          "parcoords": [
           {
            "line": {
             "colorbar": {
              "outlinewidth": 0,
              "ticks": ""
             }
            },
            "type": "parcoords"
           }
          ],
          "pie": [
           {
            "automargin": true,
            "type": "pie"
           }
          ],
          "scatter": [
           {
            "marker": {
             "colorbar": {
              "outlinewidth": 0,
              "ticks": ""
             }
            },
            "type": "scatter"
           }
          ],
          "scatter3d": [
           {
            "line": {
             "colorbar": {
              "outlinewidth": 0,
              "ticks": ""
             }
            },
            "marker": {
             "colorbar": {
              "outlinewidth": 0,
              "ticks": ""
             }
            },
            "type": "scatter3d"
           }
          ],
          "scattercarpet": [
           {
            "marker": {
             "colorbar": {
              "outlinewidth": 0,
              "ticks": ""
             }
            },
            "type": "scattercarpet"
           }
          ],
          "scattergeo": [
           {
            "marker": {
             "colorbar": {
              "outlinewidth": 0,
              "ticks": ""
             }
            },
            "type": "scattergeo"
           }
          ],
          "scattergl": [
           {
            "marker": {
             "colorbar": {
              "outlinewidth": 0,
              "ticks": ""
             }
            },
            "type": "scattergl"
           }
          ],
          "scattermapbox": [
           {
            "marker": {
             "colorbar": {
              "outlinewidth": 0,
              "ticks": ""
             }
            },
            "type": "scattermapbox"
           }
          ],
          "scatterpolar": [
           {
            "marker": {
             "colorbar": {
              "outlinewidth": 0,
              "ticks": ""
             }
            },
            "type": "scatterpolar"
           }
          ],
          "scatterpolargl": [
           {
            "marker": {
             "colorbar": {
              "outlinewidth": 0,
              "ticks": ""
             }
            },
            "type": "scatterpolargl"
           }
          ],
          "scatterternary": [
           {
            "marker": {
             "colorbar": {
              "outlinewidth": 0,
              "ticks": ""
             }
            },
            "type": "scatterternary"
           }
          ],
          "surface": [
           {
            "colorbar": {
             "outlinewidth": 0,
             "ticks": ""
            },
            "colorscale": [
             [
              0,
              "#0d0887"
             ],
             [
              0.1111111111111111,
              "#46039f"
             ],
             [
              0.2222222222222222,
              "#7201a8"
             ],
             [
              0.3333333333333333,
              "#9c179e"
             ],
             [
              0.4444444444444444,
              "#bd3786"
             ],
             [
              0.5555555555555556,
              "#d8576b"
             ],
             [
              0.6666666666666666,
              "#ed7953"
             ],
             [
              0.7777777777777778,
              "#fb9f3a"
             ],
             [
              0.8888888888888888,
              "#fdca26"
             ],
             [
              1,
              "#f0f921"
             ]
            ],
            "type": "surface"
           }
          ],
          "table": [
           {
            "cells": {
             "fill": {
              "color": "#EBF0F8"
             },
             "line": {
              "color": "white"
             }
            },
            "header": {
             "fill": {
              "color": "#C8D4E3"
             },
             "line": {
              "color": "white"
             }
            },
            "type": "table"
           }
          ]
         },
         "layout": {
          "annotationdefaults": {
           "arrowcolor": "#2a3f5f",
           "arrowhead": 0,
           "arrowwidth": 1
          },
          "autotypenumbers": "strict",
          "coloraxis": {
           "colorbar": {
            "outlinewidth": 0,
            "ticks": ""
           }
          },
          "colorscale": {
           "diverging": [
            [
             0,
             "#8e0152"
            ],
            [
             0.1,
             "#c51b7d"
            ],
            [
             0.2,
             "#de77ae"
            ],
            [
             0.3,
             "#f1b6da"
            ],
            [
             0.4,
             "#fde0ef"
            ],
            [
             0.5,
             "#f7f7f7"
            ],
            [
             0.6,
             "#e6f5d0"
            ],
            [
             0.7,
             "#b8e186"
            ],
            [
             0.8,
             "#7fbc41"
            ],
            [
             0.9,
             "#4d9221"
            ],
            [
             1,
             "#276419"
            ]
           ],
           "sequential": [
            [
             0,
             "#0d0887"
            ],
            [
             0.1111111111111111,
             "#46039f"
            ],
            [
             0.2222222222222222,
             "#7201a8"
            ],
            [
             0.3333333333333333,
             "#9c179e"
            ],
            [
             0.4444444444444444,
             "#bd3786"
            ],
            [
             0.5555555555555556,
             "#d8576b"
            ],
            [
             0.6666666666666666,
             "#ed7953"
            ],
            [
             0.7777777777777778,
             "#fb9f3a"
            ],
            [
             0.8888888888888888,
             "#fdca26"
            ],
            [
             1,
             "#f0f921"
            ]
           ],
           "sequentialminus": [
            [
             0,
             "#0d0887"
            ],
            [
             0.1111111111111111,
             "#46039f"
            ],
            [
             0.2222222222222222,
             "#7201a8"
            ],
            [
             0.3333333333333333,
             "#9c179e"
            ],
            [
             0.4444444444444444,
             "#bd3786"
            ],
            [
             0.5555555555555556,
             "#d8576b"
            ],
            [
             0.6666666666666666,
             "#ed7953"
            ],
            [
             0.7777777777777778,
             "#fb9f3a"
            ],
            [
             0.8888888888888888,
             "#fdca26"
            ],
            [
             1,
             "#f0f921"
            ]
           ]
          },
          "colorway": [
           "#636efa",
           "#EF553B",
           "#00cc96",
           "#ab63fa",
           "#FFA15A",
           "#19d3f3",
           "#FF6692",
           "#B6E880",
           "#FF97FF",
           "#FECB52"
          ],
          "font": {
           "color": "#2a3f5f"
          },
          "geo": {
           "bgcolor": "white",
           "lakecolor": "white",
           "landcolor": "white",
           "showlakes": true,
           "showland": true,
           "subunitcolor": "#C8D4E3"
          },
          "hoverlabel": {
           "align": "left"
          },
          "hovermode": "closest",
          "mapbox": {
           "style": "light"
          },
          "paper_bgcolor": "white",
          "plot_bgcolor": "white",
          "polar": {
           "angularaxis": {
            "gridcolor": "#EBF0F8",
            "linecolor": "#EBF0F8",
            "ticks": ""
           },
           "bgcolor": "white",
           "radialaxis": {
            "gridcolor": "#EBF0F8",
            "linecolor": "#EBF0F8",
            "ticks": ""
           }
          },
          "scene": {
           "xaxis": {
            "backgroundcolor": "white",
            "gridcolor": "#DFE8F3",
            "gridwidth": 2,
            "linecolor": "#EBF0F8",
            "showbackground": true,
            "ticks": "",
            "zerolinecolor": "#EBF0F8"
           },
           "yaxis": {
            "backgroundcolor": "white",
            "gridcolor": "#DFE8F3",
            "gridwidth": 2,
            "linecolor": "#EBF0F8",
            "showbackground": true,
            "ticks": "",
            "zerolinecolor": "#EBF0F8"
           },
           "zaxis": {
            "backgroundcolor": "white",
            "gridcolor": "#DFE8F3",
            "gridwidth": 2,
            "linecolor": "#EBF0F8",
            "showbackground": true,
            "ticks": "",
            "zerolinecolor": "#EBF0F8"
           }
          },
          "shapedefaults": {
           "line": {
            "color": "#2a3f5f"
           }
          },
          "ternary": {
           "aaxis": {
            "gridcolor": "#DFE8F3",
            "linecolor": "#A2B1C6",
            "ticks": ""
           },
           "baxis": {
            "gridcolor": "#DFE8F3",
            "linecolor": "#A2B1C6",
            "ticks": ""
           },
           "bgcolor": "white",
           "caxis": {
            "gridcolor": "#DFE8F3",
            "linecolor": "#A2B1C6",
            "ticks": ""
           }
          },
          "title": {
           "x": 0.05
          },
          "xaxis": {
           "automargin": true,
           "gridcolor": "#EBF0F8",
           "linecolor": "#EBF0F8",
           "ticks": "",
           "title": {
            "standoff": 15
           },
           "zerolinecolor": "#EBF0F8",
           "zerolinewidth": 2
          },
          "yaxis": {
           "automargin": true,
           "gridcolor": "#EBF0F8",
           "linecolor": "#EBF0F8",
           "ticks": "",
           "title": {
            "standoff": 15
           },
           "zerolinecolor": "#EBF0F8",
           "zerolinewidth": 2
          }
         }
        },
        "width": 1200,
        "xaxis": {
         "anchor": "y",
         "domain": [
          0,
          1
         ],
         "title": {
          "text": "1"
         }
        },
        "yaxis": {
         "anchor": "x",
         "domain": [
          0,
          1
         ],
         "title": {
          "text": "topic"
         }
        }
       }
      },
      "text/html": [
       "<div>                            <div id=\"367f9e7c-81e0-4f9a-9f1a-0cd876bbebc4\" class=\"plotly-graph-div\" style=\"height:500px; width:1200px;\"></div>            <script type=\"text/javascript\">                require([\"plotly\"], function(Plotly) {                    window.PLOTLYENV=window.PLOTLYENV || {};                                    if (document.getElementById(\"367f9e7c-81e0-4f9a-9f1a-0cd876bbebc4\")) {                    Plotly.newPlot(                        \"367f9e7c-81e0-4f9a-9f1a-0cd876bbebc4\",                        [{\"alignmentgroup\":\"True\",\"hovertemplate\":\"0=climate change<br>1=%{x}<br>topic=%{y}<extra></extra>\",\"legendgroup\":\"climate change\",\"marker\":{\"color\":\"#FECB52\",\"pattern\":{\"shape\":\"\"}},\"name\":\"climate change\",\"offsetgroup\":\"climate change\",\"orientation\":\"h\",\"showlegend\":true,\"textposition\":\"auto\",\"x\":[23],\"xaxis\":\"x\",\"y\":[\"politics_and_economics\"],\"yaxis\":\"y\",\"type\":\"bar\"},{\"alignmentgroup\":\"True\",\"hovertemplate\":\"0=human right<br>1=%{x}<br>topic=%{y}<extra></extra>\",\"legendgroup\":\"human right\",\"marker\":{\"color\":\"#FF97FF\",\"pattern\":{\"shape\":\"\"}},\"name\":\"human right\",\"offsetgroup\":\"human right\",\"orientation\":\"h\",\"showlegend\":true,\"textposition\":\"auto\",\"x\":[23],\"xaxis\":\"x\",\"y\":[\"politics_and_economics\"],\"yaxis\":\"y\",\"type\":\"bar\"},{\"alignmentgroup\":\"True\",\"hovertemplate\":\"0=et al<br>1=%{x}<br>topic=%{y}<extra></extra>\",\"legendgroup\":\"et al\",\"marker\":{\"color\":\"#B6E880\",\"pattern\":{\"shape\":\"\"}},\"name\":\"et al\",\"offsetgroup\":\"et al\",\"orientation\":\"h\",\"showlegend\":true,\"textposition\":\"auto\",\"x\":[18],\"xaxis\":\"x\",\"y\":[\"politics_and_economics\"],\"yaxis\":\"y\",\"type\":\"bar\"},{\"alignmentgroup\":\"True\",\"hovertemplate\":\"0=case study<br>1=%{x}<br>topic=%{y}<extra></extra>\",\"legendgroup\":\"case study\",\"marker\":{\"color\":\"#FF6692\",\"pattern\":{\"shape\":\"\"}},\"name\":\"case study\",\"offsetgroup\":\"case study\",\"orientation\":\"h\",\"showlegend\":true,\"textposition\":\"auto\",\"x\":[15,18],\"xaxis\":\"x\",\"y\":[\"politics_and_economics\",\"community_service\"],\"yaxis\":\"y\",\"type\":\"bar\"},{\"alignmentgroup\":\"True\",\"hovertemplate\":\"0=national narrative<br>1=%{x}<br>topic=%{y}<extra></extra>\",\"legendgroup\":\"national narrative\",\"marker\":{\"color\":\"#19D3F3\",\"pattern\":{\"shape\":\"\"}},\"name\":\"national narrative\",\"offsetgroup\":\"national narrative\",\"orientation\":\"h\",\"showlegend\":true,\"textposition\":\"auto\",\"x\":[14],\"xaxis\":\"x\",\"y\":[\"politics_and_economics\"],\"yaxis\":\"y\",\"type\":\"bar\"},{\"alignmentgroup\":\"True\",\"hovertemplate\":\"0=civil society<br>1=%{x}<br>topic=%{y}<extra></extra>\",\"legendgroup\":\"civil society\",\"marker\":{\"color\":\"#FFA15A\",\"pattern\":{\"shape\":\"\"}},\"name\":\"civil society\",\"offsetgroup\":\"civil society\",\"orientation\":\"h\",\"showlegend\":true,\"textposition\":\"auto\",\"x\":[10],\"xaxis\":\"x\",\"y\":[\"politics_and_economics\"],\"yaxis\":\"y\",\"type\":\"bar\"},{\"alignmentgroup\":\"True\",\"hovertemplate\":\"0=boko haram<br>1=%{x}<br>topic=%{y}<extra></extra>\",\"legendgroup\":\"boko haram\",\"marker\":{\"color\":\"#AB63FA\",\"pattern\":{\"shape\":\"\"}},\"name\":\"boko haram\",\"offsetgroup\":\"boko haram\",\"orientation\":\"h\",\"showlegend\":true,\"textposition\":\"auto\",\"x\":[10],\"xaxis\":\"x\",\"y\":[\"politics_and_economics\"],\"yaxis\":\"y\",\"type\":\"bar\"},{\"alignmentgroup\":\"True\",\"hovertemplate\":\"0=sexual violence<br>1=%{x}<br>topic=%{y}<extra></extra>\",\"legendgroup\":\"sexual violence\",\"marker\":{\"color\":\"#00CC96\",\"pattern\":{\"shape\":\"\"}},\"name\":\"sexual violence\",\"offsetgroup\":\"sexual violence\",\"orientation\":\"h\",\"showlegend\":true,\"textposition\":\"auto\",\"x\":[22],\"xaxis\":\"x\",\"y\":[\"sexuality\"],\"yaxis\":\"y\",\"type\":\"bar\"},{\"alignmentgroup\":\"True\",\"hovertemplate\":\"0=sexual minority<br>1=%{x}<br>topic=%{y}<extra></extra>\",\"legendgroup\":\"sexual minority\",\"marker\":{\"color\":\"#EF553B\",\"pattern\":{\"shape\":\"\"}},\"name\":\"sexual minority\",\"offsetgroup\":\"sexual minority\",\"orientation\":\"h\",\"showlegend\":true,\"textposition\":\"auto\",\"x\":[14],\"xaxis\":\"x\",\"y\":[\"sexuality\"],\"yaxis\":\"y\",\"type\":\"bar\"},{\"alignmentgroup\":\"True\",\"hovertemplate\":\"0=suicidal ideation<br>1=%{x}<br>topic=%{y}<extra></extra>\",\"legendgroup\":\"suicidal ideation\",\"marker\":{\"color\":\"#636EFA\",\"pattern\":{\"shape\":\"\"}},\"name\":\"suicidal ideation\",\"offsetgroup\":\"suicidal ideation\",\"orientation\":\"h\",\"showlegend\":true,\"textposition\":\"auto\",\"x\":[13],\"xaxis\":\"x\",\"y\":[\"sexuality\"],\"yaxis\":\"y\",\"type\":\"bar\"},{\"alignmentgroup\":\"True\",\"hovertemplate\":\"0=sexual health<br>1=%{x}<br>topic=%{y}<extra></extra>\",\"legendgroup\":\"sexual health\",\"marker\":{\"color\":\"#FECB52\",\"pattern\":{\"shape\":\"\"}},\"name\":\"sexual health\",\"offsetgroup\":\"sexual health\",\"orientation\":\"h\",\"showlegend\":true,\"textposition\":\"auto\",\"x\":[11],\"xaxis\":\"x\",\"y\":[\"sexuality\"],\"yaxis\":\"y\",\"type\":\"bar\"},{\"alignmentgroup\":\"True\",\"hovertemplate\":\"0=sexual orientation<br>1=%{x}<br>topic=%{y}<extra></extra>\",\"legendgroup\":\"sexual orientation\",\"marker\":{\"color\":\"#FF97FF\",\"pattern\":{\"shape\":\"\"}},\"name\":\"sexual orientation\",\"offsetgroup\":\"sexual orientation\",\"orientation\":\"h\",\"showlegend\":true,\"textposition\":\"auto\",\"x\":[10],\"xaxis\":\"x\",\"y\":[\"sexuality\"],\"yaxis\":\"y\",\"type\":\"bar\"},{\"alignmentgroup\":\"True\",\"hovertemplate\":\"0=homophobic violence<br>1=%{x}<br>topic=%{y}<extra></extra>\",\"legendgroup\":\"homophobic violence\",\"marker\":{\"color\":\"#B6E880\",\"pattern\":{\"shape\":\"\"}},\"name\":\"homophobic violence\",\"offsetgroup\":\"homophobic violence\",\"orientation\":\"h\",\"showlegend\":true,\"textposition\":\"auto\",\"x\":[8],\"xaxis\":\"x\",\"y\":[\"sexuality\"],\"yaxis\":\"y\",\"type\":\"bar\"},{\"alignmentgroup\":\"True\",\"hovertemplate\":\"0=sexual practice<br>1=%{x}<br>topic=%{y}<extra></extra>\",\"legendgroup\":\"sexual practice\",\"marker\":{\"color\":\"#FF6692\",\"pattern\":{\"shape\":\"\"}},\"name\":\"sexual practice\",\"offsetgroup\":\"sexual practice\",\"orientation\":\"h\",\"showlegend\":true,\"textposition\":\"auto\",\"x\":[7],\"xaxis\":\"x\",\"y\":[\"sexuality\"],\"yaxis\":\"y\",\"type\":\"bar\"},{\"alignmentgroup\":\"True\",\"hovertemplate\":\"0=mental health<br>1=%{x}<br>topic=%{y}<extra></extra>\",\"legendgroup\":\"mental health\",\"marker\":{\"color\":\"#19D3F3\",\"pattern\":{\"shape\":\"\"}},\"name\":\"mental health\",\"offsetgroup\":\"mental health\",\"orientation\":\"h\",\"showlegend\":true,\"textposition\":\"auto\",\"x\":[65,12],\"xaxis\":\"x\",\"y\":[\"covid\",\"child_family\"],\"yaxis\":\"y\",\"type\":\"bar\"},{\"alignmentgroup\":\"True\",\"hovertemplate\":\"0=covid pandemic<br>1=%{x}<br>topic=%{y}<extra></extra>\",\"legendgroup\":\"covid pandemic\",\"marker\":{\"color\":\"#FFA15A\",\"pattern\":{\"shape\":\"\"}},\"name\":\"covid pandemic\",\"offsetgroup\":\"covid pandemic\",\"orientation\":\"h\",\"showlegend\":true,\"textposition\":\"auto\",\"x\":[52,13],\"xaxis\":\"x\",\"y\":[\"covid\",\"education\"],\"yaxis\":\"y\",\"type\":\"bar\"},{\"alignmentgroup\":\"True\",\"hovertemplate\":\"0=public health<br>1=%{x}<br>topic=%{y}<extra></extra>\",\"legendgroup\":\"public health\",\"marker\":{\"color\":\"#AB63FA\",\"pattern\":{\"shape\":\"\"}},\"name\":\"public health\",\"offsetgroup\":\"public health\",\"orientation\":\"h\",\"showlegend\":true,\"textposition\":\"auto\",\"x\":[25],\"xaxis\":\"x\",\"y\":[\"covid\"],\"yaxis\":\"y\",\"type\":\"bar\"},{\"alignmentgroup\":\"True\",\"hovertemplate\":\"0=financial well<br>1=%{x}<br>topic=%{y}<extra></extra>\",\"legendgroup\":\"financial well\",\"marker\":{\"color\":\"#00CC96\",\"pattern\":{\"shape\":\"\"}},\"name\":\"financial well\",\"offsetgroup\":\"financial well\",\"orientation\":\"h\",\"showlegend\":true,\"textposition\":\"auto\",\"x\":[22],\"xaxis\":\"x\",\"y\":[\"covid\"],\"yaxis\":\"y\",\"type\":\"bar\"},{\"alignmentgroup\":\"True\",\"hovertemplate\":\"0=impact covid<br>1=%{x}<br>topic=%{y}<extra></extra>\",\"legendgroup\":\"impact covid\",\"marker\":{\"color\":\"#EF553B\",\"pattern\":{\"shape\":\"\"}},\"name\":\"impact covid\",\"offsetgroup\":\"impact covid\",\"orientation\":\"h\",\"showlegend\":true,\"textposition\":\"auto\",\"x\":[17],\"xaxis\":\"x\",\"y\":[\"covid\"],\"yaxis\":\"y\",\"type\":\"bar\"},{\"alignmentgroup\":\"True\",\"hovertemplate\":\"0=sars cov<br>1=%{x}<br>topic=%{y}<extra></extra>\",\"legendgroup\":\"sars cov\",\"marker\":{\"color\":\"#636EFA\",\"pattern\":{\"shape\":\"\"}},\"name\":\"sars cov\",\"offsetgroup\":\"sars cov\",\"orientation\":\"h\",\"showlegend\":true,\"textposition\":\"auto\",\"x\":[16],\"xaxis\":\"x\",\"y\":[\"covid\"],\"yaxis\":\"y\",\"type\":\"bar\"},{\"alignmentgroup\":\"True\",\"hovertemplate\":\"0=conspiracy theory<br>1=%{x}<br>topic=%{y}<extra></extra>\",\"legendgroup\":\"conspiracy theory\",\"marker\":{\"color\":\"#FECB52\",\"pattern\":{\"shape\":\"\"}},\"name\":\"conspiracy theory\",\"offsetgroup\":\"conspiracy theory\",\"orientation\":\"h\",\"showlegend\":true,\"textposition\":\"auto\",\"x\":[12],\"xaxis\":\"x\",\"y\":[\"covid\"],\"yaxis\":\"y\",\"type\":\"bar\"},{\"alignmentgroup\":\"True\",\"hovertemplate\":\"0=female condom<br>1=%{x}<br>topic=%{y}<extra></extra>\",\"legendgroup\":\"female condom\",\"marker\":{\"color\":\"#FF97FF\",\"pattern\":{\"shape\":\"\"}},\"name\":\"female condom\",\"offsetgroup\":\"female condom\",\"orientation\":\"h\",\"showlegend\":true,\"textposition\":\"auto\",\"x\":[17],\"xaxis\":\"x\",\"y\":[\"women\"],\"yaxis\":\"y\",\"type\":\"bar\"},{\"alignmentgroup\":\"True\",\"hovertemplate\":\"0=labour market<br>1=%{x}<br>topic=%{y}<extra></extra>\",\"legendgroup\":\"labour market\",\"marker\":{\"color\":\"#B6E880\",\"pattern\":{\"shape\":\"\"}},\"name\":\"labour market\",\"offsetgroup\":\"labour market\",\"orientation\":\"h\",\"showlegend\":true,\"textposition\":\"auto\",\"x\":[15],\"xaxis\":\"x\",\"y\":[\"women\"],\"yaxis\":\"y\",\"type\":\"bar\"},{\"alignmentgroup\":\"True\",\"hovertemplate\":\"0=new labour<br>1=%{x}<br>topic=%{y}<extra></extra>\",\"legendgroup\":\"new labour\",\"marker\":{\"color\":\"#FF6692\",\"pattern\":{\"shape\":\"\"}},\"name\":\"new labour\",\"offsetgroup\":\"new labour\",\"orientation\":\"h\",\"showlegend\":true,\"textposition\":\"auto\",\"x\":[10],\"xaxis\":\"x\",\"y\":[\"women\"],\"yaxis\":\"y\",\"type\":\"bar\"},{\"alignmentgroup\":\"True\",\"hovertemplate\":\"0=migrant woman<br>1=%{x}<br>topic=%{y}<extra></extra>\",\"legendgroup\":\"migrant woman\",\"marker\":{\"color\":\"#19D3F3\",\"pattern\":{\"shape\":\"\"}},\"name\":\"migrant woman\",\"offsetgroup\":\"migrant woman\",\"orientation\":\"h\",\"showlegend\":true,\"textposition\":\"auto\",\"x\":[8],\"xaxis\":\"x\",\"y\":[\"women\"],\"yaxis\":\"y\",\"type\":\"bar\"},{\"alignmentgroup\":\"True\",\"hovertemplate\":\"0=short term<br>1=%{x}<br>topic=%{y}<extra></extra>\",\"legendgroup\":\"short term\",\"marker\":{\"color\":\"#FFA15A\",\"pattern\":{\"shape\":\"\"}},\"name\":\"short term\",\"offsetgroup\":\"short term\",\"orientation\":\"h\",\"showlegend\":true,\"textposition\":\"auto\",\"x\":[7],\"xaxis\":\"x\",\"y\":[\"women\"],\"yaxis\":\"y\",\"type\":\"bar\"},{\"alignmentgroup\":\"True\",\"hovertemplate\":\"0=sub saharan<br>1=%{x}<br>topic=%{y}<extra></extra>\",\"legendgroup\":\"sub saharan\",\"marker\":{\"color\":\"#AB63FA\",\"pattern\":{\"shape\":\"\"}},\"name\":\"sub saharan\",\"offsetgroup\":\"sub saharan\",\"orientation\":\"h\",\"showlegend\":true,\"textposition\":\"auto\",\"x\":[7],\"xaxis\":\"x\",\"y\":[\"women\"],\"yaxis\":\"y\",\"type\":\"bar\"},{\"alignmentgroup\":\"True\",\"hovertemplate\":\"0=long term<br>1=%{x}<br>topic=%{y}<extra></extra>\",\"legendgroup\":\"long term\",\"marker\":{\"color\":\"#00CC96\",\"pattern\":{\"shape\":\"\"}},\"name\":\"long term\",\"offsetgroup\":\"long term\",\"orientation\":\"h\",\"showlegend\":true,\"textposition\":\"auto\",\"x\":[7],\"xaxis\":\"x\",\"y\":[\"women\"],\"yaxis\":\"y\",\"type\":\"bar\"},{\"alignmentgroup\":\"True\",\"hovertemplate\":\"0=knife crime<br>1=%{x}<br>topic=%{y}<extra></extra>\",\"legendgroup\":\"knife crime\",\"marker\":{\"color\":\"#EF553B\",\"pattern\":{\"shape\":\"\"}},\"name\":\"knife crime\",\"offsetgroup\":\"knife crime\",\"orientation\":\"h\",\"showlegend\":true,\"textposition\":\"auto\",\"x\":[22],\"xaxis\":\"x\",\"y\":[\"criminology\"],\"yaxis\":\"y\",\"type\":\"bar\"},{\"alignmentgroup\":\"True\",\"hovertemplate\":\"0=criminal justice<br>1=%{x}<br>topic=%{y}<extra></extra>\",\"legendgroup\":\"criminal justice\",\"marker\":{\"color\":\"#636EFA\",\"pattern\":{\"shape\":\"\"}},\"name\":\"criminal justice\",\"offsetgroup\":\"criminal justice\",\"orientation\":\"h\",\"showlegend\":true,\"textposition\":\"auto\",\"x\":[18],\"xaxis\":\"x\",\"y\":[\"criminology\"],\"yaxis\":\"y\",\"type\":\"bar\"},{\"alignmentgroup\":\"True\",\"hovertemplate\":\"0=climate justice<br>1=%{x}<br>topic=%{y}<extra></extra>\",\"legendgroup\":\"climate justice\",\"marker\":{\"color\":\"#FECB52\",\"pattern\":{\"shape\":\"\"}},\"name\":\"climate justice\",\"offsetgroup\":\"climate justice\",\"orientation\":\"h\",\"showlegend\":true,\"textposition\":\"auto\",\"x\":[18],\"xaxis\":\"x\",\"y\":[\"criminology\"],\"yaxis\":\"y\",\"type\":\"bar\"},{\"alignmentgroup\":\"True\",\"hovertemplate\":\"0=police officer<br>1=%{x}<br>topic=%{y}<extra></extra>\",\"legendgroup\":\"police officer\",\"marker\":{\"color\":\"#FF97FF\",\"pattern\":{\"shape\":\"\"}},\"name\":\"police officer\",\"offsetgroup\":\"police officer\",\"orientation\":\"h\",\"showlegend\":true,\"textposition\":\"auto\",\"x\":[12],\"xaxis\":\"x\",\"y\":[\"criminology\"],\"yaxis\":\"y\",\"type\":\"bar\"},{\"alignmentgroup\":\"True\",\"hovertemplate\":\"0=international criminal<br>1=%{x}<br>topic=%{y}<extra></extra>\",\"legendgroup\":\"international criminal\",\"marker\":{\"color\":\"#B6E880\",\"pattern\":{\"shape\":\"\"}},\"name\":\"international criminal\",\"offsetgroup\":\"international criminal\",\"orientation\":\"h\",\"showlegend\":true,\"textposition\":\"auto\",\"x\":[12],\"xaxis\":\"x\",\"y\":[\"criminology\"],\"yaxis\":\"y\",\"type\":\"bar\"},{\"alignmentgroup\":\"True\",\"hovertemplate\":\"0=victim survivor<br>1=%{x}<br>topic=%{y}<extra></extra>\",\"legendgroup\":\"victim survivor\",\"marker\":{\"color\":\"#FF6692\",\"pattern\":{\"shape\":\"\"}},\"name\":\"victim survivor\",\"offsetgroup\":\"victim survivor\",\"orientation\":\"h\",\"showlegend\":true,\"textposition\":\"auto\",\"x\":[11],\"xaxis\":\"x\",\"y\":[\"criminology\"],\"yaxis\":\"y\",\"type\":\"bar\"},{\"alignmentgroup\":\"True\",\"hovertemplate\":\"0=crime prevention<br>1=%{x}<br>topic=%{y}<extra></extra>\",\"legendgroup\":\"crime prevention\",\"marker\":{\"color\":\"#19D3F3\",\"pattern\":{\"shape\":\"\"}},\"name\":\"crime prevention\",\"offsetgroup\":\"crime prevention\",\"orientation\":\"h\",\"showlegend\":true,\"textposition\":\"auto\",\"x\":[11],\"xaxis\":\"x\",\"y\":[\"criminology\"],\"yaxis\":\"y\",\"type\":\"bar\"},{\"alignmentgroup\":\"True\",\"hovertemplate\":\"0=digital divide<br>1=%{x}<br>topic=%{y}<extra></extra>\",\"legendgroup\":\"digital divide\",\"marker\":{\"color\":\"#FFA15A\",\"pattern\":{\"shape\":\"\"}},\"name\":\"digital divide\",\"offsetgroup\":\"digital divide\",\"orientation\":\"h\",\"showlegend\":true,\"textposition\":\"auto\",\"x\":[15],\"xaxis\":\"x\",\"y\":[\"education\"],\"yaxis\":\"y\",\"type\":\"bar\"},{\"alignmentgroup\":\"True\",\"hovertemplate\":\"0=sex education<br>1=%{x}<br>topic=%{y}<extra></extra>\",\"legendgroup\":\"sex education\",\"marker\":{\"color\":\"#AB63FA\",\"pattern\":{\"shape\":\"\"}},\"name\":\"sex education\",\"offsetgroup\":\"sex education\",\"orientation\":\"h\",\"showlegend\":true,\"textposition\":\"auto\",\"x\":[14],\"xaxis\":\"x\",\"y\":[\"education\"],\"yaxis\":\"y\",\"type\":\"bar\"},{\"alignmentgroup\":\"True\",\"hovertemplate\":\"0=performance anxiety<br>1=%{x}<br>topic=%{y}<extra></extra>\",\"legendgroup\":\"performance anxiety\",\"marker\":{\"color\":\"#00CC96\",\"pattern\":{\"shape\":\"\"}},\"name\":\"performance anxiety\",\"offsetgroup\":\"performance anxiety\",\"orientation\":\"h\",\"showlegend\":true,\"textposition\":\"auto\",\"x\":[14],\"xaxis\":\"x\",\"y\":[\"education\"],\"yaxis\":\"y\",\"type\":\"bar\"},{\"alignmentgroup\":\"True\",\"hovertemplate\":\"0=online learning<br>1=%{x}<br>topic=%{y}<extra></extra>\",\"legendgroup\":\"online learning\",\"marker\":{\"color\":\"#EF553B\",\"pattern\":{\"shape\":\"\"}},\"name\":\"online learning\",\"offsetgroup\":\"online learning\",\"orientation\":\"h\",\"showlegend\":true,\"textposition\":\"auto\",\"x\":[13],\"xaxis\":\"x\",\"y\":[\"education\"],\"yaxis\":\"y\",\"type\":\"bar\"},{\"alignmentgroup\":\"True\",\"hovertemplate\":\"0=young people<br>1=%{x}<br>topic=%{y}<extra></extra>\",\"legendgroup\":\"young people\",\"marker\":{\"color\":\"#636EFA\",\"pattern\":{\"shape\":\"\"}},\"name\":\"young people\",\"offsetgroup\":\"young people\",\"orientation\":\"h\",\"showlegend\":true,\"textposition\":\"auto\",\"x\":[9,25],\"xaxis\":\"x\",\"y\":[\"education\",\"community_service\"],\"yaxis\":\"y\",\"type\":\"bar\"},{\"alignmentgroup\":\"True\",\"hovertemplate\":\"0=http www<br>1=%{x}<br>topic=%{y}<extra></extra>\",\"legendgroup\":\"http www\",\"marker\":{\"color\":\"#FECB52\",\"pattern\":{\"shape\":\"\"}},\"name\":\"http www\",\"offsetgroup\":\"http www\",\"orientation\":\"h\",\"showlegend\":true,\"textposition\":\"auto\",\"x\":[8],\"xaxis\":\"x\",\"y\":[\"education\"],\"yaxis\":\"y\",\"type\":\"bar\"},{\"alignmentgroup\":\"True\",\"hovertemplate\":\"0=physical activity<br>1=%{x}<br>topic=%{y}<extra></extra>\",\"legendgroup\":\"physical activity\",\"marker\":{\"color\":\"#FF97FF\",\"pattern\":{\"shape\":\"\"}},\"name\":\"physical activity\",\"offsetgroup\":\"physical activity\",\"orientation\":\"h\",\"showlegend\":true,\"textposition\":\"auto\",\"x\":[48],\"xaxis\":\"x\",\"y\":[\"health_medicine\"],\"yaxis\":\"y\",\"type\":\"bar\"},{\"alignmentgroup\":\"True\",\"hovertemplate\":\"0=digital platform<br>1=%{x}<br>topic=%{y}<extra></extra>\",\"legendgroup\":\"digital platform\",\"marker\":{\"color\":\"#B6E880\",\"pattern\":{\"shape\":\"\"}},\"name\":\"digital platform\",\"offsetgroup\":\"digital platform\",\"orientation\":\"h\",\"showlegend\":true,\"textposition\":\"auto\",\"x\":[27],\"xaxis\":\"x\",\"y\":[\"health_medicine\"],\"yaxis\":\"y\",\"type\":\"bar\"},{\"alignmentgroup\":\"True\",\"hovertemplate\":\"0=dy dy<br>1=%{x}<br>topic=%{y}<extra></extra>\",\"legendgroup\":\"dy dy\",\"marker\":{\"color\":\"#FF6692\",\"pattern\":{\"shape\":\"\"}},\"name\":\"dy dy\",\"offsetgroup\":\"dy dy\",\"orientation\":\"h\",\"showlegend\":true,\"textposition\":\"auto\",\"x\":[24],\"xaxis\":\"x\",\"y\":[\"health_medicine\"],\"yaxis\":\"y\",\"type\":\"bar\"},{\"alignmentgroup\":\"True\",\"hovertemplate\":\"0=mobile phone<br>1=%{x}<br>topic=%{y}<extra></extra>\",\"legendgroup\":\"mobile phone\",\"marker\":{\"color\":\"#19D3F3\",\"pattern\":{\"shape\":\"\"}},\"name\":\"mobile phone\",\"offsetgroup\":\"mobile phone\",\"orientation\":\"h\",\"showlegend\":true,\"textposition\":\"auto\",\"x\":[21],\"xaxis\":\"x\",\"y\":[\"health_medicine\"],\"yaxis\":\"y\",\"type\":\"bar\"},{\"alignmentgroup\":\"True\",\"hovertemplate\":\"0=risk factor<br>1=%{x}<br>topic=%{y}<extra></extra>\",\"legendgroup\":\"risk factor\",\"marker\":{\"color\":\"#FFA15A\",\"pattern\":{\"shape\":\"\"}},\"name\":\"risk factor\",\"offsetgroup\":\"risk factor\",\"orientation\":\"h\",\"showlegend\":true,\"textposition\":\"auto\",\"x\":[19],\"xaxis\":\"x\",\"y\":[\"health_medicine\"],\"yaxis\":\"y\",\"type\":\"bar\"},{\"alignmentgroup\":\"True\",\"hovertemplate\":\"0=quality life<br>1=%{x}<br>topic=%{y}<extra></extra>\",\"legendgroup\":\"quality life\",\"marker\":{\"color\":\"#AB63FA\",\"pattern\":{\"shape\":\"\"}},\"name\":\"quality life\",\"offsetgroup\":\"quality life\",\"orientation\":\"h\",\"showlegend\":true,\"textposition\":\"auto\",\"x\":[19],\"xaxis\":\"x\",\"y\":[\"health_medicine\"],\"yaxis\":\"y\",\"type\":\"bar\"},{\"alignmentgroup\":\"True\",\"hovertemplate\":\"0=safety voice<br>1=%{x}<br>topic=%{y}<extra></extra>\",\"legendgroup\":\"safety voice\",\"marker\":{\"color\":\"#00CC96\",\"pattern\":{\"shape\":\"\"}},\"name\":\"safety voice\",\"offsetgroup\":\"safety voice\",\"orientation\":\"h\",\"showlegend\":true,\"textposition\":\"auto\",\"x\":[18],\"xaxis\":\"x\",\"y\":[\"health_medicine\"],\"yaxis\":\"y\",\"type\":\"bar\"},{\"alignmentgroup\":\"True\",\"hovertemplate\":\"0=abuse material<br>1=%{x}<br>topic=%{y}<extra></extra>\",\"legendgroup\":\"abuse material\",\"marker\":{\"color\":\"#EF553B\",\"pattern\":{\"shape\":\"\"}},\"name\":\"abuse material\",\"offsetgroup\":\"abuse material\",\"orientation\":\"h\",\"showlegend\":true,\"textposition\":\"auto\",\"x\":[15],\"xaxis\":\"x\",\"y\":[\"child_family\"],\"yaxis\":\"y\",\"type\":\"bar\"},{\"alignmentgroup\":\"True\",\"hovertemplate\":\"0=mar conceived<br>1=%{x}<br>topic=%{y}<extra></extra>\",\"legendgroup\":\"mar conceived\",\"marker\":{\"color\":\"#636EFA\",\"pattern\":{\"shape\":\"\"}},\"name\":\"mar conceived\",\"offsetgroup\":\"mar conceived\",\"orientation\":\"h\",\"showlegend\":true,\"textposition\":\"auto\",\"x\":[9],\"xaxis\":\"x\",\"y\":[\"child_family\"],\"yaxis\":\"y\",\"type\":\"bar\"},{\"alignmentgroup\":\"True\",\"hovertemplate\":\"0=food insecurity<br>1=%{x}<br>topic=%{y}<extra></extra>\",\"legendgroup\":\"food insecurity\",\"marker\":{\"color\":\"#FECB52\",\"pattern\":{\"shape\":\"\"}},\"name\":\"food insecurity\",\"offsetgroup\":\"food insecurity\",\"orientation\":\"h\",\"showlegend\":true,\"textposition\":\"auto\",\"x\":[8],\"xaxis\":\"x\",\"y\":[\"child_family\"],\"yaxis\":\"y\",\"type\":\"bar\"},{\"alignmentgroup\":\"True\",\"hovertemplate\":\"0=conceived child<br>1=%{x}<br>topic=%{y}<extra></extra>\",\"legendgroup\":\"conceived child\",\"marker\":{\"color\":\"#FF97FF\",\"pattern\":{\"shape\":\"\"}},\"name\":\"conceived child\",\"offsetgroup\":\"conceived child\",\"orientation\":\"h\",\"showlegend\":true,\"textposition\":\"auto\",\"x\":[8],\"xaxis\":\"x\",\"y\":[\"child_family\"],\"yaxis\":\"y\",\"type\":\"bar\"},{\"alignmentgroup\":\"True\",\"hovertemplate\":\"0=child young<br>1=%{x}<br>topic=%{y}<extra></extra>\",\"legendgroup\":\"child young\",\"marker\":{\"color\":\"#B6E880\",\"pattern\":{\"shape\":\"\"}},\"name\":\"child young\",\"offsetgroup\":\"child young\",\"orientation\":\"h\",\"showlegend\":true,\"textposition\":\"auto\",\"x\":[8],\"xaxis\":\"x\",\"y\":[\"child_family\"],\"yaxis\":\"y\",\"type\":\"bar\"},{\"alignmentgroup\":\"True\",\"hovertemplate\":\"0=child centred<br>1=%{x}<br>topic=%{y}<extra></extra>\",\"legendgroup\":\"child centred\",\"marker\":{\"color\":\"#FF6692\",\"pattern\":{\"shape\":\"\"}},\"name\":\"child centred\",\"offsetgroup\":\"child centred\",\"orientation\":\"h\",\"showlegend\":true,\"textposition\":\"auto\",\"x\":[8],\"xaxis\":\"x\",\"y\":[\"child_family\"],\"yaxis\":\"y\",\"type\":\"bar\"},{\"alignmentgroup\":\"True\",\"hovertemplate\":\"0=indigenous people<br>1=%{x}<br>topic=%{y}<extra></extra>\",\"legendgroup\":\"indigenous people\",\"marker\":{\"color\":\"#19D3F3\",\"pattern\":{\"shape\":\"\"}},\"name\":\"indigenous people\",\"offsetgroup\":\"indigenous people\",\"orientation\":\"h\",\"showlegend\":true,\"textposition\":\"auto\",\"x\":[16],\"xaxis\":\"x\",\"y\":[\"community_service\"],\"yaxis\":\"y\",\"type\":\"bar\"},{\"alignmentgroup\":\"True\",\"hovertemplate\":\"0=palliative care<br>1=%{x}<br>topic=%{y}<extra></extra>\",\"legendgroup\":\"palliative care\",\"marker\":{\"color\":\"#FFA15A\",\"pattern\":{\"shape\":\"\"}},\"name\":\"palliative care\",\"offsetgroup\":\"palliative care\",\"orientation\":\"h\",\"showlegend\":true,\"textposition\":\"auto\",\"x\":[13],\"xaxis\":\"x\",\"y\":[\"community_service\"],\"yaxis\":\"y\",\"type\":\"bar\"},{\"alignmentgroup\":\"True\",\"hovertemplate\":\"0=community based<br>1=%{x}<br>topic=%{y}<extra></extra>\",\"legendgroup\":\"community based\",\"marker\":{\"color\":\"#AB63FA\",\"pattern\":{\"shape\":\"\"}},\"name\":\"community based\",\"offsetgroup\":\"community based\",\"orientation\":\"h\",\"showlegend\":true,\"textposition\":\"auto\",\"x\":[13],\"xaxis\":\"x\",\"y\":[\"community_service\"],\"yaxis\":\"y\",\"type\":\"bar\"},{\"alignmentgroup\":\"True\",\"hovertemplate\":\"0=older people<br>1=%{x}<br>topic=%{y}<extra></extra>\",\"legendgroup\":\"older people\",\"marker\":{\"color\":\"#00CC96\",\"pattern\":{\"shape\":\"\"}},\"name\":\"older people\",\"offsetgroup\":\"older people\",\"orientation\":\"h\",\"showlegend\":true,\"textposition\":\"auto\",\"x\":[13],\"xaxis\":\"x\",\"y\":[\"community_service\"],\"yaxis\":\"y\",\"type\":\"bar\"},{\"alignmentgroup\":\"True\",\"hovertemplate\":\"0=people living<br>1=%{x}<br>topic=%{y}<extra></extra>\",\"legendgroup\":\"people living\",\"marker\":{\"color\":\"#EF553B\",\"pattern\":{\"shape\":\"\"}},\"name\":\"people living\",\"offsetgroup\":\"people living\",\"orientation\":\"h\",\"showlegend\":true,\"textposition\":\"auto\",\"x\":[12],\"xaxis\":\"x\",\"y\":[\"community_service\"],\"yaxis\":\"y\",\"type\":\"bar\"}],                        {\"template\":{\"data\":{\"barpolar\":[{\"marker\":{\"line\":{\"color\":\"white\",\"width\":0.5},\"pattern\":{\"fillmode\":\"overlay\",\"size\":10,\"solidity\":0.2}},\"type\":\"barpolar\"}],\"bar\":[{\"error_x\":{\"color\":\"#2a3f5f\"},\"error_y\":{\"color\":\"#2a3f5f\"},\"marker\":{\"line\":{\"color\":\"white\",\"width\":0.5},\"pattern\":{\"fillmode\":\"overlay\",\"size\":10,\"solidity\":0.2}},\"type\":\"bar\"}],\"carpet\":[{\"aaxis\":{\"endlinecolor\":\"#2a3f5f\",\"gridcolor\":\"#C8D4E3\",\"linecolor\":\"#C8D4E3\",\"minorgridcolor\":\"#C8D4E3\",\"startlinecolor\":\"#2a3f5f\"},\"baxis\":{\"endlinecolor\":\"#2a3f5f\",\"gridcolor\":\"#C8D4E3\",\"linecolor\":\"#C8D4E3\",\"minorgridcolor\":\"#C8D4E3\",\"startlinecolor\":\"#2a3f5f\"},\"type\":\"carpet\"}],\"choropleth\":[{\"colorbar\":{\"outlinewidth\":0,\"ticks\":\"\"},\"type\":\"choropleth\"}],\"contourcarpet\":[{\"colorbar\":{\"outlinewidth\":0,\"ticks\":\"\"},\"type\":\"contourcarpet\"}],\"contour\":[{\"colorbar\":{\"outlinewidth\":0,\"ticks\":\"\"},\"colorscale\":[[0.0,\"#0d0887\"],[0.1111111111111111,\"#46039f\"],[0.2222222222222222,\"#7201a8\"],[0.3333333333333333,\"#9c179e\"],[0.4444444444444444,\"#bd3786\"],[0.5555555555555556,\"#d8576b\"],[0.6666666666666666,\"#ed7953\"],[0.7777777777777778,\"#fb9f3a\"],[0.8888888888888888,\"#fdca26\"],[1.0,\"#f0f921\"]],\"type\":\"contour\"}],\"heatmapgl\":[{\"colorbar\":{\"outlinewidth\":0,\"ticks\":\"\"},\"colorscale\":[[0.0,\"#0d0887\"],[0.1111111111111111,\"#46039f\"],[0.2222222222222222,\"#7201a8\"],[0.3333333333333333,\"#9c179e\"],[0.4444444444444444,\"#bd3786\"],[0.5555555555555556,\"#d8576b\"],[0.6666666666666666,\"#ed7953\"],[0.7777777777777778,\"#fb9f3a\"],[0.8888888888888888,\"#fdca26\"],[1.0,\"#f0f921\"]],\"type\":\"heatmapgl\"}],\"heatmap\":[{\"colorbar\":{\"outlinewidth\":0,\"ticks\":\"\"},\"colorscale\":[[0.0,\"#0d0887\"],[0.1111111111111111,\"#46039f\"],[0.2222222222222222,\"#7201a8\"],[0.3333333333333333,\"#9c179e\"],[0.4444444444444444,\"#bd3786\"],[0.5555555555555556,\"#d8576b\"],[0.6666666666666666,\"#ed7953\"],[0.7777777777777778,\"#fb9f3a\"],[0.8888888888888888,\"#fdca26\"],[1.0,\"#f0f921\"]],\"type\":\"heatmap\"}],\"histogram2dcontour\":[{\"colorbar\":{\"outlinewidth\":0,\"ticks\":\"\"},\"colorscale\":[[0.0,\"#0d0887\"],[0.1111111111111111,\"#46039f\"],[0.2222222222222222,\"#7201a8\"],[0.3333333333333333,\"#9c179e\"],[0.4444444444444444,\"#bd3786\"],[0.5555555555555556,\"#d8576b\"],[0.6666666666666666,\"#ed7953\"],[0.7777777777777778,\"#fb9f3a\"],[0.8888888888888888,\"#fdca26\"],[1.0,\"#f0f921\"]],\"type\":\"histogram2dcontour\"}],\"histogram2d\":[{\"colorbar\":{\"outlinewidth\":0,\"ticks\":\"\"},\"colorscale\":[[0.0,\"#0d0887\"],[0.1111111111111111,\"#46039f\"],[0.2222222222222222,\"#7201a8\"],[0.3333333333333333,\"#9c179e\"],[0.4444444444444444,\"#bd3786\"],[0.5555555555555556,\"#d8576b\"],[0.6666666666666666,\"#ed7953\"],[0.7777777777777778,\"#fb9f3a\"],[0.8888888888888888,\"#fdca26\"],[1.0,\"#f0f921\"]],\"type\":\"histogram2d\"}],\"histogram\":[{\"marker\":{\"pattern\":{\"fillmode\":\"overlay\",\"size\":10,\"solidity\":0.2}},\"type\":\"histogram\"}],\"mesh3d\":[{\"colorbar\":{\"outlinewidth\":0,\"ticks\":\"\"},\"type\":\"mesh3d\"}],\"parcoords\":[{\"line\":{\"colorbar\":{\"outlinewidth\":0,\"ticks\":\"\"}},\"type\":\"parcoords\"}],\"pie\":[{\"automargin\":true,\"type\":\"pie\"}],\"scatter3d\":[{\"line\":{\"colorbar\":{\"outlinewidth\":0,\"ticks\":\"\"}},\"marker\":{\"colorbar\":{\"outlinewidth\":0,\"ticks\":\"\"}},\"type\":\"scatter3d\"}],\"scattercarpet\":[{\"marker\":{\"colorbar\":{\"outlinewidth\":0,\"ticks\":\"\"}},\"type\":\"scattercarpet\"}],\"scattergeo\":[{\"marker\":{\"colorbar\":{\"outlinewidth\":0,\"ticks\":\"\"}},\"type\":\"scattergeo\"}],\"scattergl\":[{\"marker\":{\"colorbar\":{\"outlinewidth\":0,\"ticks\":\"\"}},\"type\":\"scattergl\"}],\"scattermapbox\":[{\"marker\":{\"colorbar\":{\"outlinewidth\":0,\"ticks\":\"\"}},\"type\":\"scattermapbox\"}],\"scatterpolargl\":[{\"marker\":{\"colorbar\":{\"outlinewidth\":0,\"ticks\":\"\"}},\"type\":\"scatterpolargl\"}],\"scatterpolar\":[{\"marker\":{\"colorbar\":{\"outlinewidth\":0,\"ticks\":\"\"}},\"type\":\"scatterpolar\"}],\"scatter\":[{\"marker\":{\"colorbar\":{\"outlinewidth\":0,\"ticks\":\"\"}},\"type\":\"scatter\"}],\"scatterternary\":[{\"marker\":{\"colorbar\":{\"outlinewidth\":0,\"ticks\":\"\"}},\"type\":\"scatterternary\"}],\"surface\":[{\"colorbar\":{\"outlinewidth\":0,\"ticks\":\"\"},\"colorscale\":[[0.0,\"#0d0887\"],[0.1111111111111111,\"#46039f\"],[0.2222222222222222,\"#7201a8\"],[0.3333333333333333,\"#9c179e\"],[0.4444444444444444,\"#bd3786\"],[0.5555555555555556,\"#d8576b\"],[0.6666666666666666,\"#ed7953\"],[0.7777777777777778,\"#fb9f3a\"],[0.8888888888888888,\"#fdca26\"],[1.0,\"#f0f921\"]],\"type\":\"surface\"}],\"table\":[{\"cells\":{\"fill\":{\"color\":\"#EBF0F8\"},\"line\":{\"color\":\"white\"}},\"header\":{\"fill\":{\"color\":\"#C8D4E3\"},\"line\":{\"color\":\"white\"}},\"type\":\"table\"}]},\"layout\":{\"annotationdefaults\":{\"arrowcolor\":\"#2a3f5f\",\"arrowhead\":0,\"arrowwidth\":1},\"autotypenumbers\":\"strict\",\"coloraxis\":{\"colorbar\":{\"outlinewidth\":0,\"ticks\":\"\"}},\"colorscale\":{\"diverging\":[[0,\"#8e0152\"],[0.1,\"#c51b7d\"],[0.2,\"#de77ae\"],[0.3,\"#f1b6da\"],[0.4,\"#fde0ef\"],[0.5,\"#f7f7f7\"],[0.6,\"#e6f5d0\"],[0.7,\"#b8e186\"],[0.8,\"#7fbc41\"],[0.9,\"#4d9221\"],[1,\"#276419\"]],\"sequential\":[[0.0,\"#0d0887\"],[0.1111111111111111,\"#46039f\"],[0.2222222222222222,\"#7201a8\"],[0.3333333333333333,\"#9c179e\"],[0.4444444444444444,\"#bd3786\"],[0.5555555555555556,\"#d8576b\"],[0.6666666666666666,\"#ed7953\"],[0.7777777777777778,\"#fb9f3a\"],[0.8888888888888888,\"#fdca26\"],[1.0,\"#f0f921\"]],\"sequentialminus\":[[0.0,\"#0d0887\"],[0.1111111111111111,\"#46039f\"],[0.2222222222222222,\"#7201a8\"],[0.3333333333333333,\"#9c179e\"],[0.4444444444444444,\"#bd3786\"],[0.5555555555555556,\"#d8576b\"],[0.6666666666666666,\"#ed7953\"],[0.7777777777777778,\"#fb9f3a\"],[0.8888888888888888,\"#fdca26\"],[1.0,\"#f0f921\"]]},\"colorway\":[\"#636efa\",\"#EF553B\",\"#00cc96\",\"#ab63fa\",\"#FFA15A\",\"#19d3f3\",\"#FF6692\",\"#B6E880\",\"#FF97FF\",\"#FECB52\"],\"font\":{\"color\":\"#2a3f5f\"},\"geo\":{\"bgcolor\":\"white\",\"lakecolor\":\"white\",\"landcolor\":\"white\",\"showlakes\":true,\"showland\":true,\"subunitcolor\":\"#C8D4E3\"},\"hoverlabel\":{\"align\":\"left\"},\"hovermode\":\"closest\",\"mapbox\":{\"style\":\"light\"},\"paper_bgcolor\":\"white\",\"plot_bgcolor\":\"white\",\"polar\":{\"angularaxis\":{\"gridcolor\":\"#EBF0F8\",\"linecolor\":\"#EBF0F8\",\"ticks\":\"\"},\"bgcolor\":\"white\",\"radialaxis\":{\"gridcolor\":\"#EBF0F8\",\"linecolor\":\"#EBF0F8\",\"ticks\":\"\"}},\"scene\":{\"xaxis\":{\"backgroundcolor\":\"white\",\"gridcolor\":\"#DFE8F3\",\"gridwidth\":2,\"linecolor\":\"#EBF0F8\",\"showbackground\":true,\"ticks\":\"\",\"zerolinecolor\":\"#EBF0F8\"},\"yaxis\":{\"backgroundcolor\":\"white\",\"gridcolor\":\"#DFE8F3\",\"gridwidth\":2,\"linecolor\":\"#EBF0F8\",\"showbackground\":true,\"ticks\":\"\",\"zerolinecolor\":\"#EBF0F8\"},\"zaxis\":{\"backgroundcolor\":\"white\",\"gridcolor\":\"#DFE8F3\",\"gridwidth\":2,\"linecolor\":\"#EBF0F8\",\"showbackground\":true,\"ticks\":\"\",\"zerolinecolor\":\"#EBF0F8\"}},\"shapedefaults\":{\"line\":{\"color\":\"#2a3f5f\"}},\"ternary\":{\"aaxis\":{\"gridcolor\":\"#DFE8F3\",\"linecolor\":\"#A2B1C6\",\"ticks\":\"\"},\"baxis\":{\"gridcolor\":\"#DFE8F3\",\"linecolor\":\"#A2B1C6\",\"ticks\":\"\"},\"bgcolor\":\"white\",\"caxis\":{\"gridcolor\":\"#DFE8F3\",\"linecolor\":\"#A2B1C6\",\"ticks\":\"\"}},\"title\":{\"x\":0.05},\"xaxis\":{\"automargin\":true,\"gridcolor\":\"#EBF0F8\",\"linecolor\":\"#EBF0F8\",\"ticks\":\"\",\"title\":{\"standoff\":15},\"zerolinecolor\":\"#EBF0F8\",\"zerolinewidth\":2},\"yaxis\":{\"automargin\":true,\"gridcolor\":\"#EBF0F8\",\"linecolor\":\"#EBF0F8\",\"ticks\":\"\",\"title\":{\"standoff\":15},\"zerolinecolor\":\"#EBF0F8\",\"zerolinewidth\":2}}},\"xaxis\":{\"anchor\":\"y\",\"domain\":[0.0,1.0],\"title\":{\"text\":\"1\"}},\"yaxis\":{\"anchor\":\"x\",\"domain\":[0.0,1.0],\"title\":{\"text\":\"topic\"}},\"legend\":{\"title\":{\"text\":\"0\"},\"tracegroupgap\":0},\"margin\":{\"t\":60},\"barmode\":\"relative\",\"font\":{\"size\":10,\"color\":\"DarkSlateGray\"},\"width\":1200,\"height\":500},                        {\"responsive\": true}                    ).then(function(){\n",
       "                            \n",
       "var gd = document.getElementById('367f9e7c-81e0-4f9a-9f1a-0cd876bbebc4');\n",
       "var x = new MutationObserver(function (mutations, observer) {{\n",
       "        var display = window.getComputedStyle(gd).display;\n",
       "        if (!display || display === 'none') {{\n",
       "            console.log([gd, 'removed!']);\n",
       "            Plotly.purge(gd);\n",
       "            observer.disconnect();\n",
       "        }}\n",
       "}});\n",
       "\n",
       "// Listen for the removal of the full notebook cells\n",
       "var notebookContainer = gd.closest('#notebook-container');\n",
       "if (notebookContainer) {{\n",
       "    x.observe(notebookContainer, {childList: true});\n",
       "}}\n",
       "\n",
       "// Listen for the clearing of the current output cell\n",
       "var outputEl = gd.closest('.output');\n",
       "if (outputEl) {{\n",
       "    x.observe(outputEl, {childList: true});\n",
       "}}\n",
       "\n",
       "                        })                };                });            </script>        </div>"
      ]
     },
     "metadata": {},
     "output_type": "display_data"
    }
   ],
   "source": [
    "fig = px.bar(df3, x=1, y='topic', template='plotly_white', orientation='h',\n",
    "             labels={1: 'freqcy', 0: 'Bigram', 'topic': 'topic'},\n",
    "             color=0, color_discrete_sequence=px.colors.qualitative.Plotly_r)\n",
    "fig.update_layout(font=dict(size=10, color='DarkSlateGray'))\n",
    "fig.update_layout(width=1200, height=500)\n",
    "fig.show()\n",
    "\n",
    "fig.write_html(\"figures/NMF_topics_bigram.html\")\n"
   ]
  },
  {
   "cell_type": "code",
   "execution_count": 70,
   "id": "b3816216",
   "metadata": {},
   "outputs": [],
   "source": [
    "df4 = pd.DataFrame()\n",
    "topics2=['politics','community_service','covid','environment','women','sexuality','criminology','education','health_medicine','mental_health','child_family','economy']\n",
    "for t in topics2:\n",
    "    common_words_topic = get_top_n_grams(df[df['main_topic_cx']==t]['abstract'],(2,3), 7)\n",
    "    dft = pd.DataFrame(common_words_topic)\n",
    "    dft[\"topic\"]=t\n",
    "    df4=df4.append(dft)\n",
    "\n"
   ]
  },
  {
   "cell_type": "code",
   "execution_count": 84,
   "id": "ee9cf6a0",
   "metadata": {},
   "outputs": [
    {
     "data": {
      "application/vnd.plotly.v1+json": {
       "config": {
        "plotlyServerURL": "https://plot.ly"
       },
       "data": [
        {
         "alignmentgroup": "True",
         "hovertemplate": "0=human right<br>1=%{x}<br>topic=%{y}<extra></extra>",
         "legendgroup": "human right",
         "marker": {
          "color": "#FECB52",
          "pattern": {
           "shape": ""
          }
         },
         "name": "human right",
         "offsetgroup": "human right",
         "orientation": "h",
         "showlegend": true,
         "textposition": "auto",
         "type": "bar",
         "x": [
          28
         ],
         "xaxis": "x",
         "y": [
          "politics"
         ],
         "yaxis": "y"
        },
        {
         "alignmentgroup": "True",
         "hovertemplate": "0=united state<br>1=%{x}<br>topic=%{y}<extra></extra>",
         "legendgroup": "united state",
         "marker": {
          "color": "#FF97FF",
          "pattern": {
           "shape": ""
          }
         },
         "name": "united state",
         "offsetgroup": "united state",
         "orientation": "h",
         "showlegend": true,
         "textposition": "auto",
         "type": "bar",
         "x": [
          24
         ],
         "xaxis": "x",
         "y": [
          "politics"
         ],
         "yaxis": "y"
        },
        {
         "alignmentgroup": "True",
         "hovertemplate": "0=dy dy<br>1=%{x}<br>topic=%{y}<extra></extra>",
         "legendgroup": "dy dy",
         "marker": {
          "color": "#B6E880",
          "pattern": {
           "shape": ""
          }
         },
         "name": "dy dy",
         "offsetgroup": "dy dy",
         "orientation": "h",
         "showlegend": true,
         "textposition": "auto",
         "type": "bar",
         "x": [
          24
         ],
         "xaxis": "x",
         "y": [
          "politics"
         ],
         "yaxis": "y"
        },
        {
         "alignmentgroup": "True",
         "hovertemplate": "0=case study<br>1=%{x}<br>topic=%{y}<extra></extra>",
         "legendgroup": "case study",
         "marker": {
          "color": "#FF6692",
          "pattern": {
           "shape": ""
          }
         },
         "name": "case study",
         "offsetgroup": "case study",
         "orientation": "h",
         "showlegend": true,
         "textposition": "auto",
         "type": "bar",
         "x": [
          23,
          15
         ],
         "xaxis": "x",
         "y": [
          "politics",
          "community_service"
         ],
         "yaxis": "y"
        },
        {
         "alignmentgroup": "True",
         "hovertemplate": "0=et al<br>1=%{x}<br>topic=%{y}<extra></extra>",
         "legendgroup": "et al",
         "marker": {
          "color": "#19D3F3",
          "pattern": {
           "shape": ""
          }
         },
         "name": "et al",
         "offsetgroup": "et al",
         "orientation": "h",
         "showlegend": true,
         "textposition": "auto",
         "type": "bar",
         "x": [
          21
         ],
         "xaxis": "x",
         "y": [
          "politics"
         ],
         "yaxis": "y"
        },
        {
         "alignmentgroup": "True",
         "hovertemplate": "0=dy dy dy<br>1=%{x}<br>topic=%{y}<extra></extra>",
         "legendgroup": "dy dy dy",
         "marker": {
          "color": "#FFA15A",
          "pattern": {
           "shape": ""
          }
         },
         "name": "dy dy dy",
         "offsetgroup": "dy dy dy",
         "orientation": "h",
         "showlegend": true,
         "textposition": "auto",
         "type": "bar",
         "x": [
          18
         ],
         "xaxis": "x",
         "y": [
          "politics"
         ],
         "yaxis": "y"
        },
        {
         "alignmentgroup": "True",
         "hovertemplate": "0=climate justice<br>1=%{x}<br>topic=%{y}<extra></extra>",
         "legendgroup": "climate justice",
         "marker": {
          "color": "#AB63FA",
          "pattern": {
           "shape": ""
          }
         },
         "name": "climate justice",
         "offsetgroup": "climate justice",
         "orientation": "h",
         "showlegend": true,
         "textposition": "auto",
         "type": "bar",
         "x": [
          18
         ],
         "xaxis": "x",
         "y": [
          "politics"
         ],
         "yaxis": "y"
        },
        {
         "alignmentgroup": "True",
         "hovertemplate": "0=young people<br>1=%{x}<br>topic=%{y}<extra></extra>",
         "legendgroup": "young people",
         "marker": {
          "color": "#00CC96",
          "pattern": {
           "shape": ""
          }
         },
         "name": "young people",
         "offsetgroup": "young people",
         "orientation": "h",
         "showlegend": true,
         "textposition": "auto",
         "type": "bar",
         "x": [
          25,
          16
         ],
         "xaxis": "x",
         "y": [
          "community_service",
          "education"
         ],
         "yaxis": "y"
        },
        {
         "alignmentgroup": "True",
         "hovertemplate": "0=long term<br>1=%{x}<br>topic=%{y}<extra></extra>",
         "legendgroup": "long term",
         "marker": {
          "color": "#EF553B",
          "pattern": {
           "shape": ""
          }
         },
         "name": "long term",
         "offsetgroup": "long term",
         "orientation": "h",
         "showlegend": true,
         "textposition": "auto",
         "type": "bar",
         "x": [
          20
         ],
         "xaxis": "x",
         "y": [
          "community_service"
         ],
         "yaxis": "y"
        },
        {
         "alignmentgroup": "True",
         "hovertemplate": "0=quality life<br>1=%{x}<br>topic=%{y}<extra></extra>",
         "legendgroup": "quality life",
         "marker": {
          "color": "#636EFA",
          "pattern": {
           "shape": ""
          }
         },
         "name": "quality life",
         "offsetgroup": "quality life",
         "orientation": "h",
         "showlegend": true,
         "textposition": "auto",
         "type": "bar",
         "x": [
          18
         ],
         "xaxis": "x",
         "y": [
          "community_service"
         ],
         "yaxis": "y"
        },
        {
         "alignmentgroup": "True",
         "hovertemplate": "0=mental health<br>1=%{x}<br>topic=%{y}<extra></extra>",
         "legendgroup": "mental health",
         "marker": {
          "color": "#FECB52",
          "pattern": {
           "shape": ""
          }
         },
         "name": "mental health",
         "offsetgroup": "mental health",
         "orientation": "h",
         "showlegend": true,
         "textposition": "auto",
         "type": "bar",
         "x": [
          16,
          62,
          11
         ],
         "xaxis": "x",
         "y": [
          "community_service",
          "covid",
          "education"
         ],
         "yaxis": "y"
        },
        {
         "alignmentgroup": "True",
         "hovertemplate": "0=public health<br>1=%{x}<br>topic=%{y}<extra></extra>",
         "legendgroup": "public health",
         "marker": {
          "color": "#FF97FF",
          "pattern": {
           "shape": ""
          }
         },
         "name": "public health",
         "offsetgroup": "public health",
         "orientation": "h",
         "showlegend": true,
         "textposition": "auto",
         "type": "bar",
         "x": [
          15,
          17
         ],
         "xaxis": "x",
         "y": [
          "community_service",
          "covid"
         ],
         "yaxis": "y"
        },
        {
         "alignmentgroup": "True",
         "hovertemplate": "0=older people<br>1=%{x}<br>topic=%{y}<extra></extra>",
         "legendgroup": "older people",
         "marker": {
          "color": "#B6E880",
          "pattern": {
           "shape": ""
          }
         },
         "name": "older people",
         "offsetgroup": "older people",
         "orientation": "h",
         "showlegend": true,
         "textposition": "auto",
         "type": "bar",
         "x": [
          15
         ],
         "xaxis": "x",
         "y": [
          "community_service"
         ],
         "yaxis": "y"
        },
        {
         "alignmentgroup": "True",
         "hovertemplate": "0=covid pandemic<br>1=%{x}<br>topic=%{y}<extra></extra>",
         "legendgroup": "covid pandemic",
         "marker": {
          "color": "#FF6692",
          "pattern": {
           "shape": ""
          }
         },
         "name": "covid pandemic",
         "offsetgroup": "covid pandemic",
         "orientation": "h",
         "showlegend": true,
         "textposition": "auto",
         "type": "bar",
         "x": [
          63
         ],
         "xaxis": "x",
         "y": [
          "covid"
         ],
         "yaxis": "y"
        },
        {
         "alignmentgroup": "True",
         "hovertemplate": "0=physical activity<br>1=%{x}<br>topic=%{y}<extra></extra>",
         "legendgroup": "physical activity",
         "marker": {
          "color": "#19D3F3",
          "pattern": {
           "shape": ""
          }
         },
         "name": "physical activity",
         "offsetgroup": "physical activity",
         "orientation": "h",
         "showlegend": true,
         "textposition": "auto",
         "type": "bar",
         "x": [
          27,
          6
         ],
         "xaxis": "x",
         "y": [
          "covid",
          "women"
         ],
         "yaxis": "y"
        },
        {
         "alignmentgroup": "True",
         "hovertemplate": "0=digital platform<br>1=%{x}<br>topic=%{y}<extra></extra>",
         "legendgroup": "digital platform",
         "marker": {
          "color": "#FFA15A",
          "pattern": {
           "shape": ""
          }
         },
         "name": "digital platform",
         "offsetgroup": "digital platform",
         "orientation": "h",
         "showlegend": true,
         "textposition": "auto",
         "type": "bar",
         "x": [
          27
         ],
         "xaxis": "x",
         "y": [
          "covid"
         ],
         "yaxis": "y"
        },
        {
         "alignmentgroup": "True",
         "hovertemplate": "0=impact covid<br>1=%{x}<br>topic=%{y}<extra></extra>",
         "legendgroup": "impact covid",
         "marker": {
          "color": "#AB63FA",
          "pattern": {
           "shape": ""
          }
         },
         "name": "impact covid",
         "offsetgroup": "impact covid",
         "orientation": "h",
         "showlegend": true,
         "textposition": "auto",
         "type": "bar",
         "x": [
          18
         ],
         "xaxis": "x",
         "y": [
          "covid"
         ],
         "yaxis": "y"
        },
        {
         "alignmentgroup": "True",
         "hovertemplate": "0=female condom<br>1=%{x}<br>topic=%{y}<extra></extra>",
         "legendgroup": "female condom",
         "marker": {
          "color": "#00CC96",
          "pattern": {
           "shape": ""
          }
         },
         "name": "female condom",
         "offsetgroup": "female condom",
         "orientation": "h",
         "showlegend": true,
         "textposition": "auto",
         "type": "bar",
         "x": [
          17
         ],
         "xaxis": "x",
         "y": [
          "covid"
         ],
         "yaxis": "y"
        },
        {
         "alignmentgroup": "True",
         "hovertemplate": "0=discriminating power<br>1=%{x}<br>topic=%{y}<extra></extra>",
         "legendgroup": "discriminating power",
         "marker": {
          "color": "#EF553B",
          "pattern": {
           "shape": ""
          }
         },
         "name": "discriminating power",
         "offsetgroup": "discriminating power",
         "orientation": "h",
         "showlegend": true,
         "textposition": "auto",
         "type": "bar",
         "x": [
          9
         ],
         "xaxis": "x",
         "y": [
          "environment"
         ],
         "yaxis": "y"
        },
        {
         "alignmentgroup": "True",
         "hovertemplate": "0=disruptive innovation<br>1=%{x}<br>topic=%{y}<extra></extra>",
         "legendgroup": "disruptive innovation",
         "marker": {
          "color": "#636EFA",
          "pattern": {
           "shape": ""
          }
         },
         "name": "disruptive innovation",
         "offsetgroup": "disruptive innovation",
         "orientation": "h",
         "showlegend": true,
         "textposition": "auto",
         "type": "bar",
         "x": [
          7
         ],
         "xaxis": "x",
         "y": [
          "environment"
         ],
         "yaxis": "y"
        },
        {
         "alignmentgroup": "True",
         "hovertemplate": "0=centrality metric<br>1=%{x}<br>topic=%{y}<extra></extra>",
         "legendgroup": "centrality metric",
         "marker": {
          "color": "#FECB52",
          "pattern": {
           "shape": ""
          }
         },
         "name": "centrality metric",
         "offsetgroup": "centrality metric",
         "orientation": "h",
         "showlegend": true,
         "textposition": "auto",
         "type": "bar",
         "x": [
          7
         ],
         "xaxis": "x",
         "y": [
          "environment"
         ],
         "yaxis": "y"
        },
        {
         "alignmentgroup": "True",
         "hovertemplate": "0=edge centrality<br>1=%{x}<br>topic=%{y}<extra></extra>",
         "legendgroup": "edge centrality",
         "marker": {
          "color": "#FF97FF",
          "pattern": {
           "shape": ""
          }
         },
         "name": "edge centrality",
         "offsetgroup": "edge centrality",
         "orientation": "h",
         "showlegend": true,
         "textposition": "auto",
         "type": "bar",
         "x": [
          7
         ],
         "xaxis": "x",
         "y": [
          "environment"
         ],
         "yaxis": "y"
        },
        {
         "alignmentgroup": "True",
         "hovertemplate": "0=natural law<br>1=%{x}<br>topic=%{y}<extra></extra>",
         "legendgroup": "natural law",
         "marker": {
          "color": "#B6E880",
          "pattern": {
           "shape": ""
          }
         },
         "name": "natural law",
         "offsetgroup": "natural law",
         "orientation": "h",
         "showlegend": true,
         "textposition": "auto",
         "type": "bar",
         "x": [
          7
         ],
         "xaxis": "x",
         "y": [
          "environment"
         ],
         "yaxis": "y"
        },
        {
         "alignmentgroup": "True",
         "hovertemplate": "0=farmer right<br>1=%{x}<br>topic=%{y}<extra></extra>",
         "legendgroup": "farmer right",
         "marker": {
          "color": "#FF6692",
          "pattern": {
           "shape": ""
          }
         },
         "name": "farmer right",
         "offsetgroup": "farmer right",
         "orientation": "h",
         "showlegend": true,
         "textposition": "auto",
         "type": "bar",
         "x": [
          6
         ],
         "xaxis": "x",
         "y": [
          "environment"
         ],
         "yaxis": "y"
        },
        {
         "alignmentgroup": "True",
         "hovertemplate": "0=humananimal relation<br>1=%{x}<br>topic=%{y}<extra></extra>",
         "legendgroup": "humananimal relation",
         "marker": {
          "color": "#19D3F3",
          "pattern": {
           "shape": ""
          }
         },
         "name": "humananimal relation",
         "offsetgroup": "humananimal relation",
         "orientation": "h",
         "showlegend": true,
         "textposition": "auto",
         "type": "bar",
         "x": [
          6
         ],
         "xaxis": "x",
         "y": [
          "environment"
         ],
         "yaxis": "y"
        },
        {
         "alignmentgroup": "True",
         "hovertemplate": "0=fracture hospitalization<br>1=%{x}<br>topic=%{y}<extra></extra>",
         "legendgroup": "fracture hospitalization",
         "marker": {
          "color": "#FFA15A",
          "pattern": {
           "shape": ""
          }
         },
         "name": "fracture hospitalization",
         "offsetgroup": "fracture hospitalization",
         "orientation": "h",
         "showlegend": true,
         "textposition": "auto",
         "type": "bar",
         "x": [
          9
         ],
         "xaxis": "x",
         "y": [
          "women"
         ],
         "yaxis": "y"
        },
        {
         "alignmentgroup": "True",
         "hovertemplate": "0=hospitalization rate<br>1=%{x}<br>topic=%{y}<extra></extra>",
         "legendgroup": "hospitalization rate",
         "marker": {
          "color": "#AB63FA",
          "pattern": {
           "shape": ""
          }
         },
         "name": "hospitalization rate",
         "offsetgroup": "hospitalization rate",
         "orientation": "h",
         "showlegend": true,
         "textposition": "auto",
         "type": "bar",
         "x": [
          8
         ],
         "xaxis": "x",
         "y": [
          "women"
         ],
         "yaxis": "y"
        },
        {
         "alignmentgroup": "True",
         "hovertemplate": "0=fracture hospitalization rate<br>1=%{x}<br>topic=%{y}<extra></extra>",
         "legendgroup": "fracture hospitalization rate",
         "marker": {
          "color": "#00CC96",
          "pattern": {
           "shape": ""
          }
         },
         "name": "fracture hospitalization rate",
         "offsetgroup": "fracture hospitalization rate",
         "orientation": "h",
         "showlegend": true,
         "textposition": "auto",
         "type": "bar",
         "x": [
          7
         ],
         "xaxis": "x",
         "y": [
          "women"
         ],
         "yaxis": "y"
        },
        {
         "alignmentgroup": "True",
         "hovertemplate": "0=ina group<br>1=%{x}<br>topic=%{y}<extra></extra>",
         "legendgroup": "ina group",
         "marker": {
          "color": "#EF553B",
          "pattern": {
           "shape": ""
          }
         },
         "name": "ina group",
         "offsetgroup": "ina group",
         "orientation": "h",
         "showlegend": true,
         "textposition": "auto",
         "type": "bar",
         "x": [
          6
         ],
         "xaxis": "x",
         "y": [
          "women"
         ],
         "yaxis": "y"
        },
        {
         "alignmentgroup": "True",
         "hovertemplate": "0=human trafficking<br>1=%{x}<br>topic=%{y}<extra></extra>",
         "legendgroup": "human trafficking",
         "marker": {
          "color": "#636EFA",
          "pattern": {
           "shape": ""
          }
         },
         "name": "human trafficking",
         "offsetgroup": "human trafficking",
         "orientation": "h",
         "showlegend": true,
         "textposition": "auto",
         "type": "bar",
         "x": [
          5
         ],
         "xaxis": "x",
         "y": [
          "women"
         ],
         "yaxis": "y"
        },
        {
         "alignmentgroup": "True",
         "hovertemplate": "0=trafficking slavery<br>1=%{x}<br>topic=%{y}<extra></extra>",
         "legendgroup": "trafficking slavery",
         "marker": {
          "color": "#FECB52",
          "pattern": {
           "shape": ""
          }
         },
         "name": "trafficking slavery",
         "offsetgroup": "trafficking slavery",
         "orientation": "h",
         "showlegend": true,
         "textposition": "auto",
         "type": "bar",
         "x": [
          5
         ],
         "xaxis": "x",
         "y": [
          "women"
         ],
         "yaxis": "y"
        },
        {
         "alignmentgroup": "True",
         "hovertemplate": "0=age standardised<br>1=%{x}<br>topic=%{y}<extra></extra>",
         "legendgroup": "age standardised",
         "marker": {
          "color": "#FF97FF",
          "pattern": {
           "shape": ""
          }
         },
         "name": "age standardised",
         "offsetgroup": "age standardised",
         "orientation": "h",
         "showlegend": true,
         "textposition": "auto",
         "type": "bar",
         "x": [
          11
         ],
         "xaxis": "x",
         "y": [
          "sexuality"
         ],
         "yaxis": "y"
        },
        {
         "alignmentgroup": "True",
         "hovertemplate": "0=peg rhumgdf<br>1=%{x}<br>topic=%{y}<extra></extra>",
         "legendgroup": "peg rhumgdf",
         "marker": {
          "color": "#B6E880",
          "pattern": {
           "shape": ""
          }
         },
         "name": "peg rhumgdf",
         "offsetgroup": "peg rhumgdf",
         "orientation": "h",
         "showlegend": true,
         "textposition": "auto",
         "type": "bar",
         "x": [
          7
         ],
         "xaxis": "x",
         "y": [
          "sexuality"
         ],
         "yaxis": "y"
        },
        {
         "alignmentgroup": "True",
         "hovertemplate": "0=multi omics<br>1=%{x}<br>topic=%{y}<extra></extra>",
         "legendgroup": "multi omics",
         "marker": {
          "color": "#FF6692",
          "pattern": {
           "shape": ""
          }
         },
         "name": "multi omics",
         "offsetgroup": "multi omics",
         "orientation": "h",
         "showlegend": true,
         "textposition": "auto",
         "type": "bar",
         "x": [
          7
         ],
         "xaxis": "x",
         "y": [
          "sexuality"
         ],
         "yaxis": "y"
        },
        {
         "alignmentgroup": "True",
         "hovertemplate": "0=essentialist belief<br>1=%{x}<br>topic=%{y}<extra></extra>",
         "legendgroup": "essentialist belief",
         "marker": {
          "color": "#19D3F3",
          "pattern": {
           "shape": ""
          }
         },
         "name": "essentialist belief",
         "offsetgroup": "essentialist belief",
         "orientation": "h",
         "showlegend": true,
         "textposition": "auto",
         "type": "bar",
         "x": [
          5
         ],
         "xaxis": "x",
         "y": [
          "sexuality"
         ],
         "yaxis": "y"
        },
        {
         "alignmentgroup": "True",
         "hovertemplate": "0=cvr transcript<br>1=%{x}<br>topic=%{y}<extra></extra>",
         "legendgroup": "cvr transcript",
         "marker": {
          "color": "#FFA15A",
          "pattern": {
           "shape": ""
          }
         },
         "name": "cvr transcript",
         "offsetgroup": "cvr transcript",
         "orientation": "h",
         "showlegend": true,
         "textposition": "auto",
         "type": "bar",
         "x": [
          5
         ],
         "xaxis": "x",
         "y": [
          "sexuality"
         ],
         "yaxis": "y"
        },
        {
         "alignmentgroup": "True",
         "hovertemplate": "0=rate per<br>1=%{x}<br>topic=%{y}<extra></extra>",
         "legendgroup": "rate per",
         "marker": {
          "color": "#AB63FA",
          "pattern": {
           "shape": ""
          }
         },
         "name": "rate per",
         "offsetgroup": "rate per",
         "orientation": "h",
         "showlegend": true,
         "textposition": "auto",
         "type": "bar",
         "x": [
          5
         ],
         "xaxis": "x",
         "y": [
          "sexuality"
         ],
         "yaxis": "y"
        },
        {
         "alignmentgroup": "True",
         "hovertemplate": "0=standardised prevalence<br>1=%{x}<br>topic=%{y}<extra></extra>",
         "legendgroup": "standardised prevalence",
         "marker": {
          "color": "#00CC96",
          "pattern": {
           "shape": ""
          }
         },
         "name": "standardised prevalence",
         "offsetgroup": "standardised prevalence",
         "orientation": "h",
         "showlegend": true,
         "textposition": "auto",
         "type": "bar",
         "x": [
          5
         ],
         "xaxis": "x",
         "y": [
          "sexuality"
         ],
         "yaxis": "y"
        },
        {
         "alignmentgroup": "True",
         "hovertemplate": "0=level planner<br>1=%{x}<br>topic=%{y}<extra></extra>",
         "legendgroup": "level planner",
         "marker": {
          "color": "#EF553B",
          "pattern": {
           "shape": ""
          }
         },
         "name": "level planner",
         "offsetgroup": "level planner",
         "orientation": "h",
         "showlegend": true,
         "textposition": "auto",
         "type": "bar",
         "x": [
          10
         ],
         "xaxis": "x",
         "y": [
          "criminology"
         ],
         "yaxis": "y"
        },
        {
         "alignmentgroup": "True",
         "hovertemplate": "0=new guinean<br>1=%{x}<br>topic=%{y}<extra></extra>",
         "legendgroup": "new guinean",
         "marker": {
          "color": "#636EFA",
          "pattern": {
           "shape": ""
          }
         },
         "name": "new guinean",
         "offsetgroup": "new guinean",
         "orientation": "h",
         "showlegend": true,
         "textposition": "auto",
         "type": "bar",
         "x": [
          7
         ],
         "xaxis": "x",
         "y": [
          "criminology"
         ],
         "yaxis": "y"
        },
        {
         "alignmentgroup": "True",
         "hovertemplate": "0=coercive control<br>1=%{x}<br>topic=%{y}<extra></extra>",
         "legendgroup": "coercive control",
         "marker": {
          "color": "#FECB52",
          "pattern": {
           "shape": ""
          }
         },
         "name": "coercive control",
         "offsetgroup": "coercive control",
         "orientation": "h",
         "showlegend": true,
         "textposition": "auto",
         "type": "bar",
         "x": [
          7
         ],
         "xaxis": "x",
         "y": [
          "criminology"
         ],
         "yaxis": "y"
        },
        {
         "alignmentgroup": "True",
         "hovertemplate": "0=harq scheme<br>1=%{x}<br>topic=%{y}<extra></extra>",
         "legendgroup": "harq scheme",
         "marker": {
          "color": "#FF97FF",
          "pattern": {
           "shape": ""
          }
         },
         "name": "harq scheme",
         "offsetgroup": "harq scheme",
         "orientation": "h",
         "showlegend": true,
         "textposition": "auto",
         "type": "bar",
         "x": [
          7
         ],
         "xaxis": "x",
         "y": [
          "criminology"
         ],
         "yaxis": "y"
        },
        {
         "alignmentgroup": "True",
         "hovertemplate": "0=crime prevention<br>1=%{x}<br>topic=%{y}<extra></extra>",
         "legendgroup": "crime prevention",
         "marker": {
          "color": "#B6E880",
          "pattern": {
           "shape": ""
          }
         },
         "name": "crime prevention",
         "offsetgroup": "crime prevention",
         "orientation": "h",
         "showlegend": true,
         "textposition": "auto",
         "type": "bar",
         "x": [
          7
         ],
         "xaxis": "x",
         "y": [
          "criminology"
         ],
         "yaxis": "y"
        },
        {
         "alignmentgroup": "True",
         "hovertemplate": "0=concentric stenosis<br>1=%{x}<br>topic=%{y}<extra></extra>",
         "legendgroup": "concentric stenosis",
         "marker": {
          "color": "#FF6692",
          "pattern": {
           "shape": ""
          }
         },
         "name": "concentric stenosis",
         "offsetgroup": "concentric stenosis",
         "orientation": "h",
         "showlegend": true,
         "textposition": "auto",
         "type": "bar",
         "x": [
          6
         ],
         "xaxis": "x",
         "y": [
          "criminology"
         ],
         "yaxis": "y"
        },
        {
         "alignmentgroup": "True",
         "hovertemplate": "0=papua new<br>1=%{x}<br>topic=%{y}<extra></extra>",
         "legendgroup": "papua new",
         "marker": {
          "color": "#19D3F3",
          "pattern": {
           "shape": ""
          }
         },
         "name": "papua new",
         "offsetgroup": "papua new",
         "orientation": "h",
         "showlegend": true,
         "textposition": "auto",
         "type": "bar",
         "x": [
          6
         ],
         "xaxis": "x",
         "y": [
          "criminology"
         ],
         "yaxis": "y"
        },
        {
         "alignmentgroup": "True",
         "hovertemplate": "0=sex education<br>1=%{x}<br>topic=%{y}<extra></extra>",
         "legendgroup": "sex education",
         "marker": {
          "color": "#FFA15A",
          "pattern": {
           "shape": ""
          }
         },
         "name": "sex education",
         "offsetgroup": "sex education",
         "orientation": "h",
         "showlegend": true,
         "textposition": "auto",
         "type": "bar",
         "x": [
          14
         ],
         "xaxis": "x",
         "y": [
          "education"
         ],
         "yaxis": "y"
        },
        {
         "alignmentgroup": "True",
         "hovertemplate": "0=performance anxiety<br>1=%{x}<br>topic=%{y}<extra></extra>",
         "legendgroup": "performance anxiety",
         "marker": {
          "color": "#AB63FA",
          "pattern": {
           "shape": ""
          }
         },
         "name": "performance anxiety",
         "offsetgroup": "performance anxiety",
         "orientation": "h",
         "showlegend": true,
         "textposition": "auto",
         "type": "bar",
         "x": [
          14
         ],
         "xaxis": "x",
         "y": [
          "education"
         ],
         "yaxis": "y"
        },
        {
         "alignmentgroup": "True",
         "hovertemplate": "0=twin pair<br>1=%{x}<br>topic=%{y}<extra></extra>",
         "legendgroup": "twin pair",
         "marker": {
          "color": "#00CC96",
          "pattern": {
           "shape": ""
          }
         },
         "name": "twin pair",
         "offsetgroup": "twin pair",
         "orientation": "h",
         "showlegend": true,
         "textposition": "auto",
         "type": "bar",
         "x": [
          13
         ],
         "xaxis": "x",
         "y": [
          "education"
         ],
         "yaxis": "y"
        },
        {
         "alignmentgroup": "True",
         "hovertemplate": "0=per day<br>1=%{x}<br>topic=%{y}<extra></extra>",
         "legendgroup": "per day",
         "marker": {
          "color": "#EF553B",
          "pattern": {
           "shape": ""
          }
         },
         "name": "per day",
         "offsetgroup": "per day",
         "orientation": "h",
         "showlegend": true,
         "textposition": "auto",
         "type": "bar",
         "x": [
          12
         ],
         "xaxis": "x",
         "y": [
          "education"
         ],
         "yaxis": "y"
        },
        {
         "alignmentgroup": "True",
         "hovertemplate": "0=intellectual disability<br>1=%{x}<br>topic=%{y}<extra></extra>",
         "legendgroup": "intellectual disability",
         "marker": {
          "color": "#636EFA",
          "pattern": {
           "shape": ""
          }
         },
         "name": "intellectual disability",
         "offsetgroup": "intellectual disability",
         "orientation": "h",
         "showlegend": true,
         "textposition": "auto",
         "type": "bar",
         "x": [
          11
         ],
         "xaxis": "x",
         "y": [
          "education"
         ],
         "yaxis": "y"
        },
        {
         "alignmentgroup": "True",
         "hovertemplate": "0=backed artefact<br>1=%{x}<br>topic=%{y}<extra></extra>",
         "legendgroup": "backed artefact",
         "marker": {
          "color": "#FECB52",
          "pattern": {
           "shape": ""
          }
         },
         "name": "backed artefact",
         "offsetgroup": "backed artefact",
         "orientation": "h",
         "showlegend": true,
         "textposition": "auto",
         "type": "bar",
         "x": [
          8
         ],
         "xaxis": "x",
         "y": [
          "health_medicine"
         ],
         "yaxis": "y"
        },
        {
         "alignmentgroup": "True",
         "hovertemplate": "0=heat treatment<br>1=%{x}<br>topic=%{y}<extra></extra>",
         "legendgroup": "heat treatment",
         "marker": {
          "color": "#FF97FF",
          "pattern": {
           "shape": ""
          }
         },
         "name": "heat treatment",
         "offsetgroup": "heat treatment",
         "orientation": "h",
         "showlegend": true,
         "textposition": "auto",
         "type": "bar",
         "x": [
          5
         ],
         "xaxis": "x",
         "y": [
          "health_medicine"
         ],
         "yaxis": "y"
        },
        {
         "alignmentgroup": "True",
         "hovertemplate": "0=prevalence multimorbidity<br>1=%{x}<br>topic=%{y}<extra></extra>",
         "legendgroup": "prevalence multimorbidity",
         "marker": {
          "color": "#B6E880",
          "pattern": {
           "shape": ""
          }
         },
         "name": "prevalence multimorbidity",
         "offsetgroup": "prevalence multimorbidity",
         "orientation": "h",
         "showlegend": true,
         "textposition": "auto",
         "type": "bar",
         "x": [
          5
         ],
         "xaxis": "x",
         "y": [
          "health_medicine"
         ],
         "yaxis": "y"
        },
        {
         "alignmentgroup": "True",
         "hovertemplate": "0=chronic condition<br>1=%{x}<br>topic=%{y}<extra></extra>",
         "legendgroup": "chronic condition",
         "marker": {
          "color": "#FF6692",
          "pattern": {
           "shape": ""
          }
         },
         "name": "chronic condition",
         "offsetgroup": "chronic condition",
         "orientation": "h",
         "showlegend": true,
         "textposition": "auto",
         "type": "bar",
         "x": [
          5
         ],
         "xaxis": "x",
         "y": [
          "health_medicine"
         ],
         "yaxis": "y"
        },
        {
         "alignmentgroup": "True",
         "hovertemplate": "0=reaction rate<br>1=%{x}<br>topic=%{y}<extra></extra>",
         "legendgroup": "reaction rate",
         "marker": {
          "color": "#19D3F3",
          "pattern": {
           "shape": ""
          }
         },
         "name": "reaction rate",
         "offsetgroup": "reaction rate",
         "orientation": "h",
         "showlegend": true,
         "textposition": "auto",
         "type": "bar",
         "x": [
          4
         ],
         "xaxis": "x",
         "y": [
          "health_medicine"
         ],
         "yaxis": "y"
        },
        {
         "alignmentgroup": "True",
         "hovertemplate": "0=surgical site<br>1=%{x}<br>topic=%{y}<extra></extra>",
         "legendgroup": "surgical site",
         "marker": {
          "color": "#FFA15A",
          "pattern": {
           "shape": ""
          }
         },
         "name": "surgical site",
         "offsetgroup": "surgical site",
         "orientation": "h",
         "showlegend": true,
         "textposition": "auto",
         "type": "bar",
         "x": [
          4
         ],
         "xaxis": "x",
         "y": [
          "health_medicine"
         ],
         "yaxis": "y"
        },
        {
         "alignmentgroup": "True",
         "hovertemplate": "0=site infection<br>1=%{x}<br>topic=%{y}<extra></extra>",
         "legendgroup": "site infection",
         "marker": {
          "color": "#AB63FA",
          "pattern": {
           "shape": ""
          }
         },
         "name": "site infection",
         "offsetgroup": "site infection",
         "orientation": "h",
         "showlegend": true,
         "textposition": "auto",
         "type": "bar",
         "x": [
          4
         ],
         "xaxis": "x",
         "y": [
          "health_medicine"
         ],
         "yaxis": "y"
        },
        {
         "alignmentgroup": "True",
         "hovertemplate": "0=suicidal ideation<br>1=%{x}<br>topic=%{y}<extra></extra>",
         "legendgroup": "suicidal ideation",
         "marker": {
          "color": "#00CC96",
          "pattern": {
           "shape": ""
          }
         },
         "name": "suicidal ideation",
         "offsetgroup": "suicidal ideation",
         "orientation": "h",
         "showlegend": true,
         "textposition": "auto",
         "type": "bar",
         "x": [
          13
         ],
         "xaxis": "x",
         "y": [
          "mental_health"
         ],
         "yaxis": "y"
        },
        {
         "alignmentgroup": "True",
         "hovertemplate": "0=financial well<br>1=%{x}<br>topic=%{y}<extra></extra>",
         "legendgroup": "financial well",
         "marker": {
          "color": "#EF553B",
          "pattern": {
           "shape": ""
          }
         },
         "name": "financial well",
         "offsetgroup": "financial well",
         "orientation": "h",
         "showlegend": true,
         "textposition": "auto",
         "type": "bar",
         "x": [
          13,
          9
         ],
         "xaxis": "x",
         "y": [
          "mental_health",
          "economy"
         ],
         "yaxis": "y"
        },
        {
         "alignmentgroup": "True",
         "hovertemplate": "0=phone driving<br>1=%{x}<br>topic=%{y}<extra></extra>",
         "legendgroup": "phone driving",
         "marker": {
          "color": "#636EFA",
          "pattern": {
           "shape": ""
          }
         },
         "name": "phone driving",
         "offsetgroup": "phone driving",
         "orientation": "h",
         "showlegend": true,
         "textposition": "auto",
         "type": "bar",
         "x": [
          12
         ],
         "xaxis": "x",
         "y": [
          "mental_health"
         ],
         "yaxis": "y"
        },
        {
         "alignmentgroup": "True",
         "hovertemplate": "0=cell phone<br>1=%{x}<br>topic=%{y}<extra></extra>",
         "legendgroup": "cell phone",
         "marker": {
          "color": "#FECB52",
          "pattern": {
           "shape": ""
          }
         },
         "name": "cell phone",
         "offsetgroup": "cell phone",
         "orientation": "h",
         "showlegend": true,
         "textposition": "auto",
         "type": "bar",
         "x": [
          11
         ],
         "xaxis": "x",
         "y": [
          "mental_health"
         ],
         "yaxis": "y"
        },
        {
         "alignmentgroup": "True",
         "hovertemplate": "0=sp cell<br>1=%{x}<br>topic=%{y}<extra></extra>",
         "legendgroup": "sp cell",
         "marker": {
          "color": "#FF97FF",
          "pattern": {
           "shape": ""
          }
         },
         "name": "sp cell",
         "offsetgroup": "sp cell",
         "orientation": "h",
         "showlegend": true,
         "textposition": "auto",
         "type": "bar",
         "x": [
          10
         ],
         "xaxis": "x",
         "y": [
          "mental_health"
         ],
         "yaxis": "y"
        },
        {
         "alignmentgroup": "True",
         "hovertemplate": "0=mobile phone<br>1=%{x}<br>topic=%{y}<extra></extra>",
         "legendgroup": "mobile phone",
         "marker": {
          "color": "#B6E880",
          "pattern": {
           "shape": ""
          }
         },
         "name": "mobile phone",
         "offsetgroup": "mobile phone",
         "orientation": "h",
         "showlegend": true,
         "textposition": "auto",
         "type": "bar",
         "x": [
          9
         ],
         "xaxis": "x",
         "y": [
          "mental_health"
         ],
         "yaxis": "y"
        },
        {
         "alignmentgroup": "True",
         "hovertemplate": "0=mar conceived<br>1=%{x}<br>topic=%{y}<extra></extra>",
         "legendgroup": "mar conceived",
         "marker": {
          "color": "#FF6692",
          "pattern": {
           "shape": ""
          }
         },
         "name": "mar conceived",
         "offsetgroup": "mar conceived",
         "orientation": "h",
         "showlegend": true,
         "textposition": "auto",
         "type": "bar",
         "x": [
          9
         ],
         "xaxis": "x",
         "y": [
          "mental_health"
         ],
         "yaxis": "y"
        },
        {
         "alignmentgroup": "True",
         "hovertemplate": "0=abuse material<br>1=%{x}<br>topic=%{y}<extra></extra>",
         "legendgroup": "abuse material",
         "marker": {
          "color": "#19D3F3",
          "pattern": {
           "shape": ""
          }
         },
         "name": "abuse material",
         "offsetgroup": "abuse material",
         "orientation": "h",
         "showlegend": true,
         "textposition": "auto",
         "type": "bar",
         "x": [
          14
         ],
         "xaxis": "x",
         "y": [
          "child_family"
         ],
         "yaxis": "y"
        },
        {
         "alignmentgroup": "True",
         "hovertemplate": "0=gastric cancer<br>1=%{x}<br>topic=%{y}<extra></extra>",
         "legendgroup": "gastric cancer",
         "marker": {
          "color": "#FFA15A",
          "pattern": {
           "shape": ""
          }
         },
         "name": "gastric cancer",
         "offsetgroup": "gastric cancer",
         "orientation": "h",
         "showlegend": true,
         "textposition": "auto",
         "type": "bar",
         "x": [
          8
         ],
         "xaxis": "x",
         "y": [
          "child_family"
         ],
         "yaxis": "y"
        },
        {
         "alignmentgroup": "True",
         "hovertemplate": "0=child centred<br>1=%{x}<br>topic=%{y}<extra></extra>",
         "legendgroup": "child centred",
         "marker": {
          "color": "#AB63FA",
          "pattern": {
           "shape": ""
          }
         },
         "name": "child centred",
         "offsetgroup": "child centred",
         "orientation": "h",
         "showlegend": true,
         "textposition": "auto",
         "type": "bar",
         "x": [
          7
         ],
         "xaxis": "x",
         "y": [
          "child_family"
         ],
         "yaxis": "y"
        },
        {
         "alignmentgroup": "True",
         "hovertemplate": "0=wage share<br>1=%{x}<br>topic=%{y}<extra></extra>",
         "legendgroup": "wage share",
         "marker": {
          "color": "#00CC96",
          "pattern": {
           "shape": ""
          }
         },
         "name": "wage share",
         "offsetgroup": "wage share",
         "orientation": "h",
         "showlegend": true,
         "textposition": "auto",
         "type": "bar",
         "x": [
          7
         ],
         "xaxis": "x",
         "y": [
          "child_family"
         ],
         "yaxis": "y"
        },
        {
         "alignmentgroup": "True",
         "hovertemplate": "0=body composition<br>1=%{x}<br>topic=%{y}<extra></extra>",
         "legendgroup": "body composition",
         "marker": {
          "color": "#EF553B",
          "pattern": {
           "shape": ""
          }
         },
         "name": "body composition",
         "offsetgroup": "body composition",
         "orientation": "h",
         "showlegend": true,
         "textposition": "auto",
         "type": "bar",
         "x": [
          6
         ],
         "xaxis": "x",
         "y": [
          "child_family"
         ],
         "yaxis": "y"
        },
        {
         "alignmentgroup": "True",
         "hovertemplate": "0=point prevalence<br>1=%{x}<br>topic=%{y}<extra></extra>",
         "legendgroup": "point prevalence",
         "marker": {
          "color": "#636EFA",
          "pattern": {
           "shape": ""
          }
         },
         "name": "point prevalence",
         "offsetgroup": "point prevalence",
         "orientation": "h",
         "showlegend": true,
         "textposition": "auto",
         "type": "bar",
         "x": [
          6
         ],
         "xaxis": "x",
         "y": [
          "child_family"
         ],
         "yaxis": "y"
        },
        {
         "alignmentgroup": "True",
         "hovertemplate": "0=indigenous child<br>1=%{x}<br>topic=%{y}<extra></extra>",
         "legendgroup": "indigenous child",
         "marker": {
          "color": "#FECB52",
          "pattern": {
           "shape": ""
          }
         },
         "name": "indigenous child",
         "offsetgroup": "indigenous child",
         "orientation": "h",
         "showlegend": true,
         "textposition": "auto",
         "type": "bar",
         "x": [
          5
         ],
         "xaxis": "x",
         "y": [
          "child_family"
         ],
         "yaxis": "y"
        },
        {
         "alignmentgroup": "True",
         "hovertemplate": "0=regional cpi<br>1=%{x}<br>topic=%{y}<extra></extra>",
         "legendgroup": "regional cpi",
         "marker": {
          "color": "#FF97FF",
          "pattern": {
           "shape": ""
          }
         },
         "name": "regional cpi",
         "offsetgroup": "regional cpi",
         "orientation": "h",
         "showlegend": true,
         "textposition": "auto",
         "type": "bar",
         "x": [
          6
         ],
         "xaxis": "x",
         "y": [
          "economy"
         ],
         "yaxis": "y"
        },
        {
         "alignmentgroup": "True",
         "hovertemplate": "0=co management<br>1=%{x}<br>topic=%{y}<extra></extra>",
         "legendgroup": "co management",
         "marker": {
          "color": "#B6E880",
          "pattern": {
           "shape": ""
          }
         },
         "name": "co management",
         "offsetgroup": "co management",
         "orientation": "h",
         "showlegend": true,
         "textposition": "auto",
         "type": "bar",
         "x": [
          6
         ],
         "xaxis": "x",
         "y": [
          "economy"
         ],
         "yaxis": "y"
        },
        {
         "alignmentgroup": "True",
         "hovertemplate": "0=medium usage<br>1=%{x}<br>topic=%{y}<extra></extra>",
         "legendgroup": "medium usage",
         "marker": {
          "color": "#FF6692",
          "pattern": {
           "shape": ""
          }
         },
         "name": "medium usage",
         "offsetgroup": "medium usage",
         "orientation": "h",
         "showlegend": true,
         "textposition": "auto",
         "type": "bar",
         "x": [
          5
         ],
         "xaxis": "x",
         "y": [
          "economy"
         ],
         "yaxis": "y"
        },
        {
         "alignmentgroup": "True",
         "hovertemplate": "0=strong leader<br>1=%{x}<br>topic=%{y}<extra></extra>",
         "legendgroup": "strong leader",
         "marker": {
          "color": "#19D3F3",
          "pattern": {
           "shape": ""
          }
         },
         "name": "strong leader",
         "offsetgroup": "strong leader",
         "orientation": "h",
         "showlegend": true,
         "textposition": "auto",
         "type": "bar",
         "x": [
          5
         ],
         "xaxis": "x",
         "y": [
          "economy"
         ],
         "yaxis": "y"
        },
        {
         "alignmentgroup": "True",
         "hovertemplate": "0=advocacy tactic<br>1=%{x}<br>topic=%{y}<extra></extra>",
         "legendgroup": "advocacy tactic",
         "marker": {
          "color": "#FFA15A",
          "pattern": {
           "shape": ""
          }
         },
         "name": "advocacy tactic",
         "offsetgroup": "advocacy tactic",
         "orientation": "h",
         "showlegend": true,
         "textposition": "auto",
         "type": "bar",
         "x": [
          5
         ],
         "xaxis": "x",
         "y": [
          "economy"
         ],
         "yaxis": "y"
        },
        {
         "alignmentgroup": "True",
         "hovertemplate": "0=western journalist<br>1=%{x}<br>topic=%{y}<extra></extra>",
         "legendgroup": "western journalist",
         "marker": {
          "color": "#AB63FA",
          "pattern": {
           "shape": ""
          }
         },
         "name": "western journalist",
         "offsetgroup": "western journalist",
         "orientation": "h",
         "showlegend": true,
         "textposition": "auto",
         "type": "bar",
         "x": [
          4
         ],
         "xaxis": "x",
         "y": [
          "economy"
         ],
         "yaxis": "y"
        }
       ],
       "layout": {
        "barmode": "relative",
        "font": {
         "color": "DarkSlateGray",
         "size": 10
        },
        "height": 500,
        "legend": {
         "title": {
          "text": "0"
         },
         "tracegroupgap": 0
        },
        "margin": {
         "t": 60
        },
        "template": {
         "data": {
          "bar": [
           {
            "error_x": {
             "color": "#2a3f5f"
            },
            "error_y": {
             "color": "#2a3f5f"
            },
            "marker": {
             "line": {
              "color": "white",
              "width": 0.5
             },
             "pattern": {
              "fillmode": "overlay",
              "size": 10,
              "solidity": 0.2
             }
            },
            "type": "bar"
           }
          ],
          "barpolar": [
           {
            "marker": {
             "line": {
              "color": "white",
              "width": 0.5
             },
             "pattern": {
              "fillmode": "overlay",
              "size": 10,
              "solidity": 0.2
             }
            },
            "type": "barpolar"
           }
          ],
          "carpet": [
           {
            "aaxis": {
             "endlinecolor": "#2a3f5f",
             "gridcolor": "#C8D4E3",
             "linecolor": "#C8D4E3",
             "minorgridcolor": "#C8D4E3",
             "startlinecolor": "#2a3f5f"
            },
            "baxis": {
             "endlinecolor": "#2a3f5f",
             "gridcolor": "#C8D4E3",
             "linecolor": "#C8D4E3",
             "minorgridcolor": "#C8D4E3",
             "startlinecolor": "#2a3f5f"
            },
            "type": "carpet"
           }
          ],
          "choropleth": [
           {
            "colorbar": {
             "outlinewidth": 0,
             "ticks": ""
            },
            "type": "choropleth"
           }
          ],
          "contour": [
           {
            "colorbar": {
             "outlinewidth": 0,
             "ticks": ""
            },
            "colorscale": [
             [
              0,
              "#0d0887"
             ],
             [
              0.1111111111111111,
              "#46039f"
             ],
             [
              0.2222222222222222,
              "#7201a8"
             ],
             [
              0.3333333333333333,
              "#9c179e"
             ],
             [
              0.4444444444444444,
              "#bd3786"
             ],
             [
              0.5555555555555556,
              "#d8576b"
             ],
             [
              0.6666666666666666,
              "#ed7953"
             ],
             [
              0.7777777777777778,
              "#fb9f3a"
             ],
             [
              0.8888888888888888,
              "#fdca26"
             ],
             [
              1,
              "#f0f921"
             ]
            ],
            "type": "contour"
           }
          ],
          "contourcarpet": [
           {
            "colorbar": {
             "outlinewidth": 0,
             "ticks": ""
            },
            "type": "contourcarpet"
           }
          ],
          "heatmap": [
           {
            "colorbar": {
             "outlinewidth": 0,
             "ticks": ""
            },
            "colorscale": [
             [
              0,
              "#0d0887"
             ],
             [
              0.1111111111111111,
              "#46039f"
             ],
             [
              0.2222222222222222,
              "#7201a8"
             ],
             [
              0.3333333333333333,
              "#9c179e"
             ],
             [
              0.4444444444444444,
              "#bd3786"
             ],
             [
              0.5555555555555556,
              "#d8576b"
             ],
             [
              0.6666666666666666,
              "#ed7953"
             ],
             [
              0.7777777777777778,
              "#fb9f3a"
             ],
             [
              0.8888888888888888,
              "#fdca26"
             ],
             [
              1,
              "#f0f921"
             ]
            ],
            "type": "heatmap"
           }
          ],
          "heatmapgl": [
           {
            "colorbar": {
             "outlinewidth": 0,
             "ticks": ""
            },
            "colorscale": [
             [
              0,
              "#0d0887"
             ],
             [
              0.1111111111111111,
              "#46039f"
             ],
             [
              0.2222222222222222,
              "#7201a8"
             ],
             [
              0.3333333333333333,
              "#9c179e"
             ],
             [
              0.4444444444444444,
              "#bd3786"
             ],
             [
              0.5555555555555556,
              "#d8576b"
             ],
             [
              0.6666666666666666,
              "#ed7953"
             ],
             [
              0.7777777777777778,
              "#fb9f3a"
             ],
             [
              0.8888888888888888,
              "#fdca26"
             ],
             [
              1,
              "#f0f921"
             ]
            ],
            "type": "heatmapgl"
           }
          ],
          "histogram": [
           {
            "marker": {
             "pattern": {
              "fillmode": "overlay",
              "size": 10,
              "solidity": 0.2
             }
            },
            "type": "histogram"
           }
          ],
          "histogram2d": [
           {
            "colorbar": {
             "outlinewidth": 0,
             "ticks": ""
            },
            "colorscale": [
             [
              0,
              "#0d0887"
             ],
             [
              0.1111111111111111,
              "#46039f"
             ],
             [
              0.2222222222222222,
              "#7201a8"
             ],
             [
              0.3333333333333333,
              "#9c179e"
             ],
             [
              0.4444444444444444,
              "#bd3786"
             ],
             [
              0.5555555555555556,
              "#d8576b"
             ],
             [
              0.6666666666666666,
              "#ed7953"
             ],
             [
              0.7777777777777778,
              "#fb9f3a"
             ],
             [
              0.8888888888888888,
              "#fdca26"
             ],
             [
              1,
              "#f0f921"
             ]
            ],
            "type": "histogram2d"
           }
          ],
          "histogram2dcontour": [
           {
            "colorbar": {
             "outlinewidth": 0,
             "ticks": ""
            },
            "colorscale": [
             [
              0,
              "#0d0887"
             ],
             [
              0.1111111111111111,
              "#46039f"
             ],
             [
              0.2222222222222222,
              "#7201a8"
             ],
             [
              0.3333333333333333,
              "#9c179e"
             ],
             [
              0.4444444444444444,
              "#bd3786"
             ],
             [
              0.5555555555555556,
              "#d8576b"
             ],
             [
              0.6666666666666666,
              "#ed7953"
             ],
             [
              0.7777777777777778,
              "#fb9f3a"
             ],
             [
              0.8888888888888888,
              "#fdca26"
             ],
             [
              1,
              "#f0f921"
             ]
            ],
            "type": "histogram2dcontour"
           }
          ],
          "mesh3d": [
           {
            "colorbar": {
             "outlinewidth": 0,
             "ticks": ""
            },
            "type": "mesh3d"
           }
          ],
          "parcoords": [
           {
            "line": {
             "colorbar": {
              "outlinewidth": 0,
              "ticks": ""
             }
            },
            "type": "parcoords"
           }
          ],
          "pie": [
           {
            "automargin": true,
            "type": "pie"
           }
          ],
          "scatter": [
           {
            "marker": {
             "colorbar": {
              "outlinewidth": 0,
              "ticks": ""
             }
            },
            "type": "scatter"
           }
          ],
          "scatter3d": [
           {
            "line": {
             "colorbar": {
              "outlinewidth": 0,
              "ticks": ""
             }
            },
            "marker": {
             "colorbar": {
              "outlinewidth": 0,
              "ticks": ""
             }
            },
            "type": "scatter3d"
           }
          ],
          "scattercarpet": [
           {
            "marker": {
             "colorbar": {
              "outlinewidth": 0,
              "ticks": ""
             }
            },
            "type": "scattercarpet"
           }
          ],
          "scattergeo": [
           {
            "marker": {
             "colorbar": {
              "outlinewidth": 0,
              "ticks": ""
             }
            },
            "type": "scattergeo"
           }
          ],
          "scattergl": [
           {
            "marker": {
             "colorbar": {
              "outlinewidth": 0,
              "ticks": ""
             }
            },
            "type": "scattergl"
           }
          ],
          "scattermapbox": [
           {
            "marker": {
             "colorbar": {
              "outlinewidth": 0,
              "ticks": ""
             }
            },
            "type": "scattermapbox"
           }
          ],
          "scatterpolar": [
           {
            "marker": {
             "colorbar": {
              "outlinewidth": 0,
              "ticks": ""
             }
            },
            "type": "scatterpolar"
           }
          ],
          "scatterpolargl": [
           {
            "marker": {
             "colorbar": {
              "outlinewidth": 0,
              "ticks": ""
             }
            },
            "type": "scatterpolargl"
           }
          ],
          "scatterternary": [
           {
            "marker": {
             "colorbar": {
              "outlinewidth": 0,
              "ticks": ""
             }
            },
            "type": "scatterternary"
           }
          ],
          "surface": [
           {
            "colorbar": {
             "outlinewidth": 0,
             "ticks": ""
            },
            "colorscale": [
             [
              0,
              "#0d0887"
             ],
             [
              0.1111111111111111,
              "#46039f"
             ],
             [
              0.2222222222222222,
              "#7201a8"
             ],
             [
              0.3333333333333333,
              "#9c179e"
             ],
             [
              0.4444444444444444,
              "#bd3786"
             ],
             [
              0.5555555555555556,
              "#d8576b"
             ],
             [
              0.6666666666666666,
              "#ed7953"
             ],
             [
              0.7777777777777778,
              "#fb9f3a"
             ],
             [
              0.8888888888888888,
              "#fdca26"
             ],
             [
              1,
              "#f0f921"
             ]
            ],
            "type": "surface"
           }
          ],
          "table": [
           {
            "cells": {
             "fill": {
              "color": "#EBF0F8"
             },
             "line": {
              "color": "white"
             }
            },
            "header": {
             "fill": {
              "color": "#C8D4E3"
             },
             "line": {
              "color": "white"
             }
            },
            "type": "table"
           }
          ]
         },
         "layout": {
          "annotationdefaults": {
           "arrowcolor": "#2a3f5f",
           "arrowhead": 0,
           "arrowwidth": 1
          },
          "autotypenumbers": "strict",
          "coloraxis": {
           "colorbar": {
            "outlinewidth": 0,
            "ticks": ""
           }
          },
          "colorscale": {
           "diverging": [
            [
             0,
             "#8e0152"
            ],
            [
             0.1,
             "#c51b7d"
            ],
            [
             0.2,
             "#de77ae"
            ],
            [
             0.3,
             "#f1b6da"
            ],
            [
             0.4,
             "#fde0ef"
            ],
            [
             0.5,
             "#f7f7f7"
            ],
            [
             0.6,
             "#e6f5d0"
            ],
            [
             0.7,
             "#b8e186"
            ],
            [
             0.8,
             "#7fbc41"
            ],
            [
             0.9,
             "#4d9221"
            ],
            [
             1,
             "#276419"
            ]
           ],
           "sequential": [
            [
             0,
             "#0d0887"
            ],
            [
             0.1111111111111111,
             "#46039f"
            ],
            [
             0.2222222222222222,
             "#7201a8"
            ],
            [
             0.3333333333333333,
             "#9c179e"
            ],
            [
             0.4444444444444444,
             "#bd3786"
            ],
            [
             0.5555555555555556,
             "#d8576b"
            ],
            [
             0.6666666666666666,
             "#ed7953"
            ],
            [
             0.7777777777777778,
             "#fb9f3a"
            ],
            [
             0.8888888888888888,
             "#fdca26"
            ],
            [
             1,
             "#f0f921"
            ]
           ],
           "sequentialminus": [
            [
             0,
             "#0d0887"
            ],
            [
             0.1111111111111111,
             "#46039f"
            ],
            [
             0.2222222222222222,
             "#7201a8"
            ],
            [
             0.3333333333333333,
             "#9c179e"
            ],
            [
             0.4444444444444444,
             "#bd3786"
            ],
            [
             0.5555555555555556,
             "#d8576b"
            ],
            [
             0.6666666666666666,
             "#ed7953"
            ],
            [
             0.7777777777777778,
             "#fb9f3a"
            ],
            [
             0.8888888888888888,
             "#fdca26"
            ],
            [
             1,
             "#f0f921"
            ]
           ]
          },
          "colorway": [
           "#636efa",
           "#EF553B",
           "#00cc96",
           "#ab63fa",
           "#FFA15A",
           "#19d3f3",
           "#FF6692",
           "#B6E880",
           "#FF97FF",
           "#FECB52"
          ],
          "font": {
           "color": "#2a3f5f"
          },
          "geo": {
           "bgcolor": "white",
           "lakecolor": "white",
           "landcolor": "white",
           "showlakes": true,
           "showland": true,
           "subunitcolor": "#C8D4E3"
          },
          "hoverlabel": {
           "align": "left"
          },
          "hovermode": "closest",
          "mapbox": {
           "style": "light"
          },
          "paper_bgcolor": "white",
          "plot_bgcolor": "white",
          "polar": {
           "angularaxis": {
            "gridcolor": "#EBF0F8",
            "linecolor": "#EBF0F8",
            "ticks": ""
           },
           "bgcolor": "white",
           "radialaxis": {
            "gridcolor": "#EBF0F8",
            "linecolor": "#EBF0F8",
            "ticks": ""
           }
          },
          "scene": {
           "xaxis": {
            "backgroundcolor": "white",
            "gridcolor": "#DFE8F3",
            "gridwidth": 2,
            "linecolor": "#EBF0F8",
            "showbackground": true,
            "ticks": "",
            "zerolinecolor": "#EBF0F8"
           },
           "yaxis": {
            "backgroundcolor": "white",
            "gridcolor": "#DFE8F3",
            "gridwidth": 2,
            "linecolor": "#EBF0F8",
            "showbackground": true,
            "ticks": "",
            "zerolinecolor": "#EBF0F8"
           },
           "zaxis": {
            "backgroundcolor": "white",
            "gridcolor": "#DFE8F3",
            "gridwidth": 2,
            "linecolor": "#EBF0F8",
            "showbackground": true,
            "ticks": "",
            "zerolinecolor": "#EBF0F8"
           }
          },
          "shapedefaults": {
           "line": {
            "color": "#2a3f5f"
           }
          },
          "ternary": {
           "aaxis": {
            "gridcolor": "#DFE8F3",
            "linecolor": "#A2B1C6",
            "ticks": ""
           },
           "baxis": {
            "gridcolor": "#DFE8F3",
            "linecolor": "#A2B1C6",
            "ticks": ""
           },
           "bgcolor": "white",
           "caxis": {
            "gridcolor": "#DFE8F3",
            "linecolor": "#A2B1C6",
            "ticks": ""
           }
          },
          "title": {
           "x": 0.05
          },
          "xaxis": {
           "automargin": true,
           "gridcolor": "#EBF0F8",
           "linecolor": "#EBF0F8",
           "ticks": "",
           "title": {
            "standoff": 15
           },
           "zerolinecolor": "#EBF0F8",
           "zerolinewidth": 2
          },
          "yaxis": {
           "automargin": true,
           "gridcolor": "#EBF0F8",
           "linecolor": "#EBF0F8",
           "ticks": "",
           "title": {
            "standoff": 15
           },
           "zerolinecolor": "#EBF0F8",
           "zerolinewidth": 2
          }
         }
        },
        "width": 1200,
        "xaxis": {
         "anchor": "y",
         "domain": [
          0,
          1
         ],
         "title": {
          "text": "1"
         }
        },
        "yaxis": {
         "anchor": "x",
         "domain": [
          0,
          1
         ],
         "title": {
          "text": "topic"
         }
        }
       }
      },
      "text/html": [
       "<div>                            <div id=\"84d42bde-f8aa-4f05-b0ed-648fb6de38c5\" class=\"plotly-graph-div\" style=\"height:500px; width:1200px;\"></div>            <script type=\"text/javascript\">                require([\"plotly\"], function(Plotly) {                    window.PLOTLYENV=window.PLOTLYENV || {};                                    if (document.getElementById(\"84d42bde-f8aa-4f05-b0ed-648fb6de38c5\")) {                    Plotly.newPlot(                        \"84d42bde-f8aa-4f05-b0ed-648fb6de38c5\",                        [{\"alignmentgroup\":\"True\",\"hovertemplate\":\"0=human right<br>1=%{x}<br>topic=%{y}<extra></extra>\",\"legendgroup\":\"human right\",\"marker\":{\"color\":\"#FECB52\",\"pattern\":{\"shape\":\"\"}},\"name\":\"human right\",\"offsetgroup\":\"human right\",\"orientation\":\"h\",\"showlegend\":true,\"textposition\":\"auto\",\"x\":[28],\"xaxis\":\"x\",\"y\":[\"politics\"],\"yaxis\":\"y\",\"type\":\"bar\"},{\"alignmentgroup\":\"True\",\"hovertemplate\":\"0=united state<br>1=%{x}<br>topic=%{y}<extra></extra>\",\"legendgroup\":\"united state\",\"marker\":{\"color\":\"#FF97FF\",\"pattern\":{\"shape\":\"\"}},\"name\":\"united state\",\"offsetgroup\":\"united state\",\"orientation\":\"h\",\"showlegend\":true,\"textposition\":\"auto\",\"x\":[24],\"xaxis\":\"x\",\"y\":[\"politics\"],\"yaxis\":\"y\",\"type\":\"bar\"},{\"alignmentgroup\":\"True\",\"hovertemplate\":\"0=dy dy<br>1=%{x}<br>topic=%{y}<extra></extra>\",\"legendgroup\":\"dy dy\",\"marker\":{\"color\":\"#B6E880\",\"pattern\":{\"shape\":\"\"}},\"name\":\"dy dy\",\"offsetgroup\":\"dy dy\",\"orientation\":\"h\",\"showlegend\":true,\"textposition\":\"auto\",\"x\":[24],\"xaxis\":\"x\",\"y\":[\"politics\"],\"yaxis\":\"y\",\"type\":\"bar\"},{\"alignmentgroup\":\"True\",\"hovertemplate\":\"0=case study<br>1=%{x}<br>topic=%{y}<extra></extra>\",\"legendgroup\":\"case study\",\"marker\":{\"color\":\"#FF6692\",\"pattern\":{\"shape\":\"\"}},\"name\":\"case study\",\"offsetgroup\":\"case study\",\"orientation\":\"h\",\"showlegend\":true,\"textposition\":\"auto\",\"x\":[23,15],\"xaxis\":\"x\",\"y\":[\"politics\",\"community_service\"],\"yaxis\":\"y\",\"type\":\"bar\"},{\"alignmentgroup\":\"True\",\"hovertemplate\":\"0=et al<br>1=%{x}<br>topic=%{y}<extra></extra>\",\"legendgroup\":\"et al\",\"marker\":{\"color\":\"#19D3F3\",\"pattern\":{\"shape\":\"\"}},\"name\":\"et al\",\"offsetgroup\":\"et al\",\"orientation\":\"h\",\"showlegend\":true,\"textposition\":\"auto\",\"x\":[21],\"xaxis\":\"x\",\"y\":[\"politics\"],\"yaxis\":\"y\",\"type\":\"bar\"},{\"alignmentgroup\":\"True\",\"hovertemplate\":\"0=dy dy dy<br>1=%{x}<br>topic=%{y}<extra></extra>\",\"legendgroup\":\"dy dy dy\",\"marker\":{\"color\":\"#FFA15A\",\"pattern\":{\"shape\":\"\"}},\"name\":\"dy dy dy\",\"offsetgroup\":\"dy dy dy\",\"orientation\":\"h\",\"showlegend\":true,\"textposition\":\"auto\",\"x\":[18],\"xaxis\":\"x\",\"y\":[\"politics\"],\"yaxis\":\"y\",\"type\":\"bar\"},{\"alignmentgroup\":\"True\",\"hovertemplate\":\"0=climate justice<br>1=%{x}<br>topic=%{y}<extra></extra>\",\"legendgroup\":\"climate justice\",\"marker\":{\"color\":\"#AB63FA\",\"pattern\":{\"shape\":\"\"}},\"name\":\"climate justice\",\"offsetgroup\":\"climate justice\",\"orientation\":\"h\",\"showlegend\":true,\"textposition\":\"auto\",\"x\":[18],\"xaxis\":\"x\",\"y\":[\"politics\"],\"yaxis\":\"y\",\"type\":\"bar\"},{\"alignmentgroup\":\"True\",\"hovertemplate\":\"0=young people<br>1=%{x}<br>topic=%{y}<extra></extra>\",\"legendgroup\":\"young people\",\"marker\":{\"color\":\"#00CC96\",\"pattern\":{\"shape\":\"\"}},\"name\":\"young people\",\"offsetgroup\":\"young people\",\"orientation\":\"h\",\"showlegend\":true,\"textposition\":\"auto\",\"x\":[25,16],\"xaxis\":\"x\",\"y\":[\"community_service\",\"education\"],\"yaxis\":\"y\",\"type\":\"bar\"},{\"alignmentgroup\":\"True\",\"hovertemplate\":\"0=long term<br>1=%{x}<br>topic=%{y}<extra></extra>\",\"legendgroup\":\"long term\",\"marker\":{\"color\":\"#EF553B\",\"pattern\":{\"shape\":\"\"}},\"name\":\"long term\",\"offsetgroup\":\"long term\",\"orientation\":\"h\",\"showlegend\":true,\"textposition\":\"auto\",\"x\":[20],\"xaxis\":\"x\",\"y\":[\"community_service\"],\"yaxis\":\"y\",\"type\":\"bar\"},{\"alignmentgroup\":\"True\",\"hovertemplate\":\"0=quality life<br>1=%{x}<br>topic=%{y}<extra></extra>\",\"legendgroup\":\"quality life\",\"marker\":{\"color\":\"#636EFA\",\"pattern\":{\"shape\":\"\"}},\"name\":\"quality life\",\"offsetgroup\":\"quality life\",\"orientation\":\"h\",\"showlegend\":true,\"textposition\":\"auto\",\"x\":[18],\"xaxis\":\"x\",\"y\":[\"community_service\"],\"yaxis\":\"y\",\"type\":\"bar\"},{\"alignmentgroup\":\"True\",\"hovertemplate\":\"0=mental health<br>1=%{x}<br>topic=%{y}<extra></extra>\",\"legendgroup\":\"mental health\",\"marker\":{\"color\":\"#FECB52\",\"pattern\":{\"shape\":\"\"}},\"name\":\"mental health\",\"offsetgroup\":\"mental health\",\"orientation\":\"h\",\"showlegend\":true,\"textposition\":\"auto\",\"x\":[16,62,11],\"xaxis\":\"x\",\"y\":[\"community_service\",\"covid\",\"education\"],\"yaxis\":\"y\",\"type\":\"bar\"},{\"alignmentgroup\":\"True\",\"hovertemplate\":\"0=public health<br>1=%{x}<br>topic=%{y}<extra></extra>\",\"legendgroup\":\"public health\",\"marker\":{\"color\":\"#FF97FF\",\"pattern\":{\"shape\":\"\"}},\"name\":\"public health\",\"offsetgroup\":\"public health\",\"orientation\":\"h\",\"showlegend\":true,\"textposition\":\"auto\",\"x\":[15,17],\"xaxis\":\"x\",\"y\":[\"community_service\",\"covid\"],\"yaxis\":\"y\",\"type\":\"bar\"},{\"alignmentgroup\":\"True\",\"hovertemplate\":\"0=older people<br>1=%{x}<br>topic=%{y}<extra></extra>\",\"legendgroup\":\"older people\",\"marker\":{\"color\":\"#B6E880\",\"pattern\":{\"shape\":\"\"}},\"name\":\"older people\",\"offsetgroup\":\"older people\",\"orientation\":\"h\",\"showlegend\":true,\"textposition\":\"auto\",\"x\":[15],\"xaxis\":\"x\",\"y\":[\"community_service\"],\"yaxis\":\"y\",\"type\":\"bar\"},{\"alignmentgroup\":\"True\",\"hovertemplate\":\"0=covid pandemic<br>1=%{x}<br>topic=%{y}<extra></extra>\",\"legendgroup\":\"covid pandemic\",\"marker\":{\"color\":\"#FF6692\",\"pattern\":{\"shape\":\"\"}},\"name\":\"covid pandemic\",\"offsetgroup\":\"covid pandemic\",\"orientation\":\"h\",\"showlegend\":true,\"textposition\":\"auto\",\"x\":[63],\"xaxis\":\"x\",\"y\":[\"covid\"],\"yaxis\":\"y\",\"type\":\"bar\"},{\"alignmentgroup\":\"True\",\"hovertemplate\":\"0=physical activity<br>1=%{x}<br>topic=%{y}<extra></extra>\",\"legendgroup\":\"physical activity\",\"marker\":{\"color\":\"#19D3F3\",\"pattern\":{\"shape\":\"\"}},\"name\":\"physical activity\",\"offsetgroup\":\"physical activity\",\"orientation\":\"h\",\"showlegend\":true,\"textposition\":\"auto\",\"x\":[27,6],\"xaxis\":\"x\",\"y\":[\"covid\",\"women\"],\"yaxis\":\"y\",\"type\":\"bar\"},{\"alignmentgroup\":\"True\",\"hovertemplate\":\"0=digital platform<br>1=%{x}<br>topic=%{y}<extra></extra>\",\"legendgroup\":\"digital platform\",\"marker\":{\"color\":\"#FFA15A\",\"pattern\":{\"shape\":\"\"}},\"name\":\"digital platform\",\"offsetgroup\":\"digital platform\",\"orientation\":\"h\",\"showlegend\":true,\"textposition\":\"auto\",\"x\":[27],\"xaxis\":\"x\",\"y\":[\"covid\"],\"yaxis\":\"y\",\"type\":\"bar\"},{\"alignmentgroup\":\"True\",\"hovertemplate\":\"0=impact covid<br>1=%{x}<br>topic=%{y}<extra></extra>\",\"legendgroup\":\"impact covid\",\"marker\":{\"color\":\"#AB63FA\",\"pattern\":{\"shape\":\"\"}},\"name\":\"impact covid\",\"offsetgroup\":\"impact covid\",\"orientation\":\"h\",\"showlegend\":true,\"textposition\":\"auto\",\"x\":[18],\"xaxis\":\"x\",\"y\":[\"covid\"],\"yaxis\":\"y\",\"type\":\"bar\"},{\"alignmentgroup\":\"True\",\"hovertemplate\":\"0=female condom<br>1=%{x}<br>topic=%{y}<extra></extra>\",\"legendgroup\":\"female condom\",\"marker\":{\"color\":\"#00CC96\",\"pattern\":{\"shape\":\"\"}},\"name\":\"female condom\",\"offsetgroup\":\"female condom\",\"orientation\":\"h\",\"showlegend\":true,\"textposition\":\"auto\",\"x\":[17],\"xaxis\":\"x\",\"y\":[\"covid\"],\"yaxis\":\"y\",\"type\":\"bar\"},{\"alignmentgroup\":\"True\",\"hovertemplate\":\"0=discriminating power<br>1=%{x}<br>topic=%{y}<extra></extra>\",\"legendgroup\":\"discriminating power\",\"marker\":{\"color\":\"#EF553B\",\"pattern\":{\"shape\":\"\"}},\"name\":\"discriminating power\",\"offsetgroup\":\"discriminating power\",\"orientation\":\"h\",\"showlegend\":true,\"textposition\":\"auto\",\"x\":[9],\"xaxis\":\"x\",\"y\":[\"environment\"],\"yaxis\":\"y\",\"type\":\"bar\"},{\"alignmentgroup\":\"True\",\"hovertemplate\":\"0=disruptive innovation<br>1=%{x}<br>topic=%{y}<extra></extra>\",\"legendgroup\":\"disruptive innovation\",\"marker\":{\"color\":\"#636EFA\",\"pattern\":{\"shape\":\"\"}},\"name\":\"disruptive innovation\",\"offsetgroup\":\"disruptive innovation\",\"orientation\":\"h\",\"showlegend\":true,\"textposition\":\"auto\",\"x\":[7],\"xaxis\":\"x\",\"y\":[\"environment\"],\"yaxis\":\"y\",\"type\":\"bar\"},{\"alignmentgroup\":\"True\",\"hovertemplate\":\"0=centrality metric<br>1=%{x}<br>topic=%{y}<extra></extra>\",\"legendgroup\":\"centrality metric\",\"marker\":{\"color\":\"#FECB52\",\"pattern\":{\"shape\":\"\"}},\"name\":\"centrality metric\",\"offsetgroup\":\"centrality metric\",\"orientation\":\"h\",\"showlegend\":true,\"textposition\":\"auto\",\"x\":[7],\"xaxis\":\"x\",\"y\":[\"environment\"],\"yaxis\":\"y\",\"type\":\"bar\"},{\"alignmentgroup\":\"True\",\"hovertemplate\":\"0=edge centrality<br>1=%{x}<br>topic=%{y}<extra></extra>\",\"legendgroup\":\"edge centrality\",\"marker\":{\"color\":\"#FF97FF\",\"pattern\":{\"shape\":\"\"}},\"name\":\"edge centrality\",\"offsetgroup\":\"edge centrality\",\"orientation\":\"h\",\"showlegend\":true,\"textposition\":\"auto\",\"x\":[7],\"xaxis\":\"x\",\"y\":[\"environment\"],\"yaxis\":\"y\",\"type\":\"bar\"},{\"alignmentgroup\":\"True\",\"hovertemplate\":\"0=natural law<br>1=%{x}<br>topic=%{y}<extra></extra>\",\"legendgroup\":\"natural law\",\"marker\":{\"color\":\"#B6E880\",\"pattern\":{\"shape\":\"\"}},\"name\":\"natural law\",\"offsetgroup\":\"natural law\",\"orientation\":\"h\",\"showlegend\":true,\"textposition\":\"auto\",\"x\":[7],\"xaxis\":\"x\",\"y\":[\"environment\"],\"yaxis\":\"y\",\"type\":\"bar\"},{\"alignmentgroup\":\"True\",\"hovertemplate\":\"0=farmer right<br>1=%{x}<br>topic=%{y}<extra></extra>\",\"legendgroup\":\"farmer right\",\"marker\":{\"color\":\"#FF6692\",\"pattern\":{\"shape\":\"\"}},\"name\":\"farmer right\",\"offsetgroup\":\"farmer right\",\"orientation\":\"h\",\"showlegend\":true,\"textposition\":\"auto\",\"x\":[6],\"xaxis\":\"x\",\"y\":[\"environment\"],\"yaxis\":\"y\",\"type\":\"bar\"},{\"alignmentgroup\":\"True\",\"hovertemplate\":\"0=humananimal relation<br>1=%{x}<br>topic=%{y}<extra></extra>\",\"legendgroup\":\"humananimal relation\",\"marker\":{\"color\":\"#19D3F3\",\"pattern\":{\"shape\":\"\"}},\"name\":\"humananimal relation\",\"offsetgroup\":\"humananimal relation\",\"orientation\":\"h\",\"showlegend\":true,\"textposition\":\"auto\",\"x\":[6],\"xaxis\":\"x\",\"y\":[\"environment\"],\"yaxis\":\"y\",\"type\":\"bar\"},{\"alignmentgroup\":\"True\",\"hovertemplate\":\"0=fracture hospitalization<br>1=%{x}<br>topic=%{y}<extra></extra>\",\"legendgroup\":\"fracture hospitalization\",\"marker\":{\"color\":\"#FFA15A\",\"pattern\":{\"shape\":\"\"}},\"name\":\"fracture hospitalization\",\"offsetgroup\":\"fracture hospitalization\",\"orientation\":\"h\",\"showlegend\":true,\"textposition\":\"auto\",\"x\":[9],\"xaxis\":\"x\",\"y\":[\"women\"],\"yaxis\":\"y\",\"type\":\"bar\"},{\"alignmentgroup\":\"True\",\"hovertemplate\":\"0=hospitalization rate<br>1=%{x}<br>topic=%{y}<extra></extra>\",\"legendgroup\":\"hospitalization rate\",\"marker\":{\"color\":\"#AB63FA\",\"pattern\":{\"shape\":\"\"}},\"name\":\"hospitalization rate\",\"offsetgroup\":\"hospitalization rate\",\"orientation\":\"h\",\"showlegend\":true,\"textposition\":\"auto\",\"x\":[8],\"xaxis\":\"x\",\"y\":[\"women\"],\"yaxis\":\"y\",\"type\":\"bar\"},{\"alignmentgroup\":\"True\",\"hovertemplate\":\"0=fracture hospitalization rate<br>1=%{x}<br>topic=%{y}<extra></extra>\",\"legendgroup\":\"fracture hospitalization rate\",\"marker\":{\"color\":\"#00CC96\",\"pattern\":{\"shape\":\"\"}},\"name\":\"fracture hospitalization rate\",\"offsetgroup\":\"fracture hospitalization rate\",\"orientation\":\"h\",\"showlegend\":true,\"textposition\":\"auto\",\"x\":[7],\"xaxis\":\"x\",\"y\":[\"women\"],\"yaxis\":\"y\",\"type\":\"bar\"},{\"alignmentgroup\":\"True\",\"hovertemplate\":\"0=ina group<br>1=%{x}<br>topic=%{y}<extra></extra>\",\"legendgroup\":\"ina group\",\"marker\":{\"color\":\"#EF553B\",\"pattern\":{\"shape\":\"\"}},\"name\":\"ina group\",\"offsetgroup\":\"ina group\",\"orientation\":\"h\",\"showlegend\":true,\"textposition\":\"auto\",\"x\":[6],\"xaxis\":\"x\",\"y\":[\"women\"],\"yaxis\":\"y\",\"type\":\"bar\"},{\"alignmentgroup\":\"True\",\"hovertemplate\":\"0=human trafficking<br>1=%{x}<br>topic=%{y}<extra></extra>\",\"legendgroup\":\"human trafficking\",\"marker\":{\"color\":\"#636EFA\",\"pattern\":{\"shape\":\"\"}},\"name\":\"human trafficking\",\"offsetgroup\":\"human trafficking\",\"orientation\":\"h\",\"showlegend\":true,\"textposition\":\"auto\",\"x\":[5],\"xaxis\":\"x\",\"y\":[\"women\"],\"yaxis\":\"y\",\"type\":\"bar\"},{\"alignmentgroup\":\"True\",\"hovertemplate\":\"0=trafficking slavery<br>1=%{x}<br>topic=%{y}<extra></extra>\",\"legendgroup\":\"trafficking slavery\",\"marker\":{\"color\":\"#FECB52\",\"pattern\":{\"shape\":\"\"}},\"name\":\"trafficking slavery\",\"offsetgroup\":\"trafficking slavery\",\"orientation\":\"h\",\"showlegend\":true,\"textposition\":\"auto\",\"x\":[5],\"xaxis\":\"x\",\"y\":[\"women\"],\"yaxis\":\"y\",\"type\":\"bar\"},{\"alignmentgroup\":\"True\",\"hovertemplate\":\"0=age standardised<br>1=%{x}<br>topic=%{y}<extra></extra>\",\"legendgroup\":\"age standardised\",\"marker\":{\"color\":\"#FF97FF\",\"pattern\":{\"shape\":\"\"}},\"name\":\"age standardised\",\"offsetgroup\":\"age standardised\",\"orientation\":\"h\",\"showlegend\":true,\"textposition\":\"auto\",\"x\":[11],\"xaxis\":\"x\",\"y\":[\"sexuality\"],\"yaxis\":\"y\",\"type\":\"bar\"},{\"alignmentgroup\":\"True\",\"hovertemplate\":\"0=peg rhumgdf<br>1=%{x}<br>topic=%{y}<extra></extra>\",\"legendgroup\":\"peg rhumgdf\",\"marker\":{\"color\":\"#B6E880\",\"pattern\":{\"shape\":\"\"}},\"name\":\"peg rhumgdf\",\"offsetgroup\":\"peg rhumgdf\",\"orientation\":\"h\",\"showlegend\":true,\"textposition\":\"auto\",\"x\":[7],\"xaxis\":\"x\",\"y\":[\"sexuality\"],\"yaxis\":\"y\",\"type\":\"bar\"},{\"alignmentgroup\":\"True\",\"hovertemplate\":\"0=multi omics<br>1=%{x}<br>topic=%{y}<extra></extra>\",\"legendgroup\":\"multi omics\",\"marker\":{\"color\":\"#FF6692\",\"pattern\":{\"shape\":\"\"}},\"name\":\"multi omics\",\"offsetgroup\":\"multi omics\",\"orientation\":\"h\",\"showlegend\":true,\"textposition\":\"auto\",\"x\":[7],\"xaxis\":\"x\",\"y\":[\"sexuality\"],\"yaxis\":\"y\",\"type\":\"bar\"},{\"alignmentgroup\":\"True\",\"hovertemplate\":\"0=essentialist belief<br>1=%{x}<br>topic=%{y}<extra></extra>\",\"legendgroup\":\"essentialist belief\",\"marker\":{\"color\":\"#19D3F3\",\"pattern\":{\"shape\":\"\"}},\"name\":\"essentialist belief\",\"offsetgroup\":\"essentialist belief\",\"orientation\":\"h\",\"showlegend\":true,\"textposition\":\"auto\",\"x\":[5],\"xaxis\":\"x\",\"y\":[\"sexuality\"],\"yaxis\":\"y\",\"type\":\"bar\"},{\"alignmentgroup\":\"True\",\"hovertemplate\":\"0=cvr transcript<br>1=%{x}<br>topic=%{y}<extra></extra>\",\"legendgroup\":\"cvr transcript\",\"marker\":{\"color\":\"#FFA15A\",\"pattern\":{\"shape\":\"\"}},\"name\":\"cvr transcript\",\"offsetgroup\":\"cvr transcript\",\"orientation\":\"h\",\"showlegend\":true,\"textposition\":\"auto\",\"x\":[5],\"xaxis\":\"x\",\"y\":[\"sexuality\"],\"yaxis\":\"y\",\"type\":\"bar\"},{\"alignmentgroup\":\"True\",\"hovertemplate\":\"0=rate per<br>1=%{x}<br>topic=%{y}<extra></extra>\",\"legendgroup\":\"rate per\",\"marker\":{\"color\":\"#AB63FA\",\"pattern\":{\"shape\":\"\"}},\"name\":\"rate per\",\"offsetgroup\":\"rate per\",\"orientation\":\"h\",\"showlegend\":true,\"textposition\":\"auto\",\"x\":[5],\"xaxis\":\"x\",\"y\":[\"sexuality\"],\"yaxis\":\"y\",\"type\":\"bar\"},{\"alignmentgroup\":\"True\",\"hovertemplate\":\"0=standardised prevalence<br>1=%{x}<br>topic=%{y}<extra></extra>\",\"legendgroup\":\"standardised prevalence\",\"marker\":{\"color\":\"#00CC96\",\"pattern\":{\"shape\":\"\"}},\"name\":\"standardised prevalence\",\"offsetgroup\":\"standardised prevalence\",\"orientation\":\"h\",\"showlegend\":true,\"textposition\":\"auto\",\"x\":[5],\"xaxis\":\"x\",\"y\":[\"sexuality\"],\"yaxis\":\"y\",\"type\":\"bar\"},{\"alignmentgroup\":\"True\",\"hovertemplate\":\"0=level planner<br>1=%{x}<br>topic=%{y}<extra></extra>\",\"legendgroup\":\"level planner\",\"marker\":{\"color\":\"#EF553B\",\"pattern\":{\"shape\":\"\"}},\"name\":\"level planner\",\"offsetgroup\":\"level planner\",\"orientation\":\"h\",\"showlegend\":true,\"textposition\":\"auto\",\"x\":[10],\"xaxis\":\"x\",\"y\":[\"criminology\"],\"yaxis\":\"y\",\"type\":\"bar\"},{\"alignmentgroup\":\"True\",\"hovertemplate\":\"0=new guinean<br>1=%{x}<br>topic=%{y}<extra></extra>\",\"legendgroup\":\"new guinean\",\"marker\":{\"color\":\"#636EFA\",\"pattern\":{\"shape\":\"\"}},\"name\":\"new guinean\",\"offsetgroup\":\"new guinean\",\"orientation\":\"h\",\"showlegend\":true,\"textposition\":\"auto\",\"x\":[7],\"xaxis\":\"x\",\"y\":[\"criminology\"],\"yaxis\":\"y\",\"type\":\"bar\"},{\"alignmentgroup\":\"True\",\"hovertemplate\":\"0=coercive control<br>1=%{x}<br>topic=%{y}<extra></extra>\",\"legendgroup\":\"coercive control\",\"marker\":{\"color\":\"#FECB52\",\"pattern\":{\"shape\":\"\"}},\"name\":\"coercive control\",\"offsetgroup\":\"coercive control\",\"orientation\":\"h\",\"showlegend\":true,\"textposition\":\"auto\",\"x\":[7],\"xaxis\":\"x\",\"y\":[\"criminology\"],\"yaxis\":\"y\",\"type\":\"bar\"},{\"alignmentgroup\":\"True\",\"hovertemplate\":\"0=harq scheme<br>1=%{x}<br>topic=%{y}<extra></extra>\",\"legendgroup\":\"harq scheme\",\"marker\":{\"color\":\"#FF97FF\",\"pattern\":{\"shape\":\"\"}},\"name\":\"harq scheme\",\"offsetgroup\":\"harq scheme\",\"orientation\":\"h\",\"showlegend\":true,\"textposition\":\"auto\",\"x\":[7],\"xaxis\":\"x\",\"y\":[\"criminology\"],\"yaxis\":\"y\",\"type\":\"bar\"},{\"alignmentgroup\":\"True\",\"hovertemplate\":\"0=crime prevention<br>1=%{x}<br>topic=%{y}<extra></extra>\",\"legendgroup\":\"crime prevention\",\"marker\":{\"color\":\"#B6E880\",\"pattern\":{\"shape\":\"\"}},\"name\":\"crime prevention\",\"offsetgroup\":\"crime prevention\",\"orientation\":\"h\",\"showlegend\":true,\"textposition\":\"auto\",\"x\":[7],\"xaxis\":\"x\",\"y\":[\"criminology\"],\"yaxis\":\"y\",\"type\":\"bar\"},{\"alignmentgroup\":\"True\",\"hovertemplate\":\"0=concentric stenosis<br>1=%{x}<br>topic=%{y}<extra></extra>\",\"legendgroup\":\"concentric stenosis\",\"marker\":{\"color\":\"#FF6692\",\"pattern\":{\"shape\":\"\"}},\"name\":\"concentric stenosis\",\"offsetgroup\":\"concentric stenosis\",\"orientation\":\"h\",\"showlegend\":true,\"textposition\":\"auto\",\"x\":[6],\"xaxis\":\"x\",\"y\":[\"criminology\"],\"yaxis\":\"y\",\"type\":\"bar\"},{\"alignmentgroup\":\"True\",\"hovertemplate\":\"0=papua new<br>1=%{x}<br>topic=%{y}<extra></extra>\",\"legendgroup\":\"papua new\",\"marker\":{\"color\":\"#19D3F3\",\"pattern\":{\"shape\":\"\"}},\"name\":\"papua new\",\"offsetgroup\":\"papua new\",\"orientation\":\"h\",\"showlegend\":true,\"textposition\":\"auto\",\"x\":[6],\"xaxis\":\"x\",\"y\":[\"criminology\"],\"yaxis\":\"y\",\"type\":\"bar\"},{\"alignmentgroup\":\"True\",\"hovertemplate\":\"0=sex education<br>1=%{x}<br>topic=%{y}<extra></extra>\",\"legendgroup\":\"sex education\",\"marker\":{\"color\":\"#FFA15A\",\"pattern\":{\"shape\":\"\"}},\"name\":\"sex education\",\"offsetgroup\":\"sex education\",\"orientation\":\"h\",\"showlegend\":true,\"textposition\":\"auto\",\"x\":[14],\"xaxis\":\"x\",\"y\":[\"education\"],\"yaxis\":\"y\",\"type\":\"bar\"},{\"alignmentgroup\":\"True\",\"hovertemplate\":\"0=performance anxiety<br>1=%{x}<br>topic=%{y}<extra></extra>\",\"legendgroup\":\"performance anxiety\",\"marker\":{\"color\":\"#AB63FA\",\"pattern\":{\"shape\":\"\"}},\"name\":\"performance anxiety\",\"offsetgroup\":\"performance anxiety\",\"orientation\":\"h\",\"showlegend\":true,\"textposition\":\"auto\",\"x\":[14],\"xaxis\":\"x\",\"y\":[\"education\"],\"yaxis\":\"y\",\"type\":\"bar\"},{\"alignmentgroup\":\"True\",\"hovertemplate\":\"0=twin pair<br>1=%{x}<br>topic=%{y}<extra></extra>\",\"legendgroup\":\"twin pair\",\"marker\":{\"color\":\"#00CC96\",\"pattern\":{\"shape\":\"\"}},\"name\":\"twin pair\",\"offsetgroup\":\"twin pair\",\"orientation\":\"h\",\"showlegend\":true,\"textposition\":\"auto\",\"x\":[13],\"xaxis\":\"x\",\"y\":[\"education\"],\"yaxis\":\"y\",\"type\":\"bar\"},{\"alignmentgroup\":\"True\",\"hovertemplate\":\"0=per day<br>1=%{x}<br>topic=%{y}<extra></extra>\",\"legendgroup\":\"per day\",\"marker\":{\"color\":\"#EF553B\",\"pattern\":{\"shape\":\"\"}},\"name\":\"per day\",\"offsetgroup\":\"per day\",\"orientation\":\"h\",\"showlegend\":true,\"textposition\":\"auto\",\"x\":[12],\"xaxis\":\"x\",\"y\":[\"education\"],\"yaxis\":\"y\",\"type\":\"bar\"},{\"alignmentgroup\":\"True\",\"hovertemplate\":\"0=intellectual disability<br>1=%{x}<br>topic=%{y}<extra></extra>\",\"legendgroup\":\"intellectual disability\",\"marker\":{\"color\":\"#636EFA\",\"pattern\":{\"shape\":\"\"}},\"name\":\"intellectual disability\",\"offsetgroup\":\"intellectual disability\",\"orientation\":\"h\",\"showlegend\":true,\"textposition\":\"auto\",\"x\":[11],\"xaxis\":\"x\",\"y\":[\"education\"],\"yaxis\":\"y\",\"type\":\"bar\"},{\"alignmentgroup\":\"True\",\"hovertemplate\":\"0=backed artefact<br>1=%{x}<br>topic=%{y}<extra></extra>\",\"legendgroup\":\"backed artefact\",\"marker\":{\"color\":\"#FECB52\",\"pattern\":{\"shape\":\"\"}},\"name\":\"backed artefact\",\"offsetgroup\":\"backed artefact\",\"orientation\":\"h\",\"showlegend\":true,\"textposition\":\"auto\",\"x\":[8],\"xaxis\":\"x\",\"y\":[\"health_medicine\"],\"yaxis\":\"y\",\"type\":\"bar\"},{\"alignmentgroup\":\"True\",\"hovertemplate\":\"0=heat treatment<br>1=%{x}<br>topic=%{y}<extra></extra>\",\"legendgroup\":\"heat treatment\",\"marker\":{\"color\":\"#FF97FF\",\"pattern\":{\"shape\":\"\"}},\"name\":\"heat treatment\",\"offsetgroup\":\"heat treatment\",\"orientation\":\"h\",\"showlegend\":true,\"textposition\":\"auto\",\"x\":[5],\"xaxis\":\"x\",\"y\":[\"health_medicine\"],\"yaxis\":\"y\",\"type\":\"bar\"},{\"alignmentgroup\":\"True\",\"hovertemplate\":\"0=prevalence multimorbidity<br>1=%{x}<br>topic=%{y}<extra></extra>\",\"legendgroup\":\"prevalence multimorbidity\",\"marker\":{\"color\":\"#B6E880\",\"pattern\":{\"shape\":\"\"}},\"name\":\"prevalence multimorbidity\",\"offsetgroup\":\"prevalence multimorbidity\",\"orientation\":\"h\",\"showlegend\":true,\"textposition\":\"auto\",\"x\":[5],\"xaxis\":\"x\",\"y\":[\"health_medicine\"],\"yaxis\":\"y\",\"type\":\"bar\"},{\"alignmentgroup\":\"True\",\"hovertemplate\":\"0=chronic condition<br>1=%{x}<br>topic=%{y}<extra></extra>\",\"legendgroup\":\"chronic condition\",\"marker\":{\"color\":\"#FF6692\",\"pattern\":{\"shape\":\"\"}},\"name\":\"chronic condition\",\"offsetgroup\":\"chronic condition\",\"orientation\":\"h\",\"showlegend\":true,\"textposition\":\"auto\",\"x\":[5],\"xaxis\":\"x\",\"y\":[\"health_medicine\"],\"yaxis\":\"y\",\"type\":\"bar\"},{\"alignmentgroup\":\"True\",\"hovertemplate\":\"0=reaction rate<br>1=%{x}<br>topic=%{y}<extra></extra>\",\"legendgroup\":\"reaction rate\",\"marker\":{\"color\":\"#19D3F3\",\"pattern\":{\"shape\":\"\"}},\"name\":\"reaction rate\",\"offsetgroup\":\"reaction rate\",\"orientation\":\"h\",\"showlegend\":true,\"textposition\":\"auto\",\"x\":[4],\"xaxis\":\"x\",\"y\":[\"health_medicine\"],\"yaxis\":\"y\",\"type\":\"bar\"},{\"alignmentgroup\":\"True\",\"hovertemplate\":\"0=surgical site<br>1=%{x}<br>topic=%{y}<extra></extra>\",\"legendgroup\":\"surgical site\",\"marker\":{\"color\":\"#FFA15A\",\"pattern\":{\"shape\":\"\"}},\"name\":\"surgical site\",\"offsetgroup\":\"surgical site\",\"orientation\":\"h\",\"showlegend\":true,\"textposition\":\"auto\",\"x\":[4],\"xaxis\":\"x\",\"y\":[\"health_medicine\"],\"yaxis\":\"y\",\"type\":\"bar\"},{\"alignmentgroup\":\"True\",\"hovertemplate\":\"0=site infection<br>1=%{x}<br>topic=%{y}<extra></extra>\",\"legendgroup\":\"site infection\",\"marker\":{\"color\":\"#AB63FA\",\"pattern\":{\"shape\":\"\"}},\"name\":\"site infection\",\"offsetgroup\":\"site infection\",\"orientation\":\"h\",\"showlegend\":true,\"textposition\":\"auto\",\"x\":[4],\"xaxis\":\"x\",\"y\":[\"health_medicine\"],\"yaxis\":\"y\",\"type\":\"bar\"},{\"alignmentgroup\":\"True\",\"hovertemplate\":\"0=suicidal ideation<br>1=%{x}<br>topic=%{y}<extra></extra>\",\"legendgroup\":\"suicidal ideation\",\"marker\":{\"color\":\"#00CC96\",\"pattern\":{\"shape\":\"\"}},\"name\":\"suicidal ideation\",\"offsetgroup\":\"suicidal ideation\",\"orientation\":\"h\",\"showlegend\":true,\"textposition\":\"auto\",\"x\":[13],\"xaxis\":\"x\",\"y\":[\"mental_health\"],\"yaxis\":\"y\",\"type\":\"bar\"},{\"alignmentgroup\":\"True\",\"hovertemplate\":\"0=financial well<br>1=%{x}<br>topic=%{y}<extra></extra>\",\"legendgroup\":\"financial well\",\"marker\":{\"color\":\"#EF553B\",\"pattern\":{\"shape\":\"\"}},\"name\":\"financial well\",\"offsetgroup\":\"financial well\",\"orientation\":\"h\",\"showlegend\":true,\"textposition\":\"auto\",\"x\":[13,9],\"xaxis\":\"x\",\"y\":[\"mental_health\",\"economy\"],\"yaxis\":\"y\",\"type\":\"bar\"},{\"alignmentgroup\":\"True\",\"hovertemplate\":\"0=phone driving<br>1=%{x}<br>topic=%{y}<extra></extra>\",\"legendgroup\":\"phone driving\",\"marker\":{\"color\":\"#636EFA\",\"pattern\":{\"shape\":\"\"}},\"name\":\"phone driving\",\"offsetgroup\":\"phone driving\",\"orientation\":\"h\",\"showlegend\":true,\"textposition\":\"auto\",\"x\":[12],\"xaxis\":\"x\",\"y\":[\"mental_health\"],\"yaxis\":\"y\",\"type\":\"bar\"},{\"alignmentgroup\":\"True\",\"hovertemplate\":\"0=cell phone<br>1=%{x}<br>topic=%{y}<extra></extra>\",\"legendgroup\":\"cell phone\",\"marker\":{\"color\":\"#FECB52\",\"pattern\":{\"shape\":\"\"}},\"name\":\"cell phone\",\"offsetgroup\":\"cell phone\",\"orientation\":\"h\",\"showlegend\":true,\"textposition\":\"auto\",\"x\":[11],\"xaxis\":\"x\",\"y\":[\"mental_health\"],\"yaxis\":\"y\",\"type\":\"bar\"},{\"alignmentgroup\":\"True\",\"hovertemplate\":\"0=sp cell<br>1=%{x}<br>topic=%{y}<extra></extra>\",\"legendgroup\":\"sp cell\",\"marker\":{\"color\":\"#FF97FF\",\"pattern\":{\"shape\":\"\"}},\"name\":\"sp cell\",\"offsetgroup\":\"sp cell\",\"orientation\":\"h\",\"showlegend\":true,\"textposition\":\"auto\",\"x\":[10],\"xaxis\":\"x\",\"y\":[\"mental_health\"],\"yaxis\":\"y\",\"type\":\"bar\"},{\"alignmentgroup\":\"True\",\"hovertemplate\":\"0=mobile phone<br>1=%{x}<br>topic=%{y}<extra></extra>\",\"legendgroup\":\"mobile phone\",\"marker\":{\"color\":\"#B6E880\",\"pattern\":{\"shape\":\"\"}},\"name\":\"mobile phone\",\"offsetgroup\":\"mobile phone\",\"orientation\":\"h\",\"showlegend\":true,\"textposition\":\"auto\",\"x\":[9],\"xaxis\":\"x\",\"y\":[\"mental_health\"],\"yaxis\":\"y\",\"type\":\"bar\"},{\"alignmentgroup\":\"True\",\"hovertemplate\":\"0=mar conceived<br>1=%{x}<br>topic=%{y}<extra></extra>\",\"legendgroup\":\"mar conceived\",\"marker\":{\"color\":\"#FF6692\",\"pattern\":{\"shape\":\"\"}},\"name\":\"mar conceived\",\"offsetgroup\":\"mar conceived\",\"orientation\":\"h\",\"showlegend\":true,\"textposition\":\"auto\",\"x\":[9],\"xaxis\":\"x\",\"y\":[\"mental_health\"],\"yaxis\":\"y\",\"type\":\"bar\"},{\"alignmentgroup\":\"True\",\"hovertemplate\":\"0=abuse material<br>1=%{x}<br>topic=%{y}<extra></extra>\",\"legendgroup\":\"abuse material\",\"marker\":{\"color\":\"#19D3F3\",\"pattern\":{\"shape\":\"\"}},\"name\":\"abuse material\",\"offsetgroup\":\"abuse material\",\"orientation\":\"h\",\"showlegend\":true,\"textposition\":\"auto\",\"x\":[14],\"xaxis\":\"x\",\"y\":[\"child_family\"],\"yaxis\":\"y\",\"type\":\"bar\"},{\"alignmentgroup\":\"True\",\"hovertemplate\":\"0=gastric cancer<br>1=%{x}<br>topic=%{y}<extra></extra>\",\"legendgroup\":\"gastric cancer\",\"marker\":{\"color\":\"#FFA15A\",\"pattern\":{\"shape\":\"\"}},\"name\":\"gastric cancer\",\"offsetgroup\":\"gastric cancer\",\"orientation\":\"h\",\"showlegend\":true,\"textposition\":\"auto\",\"x\":[8],\"xaxis\":\"x\",\"y\":[\"child_family\"],\"yaxis\":\"y\",\"type\":\"bar\"},{\"alignmentgroup\":\"True\",\"hovertemplate\":\"0=child centred<br>1=%{x}<br>topic=%{y}<extra></extra>\",\"legendgroup\":\"child centred\",\"marker\":{\"color\":\"#AB63FA\",\"pattern\":{\"shape\":\"\"}},\"name\":\"child centred\",\"offsetgroup\":\"child centred\",\"orientation\":\"h\",\"showlegend\":true,\"textposition\":\"auto\",\"x\":[7],\"xaxis\":\"x\",\"y\":[\"child_family\"],\"yaxis\":\"y\",\"type\":\"bar\"},{\"alignmentgroup\":\"True\",\"hovertemplate\":\"0=wage share<br>1=%{x}<br>topic=%{y}<extra></extra>\",\"legendgroup\":\"wage share\",\"marker\":{\"color\":\"#00CC96\",\"pattern\":{\"shape\":\"\"}},\"name\":\"wage share\",\"offsetgroup\":\"wage share\",\"orientation\":\"h\",\"showlegend\":true,\"textposition\":\"auto\",\"x\":[7],\"xaxis\":\"x\",\"y\":[\"child_family\"],\"yaxis\":\"y\",\"type\":\"bar\"},{\"alignmentgroup\":\"True\",\"hovertemplate\":\"0=body composition<br>1=%{x}<br>topic=%{y}<extra></extra>\",\"legendgroup\":\"body composition\",\"marker\":{\"color\":\"#EF553B\",\"pattern\":{\"shape\":\"\"}},\"name\":\"body composition\",\"offsetgroup\":\"body composition\",\"orientation\":\"h\",\"showlegend\":true,\"textposition\":\"auto\",\"x\":[6],\"xaxis\":\"x\",\"y\":[\"child_family\"],\"yaxis\":\"y\",\"type\":\"bar\"},{\"alignmentgroup\":\"True\",\"hovertemplate\":\"0=point prevalence<br>1=%{x}<br>topic=%{y}<extra></extra>\",\"legendgroup\":\"point prevalence\",\"marker\":{\"color\":\"#636EFA\",\"pattern\":{\"shape\":\"\"}},\"name\":\"point prevalence\",\"offsetgroup\":\"point prevalence\",\"orientation\":\"h\",\"showlegend\":true,\"textposition\":\"auto\",\"x\":[6],\"xaxis\":\"x\",\"y\":[\"child_family\"],\"yaxis\":\"y\",\"type\":\"bar\"},{\"alignmentgroup\":\"True\",\"hovertemplate\":\"0=indigenous child<br>1=%{x}<br>topic=%{y}<extra></extra>\",\"legendgroup\":\"indigenous child\",\"marker\":{\"color\":\"#FECB52\",\"pattern\":{\"shape\":\"\"}},\"name\":\"indigenous child\",\"offsetgroup\":\"indigenous child\",\"orientation\":\"h\",\"showlegend\":true,\"textposition\":\"auto\",\"x\":[5],\"xaxis\":\"x\",\"y\":[\"child_family\"],\"yaxis\":\"y\",\"type\":\"bar\"},{\"alignmentgroup\":\"True\",\"hovertemplate\":\"0=regional cpi<br>1=%{x}<br>topic=%{y}<extra></extra>\",\"legendgroup\":\"regional cpi\",\"marker\":{\"color\":\"#FF97FF\",\"pattern\":{\"shape\":\"\"}},\"name\":\"regional cpi\",\"offsetgroup\":\"regional cpi\",\"orientation\":\"h\",\"showlegend\":true,\"textposition\":\"auto\",\"x\":[6],\"xaxis\":\"x\",\"y\":[\"economy\"],\"yaxis\":\"y\",\"type\":\"bar\"},{\"alignmentgroup\":\"True\",\"hovertemplate\":\"0=co management<br>1=%{x}<br>topic=%{y}<extra></extra>\",\"legendgroup\":\"co management\",\"marker\":{\"color\":\"#B6E880\",\"pattern\":{\"shape\":\"\"}},\"name\":\"co management\",\"offsetgroup\":\"co management\",\"orientation\":\"h\",\"showlegend\":true,\"textposition\":\"auto\",\"x\":[6],\"xaxis\":\"x\",\"y\":[\"economy\"],\"yaxis\":\"y\",\"type\":\"bar\"},{\"alignmentgroup\":\"True\",\"hovertemplate\":\"0=medium usage<br>1=%{x}<br>topic=%{y}<extra></extra>\",\"legendgroup\":\"medium usage\",\"marker\":{\"color\":\"#FF6692\",\"pattern\":{\"shape\":\"\"}},\"name\":\"medium usage\",\"offsetgroup\":\"medium usage\",\"orientation\":\"h\",\"showlegend\":true,\"textposition\":\"auto\",\"x\":[5],\"xaxis\":\"x\",\"y\":[\"economy\"],\"yaxis\":\"y\",\"type\":\"bar\"},{\"alignmentgroup\":\"True\",\"hovertemplate\":\"0=strong leader<br>1=%{x}<br>topic=%{y}<extra></extra>\",\"legendgroup\":\"strong leader\",\"marker\":{\"color\":\"#19D3F3\",\"pattern\":{\"shape\":\"\"}},\"name\":\"strong leader\",\"offsetgroup\":\"strong leader\",\"orientation\":\"h\",\"showlegend\":true,\"textposition\":\"auto\",\"x\":[5],\"xaxis\":\"x\",\"y\":[\"economy\"],\"yaxis\":\"y\",\"type\":\"bar\"},{\"alignmentgroup\":\"True\",\"hovertemplate\":\"0=advocacy tactic<br>1=%{x}<br>topic=%{y}<extra></extra>\",\"legendgroup\":\"advocacy tactic\",\"marker\":{\"color\":\"#FFA15A\",\"pattern\":{\"shape\":\"\"}},\"name\":\"advocacy tactic\",\"offsetgroup\":\"advocacy tactic\",\"orientation\":\"h\",\"showlegend\":true,\"textposition\":\"auto\",\"x\":[5],\"xaxis\":\"x\",\"y\":[\"economy\"],\"yaxis\":\"y\",\"type\":\"bar\"},{\"alignmentgroup\":\"True\",\"hovertemplate\":\"0=western journalist<br>1=%{x}<br>topic=%{y}<extra></extra>\",\"legendgroup\":\"western journalist\",\"marker\":{\"color\":\"#AB63FA\",\"pattern\":{\"shape\":\"\"}},\"name\":\"western journalist\",\"offsetgroup\":\"western journalist\",\"orientation\":\"h\",\"showlegend\":true,\"textposition\":\"auto\",\"x\":[4],\"xaxis\":\"x\",\"y\":[\"economy\"],\"yaxis\":\"y\",\"type\":\"bar\"}],                        {\"template\":{\"data\":{\"barpolar\":[{\"marker\":{\"line\":{\"color\":\"white\",\"width\":0.5},\"pattern\":{\"fillmode\":\"overlay\",\"size\":10,\"solidity\":0.2}},\"type\":\"barpolar\"}],\"bar\":[{\"error_x\":{\"color\":\"#2a3f5f\"},\"error_y\":{\"color\":\"#2a3f5f\"},\"marker\":{\"line\":{\"color\":\"white\",\"width\":0.5},\"pattern\":{\"fillmode\":\"overlay\",\"size\":10,\"solidity\":0.2}},\"type\":\"bar\"}],\"carpet\":[{\"aaxis\":{\"endlinecolor\":\"#2a3f5f\",\"gridcolor\":\"#C8D4E3\",\"linecolor\":\"#C8D4E3\",\"minorgridcolor\":\"#C8D4E3\",\"startlinecolor\":\"#2a3f5f\"},\"baxis\":{\"endlinecolor\":\"#2a3f5f\",\"gridcolor\":\"#C8D4E3\",\"linecolor\":\"#C8D4E3\",\"minorgridcolor\":\"#C8D4E3\",\"startlinecolor\":\"#2a3f5f\"},\"type\":\"carpet\"}],\"choropleth\":[{\"colorbar\":{\"outlinewidth\":0,\"ticks\":\"\"},\"type\":\"choropleth\"}],\"contourcarpet\":[{\"colorbar\":{\"outlinewidth\":0,\"ticks\":\"\"},\"type\":\"contourcarpet\"}],\"contour\":[{\"colorbar\":{\"outlinewidth\":0,\"ticks\":\"\"},\"colorscale\":[[0.0,\"#0d0887\"],[0.1111111111111111,\"#46039f\"],[0.2222222222222222,\"#7201a8\"],[0.3333333333333333,\"#9c179e\"],[0.4444444444444444,\"#bd3786\"],[0.5555555555555556,\"#d8576b\"],[0.6666666666666666,\"#ed7953\"],[0.7777777777777778,\"#fb9f3a\"],[0.8888888888888888,\"#fdca26\"],[1.0,\"#f0f921\"]],\"type\":\"contour\"}],\"heatmapgl\":[{\"colorbar\":{\"outlinewidth\":0,\"ticks\":\"\"},\"colorscale\":[[0.0,\"#0d0887\"],[0.1111111111111111,\"#46039f\"],[0.2222222222222222,\"#7201a8\"],[0.3333333333333333,\"#9c179e\"],[0.4444444444444444,\"#bd3786\"],[0.5555555555555556,\"#d8576b\"],[0.6666666666666666,\"#ed7953\"],[0.7777777777777778,\"#fb9f3a\"],[0.8888888888888888,\"#fdca26\"],[1.0,\"#f0f921\"]],\"type\":\"heatmapgl\"}],\"heatmap\":[{\"colorbar\":{\"outlinewidth\":0,\"ticks\":\"\"},\"colorscale\":[[0.0,\"#0d0887\"],[0.1111111111111111,\"#46039f\"],[0.2222222222222222,\"#7201a8\"],[0.3333333333333333,\"#9c179e\"],[0.4444444444444444,\"#bd3786\"],[0.5555555555555556,\"#d8576b\"],[0.6666666666666666,\"#ed7953\"],[0.7777777777777778,\"#fb9f3a\"],[0.8888888888888888,\"#fdca26\"],[1.0,\"#f0f921\"]],\"type\":\"heatmap\"}],\"histogram2dcontour\":[{\"colorbar\":{\"outlinewidth\":0,\"ticks\":\"\"},\"colorscale\":[[0.0,\"#0d0887\"],[0.1111111111111111,\"#46039f\"],[0.2222222222222222,\"#7201a8\"],[0.3333333333333333,\"#9c179e\"],[0.4444444444444444,\"#bd3786\"],[0.5555555555555556,\"#d8576b\"],[0.6666666666666666,\"#ed7953\"],[0.7777777777777778,\"#fb9f3a\"],[0.8888888888888888,\"#fdca26\"],[1.0,\"#f0f921\"]],\"type\":\"histogram2dcontour\"}],\"histogram2d\":[{\"colorbar\":{\"outlinewidth\":0,\"ticks\":\"\"},\"colorscale\":[[0.0,\"#0d0887\"],[0.1111111111111111,\"#46039f\"],[0.2222222222222222,\"#7201a8\"],[0.3333333333333333,\"#9c179e\"],[0.4444444444444444,\"#bd3786\"],[0.5555555555555556,\"#d8576b\"],[0.6666666666666666,\"#ed7953\"],[0.7777777777777778,\"#fb9f3a\"],[0.8888888888888888,\"#fdca26\"],[1.0,\"#f0f921\"]],\"type\":\"histogram2d\"}],\"histogram\":[{\"marker\":{\"pattern\":{\"fillmode\":\"overlay\",\"size\":10,\"solidity\":0.2}},\"type\":\"histogram\"}],\"mesh3d\":[{\"colorbar\":{\"outlinewidth\":0,\"ticks\":\"\"},\"type\":\"mesh3d\"}],\"parcoords\":[{\"line\":{\"colorbar\":{\"outlinewidth\":0,\"ticks\":\"\"}},\"type\":\"parcoords\"}],\"pie\":[{\"automargin\":true,\"type\":\"pie\"}],\"scatter3d\":[{\"line\":{\"colorbar\":{\"outlinewidth\":0,\"ticks\":\"\"}},\"marker\":{\"colorbar\":{\"outlinewidth\":0,\"ticks\":\"\"}},\"type\":\"scatter3d\"}],\"scattercarpet\":[{\"marker\":{\"colorbar\":{\"outlinewidth\":0,\"ticks\":\"\"}},\"type\":\"scattercarpet\"}],\"scattergeo\":[{\"marker\":{\"colorbar\":{\"outlinewidth\":0,\"ticks\":\"\"}},\"type\":\"scattergeo\"}],\"scattergl\":[{\"marker\":{\"colorbar\":{\"outlinewidth\":0,\"ticks\":\"\"}},\"type\":\"scattergl\"}],\"scattermapbox\":[{\"marker\":{\"colorbar\":{\"outlinewidth\":0,\"ticks\":\"\"}},\"type\":\"scattermapbox\"}],\"scatterpolargl\":[{\"marker\":{\"colorbar\":{\"outlinewidth\":0,\"ticks\":\"\"}},\"type\":\"scatterpolargl\"}],\"scatterpolar\":[{\"marker\":{\"colorbar\":{\"outlinewidth\":0,\"ticks\":\"\"}},\"type\":\"scatterpolar\"}],\"scatter\":[{\"marker\":{\"colorbar\":{\"outlinewidth\":0,\"ticks\":\"\"}},\"type\":\"scatter\"}],\"scatterternary\":[{\"marker\":{\"colorbar\":{\"outlinewidth\":0,\"ticks\":\"\"}},\"type\":\"scatterternary\"}],\"surface\":[{\"colorbar\":{\"outlinewidth\":0,\"ticks\":\"\"},\"colorscale\":[[0.0,\"#0d0887\"],[0.1111111111111111,\"#46039f\"],[0.2222222222222222,\"#7201a8\"],[0.3333333333333333,\"#9c179e\"],[0.4444444444444444,\"#bd3786\"],[0.5555555555555556,\"#d8576b\"],[0.6666666666666666,\"#ed7953\"],[0.7777777777777778,\"#fb9f3a\"],[0.8888888888888888,\"#fdca26\"],[1.0,\"#f0f921\"]],\"type\":\"surface\"}],\"table\":[{\"cells\":{\"fill\":{\"color\":\"#EBF0F8\"},\"line\":{\"color\":\"white\"}},\"header\":{\"fill\":{\"color\":\"#C8D4E3\"},\"line\":{\"color\":\"white\"}},\"type\":\"table\"}]},\"layout\":{\"annotationdefaults\":{\"arrowcolor\":\"#2a3f5f\",\"arrowhead\":0,\"arrowwidth\":1},\"autotypenumbers\":\"strict\",\"coloraxis\":{\"colorbar\":{\"outlinewidth\":0,\"ticks\":\"\"}},\"colorscale\":{\"diverging\":[[0,\"#8e0152\"],[0.1,\"#c51b7d\"],[0.2,\"#de77ae\"],[0.3,\"#f1b6da\"],[0.4,\"#fde0ef\"],[0.5,\"#f7f7f7\"],[0.6,\"#e6f5d0\"],[0.7,\"#b8e186\"],[0.8,\"#7fbc41\"],[0.9,\"#4d9221\"],[1,\"#276419\"]],\"sequential\":[[0.0,\"#0d0887\"],[0.1111111111111111,\"#46039f\"],[0.2222222222222222,\"#7201a8\"],[0.3333333333333333,\"#9c179e\"],[0.4444444444444444,\"#bd3786\"],[0.5555555555555556,\"#d8576b\"],[0.6666666666666666,\"#ed7953\"],[0.7777777777777778,\"#fb9f3a\"],[0.8888888888888888,\"#fdca26\"],[1.0,\"#f0f921\"]],\"sequentialminus\":[[0.0,\"#0d0887\"],[0.1111111111111111,\"#46039f\"],[0.2222222222222222,\"#7201a8\"],[0.3333333333333333,\"#9c179e\"],[0.4444444444444444,\"#bd3786\"],[0.5555555555555556,\"#d8576b\"],[0.6666666666666666,\"#ed7953\"],[0.7777777777777778,\"#fb9f3a\"],[0.8888888888888888,\"#fdca26\"],[1.0,\"#f0f921\"]]},\"colorway\":[\"#636efa\",\"#EF553B\",\"#00cc96\",\"#ab63fa\",\"#FFA15A\",\"#19d3f3\",\"#FF6692\",\"#B6E880\",\"#FF97FF\",\"#FECB52\"],\"font\":{\"color\":\"#2a3f5f\"},\"geo\":{\"bgcolor\":\"white\",\"lakecolor\":\"white\",\"landcolor\":\"white\",\"showlakes\":true,\"showland\":true,\"subunitcolor\":\"#C8D4E3\"},\"hoverlabel\":{\"align\":\"left\"},\"hovermode\":\"closest\",\"mapbox\":{\"style\":\"light\"},\"paper_bgcolor\":\"white\",\"plot_bgcolor\":\"white\",\"polar\":{\"angularaxis\":{\"gridcolor\":\"#EBF0F8\",\"linecolor\":\"#EBF0F8\",\"ticks\":\"\"},\"bgcolor\":\"white\",\"radialaxis\":{\"gridcolor\":\"#EBF0F8\",\"linecolor\":\"#EBF0F8\",\"ticks\":\"\"}},\"scene\":{\"xaxis\":{\"backgroundcolor\":\"white\",\"gridcolor\":\"#DFE8F3\",\"gridwidth\":2,\"linecolor\":\"#EBF0F8\",\"showbackground\":true,\"ticks\":\"\",\"zerolinecolor\":\"#EBF0F8\"},\"yaxis\":{\"backgroundcolor\":\"white\",\"gridcolor\":\"#DFE8F3\",\"gridwidth\":2,\"linecolor\":\"#EBF0F8\",\"showbackground\":true,\"ticks\":\"\",\"zerolinecolor\":\"#EBF0F8\"},\"zaxis\":{\"backgroundcolor\":\"white\",\"gridcolor\":\"#DFE8F3\",\"gridwidth\":2,\"linecolor\":\"#EBF0F8\",\"showbackground\":true,\"ticks\":\"\",\"zerolinecolor\":\"#EBF0F8\"}},\"shapedefaults\":{\"line\":{\"color\":\"#2a3f5f\"}},\"ternary\":{\"aaxis\":{\"gridcolor\":\"#DFE8F3\",\"linecolor\":\"#A2B1C6\",\"ticks\":\"\"},\"baxis\":{\"gridcolor\":\"#DFE8F3\",\"linecolor\":\"#A2B1C6\",\"ticks\":\"\"},\"bgcolor\":\"white\",\"caxis\":{\"gridcolor\":\"#DFE8F3\",\"linecolor\":\"#A2B1C6\",\"ticks\":\"\"}},\"title\":{\"x\":0.05},\"xaxis\":{\"automargin\":true,\"gridcolor\":\"#EBF0F8\",\"linecolor\":\"#EBF0F8\",\"ticks\":\"\",\"title\":{\"standoff\":15},\"zerolinecolor\":\"#EBF0F8\",\"zerolinewidth\":2},\"yaxis\":{\"automargin\":true,\"gridcolor\":\"#EBF0F8\",\"linecolor\":\"#EBF0F8\",\"ticks\":\"\",\"title\":{\"standoff\":15},\"zerolinecolor\":\"#EBF0F8\",\"zerolinewidth\":2}}},\"xaxis\":{\"anchor\":\"y\",\"domain\":[0.0,1.0],\"title\":{\"text\":\"1\"}},\"yaxis\":{\"anchor\":\"x\",\"domain\":[0.0,1.0],\"title\":{\"text\":\"topic\"}},\"legend\":{\"title\":{\"text\":\"0\"},\"tracegroupgap\":0},\"margin\":{\"t\":60},\"barmode\":\"relative\",\"font\":{\"size\":10,\"color\":\"DarkSlateGray\"},\"width\":1200,\"height\":500},                        {\"responsive\": true}                    ).then(function(){\n",
       "                            \n",
       "var gd = document.getElementById('84d42bde-f8aa-4f05-b0ed-648fb6de38c5');\n",
       "var x = new MutationObserver(function (mutations, observer) {{\n",
       "        var display = window.getComputedStyle(gd).display;\n",
       "        if (!display || display === 'none') {{\n",
       "            console.log([gd, 'removed!']);\n",
       "            Plotly.purge(gd);\n",
       "            observer.disconnect();\n",
       "        }}\n",
       "}});\n",
       "\n",
       "// Listen for the removal of the full notebook cells\n",
       "var notebookContainer = gd.closest('#notebook-container');\n",
       "if (notebookContainer) {{\n",
       "    x.observe(notebookContainer, {childList: true});\n",
       "}}\n",
       "\n",
       "// Listen for the clearing of the current output cell\n",
       "var outputEl = gd.closest('.output');\n",
       "if (outputEl) {{\n",
       "    x.observe(outputEl, {childList: true});\n",
       "}}\n",
       "\n",
       "                        })                };                });            </script>        </div>"
      ]
     },
     "metadata": {},
     "output_type": "display_data"
    }
   ],
   "source": [
    "fig = px.bar(df4, x=1, y='topic', template='plotly_white', orientation='h',\n",
    "             labels={1: 'freqcy', 0: 'Bigram', 'topic': 'topic'},\n",
    "             color=0, color_discrete_sequence=px.colors.qualitative.Plotly_r)\n",
    "fig.update_layout(font=dict(size=10, color='DarkSlateGray'))\n",
    "fig.update_layout(width=1200, height=500)\n",
    "fig.show()\n",
    "\n",
    "fig.write_html(\"figures/corex_topics_bigram.html\")\n"
   ]
  },
  {
   "cell_type": "code",
   "execution_count": 66,
   "id": "2933622e",
   "metadata": {},
   "outputs": [
    {
     "name": "stdout",
     "output_type": "stream",
     "text": [
      "<class 'pandas.core.frame.DataFrame'>\n",
      "Int64Index: 1185 entries, 1 to 1898\n",
      "Data columns (total 17 columns):\n",
      " #   Column         Non-Null Count  Dtype  \n",
      "---  ------         --------------  -----  \n",
      " 0   title          1185 non-null   object \n",
      " 1   authers        1185 non-null   object \n",
      " 2   abstract       1185 non-null   object \n",
      " 3   type           1185 non-null   object \n",
      " 4   date_pub       808 non-null    float64\n",
      " 5   journal        793 non-null    object \n",
      " 6   date_added     677 non-null    object \n",
      " 7   figuers        1185 non-null   int64  \n",
      " 8   full_text      1185 non-null   object \n",
      " 9   citation       1185 non-null   int64  \n",
      " 10  interest       1099 non-null   float64\n",
      " 11  reads          1185 non-null   int64  \n",
      " 12  or_abt         1185 non-null   object \n",
      " 13  topic_dist     1185 non-null   object \n",
      " 14  main_topic     1185 non-null   object \n",
      " 15  topic_dist_cx  1185 non-null   object \n",
      " 16  main_topic_cx  1185 non-null   object \n",
      "dtypes: float64(2), int64(3), object(12)\n",
      "memory usage: 198.9+ KB\n"
     ]
    }
   ],
   "source": [
    "df.info()"
   ]
  },
  {
   "cell_type": "code",
   "execution_count": 277,
   "id": "d2b905e7",
   "metadata": {},
   "outputs": [],
   "source": [
    "df.to_csv('data_topics.csv', index=False)"
   ]
  },
  {
   "cell_type": "markdown",
   "id": "dc1ccd94",
   "metadata": {},
   "source": [
    "# Discovering sub-topics"
   ]
  },
  {
   "cell_type": "code",
   "execution_count": 182,
   "id": "22cf1e44",
   "metadata": {},
   "outputs": [],
   "source": [
    "import warnings\n",
    "warnings.filterwarnings(\"ignore\")\n"
   ]
  },
  {
   "cell_type": "code",
   "execution_count": 282,
   "id": "f59fefc0",
   "metadata": {},
   "outputs": [],
   "source": [
    "sub_topics_dict={}\n",
    "def find_sub_topics(main_df,topic_list,topic_num_range):\n",
    "\n",
    "    for t in topic_list:\n",
    "        df=main_df[main_df['main_topic2']==t]\n",
    "        tfidf_sub = TfidfVectorizer()\n",
    "        X_tfidf_sub = tfidf_sub.fit_transform(df.abstract).toarray()\n",
    "        tfidf=pd.DataFrame(X_tfidf_sub,index=df,columns=tfidf_sub.get_feature_names())\n",
    "        for i in topic_num_range:\n",
    "            sub_topics_dict[f'{t}_tfidf{i}']=tfidf\n",
    "            sub_topics_dict[f'{t}_nmf_model{i}']=NMF(i,random_state=11)\n",
    "            sub_topics_dict[f'{t}_doc_topic{i}']=sub_topics_dict[f'{t}_nmf_model{i}'].fit_transform(tfidf)\n",
    "            sub_topics_dict[f'{t}_tfidf_vec{i}']=tfidf_sub"
   ]
  },
  {
   "cell_type": "code",
   "execution_count": 283,
   "id": "38f53751",
   "metadata": {},
   "outputs": [],
   "source": [
    "find_sub_topics(df,topics,list(range(2,8)))"
   ]
  },
  {
   "cell_type": "code",
   "execution_count": 284,
   "id": "f8072399",
   "metadata": {},
   "outputs": [
    {
     "data": {
      "text/plain": [
       "NMF(n_components=5, random_state=11)"
      ]
     },
     "execution_count": 284,
     "metadata": {},
     "output_type": "execute_result"
    }
   ],
   "source": [
    "nmf_model_crime"
   ]
  },
  {
   "cell_type": "code",
   "execution_count": 289,
   "id": "643796c4",
   "metadata": {},
   "outputs": [
    {
     "name": "stdout",
     "output_type": "stream",
     "text": [
      "\n",
      "Topic  0\n",
      "energy, urban, climate, change, economic, city, policy\n",
      "\n",
      "Topic  1\n",
      "surveillance, border, migrant, biopolitical, eu, right, human\n",
      "\n",
      "Topic  2\n",
      "solidarity, campaign, union, worker, labour, labor, transnational\n",
      "\n",
      "Topic  3\n",
      "power, relation, ecological, phenomenon, environmental, political, human\n",
      "\n",
      "Topic  4\n",
      "political, narrative, religion, national, religious, indonesia, public\n",
      "\n",
      "Topic  5\n",
      "de, la, le, et, en, mine, que\n",
      "\n",
      "Topic  6\n",
      "state, governance, csr, royalty, country, eiti, resource\n"
     ]
    }
   ],
   "source": [
    "display_topics(sub_topics_dict['politics_and_economics_nmf_model7'], sub_topics_dict['politics_and_economics_tfidf_vec7'].get_feature_names(),7)"
   ]
  },
  {
   "cell_type": "code",
   "execution_count": 290,
   "id": "28c6aff8",
   "metadata": {},
   "outputs": [
    {
     "name": "stdout",
     "output_type": "stream",
     "text": [
      "\n",
      "Topic  0\n",
      "student, digital, online, divide, university, communication, learning\n",
      "\n",
      "Topic  1\n",
      "bibliographical, includes, reference, thesis, toronto, university, fall\n",
      "\n",
      "Topic  2\n",
      "school, education, sex, girl, disability, transition, life\n"
     ]
    }
   ],
   "source": [
    "display_topics(sub_topics_dict['education_nmf_model3'], sub_topics_dict['education_tfidf_vec3'].get_feature_names(),7)"
   ]
  },
  {
   "cell_type": "code",
   "execution_count": 291,
   "id": "8d55f565",
   "metadata": {},
   "outputs": [
    {
     "name": "stdout",
     "output_type": "stream",
     "text": [
      "\n",
      "Topic  0\n",
      "woman, gender, condom, health, female, study, men, older, method, life\n",
      "\n",
      "Topic  1\n",
      "party, electoral, appeal, opposition, voter, woman, policy, state, manifesto, building\n",
      "\n",
      "Topic  2\n",
      "migrant, labour, market, policy, country, new, employment, immigration, irregular, woman\n",
      "\n",
      "Topic  3\n",
      "feminist, academic, activism, activist, visualisation, academy, change, experience, within, workarounds\n"
     ]
    }
   ],
   "source": [
    "display_topics(sub_topics_dict['women_nmf_model4'], sub_topics_dict['women_tfidf_vec4'].get_feature_names(),10)"
   ]
  },
  {
   "cell_type": "code",
   "execution_count": 292,
   "id": "7b03742f",
   "metadata": {},
   "outputs": [
    {
     "name": "stdout",
     "output_type": "stream",
     "text": [
      "\n",
      "Topic  0\n",
      "sexual, health, people, adult, young, minority, study, lockdown, older, identity\n",
      "\n",
      "Topic  1\n",
      "coumarins, coumarin, compound, various, widely, performed, perfume, crystalline, explicates, scent\n",
      "\n",
      "Topic  2\n",
      "drug, lgbtq, gender, consumption, practice, sex, particular, effect, consumer, policy\n",
      "\n",
      "Topic  3\n",
      "violence, festival, sexual, music, argue, feminist, harm, framework, experience, victim\n"
     ]
    }
   ],
   "source": [
    "display_topics(sub_topics_dict['sexuality_nmf_model4'], sub_topics_dict['sexuality_tfidf_vec4'].get_feature_names(),10)"
   ]
  },
  {
   "cell_type": "code",
   "execution_count": 293,
   "id": "bcaab9c2",
   "metadata": {
    "scrolled": true
   },
   "outputs": [
    {
     "name": "stdout",
     "output_type": "stream",
     "text": [
      "\n",
      "Topic  0\n",
      "mental, health, covid, psychological, distress, gi, symptom, impact, disorder, participant\n",
      "\n",
      "Topic  1\n",
      "financial, well, inclusion, study, economy, country, understand, effect, system, pandemic\n",
      "\n",
      "Topic  2\n",
      "behavior, lockdown, change, time, diary, risk, activity, location, uk, population\n",
      "\n",
      "Topic  3\n",
      "health, policy, covid, response, pandemic, medium, crisis, state, news, public\n"
     ]
    }
   ],
   "source": [
    "display_topics(sub_topics_dict['covid_nmf_model4'], sub_topics_dict['covid_tfidf_vec4'].get_feature_names(),10)"
   ]
  },
  {
   "cell_type": "code",
   "execution_count": 298,
   "id": "4bf9eb88",
   "metadata": {},
   "outputs": [
    {
     "name": "stdout",
     "output_type": "stream",
     "text": [
      "\n",
      "Topic  0\n",
      "justice, police, crime, climate, knife, policing, law, criminal, medium, violence\n",
      "\n",
      "Topic  1\n",
      "sib, program, investment, valuation, financial, method, united, return, market, crisis\n"
     ]
    }
   ],
   "source": [
    "display_topics(sub_topics_dict['criminology_nmf_model2'], sub_topics_dict['criminology_tfidf_vec2'].get_feature_names(),10)"
   ]
  },
  {
   "cell_type": "code",
   "execution_count": 302,
   "id": "89fe1028",
   "metadata": {},
   "outputs": [
    {
     "name": "stdout",
     "output_type": "stream",
     "text": [
      "\n",
      "Topic  0\n",
      "study, relationship, factor, measure, model, participant, result, using, safety, level\n",
      "\n",
      "Topic  1\n",
      "activity, physical, digital, platform, ci, guideline, adherence, user, eg, adolescent\n",
      "\n",
      "Topic  2\n",
      "ui, age, prevalence, rate, per, global, burden, standardised, migraine, point\n",
      "\n",
      "Topic  3\n",
      "patient, peg, rhumgdf, platelet, day, treatment, group, drug, placebo, cell\n",
      "\n",
      "Topic  4\n",
      "driving, phone, mobile, cell, vehicle, driver, behaviour, planner, text, road\n"
     ]
    }
   ],
   "source": [
    "display_topics(sub_topics_dict['health_medicine_nmf_model5'], sub_topics_dict['health_medicine_tfidf_vec5'].get_feature_names(),10)"
   ]
  },
  {
   "cell_type": "code",
   "execution_count": 306,
   "id": "fd888131",
   "metadata": {},
   "outputs": [
    {
     "name": "stdout",
     "output_type": "stream",
     "text": [
      "\n",
      "Topic  0\n",
      "child, parent, family, school, mar, parental, health, conceived, outcome, substance\n",
      "\n",
      "Topic  1\n",
      "food, insecurity, system, country, security, hunger, african, nutritional, safety, brief\n",
      "\n",
      "Topic  2\n",
      "childhood, everyday, researching, book, empirical, life, documentation, digital, post, youth\n",
      "\n",
      "Topic  3\n",
      "food, solidarity, information, income, access, low, participant, practice, french, clarified\n",
      "\n",
      "Topic  4\n",
      "poverty, household, energy, heat, water, fuel, policy, relation, evidence, income\n",
      "\n",
      "Topic  5\n",
      "abuse, internet, material, victim, online, csam, pre, technology, child, sexual\n",
      "\n",
      "Topic  6\n",
      "design, childrens, child, centred, mobility, disaster, ipm, framework, wheelchair, dream\n"
     ]
    }
   ],
   "source": [
    "display_topics(sub_topics_dict['child_family_nmf_model7'], sub_topics_dict['child_family_tfidf_vec7'].get_feature_names(),10)"
   ]
  },
  {
   "cell_type": "code",
   "execution_count": 309,
   "id": "cbf72e3a",
   "metadata": {},
   "outputs": [
    {
     "name": "stdout",
     "output_type": "stream",
     "text": [
      "\n",
      "Topic  0\n",
      "care, work, family, service, caring, residential, practice, patient, palliative, support\n",
      "\n",
      "Topic  1\n",
      "people, community, disability, aboriginal, health, service, project, indigenous, right, approach\n",
      "\n",
      "Topic  2\n",
      "birth, home, evidence, resource, transfer, maker, low, policy, hospital, stakeholder\n",
      "\n",
      "Topic  3\n",
      "american, community, legal, perception, engels, greenhouse, resident, town, study, oven\n",
      "\n",
      "Topic  4\n",
      "reintegration, survivor, trafficking, program, regime, human, procedural, assistance, nigeria, distinction\n"
     ]
    }
   ],
   "source": [
    "display_topics(sub_topics_dict['community_service_nmf_model5'], sub_topics_dict['community_service_tfidf_vec5'].get_feature_names(),10)"
   ]
  },
  {
   "cell_type": "markdown",
   "id": "a0478116",
   "metadata": {},
   "source": [
    "# saving the sub-topics dictionary "
   ]
  },
  {
   "cell_type": "code",
   "execution_count": 310,
   "id": "cb577ad9",
   "metadata": {},
   "outputs": [],
   "source": [
    "pickle.dump(sub_topics_dict, open('sub_topics_dict.pkl', 'wb'))"
   ]
  },
  {
   "cell_type": "markdown",
   "id": "ea303ae7",
   "metadata": {},
   "source": [
    "# Conclusion "
   ]
  },
  {
   "cell_type": "markdown",
   "id": "3fa9f9db",
   "metadata": {},
   "source": [
    "we found that NMF gives the best results when the number of topics is 9, CorEx gives perfect results when we use the top words we got in NMF as anchor words, but since it doesn't give a propability it's not useful in determining the dominant topic in each document. the topics we found present in social science articles are as follows:\n",
    "\n",
    "- Politics And Economics\n",
    "- Sexuality\n",
    "- Covid\n",
    "- women\n",
    "- Criminology\n",
    "- Education \n",
    "- Health and medicine\n",
    "- Family and child\n",
    "- Community Service \n",
    "\n",
    "we tried to get the subtopics using NMF, and we found that some topics have well-saparated subtopics, but for other topics the results are kind of messy. we will try to improve sub-topics in fututer work by expermenting with corex and anchor words."
   ]
  },
  {
   "cell_type": "code",
   "execution_count": null,
   "id": "64a19aed",
   "metadata": {},
   "outputs": [],
   "source": []
  }
 ],
 "metadata": {
  "kernelspec": {
   "display_name": "Python 3",
   "language": "python",
   "name": "python3"
  },
  "language_info": {
   "codemirror_mode": {
    "name": "ipython",
    "version": 3
   },
   "file_extension": ".py",
   "mimetype": "text/x-python",
   "name": "python",
   "nbconvert_exporter": "python",
   "pygments_lexer": "ipython3",
   "version": "3.8.8"
  }
 },
 "nbformat": 4,
 "nbformat_minor": 5
}
